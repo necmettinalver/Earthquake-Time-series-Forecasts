{
 "cells": [
  {
   "cell_type": "code",
   "execution_count": 155,
   "metadata": {},
   "outputs": [],
   "source": [
    "import folium\n",
    "from shapely.ops import cascaded_union\n",
    "from folium import Marker, PolyLine\n",
    "from folium.plugins import HeatMap, HeatMapWithTime, MarkerCluster\n",
    "import geopandas as gpd\n",
    "from shapely.geometry import Point, LineString\n",
    "TURK_LAT = 39.0618\n",
    "TURK_LNG = 33.7500\n"
   ]
  },
  {
   "cell_type": "code",
   "execution_count": 156,
   "metadata": {},
   "outputs": [],
   "source": [
    "import pandas as pd\n",
    "import numpy as np\n",
    "\n",
    "import matplotlib.pyplot as plt\n",
    "import plotly.express as px\n",
    "import seaborn as sns\n",
    "\n",
    "import warnings\n",
    "warnings.filterwarnings('ignore')"
   ]
  },
  {
   "cell_type": "code",
   "execution_count": 157,
   "metadata": {},
   "outputs": [
    {
     "name": "stdout",
     "output_type": "stream",
     "text": [
      "utf_16 :\n",
      "    ID                DATE_            LOCATION_      LAT      LNG  MAG  DEPTH  \\\n",
      "0   1  2005-01-01 00:29:42  KORKUTELi (ANTALYA)  36.9197  30.3133  2.9   30.0   \n",
      "1   2  2005-01-01 03:03:40        YUNAK (KONYA)  38.8177  31.8875  3.5    5.8   \n",
      "2   3  2005-01-01 04:40:14              AKDENiZ  36.1153  28.4915  3.5   74.5   \n",
      "3   4  2005-01-01 09:35:00       CUBUK (ANKARA)  40.3485  32.9603  3.0   15.1   \n",
      "4   5  2005-01-01 11:17:43      MENEMEN (iZMiR)  38.8013  27.2075  2.9   28.3   \n",
      "\n",
      "                      RECORDDATE  \n",
      "0  2023-02-27 15:01:52.367000000  \n",
      "1  2023-02-27 15:01:52.367000000  \n",
      "2  2023-02-27 15:01:52.367000000  \n",
      "3  2023-02-27 15:01:52.367000000  \n",
      "4  2023-02-27 15:01:52.367000000  \n"
     ]
    }
   ],
   "source": [
    "\n",
    "encoding_list = ['ascii', 'big5', 'big5hkscs', 'cp037', 'cp273', 'cp424', 'cp437', 'cp500', 'cp720', 'cp737'\n",
    "                 , 'cp775', 'cp850', 'cp852', 'cp855', 'cp856', 'cp857', 'cp858', 'cp860', 'cp861', 'cp862'\n",
    "                 , 'cp863', 'cp864', 'cp865', 'cp866', 'cp869', 'cp874', 'cp875', 'cp932', 'cp949', 'cp950'\n",
    "                 , 'cp1006', 'cp1026', 'cp1125', 'cp1140', 'cp1250', 'cp1251', 'cp1252', 'cp1253', 'cp1254'\n",
    "                 , 'cp1255', 'cp1256', 'cp1257', 'cp1258', 'euc_jp', 'euc_jis_2004', 'euc_jisx0213', 'euc_kr'\n",
    "                 , 'gb2312', 'gbk', 'gb18030', 'hz', 'iso2022_jp', 'iso2022_jp_1', 'iso2022_jp_2'\n",
    "                 , 'iso2022_jp_2004', 'iso2022_jp_3', 'iso2022_jp_ext', 'iso2022_kr', 'latin_1', 'iso8859_2'\n",
    "                 , 'iso8859_3', 'iso8859_4', 'iso8859_5', 'iso8859_6', 'iso8859_7', 'iso8859_8', 'iso8859_9'\n",
    "                 , 'iso8859_10', 'iso8859_11', 'iso8859_13', 'iso8859_14', 'iso8859_15', 'iso8859_16', 'johab'\n",
    "                 , 'koi8_r', 'koi8_t', 'koi8_u', 'kz1048', 'mac_cyrillic', 'mac_greek', 'mac_iceland', 'mac_latin2'\n",
    "                 , 'mac_roman', 'mac_turkish', 'ptcp154', 'shift_jis', 'shift_jis_2004', 'shift_jisx0213', 'utf_32'\n",
    "                 , 'utf_32_be', 'utf_32_le', 'utf_16']\n",
    "\n",
    "for encoding in encoding_list:\n",
    "    worked = True\n",
    "    try:\n",
    "        df = pd.read_csv(\"eq20.csv\", encoding=encoding, nrows=5)\n",
    "    except:\n",
    "        worked = False\n",
    "    if worked and str(df[df.columns[0]][0]) != \"nan\":\n",
    "        print(encoding, ':\\n', df.head())\n",
    "        break\n",
    "        \n",
    "    "
   ]
  },
  {
   "cell_type": "code",
   "execution_count": 158,
   "metadata": {},
   "outputs": [
    {
     "name": "stderr",
     "output_type": "stream",
     "text": [
      "b'Skipping line 114421: expected 8 fields, saw 9\\nSkipping line 115729: expected 8 fields, saw 9\\nSkipping line 117563: expected 8 fields, saw 9\\nSkipping line 118716: expected 8 fields, saw 9\\nSkipping line 127421: expected 8 fields, saw 9\\nSkipping line 128142: expected 8 fields, saw 9\\n'\n",
      "b'Skipping line 137960: expected 8 fields, saw 9\\nSkipping line 138066: expected 8 fields, saw 9\\nSkipping line 139689: expected 8 fields, saw 9\\nSkipping line 140753: expected 8 fields, saw 9\\nSkipping line 141426: expected 8 fields, saw 9\\nSkipping line 142841: expected 8 fields, saw 9\\nSkipping line 142844: expected 8 fields, saw 9\\nSkipping line 142846: expected 8 fields, saw 9\\nSkipping line 144861: expected 8 fields, saw 9\\nSkipping line 145582: expected 8 fields, saw 9\\nSkipping line 146689: expected 8 fields, saw 9\\nSkipping line 149056: expected 8 fields, saw 9\\nSkipping line 150251: expected 8 fields, saw 9\\nSkipping line 152718: expected 8 fields, saw 9\\nSkipping line 154023: expected 8 fields, saw 9\\nSkipping line 154171: expected 8 fields, saw 9\\nSkipping line 155132: expected 8 fields, saw 9\\nSkipping line 159717: expected 8 fields, saw 9\\nSkipping line 161472: expected 8 fields, saw 9\\nSkipping line 161542: expected 8 fields, saw 9\\nSkipping line 163838: expected 8 fields, saw 9\\nSkipping line 166821: expected 8 fields, saw 9\\nSkipping line 171306: expected 8 fields, saw 9\\nSkipping line 176724: expected 8 fields, saw 9\\nSkipping line 179671: expected 8 fields, saw 9\\nSkipping line 189437: expected 8 fields, saw 9\\n'\n"
     ]
    },
    {
     "data": {
      "text/html": [
       "<div>\n",
       "<style scoped>\n",
       "    .dataframe tbody tr th:only-of-type {\n",
       "        vertical-align: middle;\n",
       "    }\n",
       "\n",
       "    .dataframe tbody tr th {\n",
       "        vertical-align: top;\n",
       "    }\n",
       "\n",
       "    .dataframe thead th {\n",
       "        text-align: right;\n",
       "    }\n",
       "</style>\n",
       "<table border=\"1\" class=\"dataframe\">\n",
       "  <thead>\n",
       "    <tr style=\"text-align: right;\">\n",
       "      <th></th>\n",
       "      <th>ID</th>\n",
       "      <th>DATE_</th>\n",
       "      <th>LOCATION_</th>\n",
       "      <th>LAT</th>\n",
       "      <th>LNG</th>\n",
       "      <th>MAG</th>\n",
       "      <th>DEPTH</th>\n",
       "      <th>RECORDDATE</th>\n",
       "    </tr>\n",
       "  </thead>\n",
       "  <tbody>\n",
       "    <tr>\n",
       "      <th>0</th>\n",
       "      <td>1</td>\n",
       "      <td>2005-01-01 00:29:42</td>\n",
       "      <td>KORKUTELi (ANTALYA)</td>\n",
       "      <td>36.9197</td>\n",
       "      <td>30.3133</td>\n",
       "      <td>2.9</td>\n",
       "      <td>30.0</td>\n",
       "      <td>2023-02-27 15:01:52.367000000</td>\n",
       "    </tr>\n",
       "    <tr>\n",
       "      <th>1</th>\n",
       "      <td>2</td>\n",
       "      <td>2005-01-01 03:03:40</td>\n",
       "      <td>YUNAK (KONYA)</td>\n",
       "      <td>38.8177</td>\n",
       "      <td>31.8875</td>\n",
       "      <td>3.5</td>\n",
       "      <td>5.8</td>\n",
       "      <td>2023-02-27 15:01:52.367000000</td>\n",
       "    </tr>\n",
       "    <tr>\n",
       "      <th>2</th>\n",
       "      <td>3</td>\n",
       "      <td>2005-01-01 04:40:14</td>\n",
       "      <td>AKDENiZ</td>\n",
       "      <td>36.1153</td>\n",
       "      <td>28.4915</td>\n",
       "      <td>3.5</td>\n",
       "      <td>74.5</td>\n",
       "      <td>2023-02-27 15:01:52.367000000</td>\n",
       "    </tr>\n",
       "    <tr>\n",
       "      <th>3</th>\n",
       "      <td>4</td>\n",
       "      <td>2005-01-01 09:35:00</td>\n",
       "      <td>CUBUK (ANKARA)</td>\n",
       "      <td>40.3485</td>\n",
       "      <td>32.9603</td>\n",
       "      <td>3.0</td>\n",
       "      <td>15.1</td>\n",
       "      <td>2023-02-27 15:01:52.367000000</td>\n",
       "    </tr>\n",
       "    <tr>\n",
       "      <th>4</th>\n",
       "      <td>5</td>\n",
       "      <td>2005-01-01 11:17:43</td>\n",
       "      <td>MENEMEN (iZMiR)</td>\n",
       "      <td>38.8013</td>\n",
       "      <td>27.2075</td>\n",
       "      <td>2.9</td>\n",
       "      <td>28.3</td>\n",
       "      <td>2023-02-27 15:01:52.367000000</td>\n",
       "    </tr>\n",
       "    <tr>\n",
       "      <th>...</th>\n",
       "      <td>...</td>\n",
       "      <td>...</td>\n",
       "      <td>...</td>\n",
       "      <td>...</td>\n",
       "      <td>...</td>\n",
       "      <td>...</td>\n",
       "      <td>...</td>\n",
       "      <td>...</td>\n",
       "    </tr>\n",
       "    <tr>\n",
       "      <th>284578</th>\n",
       "      <td>284611</td>\n",
       "      <td>2023-02-18 21:57:48</td>\n",
       "      <td>KARAHASANUSAGI-ELBISTAN (KAHRAMANMARAS)       ...</td>\n",
       "      <td>38.1273</td>\n",
       "      <td>37.5453</td>\n",
       "      <td>3.2</td>\n",
       "      <td>5.0</td>\n",
       "      <td>2023-02-27 15:02:29.527000000</td>\n",
       "    </tr>\n",
       "    <tr>\n",
       "      <th>284579</th>\n",
       "      <td>284612</td>\n",
       "      <td>2023-02-26 06:38:19</td>\n",
       "      <td>UMUTLU-NURHAK (KAHRAMANMARAS)                 ...</td>\n",
       "      <td>37.8832</td>\n",
       "      <td>37.2213</td>\n",
       "      <td>2.1</td>\n",
       "      <td>8.2</td>\n",
       "      <td>2023-02-27 15:02:29.527000000</td>\n",
       "    </tr>\n",
       "    <tr>\n",
       "      <th>284580</th>\n",
       "      <td>284613</td>\n",
       "      <td>2023-02-26 07:13:10</td>\n",
       "      <td>TURKIYE-IRAN SINIR BOLGESI                    ...</td>\n",
       "      <td>38.5592</td>\n",
       "      <td>44.8275</td>\n",
       "      <td>2.5</td>\n",
       "      <td>8.9</td>\n",
       "      <td>2023-02-27 15:02:29.527000000</td>\n",
       "    </tr>\n",
       "    <tr>\n",
       "      <th>284581</th>\n",
       "      <td>284614</td>\n",
       "      <td>2023-02-26 07:30:34</td>\n",
       "      <td>YAYLA-VARTO (MUS)                             ...</td>\n",
       "      <td>39.0577</td>\n",
       "      <td>41.2510</td>\n",
       "      <td>2.6</td>\n",
       "      <td>8.5</td>\n",
       "      <td>2023-02-27 15:02:29.527000000</td>\n",
       "    </tr>\n",
       "    <tr>\n",
       "      <th>284582</th>\n",
       "      <td>284615</td>\n",
       "      <td>2023-02-26 07:39:48</td>\n",
       "      <td>YENIKOY-EKINOZU (KAHRAMANMARAS)               ...</td>\n",
       "      <td>38.0267</td>\n",
       "      <td>37.1017</td>\n",
       "      <td>2.6</td>\n",
       "      <td>3.8</td>\n",
       "      <td>2023-02-27 15:02:29.527000000</td>\n",
       "    </tr>\n",
       "  </tbody>\n",
       "</table>\n",
       "<p>284583 rows × 8 columns</p>\n",
       "</div>"
      ],
      "text/plain": [
       "            ID                DATE_  \\\n",
       "0            1  2005-01-01 00:29:42   \n",
       "1            2  2005-01-01 03:03:40   \n",
       "2            3  2005-01-01 04:40:14   \n",
       "3            4  2005-01-01 09:35:00   \n",
       "4            5  2005-01-01 11:17:43   \n",
       "...        ...                  ...   \n",
       "284578  284611  2023-02-18 21:57:48   \n",
       "284579  284612  2023-02-26 06:38:19   \n",
       "284580  284613  2023-02-26 07:13:10   \n",
       "284581  284614  2023-02-26 07:30:34   \n",
       "284582  284615  2023-02-26 07:39:48   \n",
       "\n",
       "                                                LOCATION_      LAT      LNG  \\\n",
       "0                                     KORKUTELi (ANTALYA)  36.9197  30.3133   \n",
       "1                                           YUNAK (KONYA)  38.8177  31.8875   \n",
       "2                                                 AKDENiZ  36.1153  28.4915   \n",
       "3                                          CUBUK (ANKARA)  40.3485  32.9603   \n",
       "4                                         MENEMEN (iZMiR)  38.8013  27.2075   \n",
       "...                                                   ...      ...      ...   \n",
       "284578  KARAHASANUSAGI-ELBISTAN (KAHRAMANMARAS)       ...  38.1273  37.5453   \n",
       "284579  UMUTLU-NURHAK (KAHRAMANMARAS)                 ...  37.8832  37.2213   \n",
       "284580  TURKIYE-IRAN SINIR BOLGESI                    ...  38.5592  44.8275   \n",
       "284581  YAYLA-VARTO (MUS)                             ...  39.0577  41.2510   \n",
       "284582  YENIKOY-EKINOZU (KAHRAMANMARAS)               ...  38.0267  37.1017   \n",
       "\n",
       "        MAG  DEPTH                     RECORDDATE  \n",
       "0       2.9   30.0  2023-02-27 15:01:52.367000000  \n",
       "1       3.5    5.8  2023-02-27 15:01:52.367000000  \n",
       "2       3.5   74.5  2023-02-27 15:01:52.367000000  \n",
       "3       3.0   15.1  2023-02-27 15:01:52.367000000  \n",
       "4       2.9   28.3  2023-02-27 15:01:52.367000000  \n",
       "...     ...    ...                            ...  \n",
       "284578  3.2    5.0  2023-02-27 15:02:29.527000000  \n",
       "284579  2.1    8.2  2023-02-27 15:02:29.527000000  \n",
       "284580  2.5    8.9  2023-02-27 15:02:29.527000000  \n",
       "284581  2.6    8.5  2023-02-27 15:02:29.527000000  \n",
       "284582  2.6    3.8  2023-02-27 15:02:29.527000000  \n",
       "\n",
       "[284583 rows x 8 columns]"
      ]
     },
     "execution_count": 158,
     "metadata": {},
     "output_type": "execute_result"
    }
   ],
   "source": [
    "df = pd.read_csv(\"eq20.csv\", encoding=encoding, error_bad_lines=False)\n",
    "df"
   ]
  },
  {
   "cell_type": "code",
   "execution_count": 159,
   "metadata": {},
   "outputs": [
    {
     "data": {
      "text/html": [
       "<div>\n",
       "<style scoped>\n",
       "    .dataframe tbody tr th:only-of-type {\n",
       "        vertical-align: middle;\n",
       "    }\n",
       "\n",
       "    .dataframe tbody tr th {\n",
       "        vertical-align: top;\n",
       "    }\n",
       "\n",
       "    .dataframe thead th {\n",
       "        text-align: right;\n",
       "    }\n",
       "</style>\n",
       "<table border=\"1\" class=\"dataframe\">\n",
       "  <thead>\n",
       "    <tr style=\"text-align: right;\">\n",
       "      <th></th>\n",
       "      <th>DATE_</th>\n",
       "      <th>LOCATION_</th>\n",
       "      <th>LAT</th>\n",
       "      <th>LNG</th>\n",
       "      <th>MAG</th>\n",
       "      <th>DEPTH</th>\n",
       "      <th>RECORDDATE</th>\n",
       "    </tr>\n",
       "  </thead>\n",
       "  <tbody>\n",
       "    <tr>\n",
       "      <th>0</th>\n",
       "      <td>2005-01-01 00:29:42</td>\n",
       "      <td>KORKUTELi (ANTALYA)</td>\n",
       "      <td>36.9197</td>\n",
       "      <td>30.3133</td>\n",
       "      <td>2.9</td>\n",
       "      <td>30.0</td>\n",
       "      <td>2023-02-27 15:01:52.367000000</td>\n",
       "    </tr>\n",
       "    <tr>\n",
       "      <th>1</th>\n",
       "      <td>2005-01-01 03:03:40</td>\n",
       "      <td>YUNAK (KONYA)</td>\n",
       "      <td>38.8177</td>\n",
       "      <td>31.8875</td>\n",
       "      <td>3.5</td>\n",
       "      <td>5.8</td>\n",
       "      <td>2023-02-27 15:01:52.367000000</td>\n",
       "    </tr>\n",
       "    <tr>\n",
       "      <th>2</th>\n",
       "      <td>2005-01-01 04:40:14</td>\n",
       "      <td>AKDENiZ</td>\n",
       "      <td>36.1153</td>\n",
       "      <td>28.4915</td>\n",
       "      <td>3.5</td>\n",
       "      <td>74.5</td>\n",
       "      <td>2023-02-27 15:01:52.367000000</td>\n",
       "    </tr>\n",
       "    <tr>\n",
       "      <th>3</th>\n",
       "      <td>2005-01-01 09:35:00</td>\n",
       "      <td>CUBUK (ANKARA)</td>\n",
       "      <td>40.3485</td>\n",
       "      <td>32.9603</td>\n",
       "      <td>3.0</td>\n",
       "      <td>15.1</td>\n",
       "      <td>2023-02-27 15:01:52.367000000</td>\n",
       "    </tr>\n",
       "    <tr>\n",
       "      <th>4</th>\n",
       "      <td>2005-01-01 11:17:43</td>\n",
       "      <td>MENEMEN (iZMiR)</td>\n",
       "      <td>38.8013</td>\n",
       "      <td>27.2075</td>\n",
       "      <td>2.9</td>\n",
       "      <td>28.3</td>\n",
       "      <td>2023-02-27 15:01:52.367000000</td>\n",
       "    </tr>\n",
       "    <tr>\n",
       "      <th>...</th>\n",
       "      <td>...</td>\n",
       "      <td>...</td>\n",
       "      <td>...</td>\n",
       "      <td>...</td>\n",
       "      <td>...</td>\n",
       "      <td>...</td>\n",
       "      <td>...</td>\n",
       "    </tr>\n",
       "    <tr>\n",
       "      <th>284578</th>\n",
       "      <td>2023-02-18 21:57:48</td>\n",
       "      <td>KARAHASANUSAGI-ELBISTAN (KAHRAMANMARAS)       ...</td>\n",
       "      <td>38.1273</td>\n",
       "      <td>37.5453</td>\n",
       "      <td>3.2</td>\n",
       "      <td>5.0</td>\n",
       "      <td>2023-02-27 15:02:29.527000000</td>\n",
       "    </tr>\n",
       "    <tr>\n",
       "      <th>284579</th>\n",
       "      <td>2023-02-26 06:38:19</td>\n",
       "      <td>UMUTLU-NURHAK (KAHRAMANMARAS)                 ...</td>\n",
       "      <td>37.8832</td>\n",
       "      <td>37.2213</td>\n",
       "      <td>2.1</td>\n",
       "      <td>8.2</td>\n",
       "      <td>2023-02-27 15:02:29.527000000</td>\n",
       "    </tr>\n",
       "    <tr>\n",
       "      <th>284580</th>\n",
       "      <td>2023-02-26 07:13:10</td>\n",
       "      <td>TURKIYE-IRAN SINIR BOLGESI                    ...</td>\n",
       "      <td>38.5592</td>\n",
       "      <td>44.8275</td>\n",
       "      <td>2.5</td>\n",
       "      <td>8.9</td>\n",
       "      <td>2023-02-27 15:02:29.527000000</td>\n",
       "    </tr>\n",
       "    <tr>\n",
       "      <th>284581</th>\n",
       "      <td>2023-02-26 07:30:34</td>\n",
       "      <td>YAYLA-VARTO (MUS)                             ...</td>\n",
       "      <td>39.0577</td>\n",
       "      <td>41.2510</td>\n",
       "      <td>2.6</td>\n",
       "      <td>8.5</td>\n",
       "      <td>2023-02-27 15:02:29.527000000</td>\n",
       "    </tr>\n",
       "    <tr>\n",
       "      <th>284582</th>\n",
       "      <td>2023-02-26 07:39:48</td>\n",
       "      <td>YENIKOY-EKINOZU (KAHRAMANMARAS)               ...</td>\n",
       "      <td>38.0267</td>\n",
       "      <td>37.1017</td>\n",
       "      <td>2.6</td>\n",
       "      <td>3.8</td>\n",
       "      <td>2023-02-27 15:02:29.527000000</td>\n",
       "    </tr>\n",
       "  </tbody>\n",
       "</table>\n",
       "<p>284583 rows × 7 columns</p>\n",
       "</div>"
      ],
      "text/plain": [
       "                      DATE_  \\\n",
       "0       2005-01-01 00:29:42   \n",
       "1       2005-01-01 03:03:40   \n",
       "2       2005-01-01 04:40:14   \n",
       "3       2005-01-01 09:35:00   \n",
       "4       2005-01-01 11:17:43   \n",
       "...                     ...   \n",
       "284578  2023-02-18 21:57:48   \n",
       "284579  2023-02-26 06:38:19   \n",
       "284580  2023-02-26 07:13:10   \n",
       "284581  2023-02-26 07:30:34   \n",
       "284582  2023-02-26 07:39:48   \n",
       "\n",
       "                                                LOCATION_      LAT      LNG  \\\n",
       "0                                     KORKUTELi (ANTALYA)  36.9197  30.3133   \n",
       "1                                           YUNAK (KONYA)  38.8177  31.8875   \n",
       "2                                                 AKDENiZ  36.1153  28.4915   \n",
       "3                                          CUBUK (ANKARA)  40.3485  32.9603   \n",
       "4                                         MENEMEN (iZMiR)  38.8013  27.2075   \n",
       "...                                                   ...      ...      ...   \n",
       "284578  KARAHASANUSAGI-ELBISTAN (KAHRAMANMARAS)       ...  38.1273  37.5453   \n",
       "284579  UMUTLU-NURHAK (KAHRAMANMARAS)                 ...  37.8832  37.2213   \n",
       "284580  TURKIYE-IRAN SINIR BOLGESI                    ...  38.5592  44.8275   \n",
       "284581  YAYLA-VARTO (MUS)                             ...  39.0577  41.2510   \n",
       "284582  YENIKOY-EKINOZU (KAHRAMANMARAS)               ...  38.0267  37.1017   \n",
       "\n",
       "        MAG  DEPTH                     RECORDDATE  \n",
       "0       2.9   30.0  2023-02-27 15:01:52.367000000  \n",
       "1       3.5    5.8  2023-02-27 15:01:52.367000000  \n",
       "2       3.5   74.5  2023-02-27 15:01:52.367000000  \n",
       "3       3.0   15.1  2023-02-27 15:01:52.367000000  \n",
       "4       2.9   28.3  2023-02-27 15:01:52.367000000  \n",
       "...     ...    ...                            ...  \n",
       "284578  3.2    5.0  2023-02-27 15:02:29.527000000  \n",
       "284579  2.1    8.2  2023-02-27 15:02:29.527000000  \n",
       "284580  2.5    8.9  2023-02-27 15:02:29.527000000  \n",
       "284581  2.6    8.5  2023-02-27 15:02:29.527000000  \n",
       "284582  2.6    3.8  2023-02-27 15:02:29.527000000  \n",
       "\n",
       "[284583 rows x 7 columns]"
      ]
     },
     "execution_count": 159,
     "metadata": {},
     "output_type": "execute_result"
    }
   ],
   "source": [
    "df.drop(columns=[\"ID\"],axis=1,inplace=True)\n",
    "df"
   ]
  },
  {
   "cell_type": "code",
   "execution_count": 160,
   "metadata": {},
   "outputs": [
    {
     "name": "stdout",
     "output_type": "stream",
     "text": [
      "<class 'pandas.core.frame.DataFrame'>\n",
      "RangeIndex: 284583 entries, 0 to 284582\n",
      "Data columns (total 7 columns):\n",
      " #   Column      Non-Null Count   Dtype  \n",
      "---  ------      --------------   -----  \n",
      " 0   DATE_       284583 non-null  object \n",
      " 1   LOCATION_   284583 non-null  object \n",
      " 2   LAT         284583 non-null  float64\n",
      " 3   LNG         284583 non-null  float64\n",
      " 4   MAG         284583 non-null  float64\n",
      " 5   DEPTH       284583 non-null  float64\n",
      " 6   RECORDDATE  284583 non-null  object \n",
      "dtypes: float64(4), object(3)\n",
      "memory usage: 15.2+ MB\n"
     ]
    }
   ],
   "source": [
    "df.info()"
   ]
  },
  {
   "cell_type": "code",
   "execution_count": 161,
   "metadata": {},
   "outputs": [
    {
     "data": {
      "text/plain": [
       "DATE_         0\n",
       "LOCATION_     0\n",
       "LAT           0\n",
       "LNG           0\n",
       "MAG           0\n",
       "DEPTH         0\n",
       "RECORDDATE    0\n",
       "dtype: int64"
      ]
     },
     "execution_count": 161,
     "metadata": {},
     "output_type": "execute_result"
    }
   ],
   "source": [
    "df.isnull().sum()"
   ]
  },
  {
   "cell_type": "code",
   "execution_count": 162,
   "metadata": {},
   "outputs": [
    {
     "data": {
      "text/html": [
       "<div>\n",
       "<style scoped>\n",
       "    .dataframe tbody tr th:only-of-type {\n",
       "        vertical-align: middle;\n",
       "    }\n",
       "\n",
       "    .dataframe tbody tr th {\n",
       "        vertical-align: top;\n",
       "    }\n",
       "\n",
       "    .dataframe thead th {\n",
       "        text-align: right;\n",
       "    }\n",
       "</style>\n",
       "<table border=\"1\" class=\"dataframe\">\n",
       "  <thead>\n",
       "    <tr style=\"text-align: right;\">\n",
       "      <th></th>\n",
       "      <th>LAT</th>\n",
       "      <th>LNG</th>\n",
       "      <th>MAG</th>\n",
       "      <th>DEPTH</th>\n",
       "    </tr>\n",
       "  </thead>\n",
       "  <tbody>\n",
       "    <tr>\n",
       "      <th>count</th>\n",
       "      <td>284583.000000</td>\n",
       "      <td>284583.000000</td>\n",
       "      <td>284583.000000</td>\n",
       "      <td>284583.000000</td>\n",
       "    </tr>\n",
       "    <tr>\n",
       "      <th>mean</th>\n",
       "      <td>38.234964</td>\n",
       "      <td>31.376644</td>\n",
       "      <td>2.212529</td>\n",
       "      <td>9.774072</td>\n",
       "    </tr>\n",
       "    <tr>\n",
       "      <th>std</th>\n",
       "      <td>1.478462</td>\n",
       "      <td>5.534374</td>\n",
       "      <td>0.666044</td>\n",
       "      <td>10.137096</td>\n",
       "    </tr>\n",
       "    <tr>\n",
       "      <th>min</th>\n",
       "      <td>30.288700</td>\n",
       "      <td>18.343500</td>\n",
       "      <td>0.100000</td>\n",
       "      <td>0.000000</td>\n",
       "    </tr>\n",
       "    <tr>\n",
       "      <th>25%</th>\n",
       "      <td>37.078500</td>\n",
       "      <td>27.400700</td>\n",
       "      <td>1.700000</td>\n",
       "      <td>5.000000</td>\n",
       "    </tr>\n",
       "    <tr>\n",
       "      <th>50%</th>\n",
       "      <td>38.309500</td>\n",
       "      <td>28.804700</td>\n",
       "      <td>2.100000</td>\n",
       "      <td>7.300000</td>\n",
       "    </tr>\n",
       "    <tr>\n",
       "      <th>75%</th>\n",
       "      <td>39.233000</td>\n",
       "      <td>35.924300</td>\n",
       "      <td>2.700000</td>\n",
       "      <td>12.000000</td>\n",
       "    </tr>\n",
       "    <tr>\n",
       "      <th>max</th>\n",
       "      <td>45.809300</td>\n",
       "      <td>48.572500</td>\n",
       "      <td>7.600000</td>\n",
       "      <td>188.000000</td>\n",
       "    </tr>\n",
       "  </tbody>\n",
       "</table>\n",
       "</div>"
      ],
      "text/plain": [
       "                 LAT            LNG            MAG          DEPTH\n",
       "count  284583.000000  284583.000000  284583.000000  284583.000000\n",
       "mean       38.234964      31.376644       2.212529       9.774072\n",
       "std         1.478462       5.534374       0.666044      10.137096\n",
       "min        30.288700      18.343500       0.100000       0.000000\n",
       "25%        37.078500      27.400700       1.700000       5.000000\n",
       "50%        38.309500      28.804700       2.100000       7.300000\n",
       "75%        39.233000      35.924300       2.700000      12.000000\n",
       "max        45.809300      48.572500       7.600000     188.000000"
      ]
     },
     "execution_count": 162,
     "metadata": {},
     "output_type": "execute_result"
    }
   ],
   "source": [
    "df.describe()"
   ]
  },
  {
   "cell_type": "code",
   "execution_count": 163,
   "metadata": {},
   "outputs": [
    {
     "data": {
      "text/html": [
       "<div>\n",
       "<style scoped>\n",
       "    .dataframe tbody tr th:only-of-type {\n",
       "        vertical-align: middle;\n",
       "    }\n",
       "\n",
       "    .dataframe tbody tr th {\n",
       "        vertical-align: top;\n",
       "    }\n",
       "\n",
       "    .dataframe thead th {\n",
       "        text-align: right;\n",
       "    }\n",
       "</style>\n",
       "<table border=\"1\" class=\"dataframe\">\n",
       "  <thead>\n",
       "    <tr style=\"text-align: right;\">\n",
       "      <th></th>\n",
       "      <th>LOCATION_</th>\n",
       "      <th>LAT</th>\n",
       "      <th>LNG</th>\n",
       "      <th>MAG</th>\n",
       "      <th>DEPTH</th>\n",
       "      <th>Date</th>\n",
       "      <th>Time</th>\n",
       "    </tr>\n",
       "  </thead>\n",
       "  <tbody>\n",
       "    <tr>\n",
       "      <th>0</th>\n",
       "      <td>KORKUTELi (ANTALYA)</td>\n",
       "      <td>36.9197</td>\n",
       "      <td>30.3133</td>\n",
       "      <td>2.9</td>\n",
       "      <td>30.0</td>\n",
       "      <td>2005-01-01</td>\n",
       "      <td>00:29:42</td>\n",
       "    </tr>\n",
       "    <tr>\n",
       "      <th>1</th>\n",
       "      <td>YUNAK (KONYA)</td>\n",
       "      <td>38.8177</td>\n",
       "      <td>31.8875</td>\n",
       "      <td>3.5</td>\n",
       "      <td>5.8</td>\n",
       "      <td>2005-01-01</td>\n",
       "      <td>03:03:40</td>\n",
       "    </tr>\n",
       "    <tr>\n",
       "      <th>2</th>\n",
       "      <td>AKDENiZ</td>\n",
       "      <td>36.1153</td>\n",
       "      <td>28.4915</td>\n",
       "      <td>3.5</td>\n",
       "      <td>74.5</td>\n",
       "      <td>2005-01-01</td>\n",
       "      <td>04:40:14</td>\n",
       "    </tr>\n",
       "    <tr>\n",
       "      <th>3</th>\n",
       "      <td>CUBUK (ANKARA)</td>\n",
       "      <td>40.3485</td>\n",
       "      <td>32.9603</td>\n",
       "      <td>3.0</td>\n",
       "      <td>15.1</td>\n",
       "      <td>2005-01-01</td>\n",
       "      <td>09:35:00</td>\n",
       "    </tr>\n",
       "    <tr>\n",
       "      <th>4</th>\n",
       "      <td>MENEMEN (iZMiR)</td>\n",
       "      <td>38.8013</td>\n",
       "      <td>27.2075</td>\n",
       "      <td>2.9</td>\n",
       "      <td>28.3</td>\n",
       "      <td>2005-01-01</td>\n",
       "      <td>11:17:43</td>\n",
       "    </tr>\n",
       "  </tbody>\n",
       "</table>\n",
       "</div>"
      ],
      "text/plain": [
       "             LOCATION_      LAT      LNG  MAG  DEPTH        Date      Time\n",
       "0  KORKUTELi (ANTALYA)  36.9197  30.3133  2.9   30.0  2005-01-01  00:29:42\n",
       "1        YUNAK (KONYA)  38.8177  31.8875  3.5    5.8  2005-01-01  03:03:40\n",
       "2              AKDENiZ  36.1153  28.4915  3.5   74.5  2005-01-01  04:40:14\n",
       "3       CUBUK (ANKARA)  40.3485  32.9603  3.0   15.1  2005-01-01  09:35:00\n",
       "4      MENEMEN (iZMiR)  38.8013  27.2075  2.9   28.3  2005-01-01  11:17:43"
      ]
     },
     "execution_count": 163,
     "metadata": {},
     "output_type": "execute_result"
    }
   ],
   "source": [
    "df[['Date', 'Time']] = df['DATE_'].str.split(' ', n=1, expand=True)\n",
    "df.drop(columns=[\"DATE_\",'RECORDDATE'],inplace=True)\n",
    "df.head()"
   ]
  },
  {
   "cell_type": "code",
   "execution_count": 164,
   "metadata": {},
   "outputs": [
    {
     "data": {
      "text/html": [
       "<div>\n",
       "<style scoped>\n",
       "    .dataframe tbody tr th:only-of-type {\n",
       "        vertical-align: middle;\n",
       "    }\n",
       "\n",
       "    .dataframe tbody tr th {\n",
       "        vertical-align: top;\n",
       "    }\n",
       "\n",
       "    .dataframe thead th {\n",
       "        text-align: right;\n",
       "    }\n",
       "</style>\n",
       "<table border=\"1\" class=\"dataframe\">\n",
       "  <thead>\n",
       "    <tr style=\"text-align: right;\">\n",
       "      <th></th>\n",
       "      <th>LOCATION_</th>\n",
       "      <th>LAT</th>\n",
       "      <th>LNG</th>\n",
       "      <th>MAG</th>\n",
       "      <th>DEPTH</th>\n",
       "      <th>Date</th>\n",
       "      <th>Time</th>\n",
       "      <th>year</th>\n",
       "    </tr>\n",
       "  </thead>\n",
       "  <tbody>\n",
       "    <tr>\n",
       "      <th>0</th>\n",
       "      <td>KORKUTELi (ANTALYA)</td>\n",
       "      <td>36.9197</td>\n",
       "      <td>30.3133</td>\n",
       "      <td>2.9</td>\n",
       "      <td>30.0</td>\n",
       "      <td>2005-01-01</td>\n",
       "      <td>00:29:42</td>\n",
       "      <td>2005</td>\n",
       "    </tr>\n",
       "    <tr>\n",
       "      <th>1</th>\n",
       "      <td>YUNAK (KONYA)</td>\n",
       "      <td>38.8177</td>\n",
       "      <td>31.8875</td>\n",
       "      <td>3.5</td>\n",
       "      <td>5.8</td>\n",
       "      <td>2005-01-01</td>\n",
       "      <td>03:03:40</td>\n",
       "      <td>2005</td>\n",
       "    </tr>\n",
       "    <tr>\n",
       "      <th>2</th>\n",
       "      <td>AKDENiZ</td>\n",
       "      <td>36.1153</td>\n",
       "      <td>28.4915</td>\n",
       "      <td>3.5</td>\n",
       "      <td>74.5</td>\n",
       "      <td>2005-01-01</td>\n",
       "      <td>04:40:14</td>\n",
       "      <td>2005</td>\n",
       "    </tr>\n",
       "    <tr>\n",
       "      <th>3</th>\n",
       "      <td>CUBUK (ANKARA)</td>\n",
       "      <td>40.3485</td>\n",
       "      <td>32.9603</td>\n",
       "      <td>3.0</td>\n",
       "      <td>15.1</td>\n",
       "      <td>2005-01-01</td>\n",
       "      <td>09:35:00</td>\n",
       "      <td>2005</td>\n",
       "    </tr>\n",
       "    <tr>\n",
       "      <th>4</th>\n",
       "      <td>MENEMEN (iZMiR)</td>\n",
       "      <td>38.8013</td>\n",
       "      <td>27.2075</td>\n",
       "      <td>2.9</td>\n",
       "      <td>28.3</td>\n",
       "      <td>2005-01-01</td>\n",
       "      <td>11:17:43</td>\n",
       "      <td>2005</td>\n",
       "    </tr>\n",
       "  </tbody>\n",
       "</table>\n",
       "</div>"
      ],
      "text/plain": [
       "             LOCATION_      LAT      LNG  MAG  DEPTH       Date      Time  \\\n",
       "0  KORKUTELi (ANTALYA)  36.9197  30.3133  2.9   30.0 2005-01-01  00:29:42   \n",
       "1        YUNAK (KONYA)  38.8177  31.8875  3.5    5.8 2005-01-01  03:03:40   \n",
       "2              AKDENiZ  36.1153  28.4915  3.5   74.5 2005-01-01  04:40:14   \n",
       "3       CUBUK (ANKARA)  40.3485  32.9603  3.0   15.1 2005-01-01  09:35:00   \n",
       "4      MENEMEN (iZMiR)  38.8013  27.2075  2.9   28.3 2005-01-01  11:17:43   \n",
       "\n",
       "   year  \n",
       "0  2005  \n",
       "1  2005  \n",
       "2  2005  \n",
       "3  2005  \n",
       "4  2005  "
      ]
     },
     "execution_count": 164,
     "metadata": {},
     "output_type": "execute_result"
    }
   ],
   "source": [
    "df[\"Date\"] = pd.to_datetime(df[\"Date\"], format=\"%Y %m %d\", errors = 'coerce')\n",
    "df['year'] = df['Date'].dt.year\n",
    "df.head()\n"
   ]
  },
  {
   "cell_type": "code",
   "execution_count": 165,
   "metadata": {},
   "outputs": [
    {
     "data": {
      "image/png": "[encoded data removed]",
      "text/plain": [
       "<Figure size 1152x432 with 1 Axes>"
      ]
     },
     "metadata": {
      "needs_background": "light"
     },
     "output_type": "display_data"
    }
   ],
   "source": [
    "mag_ = df[df['MAG']>6]\n",
    "\n",
    "plt.figure(figsize=(16,6))\n",
    "pal = sns.cubehelix_palette(len(mag_.year.value_counts().index), start=.5, rot=-.75)\n",
    "sns.barplot(x=np.sort(mag_.year.value_counts().index) ,y = mag_.year.value_counts().values,palette =pal )\n",
    "plt.xticks(rotation=90 , color ='black')\n",
    "plt.show()"
   ]
  },
  {
   "cell_type": "code",
   "execution_count": 166,
   "metadata": {},
   "outputs": [],
   "source": [
    "import re\n",
    "\n",
    "def extract_location(data):\n",
    "    pattern = r'\\((.*?)\\)'  # Parantez içindeki kısmı ayıklamak için regex deseni\n",
    "    extracted_data = re.findall(pattern, data)\n",
    "    if extracted_data:\n",
    "        return extracted_data[0].strip()\n",
    "    else:\n",
    "        return data.strip()\n"
   ]
  },
  {
   "cell_type": "code",
   "execution_count": 167,
   "metadata": {},
   "outputs": [
    {
     "data": {
      "text/html": [
       "<div>\n",
       "<style scoped>\n",
       "    .dataframe tbody tr th:only-of-type {\n",
       "        vertical-align: middle;\n",
       "    }\n",
       "\n",
       "    .dataframe tbody tr th {\n",
       "        vertical-align: top;\n",
       "    }\n",
       "\n",
       "    .dataframe thead th {\n",
       "        text-align: right;\n",
       "    }\n",
       "</style>\n",
       "<table border=\"1\" class=\"dataframe\">\n",
       "  <thead>\n",
       "    <tr style=\"text-align: right;\">\n",
       "      <th></th>\n",
       "      <th>LOCATION_</th>\n",
       "      <th>LAT</th>\n",
       "      <th>LNG</th>\n",
       "      <th>MAG</th>\n",
       "      <th>DEPTH</th>\n",
       "      <th>Date</th>\n",
       "      <th>Time</th>\n",
       "      <th>year</th>\n",
       "    </tr>\n",
       "  </thead>\n",
       "  <tbody>\n",
       "    <tr>\n",
       "      <th>0</th>\n",
       "      <td>ANTALYA</td>\n",
       "      <td>36.9197</td>\n",
       "      <td>30.3133</td>\n",
       "      <td>2.9</td>\n",
       "      <td>30.0</td>\n",
       "      <td>2005-01-01</td>\n",
       "      <td>00:29:42</td>\n",
       "      <td>2005</td>\n",
       "    </tr>\n",
       "    <tr>\n",
       "      <th>1</th>\n",
       "      <td>KONYA</td>\n",
       "      <td>38.8177</td>\n",
       "      <td>31.8875</td>\n",
       "      <td>3.5</td>\n",
       "      <td>5.8</td>\n",
       "      <td>2005-01-01</td>\n",
       "      <td>03:03:40</td>\n",
       "      <td>2005</td>\n",
       "    </tr>\n",
       "    <tr>\n",
       "      <th>2</th>\n",
       "      <td>AKDENiZ</td>\n",
       "      <td>36.1153</td>\n",
       "      <td>28.4915</td>\n",
       "      <td>3.5</td>\n",
       "      <td>74.5</td>\n",
       "      <td>2005-01-01</td>\n",
       "      <td>04:40:14</td>\n",
       "      <td>2005</td>\n",
       "    </tr>\n",
       "    <tr>\n",
       "      <th>3</th>\n",
       "      <td>ANKARA</td>\n",
       "      <td>40.3485</td>\n",
       "      <td>32.9603</td>\n",
       "      <td>3.0</td>\n",
       "      <td>15.1</td>\n",
       "      <td>2005-01-01</td>\n",
       "      <td>09:35:00</td>\n",
       "      <td>2005</td>\n",
       "    </tr>\n",
       "    <tr>\n",
       "      <th>4</th>\n",
       "      <td>iZMiR</td>\n",
       "      <td>38.8013</td>\n",
       "      <td>27.2075</td>\n",
       "      <td>2.9</td>\n",
       "      <td>28.3</td>\n",
       "      <td>2005-01-01</td>\n",
       "      <td>11:17:43</td>\n",
       "      <td>2005</td>\n",
       "    </tr>\n",
       "  </tbody>\n",
       "</table>\n",
       "</div>"
      ],
      "text/plain": [
       "  LOCATION_      LAT      LNG  MAG  DEPTH       Date      Time  year\n",
       "0   ANTALYA  36.9197  30.3133  2.9   30.0 2005-01-01  00:29:42  2005\n",
       "1     KONYA  38.8177  31.8875  3.5    5.8 2005-01-01  03:03:40  2005\n",
       "2   AKDENiZ  36.1153  28.4915  3.5   74.5 2005-01-01  04:40:14  2005\n",
       "3    ANKARA  40.3485  32.9603  3.0   15.1 2005-01-01  09:35:00  2005\n",
       "4     iZMiR  38.8013  27.2075  2.9   28.3 2005-01-01  11:17:43  2005"
      ]
     },
     "execution_count": 167,
     "metadata": {},
     "output_type": "execute_result"
    }
   ],
   "source": [
    "df['LOCATION_'] = df['LOCATION_'].apply(extract_location)\n",
    "df.head()"
   ]
  },
  {
   "cell_type": "code",
   "execution_count": 168,
   "metadata": {},
   "outputs": [
    {
     "data": {
      "image/png": "[encoded data removed]",
      "text/plain": [
       "<Figure size 1152x432 with 1 Axes>"
      ]
     },
     "metadata": {
      "needs_background": "light"
     },
     "output_type": "display_data"
    }
   ],
   "source": [
    "mag_ = df[df['MAG']>5]\n",
    "\n",
    "plt.figure(figsize=(16,6))\n",
    "pal = sns.cubehelix_palette(len(mag_.LOCATION_.value_counts().index), start=.5, rot=-.75)\n",
    "sns.barplot(x=np.sort(mag_.LOCATION_.value_counts().index) ,y = mag_.LOCATION_.value_counts().values,palette =pal )\n",
    "plt.xticks(rotation=90 , color ='black')\n",
    "plt.show()"
   ]
  },
  {
   "cell_type": "code",
   "execution_count": 169,
   "metadata": {},
   "outputs": [
    {
     "data": {
      "text/plain": [
       "array(['MUGLA', 'KAS ACIKLARI- AKDENiZ', 'HAKKARi', 'AKDENiZ', 'BiNGOL',\n",
       "       'ANKARA', 'EGE DENiZi', 'iZMiR',\n",
       "       'SEFERiHiSAR ACIKLARI-iZMiR (EGE DENiZi', 'MALATYA', 'KUS GOLU',\n",
       "       'MARMARA DENiZi', 'ELAZIG', 'DENiZLi', 'YUNANiSTAN', 'ADIYAMAN',\n",
       "       'EGE DENIZI', 'AKDENIZ', 'KARADENIZ', 'GURCiSTAN', 'KUTAHYA',\n",
       "       '2011.07.25 20:57:19', 'ERZiNCAN', 'VAN', '2011.11.09 00:05:50',\n",
       "       'ONiKi ADALAR YUNANiSTAN', 'IRAK', 'BULGARiSTAN',\n",
       "       'MARMARA EREGLiSi ACIKLARI-TEKiRDAG (MARMARA DENiZi', 'SIRNAK',\n",
       "       '2012.09.12 06:27:48', 'KAHRAMANMARAS', 'iRAN', 'KARADENiZ',\n",
       "       'EGE DENIZI                                        REVIZE01',\n",
       "       '2013.04.06 14:26:11', '2013.06.15 19:11:05', 'CANAKKALE',\n",
       "       'YUNANISTAN',\n",
       "       'GURCISTAN                                         İlksel', 'MUS',\n",
       "       'IRAK                                              İlksel',\n",
       "       '2013.12.28 17:21:02',\n",
       "       'YUNANISTAN                                        İlksel',\n",
       "       'EGE DENIZI                                        İlksel',\n",
       "       'AKDENIZ                                           İlksel',\n",
       "       'IRAN-IRAK SINIR BOLGESI                           REVIZE01',\n",
       "       'IRAN                                              İlksel',\n",
       "       'IRAN-IRAK SINIR BOLGESI                           İlksel',\n",
       "       'BURDUR',\n",
       "       'KIBRIS RUM KESIMI                                 İlksel',\n",
       "       'AZERBAYCAN                                        İlksel',\n",
       "       'ANTALYA', 'TOKAT', 'BINGOL', '2015.12.26 13:00:49', 'KIRSEHIR',\n",
       "       '2016.07.28 19:13:33', 'ROMANYA', 'MANISA',\n",
       "       'MERKEZ-MANISA                                     Otomatik',\n",
       "       '2017.05.17 14:30:32', '2017.06.12 15:28:39',\n",
       "       '2017.06.17 22:50:04', '2017.10.12 01:49:43',\n",
       "       '2017.11.12 21:18:18', '2017.11.13 07:27:58', 'IRAN',\n",
       "       'IRAN-IRAQ BORDER REGION                           Otomatik',\n",
       "       '2018.06.05 21:40:25', '2019.01.24 17:30:54', 'DENIZLI',\n",
       "       '2019.07.19 14:13:13', 'CANKIRI', 'MARMARA DENIZI',\n",
       "       'TURKIYE-IRAN SINIR BOLGESI                        İlksel',\n",
       "       'NIGDE', 'SIIRT', 'SURIYE', 'DUZCE', 'KONYA', 'ERZURUM',\n",
       "       '2022.01.11 04:07:51', 'KAYSERI', '2022.01.05 06:21:14',\n",
       "       'ERMENISTAN-GURCISTAN SINIR BOLGESI', 'ARDAHAN', 'IZMIR', 'RUSYA',\n",
       "       'TURKIYE-IRAN SINIR BOLGESI', 'ADANA', 'HATAY'], dtype=object)"
      ]
     },
     "execution_count": 169,
     "metadata": {},
     "output_type": "execute_result"
    }
   ],
   "source": [
    "mag_.LOCATION_.unique()"
   ]
  },
  {
   "cell_type": "code",
   "execution_count": 170,
   "metadata": {},
   "outputs": [
    {
     "data": {
      "image/png": "[encoded data removed]",
      "text/plain": [
       "<Figure size 1152x432 with 1 Axes>"
      ]
     },
     "metadata": {
      "needs_background": "light"
     },
     "output_type": "display_data"
    }
   ],
   "source": [
    "mag_ = df[df['MAG'] > 5]\n",
    "\n",
    "plt.figure(figsize=(16,6))\n",
    "# Sayısal olmayan verilerin seçimi\n",
    "non_numeric_indices = [i for i, val in enumerate(mag_.LOCATION_.value_counts().index) if not val.isnumeric()]\n",
    "non_numeric_values = mag_.LOCATION_.value_counts().values[non_numeric_indices]\n",
    "non_numeric_labels = np.array(mag_.LOCATION_.value_counts().index)[non_numeric_indices]\n",
    "\n",
    "pal = sns.cubehelix_palette(len(non_numeric_labels), start=.5, rot=-.75)\n",
    "sns.barplot(x=non_numeric_labels, y=non_numeric_values, palette=pal)\n",
    "plt.xticks(rotation=90, color='black')\n",
    "plt.show()"
   ]
  },
  {
   "cell_type": "code",
   "execution_count": 171,
   "metadata": {},
   "outputs": [
    {
     "data": {
      "application/vnd.plotly.v1+json": {
       "config": {
        "plotlyServerURL": "https://plot.ly"
       },
       "data": [
        {
         "customdata": [
          [
           15.9,
           5.1,
           "2005-01-11T00:00:00"
          ],
          [
           34.2,
           5.5,
           "2005-01-24T00:00:00"
          ],
          [
           30,
           5.5,
           "2005-01-25T00:00:00"
          ],
          [
           33.8,
           5.3,
           "2005-01-30T00:00:00"
          ],
          [
           5,
           5.7,
           "2005-03-12T00:00:00"
          ],
          [
           5,
           5.9,
           "2005-03-14T00:00:00"
          ],
          [
           5,
           5.5,
           "2005-03-23T00:00:00"
          ],
          [
           34.9,
           5.7,
           "2005-06-06T00:00:00"
          ],
          [
           5,
           5.3,
           "2005-07-31T00:00:00"
          ],
          [
           36,
           5.1,
           "2005-08-24T00:00:00"
          ],
          [
           8.099999999999998,
           5.7,
           "2005-10-17T00:00:00"
          ],
          [
           10.4,
           5.9,
           "2005-10-17T00:00:00"
          ],
          [
           20.7,
           5.2,
           "2005-10-17T00:00:00"
          ],
          [
           7.5,
           5.9,
           "2005-10-21T00:00:00"
          ],
          [
           8.5,
           5.3,
           "2005-11-26T00:00:00"
          ],
          [
           5,
           5.3,
           "2005-12-10T00:00:00"
          ],
          [
           67.4,
           5.2,
           "2006-04-10T00:00:00"
          ],
          [
           78.79999999999998,
           5.1,
           "2006-08-22T00:00:00"
          ],
          [
           12.9,
           5.2,
           "2006-10-20T00:00:00"
          ],
          [
           14.3,
           5.2,
           "2006-10-24T00:00:00"
          ],
          [
           5,
           5.3,
           "2007-02-09T00:00:00"
          ],
          [
           5,
           5.9,
           "2007-02-21T00:00:00"
          ],
          [
           5,
           5.4,
           "2007-08-26T00:00:00"
          ],
          [
           32.3,
           5.3,
           "2007-08-31T00:00:00"
          ],
          [
           5,
           5.2,
           "2007-09-23T00:00:00"
          ],
          [
           5,
           5.1,
           "2007-10-29T00:00:00"
          ],
          [
           10.4,
           5.3,
           "2007-11-09T00:00:00"
          ],
          [
           3.4,
           5.2,
           "2007-11-09T00:00:00"
          ],
          [
           5,
           5.7,
           "2007-12-20T00:00:00"
          ],
          [
           5,
           5.5,
           "2007-12-27T00:00:00"
          ],
          [
           32.6,
           5.4,
           "2008-03-28T00:00:00"
          ],
          [
           18.7,
           6.4,
           "2008-07-15T00:00:00"
          ],
          [
           5,
           5.3,
           "2008-08-03T00:00:00"
          ],
          [
           5.7,
           5.1,
           "2008-09-03T00:00:00"
          ],
          [
           8.599999999999998,
           5.2,
           "2008-12-29T00:00:00"
          ],
          [
           36.1,
           5.2,
           "2009-01-13T00:00:00"
          ],
          [
           40.7,
           5.6,
           "2009-06-19T00:00:00"
          ],
          [
           10.3,
           6.2,
           "2009-07-01T00:00:00"
          ],
          [
           30.9,
           5.1,
           "2009-08-05T00:00:00"
          ],
          [
           39.2,
           5.4,
           "2009-12-22T00:00:00"
          ],
          [
           5,
           6,
           "2010-03-08T00:00:00"
          ],
          [
           5,
           5.5,
           "2010-03-08T00:00:00"
          ],
          [
           5,
           5.1,
           "2010-03-08T00:00:00"
          ],
          [
           5,
           5.3,
           "2010-03-08T00:00:00"
          ],
          [
           4.5,
           5.1,
           "2010-03-24T00:00:00"
          ],
          [
           15.3,
           5.3,
           "2010-11-03T00:00:00"
          ],
          [
           8.099999999999998,
           5.3,
           "2011-01-19T00:00:00"
          ],
          [
           42.8,
           5.3,
           "2011-02-28T00:00:00"
          ],
          [
           12.1,
           6.3,
           "2011-04-01T00:00:00"
          ],
          [
           6.2,
           5.1,
           "2011-05-08T00:00:00"
          ],
          [
           7.599999999999999,
           5.9,
           "2011-05-19T00:00:00"
          ],
          [
           5,
           5.4,
           "2011-06-23T00:00:00"
          ],
          [
           15.3,
           5.2,
           "2011-07-25T00:00:00"
          ],
          [
           5,
           5.6,
           "2011-09-22T00:00:00"
          ],
          [
           5,
           5.4,
           "2011-10-25T00:00:00"
          ],
          [
           5,
           6.6,
           "2011-10-23T00:00:00"
          ],
          [
           9,
           5.4,
           "2011-10-23T00:00:00"
          ],
          [
           5,
           5.5,
           "2011-10-23T00:00:00"
          ],
          [
           5,
           5.5,
           "2011-10-23T00:00:00"
          ],
          [
           5,
           5.7,
           "2011-10-23T00:00:00"
          ],
          [
           18.3,
           5.4,
           "2011-10-27T00:00:00"
          ],
          [
           5,
           5.2,
           "2011-10-30T00:00:00"
          ],
          [
           4.3,
           5.5,
           "2011-11-09T00:00:00"
          ],
          [
           5,
           5.6,
           "2011-11-09T00:00:00"
          ],
          [
           7.8,
           5.2,
           "2011-11-15T00:00:00"
          ],
          [
           6,
           5.1,
           "2011-12-05T00:00:00"
          ],
          [
           16.2,
           5.2,
           "2012-01-26T00:00:00"
          ],
          [
           22.9,
           5.3,
           "2012-01-27T00:00:00"
          ],
          [
           37.5,
           5.2,
           "2012-03-05T00:00:00"
          ],
          [
           5,
           5.2,
           "2012-04-16T00:00:00"
          ],
          [
           3.1,
           5.1,
           "2012-05-03T00:00:00"
          ],
          [
           19.1,
           5.4,
           "2012-05-11T00:00:00"
          ],
          [
           28.1,
           6.4,
           "2012-05-22T00:00:00"
          ],
          [
           14.9,
           5.1,
           "2012-06-07T00:00:00"
          ],
          [
           19.4,
           6,
           "2012-06-10T00:00:00"
          ],
          [
           5.4,
           5.5,
           "2012-06-14T00:00:00"
          ],
          [
           26.4,
           5.3,
           "2012-06-25T00:00:00"
          ],
          [
           21.1,
           6,
           "2012-07-09T00:00:00"
          ],
          [
           5.4,
           5.3,
           "2012-08-05T00:00:00"
          ],
          [
           40.4,
           5.5,
           "2012-09-12T00:00:00"
          ],
          [
           8.3,
           5.1,
           "2012-09-19T00:00:00"
          ],
          [
           43.1,
           5.3,
           "2012-10-19T00:00:00"
          ],
          [
           5,
           5.6,
           "2012-11-07T00:00:00"
          ],
          [
           5,
           5.5,
           "2012-12-23T00:00:00"
          ],
          [
           8.699999999999998,
           5.4,
           "2012-12-26T00:00:00"
          ],
          [
           8.4,
           5.7,
           "2013-01-08T00:00:00"
          ],
          [
           5,
           5.2,
           "2013-03-11T00:00:00"
          ],
          [
           28,
           5.2,
           "2013-04-06T00:00:00"
          ],
          [
           10,
           6,
           "2013-06-15T00:00:00"
          ],
          [
           15.8,
           5.7,
           "2013-06-17T00:00:00"
          ],
          [
           9.8,
           5.3,
           "2013-07-30T00:00:00"
          ],
          [
           5,
           5.1,
           "2013-08-07T00:00:00"
          ],
          [
           5,
           5.2,
           "2013-09-17T00:00:00"
          ],
          [
           2.5,
           5.1,
           "2013-09-17T00:00:00"
          ],
          [
           52.8,
           6.4,
           "2013-10-12T00:00:00"
          ],
          [
           5,
           5.3,
           "2013-11-24T00:00:00"
          ],
          [
           46,
           6,
           "2013-12-28T00:00:00"
          ],
          [
           110.4,
           5.4,
           "2014-04-04T00:00:00"
          ],
          [
           54.1,
           5.1,
           "2014-04-14T00:00:00"
          ],
          [
           21.2,
           6.8,
           "2014-05-24T00:00:00"
          ],
          [
           7.2,
           5.1,
           "2014-05-24T00:00:00"
          ],
          [
           97.8,
           5.2,
           "2014-06-11T00:00:00"
          ],
          [
           10,
           5.7,
           "2014-08-18T00:00:00"
          ],
          [
           10,
           5.1,
           "2014-08-23T00:00:00"
          ],
          [
           10,
           5.5,
           "2014-08-20T00:00:00"
          ],
          [
           14.4,
           5.2,
           "2014-08-22T00:00:00"
          ],
          [
           8.9,
           5.8,
           "2014-08-18T00:00:00"
          ],
          [
           10,
           5.6,
           "2014-08-18T00:00:00"
          ],
          [
           7.4,
           5.1,
           "2014-08-24T00:00:00"
          ],
          [
           29.6,
           5.4,
           "2014-08-22T00:00:00"
          ],
          [
           10,
           5.1,
           "2014-08-20T00:00:00"
          ],
          [
           10,
           6.1,
           "2014-08-18T00:00:00"
          ],
          [
           15,
           5.1,
           "2014-08-24T00:00:00"
          ],
          [
           10,
           5.6,
           "2014-08-29T00:00:00"
          ],
          [
           25.6,
           5.2,
           "2014-09-05T00:00:00"
          ],
          [
           14.1,
           5.1,
           "2014-11-18T00:00:00"
          ],
          [
           12.1,
           5.3,
           "2014-11-18T00:00:00"
          ],
          [
           13.7,
           5.2,
           "2014-12-06T00:00:00"
          ],
          [
           31.1,
           5.1,
           "2015-03-28T00:00:00"
          ],
          [
           22.1,
           6.1,
           "2015-04-16T00:00:00"
          ],
          [
           13.5,
           5.5,
           "2015-04-15T00:00:00"
          ],
          [
           18.6,
           5.5,
           "2015-04-17T00:00:00"
          ],
          [
           8.199999999999998,
           5.3,
           "2015-06-09T00:00:00"
          ],
          [
           11,
           5.3,
           "2015-06-10T00:00:00"
          ],
          [
           21.5,
           5.2,
           "2015-07-30T00:00:00"
          ],
          [
           14.1,
           5.8,
           "2015-09-04T00:00:00"
          ],
          [
           22.4,
           5.5,
           "2015-10-07T00:00:00"
          ],
          [
           5,
           5.1,
           "2015-10-09T00:00:00"
          ],
          [
           2.3,
           5.1,
           "2015-11-29T00:00:00"
          ],
          [
           5,
           5.5,
           "2015-12-03T00:00:00"
          ],
          [
           14.8,
           5.4,
           "2015-12-26T00:00:00"
          ],
          [
           5,
           5.1,
           "2016-01-10T00:00:00"
          ],
          [
           6,
           5.3,
           "2016-05-25T00:00:00"
          ],
          [
           5,
           5.2,
           "2016-07-28T00:00:00"
          ],
          [
           83.29999999999998,
           5.4,
           "2016-09-27T00:00:00"
          ],
          [
           7.3,
           5.1,
           "2016-11-19T00:00:00"
          ],
          [
           49.7,
           5.9,
           "2016-12-28T00:00:00"
          ],
          [
           118.8,
           5.4,
           "2016-12-20T00:00:00"
          ],
          [
           22.1,
           5.3,
           "2017-01-25T00:00:00"
          ],
          [
           14,
           5.3,
           "2017-02-06T00:00:00"
          ],
          [
           9.8,
           5.4,
           "2017-02-06T00:00:00"
          ],
          [
           11.1,
           5.3,
           "2017-02-12T00:00:00"
          ],
          [
           12.3,
           5.3,
           "2017-02-07T00:00:00"
          ],
          [
           5.6,
           5.1,
           "2017-04-21T00:00:00"
          ],
          [
           10,
           5.1,
           "2017-04-21T00:00:00"
          ],
          [
           8.3,
           5.1,
           "2017-05-17T00:00:00"
          ],
          [
           13.2,
           5.2,
           "2017-05-27T00:00:00"
          ],
          [
           19.5,
           6.3,
           "2017-06-12T00:00:00"
          ],
          [
           14.1,
           5.6,
           "2017-06-17T00:00:00"
          ],
          [
           5,
           6.6,
           "2017-07-21T00:00:00"
          ],
          [
           5,
           5.3,
           "2017-08-08T00:00:00"
          ],
          [
           16.2,
           5.3,
           "2017-08-01T00:00:00"
          ],
          [
           8.199999999999998,
           5.2,
           "2017-10-12T00:00:00"
          ],
          [
           6.3,
           5.1,
           "2017-11-25T00:00:00"
          ],
          [
           11.7,
           7.1,
           "2017-11-12T00:00:00"
          ],
          [
           8.599999999999998,
           5.1,
           "2017-11-13T00:00:00"
          ],
          [
           4.2,
           5.1,
           "2017-11-13T00:00:00"
          ],
          [
           13.4,
           5.4,
           "2018-04-24T00:00:00"
          ],
          [
           10,
           5.3,
           "2018-04-01T00:00:00"
          ],
          [
           26.8,
           5.4,
           "2018-04-19T00:00:00"
          ],
          [
           24.6,
           5.3,
           "2018-06-25T00:00:00"
          ],
          [
           11.6,
           5.4,
           "2018-06-05T00:00:00"
          ],
          [
           5.5,
           5.1,
           "2018-07-13T00:00:00"
          ],
          [
           13.1,
           5.3,
           "2018-09-12T00:00:00"
          ],
          [
           46.6,
           5.3,
           "2019-01-24T00:00:00"
          ],
          [
           7.599999999999999,
           5.4,
           "2019-02-20T00:00:00"
          ],
          [
           5,
           5.7,
           "2019-03-20T00:00:00"
          ],
          [
           5.3,
           5.1,
           "2019-03-31T00:00:00"
          ],
          [
           1.2,
           5.3,
           "2019-04-04T00:00:00"
          ],
          [
           5.3,
           5.5,
           "2019-07-19T00:00:00"
          ],
          [
           83.59999999999998,
           5.1,
           "2019-08-03T00:00:00"
          ],
          [
           8.9,
           5.7,
           "2019-08-08T00:00:00"
          ],
          [
           19.2,
           5.1,
           "2019-09-24T00:00:00"
          ],
          [
           6.1,
           5.1,
           "2019-09-14T00:00:00"
          ],
          [
           12.3,
           5.7,
           "2019-09-26T00:00:00"
          ],
          [
           9.3,
           5.2,
           "2019-10-03T00:00:00"
          ],
          [
           86.79999999999998,
           6,
           "2019-11-27T00:00:00"
          ],
          [
           82,
           5.3,
           "2019-12-11T00:00:00"
          ],
          [
           3.8,
           5.1,
           "2019-12-27T00:00:00"
          ],
          [
           13.6,
           5.1,
           "2020-01-28T00:00:00"
          ],
          [
           5,
           5.5,
           "2020-01-30T00:00:00"
          ],
          [
           5,
           6.7,
           "2020-01-24T00:00:00"
          ],
          [
           5.8,
           5.5,
           "2020-01-28T00:00:00"
          ],
          [
           5.1,
           5.1,
           "2020-01-25T00:00:00"
          ],
          [
           7.1,
           5.8,
           "2020-01-30T00:00:00"
          ],
          [
           12.2,
           5.6,
           "2020-01-22T00:00:00"
          ],
          [
           13,
           5.2,
           "2020-02-18T00:00:00"
          ],
          [
           7.2,
           6,
           "2020-02-23T00:00:00"
          ],
          [
           5,
           5.8,
           "2020-02-23T00:00:00"
          ],
          [
           5.2,
           5.1,
           "2020-02-26T00:00:00"
          ],
          [
           5.4,
           5.2,
           "2020-03-19T00:00:00"
          ],
          [
           5,
           5.7,
           "2020-05-19T00:00:00"
          ],
          [
           8.9,
           5.1,
           "2020-05-27T00:00:00"
          ],
          [
           55.1,
           6.6,
           "2020-05-02T00:00:00"
          ],
          [
           5,
           5.2,
           "2020-05-02T00:00:00"
          ],
          [
           6.4,
           5.3,
           "2020-05-02T00:00:00"
          ],
          [
           5,
           5.1,
           "2020-05-24T00:00:00"
          ],
          [
           5.3,
           5.4,
           "2020-06-25T00:00:00"
          ],
          [
           1.8,
           5.6,
           "2020-06-15T00:00:00"
          ],
          [
           78.2,
           5.4,
           "2020-06-28T00:00:00"
          ],
          [
           5,
           5.9,
           "2020-06-14T00:00:00"
          ],
          [
           5.4,
           5.3,
           "2020-06-05T00:00:00"
          ],
          [
           10.9,
           5.5,
           "2020-06-26T00:00:00"
          ],
          [
           5.5,
           5.7,
           "2020-08-04T00:00:00"
          ],
          [
           68.2,
           5.8,
           "2020-09-18T00:00:00"
          ],
          [
           5,
           5.2,
           "2020-09-20T00:00:00"
          ],
          [
           14.7,
           5.6,
           "2020-09-27T00:00:00"
          ],
          [
           5,
           5.1,
           "2020-10-31T00:00:00"
          ],
          [
           12.1,
           6.9,
           "2020-10-30T00:00:00"
          ],
          [
           13.2,
           5.2,
           "2020-10-30T00:00:00"
          ],
          [
           9.1,
           5.1,
           "2020-10-12T00:00:00"
          ],
          [
           5,
           5.2,
           "2020-11-10T00:00:00"
          ],
          [
           5,
           5.2,
           "2020-12-03T00:00:00"
          ],
          [
           6,
           5.6,
           "2020-12-27T00:00:00"
          ],
          [
           98.6,
           5.5,
           "2020-12-05T00:00:00"
          ],
          [
           38.3,
           5.4,
           "2021-01-26T00:00:00"
          ],
          [
           51.4,
           5.1,
           "2021-01-21T00:00:00"
          ],
          [
           8.9,
           5.3,
           "2021-04-13T00:00:00"
          ],
          [
           4.6,
           5.3,
           "2021-06-25T00:00:00"
          ],
          [
           12,
           5.5,
           "2021-06-22T00:00:00"
          ],
          [
           8.8,
           5.1,
           "2021-07-19T00:00:00"
          ],
          [
           9,
           5.7,
           "2021-08-01T00:00:00"
          ],
          [
           7.2,
           5.1,
           "2021-08-07T00:00:00"
          ],
          [
           5.4,
           5.2,
           "2021-08-03T00:00:00"
          ],
          [
           4.2,
           6,
           "2021-09-27T00:00:00"
          ],
          [
           5.8,
           5.3,
           "2021-09-28T00:00:00"
          ],
          [
           16.2,
           6.3,
           "2021-10-12T00:00:00"
          ],
          [
           28.4,
           6.1,
           "2021-10-19T00:00:00"
          ],
          [
           7.4,
           5.2,
           "2021-11-17T00:00:00"
          ],
          [
           4.8,
           5.3,
           "2021-11-30T00:00:00"
          ],
          [
           5,
           5.1,
           "2021-11-08T00:00:00"
          ],
          [
           5,
           5.2,
           "2021-11-19T00:00:00"
          ],
          [
           84.5,
           5.7,
           "2021-12-29T00:00:00"
          ],
          [
           5,
           5.1,
           "2021-12-26T00:00:00"
          ],
          [
           5,
           5.5,
           "2021-12-26T00:00:00"
          ],
          [
           36.3,
           6.2,
           "2022-01-11T00:00:00"
          ],
          [
           5,
           5.1,
           "2022-01-18T00:00:00"
          ],
          [
           18.3,
           5.6,
           "2022-01-16T00:00:00"
          ],
          [
           18.1,
           5.3,
           "2022-01-05T00:00:00"
          ],
          [
           5,
           5.1,
           "2022-02-03T00:00:00"
          ],
          [
           5.6,
           5.6,
           "2022-02-13T00:00:00"
          ],
          [
           5,
           5.2,
           "2022-04-09T00:00:00"
          ],
          [
           5,
           5.3,
           "2022-06-12T00:00:00"
          ],
          [
           13.5,
           5.3,
           "2022-08-31T00:00:00"
          ],
          [
           5,
           5.3,
           "2022-09-03T00:00:00"
          ],
          [
           3.2,
           5.3,
           "2022-09-27T00:00:00"
          ],
          [
           5,
           5.8,
           "2022-10-05T00:00:00"
          ],
          [
           21.9,
           5.3,
           "2022-10-02T00:00:00"
          ],
          [
           69.2,
           5.3,
           "2022-11-21T00:00:00"
          ],
          [
           10.6,
           6,
           "2022-11-23T00:00:00"
          ],
          [
           158.4,
           5.1,
           "2022-11-03T00:00:00"
          ],
          [
           4.5,
           5.1,
           "2022-11-04T00:00:00"
          ],
          [
           1.1,
           5.2,
           "2022-12-08T00:00:00"
          ],
          [
           30.3,
           5.7,
           "2023-01-25T00:00:00"
          ],
          [
           5,
           6.1,
           "2023-01-28T00:00:00"
          ],
          [
           5,
           5.9,
           "2023-01-18T00:00:00"
          ],
          [
           11.2,
           5.1,
           "2023-01-07T00:00:00"
          ],
          [
           4.5,
           5.1,
           "2023-01-10T00:00:00"
          ],
          [
           5,
           5.3,
           "2023-02-25T00:00:00"
          ],
          [
           1.9,
           6,
           "2023-02-06T00:00:00"
          ],
          [
           3.4,
           5.5,
           "2023-02-08T00:00:00"
          ],
          [
           11.5,
           5.7,
           "2023-02-06T00:00:00"
          ],
          [
           5,
           5.5,
           "2023-02-06T00:00:00"
          ],
          [
           9.4,
           5.7,
           "2023-02-06T00:00:00"
          ],
          [
           5,
           7.599999999999999,
           "2023-02-06T00:00:00"
          ],
          [
           5.4,
           5.1,
           "2023-02-06T00:00:00"
          ],
          [
           2,
           5.1,
           "2023-02-07T00:00:00"
          ],
          [
           3.3,
           5.4,
           "2023-02-06T00:00:00"
          ],
          [
           5,
           5.3,
           "2023-02-06T00:00:00"
          ],
          [
           7.8,
           5.3,
           "2023-02-06T00:00:00"
          ],
          [
           5,
           5.3,
           "2023-02-08T00:00:00"
          ],
          [
           17.4,
           5.2,
           "2023-02-06T00:00:00"
          ],
          [
           7.599999999999999,
           5.1,
           "2023-02-06T00:00:00"
          ],
          [
           4.4,
           5.3,
           "2023-02-06T00:00:00"
          ],
          [
           6.1,
           5.3,
           "2023-02-18T00:00:00"
          ],
          [
           5,
           5.2,
           "2023-02-06T00:00:00"
          ],
          [
           2.6,
           5.2,
           "2023-02-12T00:00:00"
          ],
          [
           2.3,
           5.6,
           "2023-02-07T00:00:00"
          ],
          [
           8.599999999999998,
           5.4,
           "2023-02-07T00:00:00"
          ],
          [
           5,
           5.1,
           "2023-02-07T00:00:00"
          ],
          [
           5,
           5.5,
           "2023-02-27T00:00:00"
          ],
          [
           8.5,
           6.4,
           "2023-02-20T00:00:00"
          ],
          [
           5.3,
           5.2,
           "2023-02-06T00:00:00"
          ],
          [
           5.4,
           5.2,
           "2023-02-27T00:00:00"
          ],
          [
           5,
           5.5,
           "2023-02-07T00:00:00"
          ],
          [
           5,
           5.3,
           "2023-02-07T00:00:00"
          ]
         ],
         "hovertemplate": "<b>%{hovertext}</b><br><br>LAT=%{lat}<br>LNG=%{lon}<br>DEPTH=%{customdata[0]}<br>MAG=%{customdata[1]}<br>Date=%{customdata[2]}<extra></extra>",
         "hovertext": [
          "MUGLA",
          "KAS ACIKLARI- AKDENiZ",
          "HAKKARi",
          "AKDENiZ",
          "BiNGOL",
          "BiNGOL",
          "BiNGOL",
          "BiNGOL",
          "ANKARA",
          "EGE DENiZi",
          "EGE DENiZi",
          "iZMiR",
          "EGE DENiZi",
          "SEFERiHiSAR ACIKLARI-iZMiR (EGE DENiZi",
          "MALATYA",
          "BiNGOL",
          "AKDENiZ",
          "AKDENiZ",
          "KUS GOLU",
          "MARMARA DENiZi",
          "ELAZIG",
          "ELAZIG",
          "BiNGOL",
          "AKDENiZ",
          "AKDENiZ",
          "DENiZLi",
          "EGE DENiZi",
          "EGE DENiZi",
          "ANKARA",
          "ANKARA",
          "AKDENiZ",
          "AKDENiZ",
          "YUNANiSTAN",
          "ADIYAMAN",
          "EGE DENIZI",
          "AKDENIZ",
          "AKDENIZ",
          "AKDENIZ",
          "KARADENIZ",
          "AKDENIZ",
          "ELAZIG",
          "ELAZIG",
          "ELAZIG",
          "ELAZIG",
          "ELAZIG",
          "EGE DENiZi",
          "GURCiSTAN",
          "AKDENiZ",
          "AKDENiZ",
          "AKDENiZ",
          "KUTAHYA",
          "ELAZIG",
          "2011.07.25 20:57:19",
          "ERZiNCAN",
          "VAN",
          "VAN",
          "VAN",
          "VAN",
          "VAN",
          "VAN",
          "HAKKARi",
          "VAN",
          "2011.11.09 00:05:50",
          "VAN",
          "VAN",
          "EGE DENiZi",
          "ONiKi ADALAR YUNANiSTAN",
          "ONiKi ADALAR YUNANiSTAN",
          "IRAK",
          "YUNANiSTAN",
          "KUTAHYA",
          "AKDENiZ",
          "BULGARiSTAN",
          "MARMARA EREGLiSi ACIKLARI-TEKiRDAG (MARMARA DENiZi",
          "AKDENiZ",
          "SIRNAK",
          "AKDENiZ",
          "AKDENiZ",
          "SIRNAK",
          "2012.09.12 06:27:48",
          "KAHRAMANMARAS",
          "AKDENiZ",
          "iRAN",
          "KARADENiZ",
          "KARADENiZ",
          "EGE DENIZI                                        REVIZE01",
          "IRAK",
          "2013.04.06 14:26:11",
          "2013.06.15 19:11:05",
          "AKDENiZ",
          "CANAKKALE",
          "YUNANISTAN",
          "GURCISTAN                                         İlksel",
          "MUS",
          "YUNANISTAN",
          "IRAK                                              İlksel",
          "2013.12.28 17:21:02",
          "YUNANISTAN                                        İlksel",
          "AKDENIZ",
          "EGE DENIZI                                        İlksel",
          "EGE DENIZI",
          "AKDENIZ                                           İlksel",
          "IRAN-IRAK SINIR BOLGESI                           REVIZE01",
          "IRAN                                              İlksel",
          "IRAN-IRAK SINIR BOLGESI                           İlksel",
          "YUNANISTAN                                        İlksel",
          "IRAN-IRAK SINIR BOLGESI                           İlksel",
          "IRAN-IRAK SINIR BOLGESI                           İlksel",
          "BURDUR",
          "IRAK                                              İlksel",
          "IRAN-IRAK SINIR BOLGESI                           İlksel",
          "IRAN-IRAK SINIR BOLGESI                           REVIZE01",
          "IRAN-IRAK SINIR BOLGESI                           İlksel",
          "YUNANISTAN                                        İlksel",
          "AKDENIZ                                           İlksel",
          "YUNANISTAN                                        İlksel",
          "YUNANISTAN                                        İlksel",
          "EGE DENIZI                                        İlksel",
          "AKDENIZ                                           İlksel",
          "AKDENIZ",
          "KIBRIS RUM KESIMI                                 İlksel",
          "AKDENIZ",
          "YUNANISTAN                                        İlksel",
          "AKDENIZ",
          "AKDENIZ",
          "AZERBAYCAN                                        İlksel",
          "ANTALYA",
          "TOKAT",
          "MALATYA",
          "BINGOL",
          "2015.12.26 13:00:49",
          "KIRSEHIR",
          "AKDENIZ",
          "2016.07.28 19:13:33",
          "AKDENIZ",
          "YUNANISTAN",
          "ROMANYA",
          "AKDENIZ",
          "AKDENIZ",
          "CANAKKALE",
          "CANAKKALE",
          "CANAKKALE",
          "CANAKKALE",
          "MANISA",
          "MERKEZ-MANISA                                     Otomatik",
          "2017.05.17 14:30:32",
          "MANISA",
          "2017.06.12 15:28:39",
          "2017.06.17 22:50:04",
          "AKDENIZ",
          "AKDENIZ",
          "AKDENIZ",
          "2017.10.12 01:49:43",
          "MUGLA",
          "2017.11.12 21:18:18",
          "2017.11.13 07:27:58",
          "IRAN",
          "ADIYAMAN",
          "IRAN-IRAQ BORDER REGION                           Otomatik",
          "IRAN",
          "YUNANISTAN",
          "2018.06.05 21:40:25",
          "AKDENIZ",
          "AKDENIZ                                           İlksel",
          "2019.01.24 17:30:54",
          "CANAKKALE",
          "DENIZLI",
          "DENIZLI",
          "ELAZIG",
          "2019.07.19 14:13:13",
          "AKDENIZ",
          "DENIZLI",
          "AKDENIZ",
          "CANKIRI",
          "MARMARA DENIZI",
          "AKDENIZ",
          "AKDENIZ",
          "AKDENIZ",
          "ELAZIG",
          "MANISA",
          "AKDENIZ                                           İlksel",
          "ELAZIG",
          "AKDENIZ                                           İlksel",
          "ELAZIG",
          "AKDENIZ                                           İlksel",
          "MANISA",
          "MANISA",
          "TURKIYE-IRAN SINIR BOLGESI                        İlksel",
          "TURKIYE-IRAN SINIR BOLGESI                        İlksel",
          "MALATYA",
          "ELAZIG",
          "AKDENIZ",
          "AKDENIZ",
          "AKDENIZ",
          "AKDENIZ",
          "AKDENIZ",
          "AKDENIZ",
          "VAN",
          "BINGOL",
          "MUGLA",
          "BINGOL",
          "MALATYA",
          "MANISA",
          "MALATYA",
          "AKDENIZ",
          "NIGDE",
          "YUNANISTAN                                        İlksel",
          "EGE DENIZI",
          "EGE DENIZI                                        İlksel",
          "EGE DENIZI",
          "AKDENIZ                                           İlksel",
          "IRAN                                              İlksel",
          "SIIRT",
          "ELAZIG",
          "AKDENIZ",
          "SURIYE",
          "AKDENIZ",
          "AKDENIZ",
          "ELAZIG",
          "AKDENIZ                                           İlksel",
          "SURIYE",
          "AKDENIZ",
          "AKDENIZ",
          "AKDENIZ",
          "AKDENIZ",
          "AKDENIZ",
          "AKDENIZ",
          "AKDENIZ",
          "DUZCE",
          "AKDENIZ",
          "KONYA",
          "ERZURUM",
          "AKDENIZ",
          "AKDENIZ",
          "AKDENIZ",
          "2022.01.11 04:07:51",
          "KAYSERI",
          "YUNANISTAN",
          "2022.01.05 06:21:14",
          "AKDENIZ",
          "ERMENISTAN-GURCISTAN SINIR BOLGESI",
          "MALATYA",
          "VAN",
          "EGE DENIZI",
          "AKDENIZ",
          "ARDAHAN",
          "IRAN",
          "AKDENIZ",
          "AKDENIZ",
          "DUZCE",
          "ROMANYA",
          "IZMIR",
          "RUSYA",
          "AKDENIZ",
          "IRAN",
          "TURKIYE-IRAN SINIR BOLGESI",
          "EGE DENIZI",
          "EGE DENIZI",
          "NIGDE",
          "ADANA",
          "MALATYA",
          "MALATYA",
          "MALATYA",
          "MALATYA",
          "KAHRAMANMARAS",
          "MALATYA",
          "KAHRAMANMARAS",
          "KAHRAMANMARAS",
          "KAHRAMANMARAS",
          "KAHRAMANMARAS",
          "KAHRAMANMARAS",
          "MALATYA",
          "MALATYA",
          "KAHRAMANMARAS",
          "KAHRAMANMARAS",
          "KAHRAMANMARAS",
          "MALATYA",
          "ADIYAMAN",
          "ADIYAMAN",
          "KAHRAMANMARAS",
          "MALATYA",
          "HATAY",
          "KAHRAMANMARAS",
          "ADIYAMAN",
          "MALATYA",
          "KAHRAMANMARAS"
         ],
         "lat": [
          37.0167,
          35.8642,
          37.805,
          35.7783,
          39.384,
          39.3502,
          39.3945,
          39.3803,
          39.4375,
          39.7197,
          38.1307,
          38.169,
          38.1425,
          38.168,
          38.2597,
          39.3758,
          35.0482,
          35.121,
          40.2635,
          40.424,
          38.3868,
          38.373,
          39.2538,
          36.7982,
          34.8183,
          37.0327,
          38.823,
          38.7658,
          39.4043,
          39.4168,
          34.139,
          35.786,
          39.61,
          37.5072,
          40.4047,
          35.4915,
          35.0882,
          33.6008,
          43.4152,
          35.6192,
          38.807,
          38.7805,
          38.828,
          38.776,
          38.8212,
          40.4232,
          41.9415,
          34.899,
          35.587,
          36.7028,
          39.152,
          38.5717,
          40.8108,
          39.7853,
          38.7733,
          38.726,
          38.7513,
          38.8137,
          38.8095,
          38.6345,
          37.3283,
          38.891,
          38.7242,
          38.4295,
          38.6983,
          38.8097,
          36.1308,
          36.3177,
          34.814,
          37.5367,
          39.1747,
          34.227,
          42.606,
          40.8483,
          36.4542,
          37.2935,
          36.4393,
          35.5087,
          37.3975,
          34.9612,
          37.3195,
          32.4392,
          38.4003,
          42.4447,
          42.4255,
          39.6462,
          36.7547,
          35.0172,
          34.307,
          34.5657,
          40.3037,
          38.7952,
          42.1058,
          39.0263,
          35.5193,
          34.2732,
          35.9873,
          37.1863,
          34.064,
          40.3043,
          40.427,
          34.6453,
          32.7274,
          32.7648,
          32.5844,
          39.9463,
          32.593,
          32.7097,
          37.6705,
          33.9332,
          32.798,
          32.7354,
          32.8,
          36.736,
          36.2118,
          38.6722,
          38.6812,
          38.8917,
          35.7065,
          35.075,
          34.7067,
          35.0917,
          38.6645,
          35.102,
          36.5065,
          40.8965,
          36.1682,
          40.6847,
          38.8207,
          39.2688,
          35.488,
          39.5768,
          34.86,
          35.0497,
          36.3868,
          40.9645,
          45.3533,
          36.5657,
          35.4378,
          39.5287,
          39.5443,
          39.5177,
          39.5227,
          38.7932,
          38.67,
          36.0655,
          38.723,
          38.8497,
          38.8542,
          36.962,
          37.0198,
          34.1567,
          39.1557,
          37.1412,
          34.8122,
          34.256,
          34.2377,
          37.5233,
          34.29,
          33.8425,
          36.7492,
          41.4755,
          34.3677,
          36.0875,
          36.012,
          39.626,
          37.4425,
          37.4898,
          38.3513,
          38.1943,
          35.1108,
          37.9012,
          34.2365,
          40.7475,
          40.8823,
          36.3147,
          35.5152,
          35.3738,
          38.3427,
          39.1045,
          35.164,
          38.3922,
          35.24,
          38.3553,
          35.1038,
          39.0577,
          39.106,
          38.4143,
          38.3578,
          38.27,
          38.3897,
          34.1502,
          34.2668,
          34.1563,
          34.122,
          34.1598,
          34.2157,
          38.4658,
          39.3552,
          36.7083,
          39.3353,
          38.2457,
          38.7885,
          38.1945,
          35.0137,
          38.0163,
          39.9533,
          37.8073,
          37.8917,
          37.8342,
          35.681,
          35.5952,
          37.9468,
          38.5088,
          35.9945,
          36.2405,
          34.8897,
          36.5012,
          39.1718,
          36.3563,
          33.7758,
          36.3752,
          36.3305,
          36.3828,
          35.2082,
          35.1293,
          35.0113,
          34.4782,
          40.8413,
          37.6612,
          37.8718,
          39.8053,
          34.8107,
          35.1003,
          35.1918,
          35.289,
          39.0475,
          40.0363,
          36.0663,
          35.1603,
          41.1763,
          38.1503,
          38.8018,
          37.5815,
          35.0497,
          40.8193,
          38.418,
          34.3552,
          35.835,
          40.8175,
          45.5443,
          38.3535,
          42.17,
          35.8503,
          38.3003,
          38.4913,
          39.3728,
          39.3647,
          37.9925,
          38.0445,
          37.9947,
          38.1788,
          38.2775,
          38.1487,
          38.0818,
          38.1825,
          38.0568,
          37.2465,
          37.9575,
          38.1555,
          38.0297,
          38.4542,
          38.0183,
          38.0372,
          38.0775,
          38.0648,
          38.8358,
          37.83,
          38.1403,
          38.0708,
          38.2535,
          36.0077,
          38.0187,
          37.8942,
          38.15,
          38.1005
         ],
         "legendgroup": "",
         "lon": [
          27.8038,
          29.6237,
          43.6793,
          29.6212,
          40.8497,
          40.891,
          40.7853,
          40.843,
          33.089,
          25.2675,
          26.5582,
          26.5268,
          26.6152,
          26.5818,
          38.814,
          40.8577,
          27.181,
          26.9398,
          27.9843,
          28.9947,
          39.0612,
          39.3212,
          41.0402,
          26.1525,
          26.9903,
          29.2325,
          25.6762,
          25.5777,
          33.0457,
          33.0902,
          24.7305,
          27.853,
          23.7208,
          38.5027,
          25.7602,
          26.1897,
          28.3895,
          25.2318,
          28.7405,
          31.4507,
          40.0998,
          40.066,
          40.1187,
          40.1433,
          40.1382,
          26.3332,
          42.6068,
          25.3965,
          26.6332,
          27.1078,
          29.0882,
          39.6195,
          27.7388,
          38.8423,
          43.5468,
          43.427,
          43.5952,
          43.4462,
          43.3003,
          43.0775,
          43.932,
          43.5577,
          43.087,
          43.2342,
          43.1578,
          26.2345,
          25.0455,
          25.1792,
          43.9468,
          22.5735,
          29.0918,
          34.1332,
          23.0912,
          27.921,
          28.9047,
          42.3248,
          28.9413,
          28.9858,
          42.9357,
          24.1078,
          37.1155,
          30.906,
          47.0928,
          41.0165,
          40.9522,
          25.4833,
          43.4402,
          24.1425,
          25.015,
          25.1382,
          25.7803,
          22.5712,
          45.6373,
          41.4258,
          23.2283,
          45.3755,
          31.2785,
          23.6807,
          25.9295,
          25.458,
          26.2398,
          28.4212,
          47.8498,
          47.858,
          47.7931,
          23.4982,
          47.8,
          47.6397,
          30.6183,
          45.1172,
          47.6583,
          47.6748,
          46.87,
          23.6692,
          30.9268,
          23.4262,
          23.4573,
          26.2603,
          26.6533,
          26.9095,
          32.3415,
          26.7982,
          23.4518,
          26.7337,
          35.0727,
          47.8302,
          29.8952,
          36.6897,
          37.8458,
          40.2195,
          27.3933,
          34.359,
          26.29,
          39.0992,
          27.5877,
          22.7455,
          26.5457,
          26.9275,
          26.4485,
          26.099,
          26.1068,
          26.116,
          26.1148,
          29.0535,
          27.58,
          27.4463,
          27.8303,
          26.26,
          26.4365,
          27.4053,
          27.6033,
          23.9122,
          24.2575,
          28.6097,
          45.4803,
          44.9928,
          45.5305,
          38.5022,
          45.78,
          46.5897,
          21.3862,
          46.824,
          25.5772,
          31.145,
          28.0917,
          26.4387,
          29.44,
          29.3933,
          39.1585,
          23.5992,
          27.801,
          29.595,
          26.2845,
          32.9705,
          28.2095,
          28.5437,
          23.008,
          26.5032,
          38.9853,
          27.8383,
          27.8722,
          39.0847,
          27.8698,
          39.1012,
          27.8682,
          27.839,
          27.8257,
          44.4925,
          44.5345,
          38.776,
          39.0925,
          25.5277,
          25.6977,
          25.7505,
          25.547,
          25.5772,
          25.5263,
          44.1668,
          40.7597,
          28.2475,
          40.7577,
          38.74,
          27.7937,
          38.727,
          25.294,
          34.0815,
          24.345,
          26.7305,
          26.7108,
          26.8578,
          26.2272,
          45.2815,
          41.6892,
          39.2165,
          31.8,
          41.089,
          33.7372,
          27.0728,
          40.2232,
          27.0483,
          39.7635,
          27.0002,
          26.9582,
          26.9755,
          25.2642,
          25.2252,
          26.3135,
          28.3707,
          31.031,
          25.9855,
          32.1197,
          41.916,
          25.1173,
          26.9293,
          26.9537,
          32.1068,
          35.9318,
          24.3413,
          31.2102,
          32.0237,
          43.9798,
          38.6062,
          43.6332,
          26.7897,
          26.4552,
          42.8227,
          44.981,
          26.2498,
          26.4292,
          30.9868,
          26.476,
          27.1907,
          46.3403,
          28.4935,
          45.336,
          44.8007,
          26.2807,
          26.2407,
          34.0147,
          36.2933,
          37.6197,
          37.9933,
          38.14,
          37.7812,
          37.1773,
          38.2932,
          36.5238,
          37.0335,
          36.4545,
          37.5443,
          36.4765,
          37.7935,
          37.6265,
          37.0667,
          36.6112,
          36.4788,
          38.0798,
          37.629,
          38.5188,
          37.0447,
          38.2932,
          36.131,
          36.482,
          37.6138,
          38.6052,
          36.6337
         ],
         "marker": {
          "color": "white"
         },
         "mode": "markers",
         "name": "",
         "showlegend": false,
         "subplot": "mapbox",
         "type": "scattermapbox"
        }
       ],
       "layout": {
        "height": 800,
        "legend": {
         "tracegroupgap": 0
        },
        "mapbox": {
         "center": {
          "lat": 37.48347412587411,
          "lon": 33.05566328671326
         },
         "domain": {
          "x": [
           0,
           1
          ],
          "y": [
           0,
           1
          ]
         },
         "layers": [
          {
           "below": "traces",
           "source": [
            "https://basemap.nationalmap.gov/arcgis/rest/services/USGSImageryOnly/MapServer/tile/{z}/{y}/{x}"
           ],
           "sourceattribution": "United States Geological Survey",
           "sourcetype": "raster"
          }
         ],
         "style": "white-bg",
         "zoom": 5
        },
        "margin": {
         "b": 0,
         "l": 0,
         "r": 0,
         "t": 0
        },
        "template": {
         "data": {
          "bar": [
           {
            "error_x": {
             "color": "#2a3f5f"
            },
            "error_y": {
             "color": "#2a3f5f"
            },
            "marker": {
             "line": {
              "color": "#E5ECF6",
              "width": 0.5
             },
             "pattern": {
              "fillmode": "overlay",
              "size": 10,
              "solidity": 0.2
             }
            },
            "type": "bar"
           }
          ],
          "barpolar": [
           {
            "marker": {
             "line": {
              "color": "#E5ECF6",
              "width": 0.5
             },
             "pattern": {
              "fillmode": "overlay",
              "size": 10,
              "solidity": 0.2
             }
            },
            "type": "barpolar"
           }
          ],
          "carpet": [
           {
            "aaxis": {
             "endlinecolor": "#2a3f5f",
             "gridcolor": "white",
             "linecolor": "white",
             "minorgridcolor": "white",
             "startlinecolor": "#2a3f5f"
            },
            "baxis": {
             "endlinecolor": "#2a3f5f",
             "gridcolor": "white",
             "linecolor": "white",
             "minorgridcolor": "white",
             "startlinecolor": "#2a3f5f"
            },
            "type": "carpet"
           }
          ],
          "choropleth": [
           {
            "colorbar": {
             "outlinewidth": 0,
             "ticks": ""
            },
            "type": "choropleth"
           }
          ],
          "contour": [
           {
            "colorbar": {
             "outlinewidth": 0,
             "ticks": ""
            },
            "colorscale": [
             [
              0,
              "#0d0887"
             ],
             [
              0.1111111111111111,
              "#46039f"
             ],
             [
              0.2222222222222222,
              "#7201a8"
             ],
             [
              0.3333333333333333,
              "#9c179e"
             ],
             [
              0.4444444444444444,
              "#bd3786"
             ],
             [
              0.5555555555555556,
              "#d8576b"
             ],
             [
              0.6666666666666666,
              "#ed7953"
             ],
             [
              0.7777777777777778,
              "#fb9f3a"
             ],
             [
              0.8888888888888888,
              "#fdca26"
             ],
             [
              1,
              "#f0f921"
             ]
            ],
            "type": "contour"
           }
          ],
          "contourcarpet": [
           {
            "colorbar": {
             "outlinewidth": 0,
             "ticks": ""
            },
            "type": "contourcarpet"
           }
          ],
          "heatmap": [
           {
            "colorbar": {
             "outlinewidth": 0,
             "ticks": ""
            },
            "colorscale": [
             [
              0,
              "#0d0887"
             ],
             [
              0.1111111111111111,
              "#46039f"
             ],
             [
              0.2222222222222222,
              "#7201a8"
             ],
             [
              0.3333333333333333,
              "#9c179e"
             ],
             [
              0.4444444444444444,
              "#bd3786"
             ],
             [
              0.5555555555555556,
              "#d8576b"
             ],
             [
              0.6666666666666666,
              "#ed7953"
             ],
             [
              0.7777777777777778,
              "#fb9f3a"
             ],
             [
              0.8888888888888888,
              "#fdca26"
             ],
             [
              1,
              "#f0f921"
             ]
            ],
            "type": "heatmap"
           }
          ],
          "heatmapgl": [
           {
            "colorbar": {
             "outlinewidth": 0,
             "ticks": ""
            },
            "colorscale": [
             [
              0,
              "#0d0887"
             ],
             [
              0.1111111111111111,
              "#46039f"
             ],
             [
              0.2222222222222222,
              "#7201a8"
             ],
             [
              0.3333333333333333,
              "#9c179e"
             ],
             [
              0.4444444444444444,
              "#bd3786"
             ],
             [
              0.5555555555555556,
              "#d8576b"
             ],
             [
              0.6666666666666666,
              "#ed7953"
             ],
             [
              0.7777777777777778,
              "#fb9f3a"
             ],
             [
              0.8888888888888888,
              "#fdca26"
             ],
             [
              1,
              "#f0f921"
             ]
            ],
            "type": "heatmapgl"
           }
          ],
          "histogram": [
           {
            "marker": {
             "pattern": {
              "fillmode": "overlay",
              "size": 10,
              "solidity": 0.2
             }
            },
            "type": "histogram"
           }
          ],
          "histogram2d": [
           {
            "colorbar": {
             "outlinewidth": 0,
             "ticks": ""
            },
            "colorscale": [
             [
              0,
              "#0d0887"
             ],
             [
              0.1111111111111111,
              "#46039f"
             ],
             [
              0.2222222222222222,
              "#7201a8"
             ],
             [
              0.3333333333333333,
              "#9c179e"
             ],
             [
              0.4444444444444444,
              "#bd3786"
             ],
             [
              0.5555555555555556,
              "#d8576b"
             ],
             [
              0.6666666666666666,
              "#ed7953"
             ],
             [
              0.7777777777777778,
              "#fb9f3a"
             ],
             [
              0.8888888888888888,
              "#fdca26"
             ],
             [
              1,
              "#f0f921"
             ]
            ],
            "type": "histogram2d"
           }
          ],
          "histogram2dcontour": [
           {
            "colorbar": {
             "outlinewidth": 0,
             "ticks": ""
            },
            "colorscale": [
             [
              0,
              "#0d0887"
             ],
             [
              0.1111111111111111,
              "#46039f"
             ],
             [
              0.2222222222222222,
              "#7201a8"
             ],
             [
              0.3333333333333333,
              "#9c179e"
             ],
             [
              0.4444444444444444,
              "#bd3786"
             ],
             [
              0.5555555555555556,
              "#d8576b"
             ],
             [
              0.6666666666666666,
              "#ed7953"
             ],
             [
              0.7777777777777778,
              "#fb9f3a"
             ],
             [
              0.8888888888888888,
              "#fdca26"
             ],
             [
              1,
              "#f0f921"
             ]
            ],
            "type": "histogram2dcontour"
           }
          ],
          "mesh3d": [
           {
            "colorbar": {
             "outlinewidth": 0,
             "ticks": ""
            },
            "type": "mesh3d"
           }
          ],
          "parcoords": [
           {
            "line": {
             "colorbar": {
              "outlinewidth": 0,
              "ticks": ""
             }
            },
            "type": "parcoords"
           }
          ],
          "pie": [
           {
            "automargin": true,
            "type": "pie"
           }
          ],
          "scatter": [
           {
            "marker": {
             "colorbar": {
              "outlinewidth": 0,
              "ticks": ""
             }
            },
            "type": "scatter"
           }
          ],
          "scatter3d": [
           {
            "line": {
             "colorbar": {
              "outlinewidth": 0,
              "ticks": ""
             }
            },
            "marker": {
             "colorbar": {
              "outlinewidth": 0,
              "ticks": ""
             }
            },
            "type": "scatter3d"
           }
          ],
          "scattercarpet": [
           {
            "marker": {
             "colorbar": {
              "outlinewidth": 0,
              "ticks": ""
             }
            },
            "type": "scattercarpet"
           }
          ],
          "scattergeo": [
           {
            "marker": {
             "colorbar": {
              "outlinewidth": 0,
              "ticks": ""
             }
            },
            "type": "scattergeo"
           }
          ],
          "scattergl": [
           {
            "marker": {
             "colorbar": {
              "outlinewidth": 0,
              "ticks": ""
             }
            },
            "type": "scattergl"
           }
          ],
          "scattermapbox": [
           {
            "marker": {
             "colorbar": {
              "outlinewidth": 0,
              "ticks": ""
             }
            },
            "type": "scattermapbox"
           }
          ],
          "scatterpolar": [
           {
            "marker": {
             "colorbar": {
              "outlinewidth": 0,
              "ticks": ""
             }
            },
            "type": "scatterpolar"
           }
          ],
          "scatterpolargl": [
           {
            "marker": {
             "colorbar": {
              "outlinewidth": 0,
              "ticks": ""
             }
            },
            "type": "scatterpolargl"
           }
          ],
          "scatterternary": [
           {
            "marker": {
             "colorbar": {
              "outlinewidth": 0,
              "ticks": ""
             }
            },
            "type": "scatterternary"
           }
          ],
          "surface": [
           {
            "colorbar": {
             "outlinewidth": 0,
             "ticks": ""
            },
            "colorscale": [
             [
              0,
              "#0d0887"
             ],
             [
              0.1111111111111111,
              "#46039f"
             ],
             [
              0.2222222222222222,
              "#7201a8"
             ],
             [
              0.3333333333333333,
              "#9c179e"
             ],
             [
              0.4444444444444444,
              "#bd3786"
             ],
             [
              0.5555555555555556,
              "#d8576b"
             ],
             [
              0.6666666666666666,
              "#ed7953"
             ],
             [
              0.7777777777777778,
              "#fb9f3a"
             ],
             [
              0.8888888888888888,
              "#fdca26"
             ],
             [
              1,
              "#f0f921"
             ]
            ],
            "type": "surface"
           }
          ],
          "table": [
           {
            "cells": {
             "fill": {
              "color": "#EBF0F8"
             },
             "line": {
              "color": "white"
             }
            },
            "header": {
             "fill": {
              "color": "#C8D4E3"
             },
             "line": {
              "color": "white"
             }
            },
            "type": "table"
           }
          ]
         },
         "layout": {
          "annotationdefaults": {
           "arrowcolor": "#2a3f5f",
           "arrowhead": 0,
           "arrowwidth": 1
          },
          "autotypenumbers": "strict",
          "coloraxis": {
           "colorbar": {
            "outlinewidth": 0,
            "ticks": ""
           }
          },
          "colorscale": {
           "diverging": [
            [
             0,
             "#8e0152"
            ],
            [
             0.1,
             "#c51b7d"
            ],
            [
             0.2,
             "#de77ae"
            ],
            [
             0.3,
             "#f1b6da"
            ],
            [
             0.4,
             "#fde0ef"
            ],
            [
             0.5,
             "#f7f7f7"
            ],
            [
             0.6,
             "#e6f5d0"
            ],
            [
             0.7,
             "#b8e186"
            ],
            [
             0.8,
             "#7fbc41"
            ],
            [
             0.9,
             "#4d9221"
            ],
            [
             1,
             "#276419"
            ]
           ],
           "sequential": [
            [
             0,
             "#0d0887"
            ],
            [
             0.1111111111111111,
             "#46039f"
            ],
            [
             0.2222222222222222,
             "#7201a8"
            ],
            [
             0.3333333333333333,
             "#9c179e"
            ],
            [
             0.4444444444444444,
             "#bd3786"
            ],
            [
             0.5555555555555556,
             "#d8576b"
            ],
            [
             0.6666666666666666,
             "#ed7953"
            ],
            [
             0.7777777777777778,
             "#fb9f3a"
            ],
            [
             0.8888888888888888,
             "#fdca26"
            ],
            [
             1,
             "#f0f921"
            ]
           ],
           "sequentialminus": [
            [
             0,
             "#0d0887"
            ],
            [
             0.1111111111111111,
             "#46039f"
            ],
            [
             0.2222222222222222,
             "#7201a8"
            ],
            [
             0.3333333333333333,
             "#9c179e"
            ],
            [
             0.4444444444444444,
             "#bd3786"
            ],
            [
             0.5555555555555556,
             "#d8576b"
            ],
            [
             0.6666666666666666,
             "#ed7953"
            ],
            [
             0.7777777777777778,
             "#fb9f3a"
            ],
            [
             0.8888888888888888,
             "#fdca26"
            ],
            [
             1,
             "#f0f921"
            ]
           ]
          },
          "colorway": [
           "#636efa",
           "#EF553B",
           "#00cc96",
           "#ab63fa",
           "#FFA15A",
           "#19d3f3",
           "#FF6692",
           "#B6E880",
           "#FF97FF",
           "#FECB52"
          ],
          "font": {
           "color": "#2a3f5f"
          },
          "geo": {
           "bgcolor": "white",
           "lakecolor": "white",
           "landcolor": "#E5ECF6",
           "showlakes": true,
           "showland": true,
           "subunitcolor": "white"
          },
          "hoverlabel": {
           "align": "left"
          },
          "hovermode": "closest",
          "mapbox": {
           "style": "light"
          },
          "paper_bgcolor": "white",
          "plot_bgcolor": "#E5ECF6",
          "polar": {
           "angularaxis": {
            "gridcolor": "white",
            "linecolor": "white",
            "ticks": ""
           },
           "bgcolor": "#E5ECF6",
           "radialaxis": {
            "gridcolor": "white",
            "linecolor": "white",
            "ticks": ""
           }
          },
          "scene": {
           "xaxis": {
            "backgroundcolor": "#E5ECF6",
            "gridcolor": "white",
            "gridwidth": 2,
            "linecolor": "white",
            "showbackground": true,
            "ticks": "",
            "zerolinecolor": "white"
           },
           "yaxis": {
            "backgroundcolor": "#E5ECF6",
            "gridcolor": "white",
            "gridwidth": 2,
            "linecolor": "white",
            "showbackground": true,
            "ticks": "",
            "zerolinecolor": "white"
           },
           "zaxis": {
            "backgroundcolor": "#E5ECF6",
            "gridcolor": "white",
            "gridwidth": 2,
            "linecolor": "white",
            "showbackground": true,
            "ticks": "",
            "zerolinecolor": "white"
           }
          },
          "shapedefaults": {
           "line": {
            "color": "#2a3f5f"
           }
          },
          "ternary": {
           "aaxis": {
            "gridcolor": "white",
            "linecolor": "white",
            "ticks": ""
           },
           "baxis": {
            "gridcolor": "white",
            "linecolor": "white",
            "ticks": ""
           },
           "bgcolor": "#E5ECF6",
           "caxis": {
            "gridcolor": "white",
            "linecolor": "white",
            "ticks": ""
           }
          },
          "title": {
           "x": 0.05
          },
          "xaxis": {
           "automargin": true,
           "gridcolor": "white",
           "linecolor": "white",
           "ticks": "",
           "title": {
            "standoff": 15
           },
           "zerolinecolor": "white",
           "zerolinewidth": 2
          },
          "yaxis": {
           "automargin": true,
           "gridcolor": "white",
           "linecolor": "white",
           "ticks": "",
           "title": {
            "standoff": 15
           },
           "zerolinecolor": "white",
           "zerolinewidth": 2
          }
         }
        }
       }
      }
     },
     "metadata": {},
     "output_type": "display_data"
    }
   ],
   "source": [
    "fig = px.scatter_mapbox(mag_, lat=\"LAT\", lon=\"LNG\", hover_name=\"LOCATION_\", hover_data=[\"DEPTH\", \"MAG\",\"Date\"],\n",
    "                        color_discrete_sequence=[\"white\"], zoom=5, height=800)\n",
    "fig.update_layout(\n",
    "    mapbox_style=\"white-bg\",\n",
    "    mapbox_layers=[\n",
    "        {\n",
    "            \"below\": 'traces',\n",
    "            \"sourcetype\": \"raster\",\n",
    "            \"sourceattribution\": \"United States Geological Survey\",\n",
    "            \"source\": [\n",
    "                \"https://basemap.nationalmap.gov/arcgis/rest/services/USGSImageryOnly/MapServer/tile/{z}/{y}/{x}\"\n",
    "            ]\n",
    "        }\n",
    "      ])\n",
    "fig.update_layout(margin={\"r\":0,\"t\":0,\"l\":0,\"b\":0})\n",
    "fig.show()"
   ]
  },
  {
   "cell_type": "code",
   "execution_count": 172,
   "metadata": {},
   "outputs": [
    {
     "data": {
      "image/png": "[encoded data removed]",
      "text/plain": [
       "<Figure size 432x288 with 1 Axes>"
      ]
     },
     "metadata": {
      "needs_background": "light"
     },
     "output_type": "display_data"
    }
   ],
   "source": [
    "mag_ = df[df['MAG'] > 5]\n",
    "\n",
    "deprem_sayisi = mag_['year'].value_counts().sort_index()\n",
    "\n",
    "# Çizgi grafiği oluşturma\n",
    "plt.plot(deprem_sayisi.index, deprem_sayisi.values, marker='o')\n",
    "plt.xlabel('Yıl')\n",
    "plt.ylabel('Deprem Sayısı')\n",
    "plt.title('Yıl İçinde Gerçekleşen Deprem Sayısı')\n",
    "plt.show()"
   ]
  },
  {
   "cell_type": "code",
   "execution_count": 173,
   "metadata": {},
   "outputs": [
    {
     "data": {
      "text/plain": [
       "2005    16\n",
       "2006     4\n",
       "2007    10\n",
       "2008     5\n",
       "2009     5\n",
       "2010     6\n",
       "2011    20\n",
       "2012    19\n",
       "2013    12\n",
       "2014    21\n",
       "2015    13\n",
       "2016     7\n",
       "2017    19\n",
       "2018     7\n",
       "2019    15\n",
       "2020    36\n",
       "2021    20\n",
       "2022    18\n",
       "2023    33\n",
       "Name: year, dtype: int64"
      ]
     },
     "execution_count": 173,
     "metadata": {},
     "output_type": "execute_result"
    }
   ],
   "source": [
    "deprem_sayisi"
   ]
  },
  {
   "cell_type": "code",
   "execution_count": 174,
   "metadata": {},
   "outputs": [],
   "source": [
    "from sklearn.preprocessing import MinMaxScaler\n",
    "from tensorflow.keras.models import Sequential\n",
    "from tensorflow.keras.layers import LSTM, Dense\n",
    "import tensorflow as tf"
   ]
  },
  {
   "cell_type": "code",
   "execution_count": 175,
   "metadata": {},
   "outputs": [
    {
     "data": {
      "text/plain": [
       "array([16.,  4., 10.,  5.,  5.,  6., 20., 19., 12., 21., 13.,  7., 19.,\n",
       "        7., 15., 36., 20., 18., 33.], dtype=float32)"
      ]
     },
     "execution_count": 175,
     "metadata": {},
     "output_type": "execute_result"
    }
   ],
   "source": [
    "deprem_sayisi = mag_.groupby('year').size()\n",
    "deprem_sayisi = deprem_sayisi.values.astype('float32')\n",
    "deprem_sayisi"
   ]
  },
  {
   "cell_type": "code",
   "execution_count": 176,
   "metadata": {},
   "outputs": [],
   "source": [
    "# Veriyi ölçeklendirin\n",
    "scaler = MinMaxScaler(feature_range=(0, 1))\n",
    "deprem_sayisi = scaler.fit_transform(deprem_sayisi.reshape(-1, 1))"
   ]
  },
  {
   "cell_type": "code",
   "execution_count": 177,
   "metadata": {},
   "outputs": [],
   "source": [
    "# Eğitim ve test veri setlerini ayırın\n",
    "train_size = int(len(deprem_sayisi) * 0.8)\n",
    "test_size = len(deprem_sayisi) - train_size\n",
    "train, test = deprem_sayisi[0:train_size, :], deprem_sayisi[train_size:len(deprem_sayisi), :]"
   ]
  },
  {
   "cell_type": "code",
   "execution_count": 178,
   "metadata": {},
   "outputs": [],
   "source": [
    "# Veriyi LSTM modeli için uygun hale getirin\n",
    "def create_dataset(dataset, look_back=1):\n",
    "    dataX, dataY = [], []\n",
    "    for i in range(len(dataset) - look_back - 1):\n",
    "        a = dataset[i:(i + look_back), 0]\n",
    "        dataX.append(a)\n",
    "        dataY.append(dataset[i + look_back, 0])\n",
    "    return np.array(dataX), np.array(dataY)"
   ]
  },
  {
   "cell_type": "code",
   "execution_count": 179,
   "metadata": {},
   "outputs": [],
   "source": [
    "look_back = 1"
   ]
  },
  {
   "cell_type": "code",
   "execution_count": 180,
   "metadata": {},
   "outputs": [],
   "source": [
    "trainX, trainY = create_dataset(train, look_back)"
   ]
  },
  {
   "cell_type": "code",
   "execution_count": 181,
   "metadata": {},
   "outputs": [],
   "source": [
    "testX, testY = create_dataset(test, look_back)"
   ]
  },
  {
   "cell_type": "code",
   "execution_count": 182,
   "metadata": {},
   "outputs": [
    {
     "name": "stdout",
     "output_type": "stream",
     "text": [
      "Epoch 1/1000\n",
      "13/13 - 6s - loss: 0.1215 - 6s/epoch - 461ms/step\n",
      "Epoch 2/1000\n",
      "13/13 - 0s - loss: 0.1103 - 56ms/epoch - 4ms/step\n",
      "Epoch 3/1000\n",
      "13/13 - 0s - loss: 0.1019 - 80ms/epoch - 6ms/step\n",
      "Epoch 4/1000\n",
      "13/13 - 0s - loss: 0.0936 - 70ms/epoch - 5ms/step\n",
      "Epoch 5/1000\n",
      "13/13 - 0s - loss: 0.0860 - 45ms/epoch - 3ms/step\n",
      "Epoch 6/1000\n",
      "13/13 - 0s - loss: 0.0805 - 48ms/epoch - 4ms/step\n",
      "Epoch 7/1000\n",
      "13/13 - 0s - loss: 0.0743 - 43ms/epoch - 3ms/step\n",
      "Epoch 8/1000\n",
      "13/13 - 0s - loss: 0.0700 - 52ms/epoch - 4ms/step\n",
      "Epoch 9/1000\n",
      "13/13 - 0s - loss: 0.0656 - 47ms/epoch - 4ms/step\n",
      "Epoch 10/1000\n",
      "13/13 - 0s - loss: 0.0620 - 42ms/epoch - 3ms/step\n",
      "Epoch 11/1000\n",
      "13/13 - 0s - loss: 0.0597 - 43ms/epoch - 3ms/step\n",
      "Epoch 12/1000\n",
      "13/13 - 0s - loss: 0.0558 - 54ms/epoch - 4ms/step\n",
      "Epoch 13/1000\n",
      "13/13 - 0s - loss: 0.0535 - 45ms/epoch - 3ms/step\n",
      "Epoch 14/1000\n",
      "13/13 - 0s - loss: 0.0514 - 50ms/epoch - 4ms/step\n",
      "Epoch 15/1000\n",
      "13/13 - 0s - loss: 0.0494 - 46ms/epoch - 4ms/step\n",
      "Epoch 16/1000\n",
      "13/13 - 0s - loss: 0.0485 - 71ms/epoch - 5ms/step\n",
      "Epoch 17/1000\n",
      "13/13 - 0s - loss: 0.0463 - 45ms/epoch - 3ms/step\n",
      "Epoch 18/1000\n",
      "13/13 - 0s - loss: 0.0451 - 40ms/epoch - 3ms/step\n",
      "Epoch 19/1000\n",
      "13/13 - 0s - loss: 0.0442 - 48ms/epoch - 4ms/step\n",
      "Epoch 20/1000\n",
      "13/13 - 0s - loss: 0.0436 - 41ms/epoch - 3ms/step\n",
      "Epoch 21/1000\n",
      "13/13 - 0s - loss: 0.0425 - 59ms/epoch - 5ms/step\n",
      "Epoch 22/1000\n",
      "13/13 - 0s - loss: 0.0417 - 49ms/epoch - 4ms/step\n",
      "Epoch 23/1000\n",
      "13/13 - 0s - loss: 0.0411 - 44ms/epoch - 3ms/step\n",
      "Epoch 24/1000\n",
      "13/13 - 0s - loss: 0.0406 - 54ms/epoch - 4ms/step\n",
      "Epoch 25/1000\n",
      "13/13 - 0s - loss: 0.0404 - 46ms/epoch - 4ms/step\n",
      "Epoch 26/1000\n",
      "13/13 - 0s - loss: 0.0399 - 47ms/epoch - 4ms/step\n",
      "Epoch 27/1000\n",
      "13/13 - 0s - loss: 0.0396 - 43ms/epoch - 3ms/step\n",
      "Epoch 28/1000\n",
      "13/13 - 0s - loss: 0.0394 - 49ms/epoch - 4ms/step\n",
      "Epoch 29/1000\n",
      "13/13 - 0s - loss: 0.0391 - 42ms/epoch - 3ms/step\n",
      "Epoch 30/1000\n",
      "13/13 - 0s - loss: 0.0390 - 39ms/epoch - 3ms/step\n",
      "Epoch 31/1000\n",
      "13/13 - 0s - loss: 0.0388 - 43ms/epoch - 3ms/step\n",
      "Epoch 32/1000\n",
      "13/13 - 0s - loss: 0.0387 - 46ms/epoch - 4ms/step\n",
      "Epoch 33/1000\n",
      "13/13 - 0s - loss: 0.0385 - 40ms/epoch - 3ms/step\n",
      "Epoch 34/1000\n",
      "13/13 - 0s - loss: 0.0385 - 41ms/epoch - 3ms/step\n",
      "Epoch 35/1000\n",
      "13/13 - 0s - loss: 0.0384 - 51ms/epoch - 4ms/step\n",
      "Epoch 36/1000\n",
      "13/13 - 0s - loss: 0.0384 - 41ms/epoch - 3ms/step\n",
      "Epoch 37/1000\n",
      "13/13 - 0s - loss: 0.0383 - 35ms/epoch - 3ms/step\n",
      "Epoch 38/1000\n",
      "13/13 - 0s - loss: 0.0382 - 44ms/epoch - 3ms/step\n",
      "Epoch 39/1000\n",
      "13/13 - 0s - loss: 0.0382 - 47ms/epoch - 4ms/step\n",
      "Epoch 40/1000\n",
      "13/13 - 0s - loss: 0.0381 - 46ms/epoch - 4ms/step\n",
      "Epoch 41/1000\n",
      "13/13 - 0s - loss: 0.0382 - 49ms/epoch - 4ms/step\n",
      "Epoch 42/1000\n",
      "13/13 - 0s - loss: 0.0382 - 43ms/epoch - 3ms/step\n",
      "Epoch 43/1000\n",
      "13/13 - 0s - loss: 0.0380 - 49ms/epoch - 4ms/step\n",
      "Epoch 44/1000\n",
      "13/13 - 0s - loss: 0.0380 - 58ms/epoch - 4ms/step\n",
      "Epoch 45/1000\n",
      "13/13 - 0s - loss: 0.0381 - 68ms/epoch - 5ms/step\n",
      "Epoch 46/1000\n",
      "13/13 - 0s - loss: 0.0380 - 72ms/epoch - 6ms/step\n",
      "Epoch 47/1000\n",
      "13/13 - 0s - loss: 0.0380 - 55ms/epoch - 4ms/step\n",
      "Epoch 48/1000\n",
      "13/13 - 0s - loss: 0.0379 - 45ms/epoch - 3ms/step\n",
      "Epoch 49/1000\n",
      "13/13 - 0s - loss: 0.0379 - 51ms/epoch - 4ms/step\n",
      "Epoch 50/1000\n",
      "13/13 - 0s - loss: 0.0380 - 40ms/epoch - 3ms/step\n",
      "Epoch 51/1000\n",
      "13/13 - 0s - loss: 0.0379 - 32ms/epoch - 2ms/step\n",
      "Epoch 52/1000\n",
      "13/13 - 0s - loss: 0.0383 - 41ms/epoch - 3ms/step\n",
      "Epoch 53/1000\n",
      "13/13 - 0s - loss: 0.0380 - 43ms/epoch - 3ms/step\n",
      "Epoch 54/1000\n",
      "13/13 - 0s - loss: 0.0379 - 43ms/epoch - 3ms/step\n",
      "Epoch 55/1000\n",
      "13/13 - 0s - loss: 0.0379 - 34ms/epoch - 3ms/step\n",
      "Epoch 56/1000\n",
      "13/13 - 0s - loss: 0.0379 - 48ms/epoch - 4ms/step\n",
      "Epoch 57/1000\n",
      "13/13 - 0s - loss: 0.0379 - 45ms/epoch - 3ms/step\n",
      "Epoch 58/1000\n",
      "13/13 - 0s - loss: 0.0379 - 48ms/epoch - 4ms/step\n",
      "Epoch 59/1000\n",
      "13/13 - 0s - loss: 0.0378 - 38ms/epoch - 3ms/step\n",
      "Epoch 60/1000\n",
      "13/13 - 0s - loss: 0.0378 - 53ms/epoch - 4ms/step\n",
      "Epoch 61/1000\n",
      "13/13 - 0s - loss: 0.0378 - 44ms/epoch - 3ms/step\n",
      "Epoch 62/1000\n",
      "13/13 - 0s - loss: 0.0378 - 36ms/epoch - 3ms/step\n",
      "Epoch 63/1000\n",
      "13/13 - 0s - loss: 0.0377 - 44ms/epoch - 3ms/step\n",
      "Epoch 64/1000\n",
      "13/13 - 0s - loss: 0.0378 - 47ms/epoch - 4ms/step\n",
      "Epoch 65/1000\n",
      "13/13 - 0s - loss: 0.0381 - 46ms/epoch - 4ms/step\n",
      "Epoch 66/1000\n",
      "13/13 - 0s - loss: 0.0377 - 40ms/epoch - 3ms/step\n",
      "Epoch 67/1000\n",
      "13/13 - 0s - loss: 0.0378 - 41ms/epoch - 3ms/step\n",
      "Epoch 68/1000\n",
      "13/13 - 0s - loss: 0.0379 - 46ms/epoch - 4ms/step\n",
      "Epoch 69/1000\n",
      "13/13 - 0s - loss: 0.0376 - 47ms/epoch - 4ms/step\n",
      "Epoch 70/1000\n",
      "13/13 - 0s - loss: 0.0377 - 44ms/epoch - 3ms/step\n",
      "Epoch 71/1000\n",
      "13/13 - 0s - loss: 0.0377 - 36ms/epoch - 3ms/step\n",
      "Epoch 72/1000\n",
      "13/13 - 0s - loss: 0.0378 - 41ms/epoch - 3ms/step\n",
      "Epoch 73/1000\n",
      "13/13 - 0s - loss: 0.0377 - 50ms/epoch - 4ms/step\n",
      "Epoch 74/1000\n",
      "13/13 - 0s - loss: 0.0377 - 36ms/epoch - 3ms/step\n",
      "Epoch 75/1000\n",
      "13/13 - 0s - loss: 0.0377 - 36ms/epoch - 3ms/step\n",
      "Epoch 76/1000\n",
      "13/13 - 0s - loss: 0.0376 - 72ms/epoch - 6ms/step\n",
      "Epoch 77/1000\n",
      "13/13 - 0s - loss: 0.0377 - 50ms/epoch - 4ms/step\n",
      "Epoch 78/1000\n",
      "13/13 - 0s - loss: 0.0377 - 43ms/epoch - 3ms/step\n",
      "Epoch 79/1000\n",
      "13/13 - 0s - loss: 0.0376 - 50ms/epoch - 4ms/step\n",
      "Epoch 80/1000\n",
      "13/13 - 0s - loss: 0.0378 - 44ms/epoch - 3ms/step\n",
      "Epoch 81/1000\n",
      "13/13 - 0s - loss: 0.0375 - 45ms/epoch - 3ms/step\n",
      "Epoch 82/1000\n",
      "13/13 - 0s - loss: 0.0376 - 44ms/epoch - 3ms/step\n",
      "Epoch 83/1000\n",
      "13/13 - 0s - loss: 0.0377 - 44ms/epoch - 3ms/step\n",
      "Epoch 84/1000\n",
      "13/13 - 0s - loss: 0.0376 - 46ms/epoch - 4ms/step\n",
      "Epoch 85/1000\n",
      "13/13 - 0s - loss: 0.0377 - 42ms/epoch - 3ms/step\n",
      "Epoch 86/1000\n",
      "13/13 - 0s - loss: 0.0375 - 40ms/epoch - 3ms/step\n",
      "Epoch 87/1000\n",
      "13/13 - 0s - loss: 0.0375 - 46ms/epoch - 4ms/step\n",
      "Epoch 88/1000\n",
      "13/13 - 0s - loss: 0.0376 - 43ms/epoch - 3ms/step\n",
      "Epoch 89/1000\n",
      "13/13 - 0s - loss: 0.0376 - 41ms/epoch - 3ms/step\n",
      "Epoch 90/1000\n",
      "13/13 - 0s - loss: 0.0375 - 41ms/epoch - 3ms/step\n",
      "Epoch 91/1000\n",
      "13/13 - 0s - loss: 0.0376 - 45ms/epoch - 3ms/step\n",
      "Epoch 92/1000\n",
      "13/13 - 0s - loss: 0.0375 - 53ms/epoch - 4ms/step\n",
      "Epoch 93/1000\n",
      "13/13 - 0s - loss: 0.0375 - 42ms/epoch - 3ms/step\n",
      "Epoch 94/1000\n",
      "13/13 - 0s - loss: 0.0375 - 38ms/epoch - 3ms/step\n",
      "Epoch 95/1000\n",
      "13/13 - 0s - loss: 0.0375 - 45ms/epoch - 3ms/step\n",
      "Epoch 96/1000\n",
      "13/13 - 0s - loss: 0.0375 - 45ms/epoch - 3ms/step\n",
      "Epoch 97/1000\n",
      "13/13 - 0s - loss: 0.0375 - 45ms/epoch - 3ms/step\n",
      "Epoch 98/1000\n",
      "13/13 - 0s - loss: 0.0375 - 39ms/epoch - 3ms/step\n",
      "Epoch 99/1000\n",
      "13/13 - 0s - loss: 0.0375 - 43ms/epoch - 3ms/step\n",
      "Epoch 100/1000\n",
      "13/13 - 0s - loss: 0.0374 - 39ms/epoch - 3ms/step\n",
      "Epoch 101/1000\n",
      "13/13 - 0s - loss: 0.0374 - 31ms/epoch - 2ms/step\n",
      "Epoch 102/1000\n",
      "13/13 - 0s - loss: 0.0375 - 40ms/epoch - 3ms/step\n",
      "Epoch 103/1000\n",
      "13/13 - 0s - loss: 0.0374 - 40ms/epoch - 3ms/step\n",
      "Epoch 104/1000\n",
      "13/13 - 0s - loss: 0.0375 - 38ms/epoch - 3ms/step\n",
      "Epoch 105/1000\n",
      "13/13 - 0s - loss: 0.0375 - 45ms/epoch - 3ms/step\n",
      "Epoch 106/1000\n",
      "13/13 - 0s - loss: 0.0374 - 39ms/epoch - 3ms/step\n",
      "Epoch 107/1000\n",
      "13/13 - 0s - loss: 0.0374 - 51ms/epoch - 4ms/step\n",
      "Epoch 108/1000\n",
      "13/13 - 0s - loss: 0.0374 - 45ms/epoch - 3ms/step\n",
      "Epoch 109/1000\n",
      "13/13 - 0s - loss: 0.0374 - 48ms/epoch - 4ms/step\n",
      "Epoch 110/1000\n",
      "13/13 - 0s - loss: 0.0374 - 45ms/epoch - 3ms/step\n",
      "Epoch 111/1000\n",
      "13/13 - 0s - loss: 0.0374 - 50ms/epoch - 4ms/step\n",
      "Epoch 112/1000\n",
      "13/13 - 0s - loss: 0.0374 - 48ms/epoch - 4ms/step\n",
      "Epoch 113/1000\n",
      "13/13 - 0s - loss: 0.0373 - 61ms/epoch - 5ms/step\n",
      "Epoch 114/1000\n",
      "13/13 - 0s - loss: 0.0375 - 58ms/epoch - 4ms/step\n",
      "Epoch 115/1000\n",
      "13/13 - 0s - loss: 0.0375 - 60ms/epoch - 5ms/step\n",
      "Epoch 116/1000\n",
      "13/13 - 0s - loss: 0.0373 - 61ms/epoch - 5ms/step\n",
      "Epoch 117/1000\n",
      "13/13 - 0s - loss: 0.0373 - 48ms/epoch - 4ms/step\n",
      "Epoch 118/1000\n",
      "13/13 - 0s - loss: 0.0374 - 46ms/epoch - 4ms/step\n",
      "Epoch 119/1000\n",
      "13/13 - 0s - loss: 0.0374 - 41ms/epoch - 3ms/step\n",
      "Epoch 120/1000\n",
      "13/13 - 0s - loss: 0.0374 - 42ms/epoch - 3ms/step\n",
      "Epoch 121/1000\n",
      "13/13 - 0s - loss: 0.0374 - 57ms/epoch - 4ms/step\n",
      "Epoch 122/1000\n",
      "13/13 - 0s - loss: 0.0374 - 46ms/epoch - 4ms/step\n",
      "Epoch 123/1000\n",
      "13/13 - 0s - loss: 0.0375 - 44ms/epoch - 3ms/step\n",
      "Epoch 124/1000\n",
      "13/13 - 0s - loss: 0.0375 - 39ms/epoch - 3ms/step\n",
      "Epoch 125/1000\n",
      "13/13 - 0s - loss: 0.0375 - 38ms/epoch - 3ms/step\n",
      "Epoch 126/1000\n",
      "13/13 - 0s - loss: 0.0374 - 37ms/epoch - 3ms/step\n",
      "Epoch 127/1000\n",
      "13/13 - 0s - loss: 0.0373 - 37ms/epoch - 3ms/step\n",
      "Epoch 128/1000\n",
      "13/13 - 0s - loss: 0.0373 - 41ms/epoch - 3ms/step\n",
      "Epoch 129/1000\n",
      "13/13 - 0s - loss: 0.0373 - 41ms/epoch - 3ms/step\n",
      "Epoch 130/1000\n",
      "13/13 - 0s - loss: 0.0374 - 42ms/epoch - 3ms/step\n",
      "Epoch 131/1000\n",
      "13/13 - 0s - loss: 0.0373 - 44ms/epoch - 3ms/step\n",
      "Epoch 132/1000\n",
      "13/13 - 0s - loss: 0.0373 - 37ms/epoch - 3ms/step\n",
      "Epoch 133/1000\n",
      "13/13 - 0s - loss: 0.0374 - 39ms/epoch - 3ms/step\n",
      "Epoch 134/1000\n",
      "13/13 - 0s - loss: 0.0372 - 57ms/epoch - 4ms/step\n",
      "Epoch 135/1000\n",
      "13/13 - 0s - loss: 0.0377 - 44ms/epoch - 3ms/step\n",
      "Epoch 136/1000\n",
      "13/13 - 0s - loss: 0.0372 - 48ms/epoch - 4ms/step\n",
      "Epoch 137/1000\n",
      "13/13 - 0s - loss: 0.0373 - 60ms/epoch - 5ms/step\n",
      "Epoch 138/1000\n",
      "13/13 - 0s - loss: 0.0372 - 59ms/epoch - 5ms/step\n",
      "Epoch 139/1000\n",
      "13/13 - 0s - loss: 0.0374 - 47ms/epoch - 4ms/step\n",
      "Epoch 140/1000\n",
      "13/13 - 0s - loss: 0.0372 - 49ms/epoch - 4ms/step\n",
      "Epoch 141/1000\n",
      "13/13 - 0s - loss: 0.0372 - 47ms/epoch - 4ms/step\n",
      "Epoch 142/1000\n",
      "13/13 - 0s - loss: 0.0373 - 54ms/epoch - 4ms/step\n",
      "Epoch 143/1000\n",
      "13/13 - 0s - loss: 0.0372 - 50ms/epoch - 4ms/step\n",
      "Epoch 144/1000\n",
      "13/13 - 0s - loss: 0.0372 - 46ms/epoch - 4ms/step\n",
      "Epoch 145/1000\n",
      "13/13 - 0s - loss: 0.0374 - 52ms/epoch - 4ms/step\n",
      "Epoch 146/1000\n",
      "13/13 - 0s - loss: 0.0375 - 75ms/epoch - 6ms/step\n",
      "Epoch 147/1000\n",
      "13/13 - 0s - loss: 0.0372 - 43ms/epoch - 3ms/step\n",
      "Epoch 148/1000\n",
      "13/13 - 0s - loss: 0.0372 - 55ms/epoch - 4ms/step\n",
      "Epoch 149/1000\n",
      "13/13 - 0s - loss: 0.0372 - 55ms/epoch - 4ms/step\n",
      "Epoch 150/1000\n",
      "13/13 - 0s - loss: 0.0372 - 45ms/epoch - 3ms/step\n",
      "Epoch 151/1000\n",
      "13/13 - 0s - loss: 0.0373 - 43ms/epoch - 3ms/step\n",
      "Epoch 152/1000\n",
      "13/13 - 0s - loss: 0.0373 - 44ms/epoch - 3ms/step\n",
      "Epoch 153/1000\n",
      "13/13 - 0s - loss: 0.0374 - 45ms/epoch - 3ms/step\n",
      "Epoch 154/1000\n",
      "13/13 - 0s - loss: 0.0373 - 78ms/epoch - 6ms/step\n",
      "Epoch 155/1000\n",
      "13/13 - 0s - loss: 0.0371 - 50ms/epoch - 4ms/step\n",
      "Epoch 156/1000\n",
      "13/13 - 0s - loss: 0.0372 - 45ms/epoch - 3ms/step\n",
      "Epoch 157/1000\n",
      "13/13 - 0s - loss: 0.0372 - 40ms/epoch - 3ms/step\n",
      "Epoch 158/1000\n",
      "13/13 - 0s - loss: 0.0372 - 49ms/epoch - 4ms/step\n",
      "Epoch 159/1000\n",
      "13/13 - 0s - loss: 0.0373 - 42ms/epoch - 3ms/step\n",
      "Epoch 160/1000\n",
      "13/13 - 0s - loss: 0.0371 - 38ms/epoch - 3ms/step\n",
      "Epoch 161/1000\n",
      "13/13 - 0s - loss: 0.0372 - 40ms/epoch - 3ms/step\n",
      "Epoch 162/1000\n",
      "13/13 - 0s - loss: 0.0371 - 37ms/epoch - 3ms/step\n",
      "Epoch 163/1000\n",
      "13/13 - 0s - loss: 0.0371 - 51ms/epoch - 4ms/step\n",
      "Epoch 164/1000\n",
      "13/13 - 0s - loss: 0.0371 - 39ms/epoch - 3ms/step\n",
      "Epoch 165/1000\n",
      "13/13 - 0s - loss: 0.0372 - 39ms/epoch - 3ms/step\n",
      "Epoch 166/1000\n",
      "13/13 - 0s - loss: 0.0372 - 37ms/epoch - 3ms/step\n",
      "Epoch 167/1000\n",
      "13/13 - 0s - loss: 0.0372 - 53ms/epoch - 4ms/step\n",
      "Epoch 168/1000\n",
      "13/13 - 0s - loss: 0.0371 - 41ms/epoch - 3ms/step\n",
      "Epoch 169/1000\n",
      "13/13 - 0s - loss: 0.0371 - 42ms/epoch - 3ms/step\n",
      "Epoch 170/1000\n",
      "13/13 - 0s - loss: 0.0372 - 46ms/epoch - 4ms/step\n",
      "Epoch 171/1000\n",
      "13/13 - 0s - loss: 0.0371 - 44ms/epoch - 3ms/step\n",
      "Epoch 172/1000\n",
      "13/13 - 0s - loss: 0.0371 - 58ms/epoch - 4ms/step\n",
      "Epoch 173/1000\n",
      "13/13 - 0s - loss: 0.0371 - 48ms/epoch - 4ms/step\n",
      "Epoch 174/1000\n",
      "13/13 - 0s - loss: 0.0372 - 42ms/epoch - 3ms/step\n",
      "Epoch 175/1000\n",
      "13/13 - 0s - loss: 0.0371 - 62ms/epoch - 5ms/step\n",
      "Epoch 176/1000\n",
      "13/13 - 0s - loss: 0.0373 - 57ms/epoch - 4ms/step\n",
      "Epoch 177/1000\n",
      "13/13 - 0s - loss: 0.0371 - 42ms/epoch - 3ms/step\n",
      "Epoch 178/1000\n",
      "13/13 - 0s - loss: 0.0371 - 46ms/epoch - 4ms/step\n",
      "Epoch 179/1000\n",
      "13/13 - 0s - loss: 0.0371 - 46ms/epoch - 4ms/step\n",
      "Epoch 180/1000\n",
      "13/13 - 0s - loss: 0.0372 - 35ms/epoch - 3ms/step\n",
      "Epoch 181/1000\n",
      "13/13 - 0s - loss: 0.0371 - 45ms/epoch - 3ms/step\n",
      "Epoch 182/1000\n",
      "13/13 - 0s - loss: 0.0371 - 47ms/epoch - 4ms/step\n",
      "Epoch 183/1000\n",
      "13/13 - 0s - loss: 0.0372 - 37ms/epoch - 3ms/step\n",
      "Epoch 184/1000\n",
      "13/13 - 0s - loss: 0.0370 - 40ms/epoch - 3ms/step\n",
      "Epoch 185/1000\n",
      "13/13 - 0s - loss: 0.0371 - 50ms/epoch - 4ms/step\n",
      "Epoch 186/1000\n",
      "13/13 - 0s - loss: 0.0372 - 49ms/epoch - 4ms/step\n",
      "Epoch 187/1000\n",
      "13/13 - 0s - loss: 0.0371 - 46ms/epoch - 4ms/step\n",
      "Epoch 188/1000\n",
      "13/13 - 0s - loss: 0.0371 - 43ms/epoch - 3ms/step\n",
      "Epoch 189/1000\n",
      "13/13 - 0s - loss: 0.0371 - 42ms/epoch - 3ms/step\n",
      "Epoch 190/1000\n",
      "13/13 - 0s - loss: 0.0371 - 41ms/epoch - 3ms/step\n",
      "Epoch 191/1000\n",
      "13/13 - 0s - loss: 0.0372 - 42ms/epoch - 3ms/step\n",
      "Epoch 192/1000\n",
      "13/13 - 0s - loss: 0.0370 - 35ms/epoch - 3ms/step\n",
      "Epoch 193/1000\n",
      "13/13 - 0s - loss: 0.0371 - 46ms/epoch - 4ms/step\n",
      "Epoch 194/1000\n",
      "13/13 - 0s - loss: 0.0371 - 37ms/epoch - 3ms/step\n",
      "Epoch 195/1000\n",
      "13/13 - 0s - loss: 0.0372 - 60ms/epoch - 5ms/step\n",
      "Epoch 196/1000\n",
      "13/13 - 0s - loss: 0.0371 - 59ms/epoch - 5ms/step\n",
      "Epoch 197/1000\n",
      "13/13 - 0s - loss: 0.0370 - 47ms/epoch - 4ms/step\n",
      "Epoch 198/1000\n",
      "13/13 - 0s - loss: 0.0371 - 34ms/epoch - 3ms/step\n",
      "Epoch 199/1000\n",
      "13/13 - 0s - loss: 0.0372 - 43ms/epoch - 3ms/step\n",
      "Epoch 200/1000\n",
      "13/13 - 0s - loss: 0.0370 - 38ms/epoch - 3ms/step\n",
      "Epoch 201/1000\n",
      "13/13 - 0s - loss: 0.0371 - 36ms/epoch - 3ms/step\n",
      "Epoch 202/1000\n",
      "13/13 - 0s - loss: 0.0371 - 37ms/epoch - 3ms/step\n",
      "Epoch 203/1000\n",
      "13/13 - 0s - loss: 0.0370 - 40ms/epoch - 3ms/step\n",
      "Epoch 204/1000\n",
      "13/13 - 0s - loss: 0.0371 - 41ms/epoch - 3ms/step\n",
      "Epoch 205/1000\n",
      "13/13 - 0s - loss: 0.0371 - 40ms/epoch - 3ms/step\n",
      "Epoch 206/1000\n",
      "13/13 - 0s - loss: 0.0370 - 52ms/epoch - 4ms/step\n",
      "Epoch 207/1000\n",
      "13/13 - 0s - loss: 0.0371 - 50ms/epoch - 4ms/step\n",
      "Epoch 208/1000\n",
      "13/13 - 0s - loss: 0.0370 - 50ms/epoch - 4ms/step\n",
      "Epoch 209/1000\n",
      "13/13 - 0s - loss: 0.0371 - 42ms/epoch - 3ms/step\n",
      "Epoch 210/1000\n",
      "13/13 - 0s - loss: 0.0372 - 42ms/epoch - 3ms/step\n",
      "Epoch 211/1000\n",
      "13/13 - 0s - loss: 0.0371 - 40ms/epoch - 3ms/step\n",
      "Epoch 212/1000\n",
      "13/13 - 0s - loss: 0.0370 - 40ms/epoch - 3ms/step\n",
      "Epoch 213/1000\n",
      "13/13 - 0s - loss: 0.0372 - 42ms/epoch - 3ms/step\n",
      "Epoch 214/1000\n",
      "13/13 - 0s - loss: 0.0371 - 36ms/epoch - 3ms/step\n",
      "Epoch 215/1000\n",
      "13/13 - 0s - loss: 0.0373 - 46ms/epoch - 4ms/step\n",
      "Epoch 216/1000\n",
      "13/13 - 0s - loss: 0.0370 - 38ms/epoch - 3ms/step\n",
      "Epoch 217/1000\n",
      "13/13 - 0s - loss: 0.0371 - 39ms/epoch - 3ms/step\n",
      "Epoch 218/1000\n",
      "13/13 - 0s - loss: 0.0370 - 38ms/epoch - 3ms/step\n",
      "Epoch 219/1000\n",
      "13/13 - 0s - loss: 0.0371 - 44ms/epoch - 3ms/step\n",
      "Epoch 220/1000\n",
      "13/13 - 0s - loss: 0.0373 - 31ms/epoch - 2ms/step\n",
      "Epoch 221/1000\n",
      "13/13 - 0s - loss: 0.0371 - 45ms/epoch - 3ms/step\n",
      "Epoch 222/1000\n",
      "13/13 - 0s - loss: 0.0370 - 67ms/epoch - 5ms/step\n",
      "Epoch 223/1000\n",
      "13/13 - 0s - loss: 0.0370 - 53ms/epoch - 4ms/step\n",
      "Epoch 224/1000\n",
      "13/13 - 0s - loss: 0.0371 - 65ms/epoch - 5ms/step\n",
      "Epoch 225/1000\n",
      "13/13 - 0s - loss: 0.0370 - 60ms/epoch - 5ms/step\n",
      "Epoch 226/1000\n",
      "13/13 - 0s - loss: 0.0371 - 39ms/epoch - 3ms/step\n",
      "Epoch 227/1000\n",
      "13/13 - 0s - loss: 0.0371 - 34ms/epoch - 3ms/step\n",
      "Epoch 228/1000\n",
      "13/13 - 0s - loss: 0.0370 - 41ms/epoch - 3ms/step\n",
      "Epoch 229/1000\n",
      "13/13 - 0s - loss: 0.0370 - 46ms/epoch - 4ms/step\n",
      "Epoch 230/1000\n",
      "13/13 - 0s - loss: 0.0370 - 38ms/epoch - 3ms/step\n",
      "Epoch 231/1000\n",
      "13/13 - 0s - loss: 0.0370 - 56ms/epoch - 4ms/step\n",
      "Epoch 232/1000\n",
      "13/13 - 0s - loss: 0.0370 - 35ms/epoch - 3ms/step\n",
      "Epoch 233/1000\n",
      "13/13 - 0s - loss: 0.0374 - 43ms/epoch - 3ms/step\n",
      "Epoch 234/1000\n",
      "13/13 - 0s - loss: 0.0371 - 40ms/epoch - 3ms/step\n",
      "Epoch 235/1000\n",
      "13/13 - 0s - loss: 0.0370 - 50ms/epoch - 4ms/step\n",
      "Epoch 236/1000\n",
      "13/13 - 0s - loss: 0.0373 - 43ms/epoch - 3ms/step\n",
      "Epoch 237/1000\n",
      "13/13 - 0s - loss: 0.0369 - 43ms/epoch - 3ms/step\n",
      "Epoch 238/1000\n",
      "13/13 - 0s - loss: 0.0370 - 48ms/epoch - 4ms/step\n",
      "Epoch 239/1000\n",
      "13/13 - 0s - loss: 0.0369 - 65ms/epoch - 5ms/step\n",
      "Epoch 240/1000\n",
      "13/13 - 0s - loss: 0.0371 - 44ms/epoch - 3ms/step\n",
      "Epoch 241/1000\n",
      "13/13 - 0s - loss: 0.0370 - 46ms/epoch - 4ms/step\n",
      "Epoch 242/1000\n",
      "13/13 - 0s - loss: 0.0370 - 45ms/epoch - 3ms/step\n",
      "Epoch 243/1000\n",
      "13/13 - 0s - loss: 0.0369 - 39ms/epoch - 3ms/step\n",
      "Epoch 244/1000\n",
      "13/13 - 0s - loss: 0.0371 - 40ms/epoch - 3ms/step\n",
      "Epoch 245/1000\n",
      "13/13 - 0s - loss: 0.0369 - 36ms/epoch - 3ms/step\n",
      "Epoch 246/1000\n",
      "13/13 - 0s - loss: 0.0370 - 45ms/epoch - 3ms/step\n",
      "Epoch 247/1000\n",
      "13/13 - 0s - loss: 0.0369 - 40ms/epoch - 3ms/step\n",
      "Epoch 248/1000\n",
      "13/13 - 0s - loss: 0.0370 - 42ms/epoch - 3ms/step\n",
      "Epoch 249/1000\n",
      "13/13 - 0s - loss: 0.0370 - 47ms/epoch - 4ms/step\n",
      "Epoch 250/1000\n",
      "13/13 - 0s - loss: 0.0370 - 43ms/epoch - 3ms/step\n",
      "Epoch 251/1000\n",
      "13/13 - 0s - loss: 0.0369 - 41ms/epoch - 3ms/step\n",
      "Epoch 252/1000\n",
      "13/13 - 0s - loss: 0.0370 - 46ms/epoch - 4ms/step\n",
      "Epoch 253/1000\n",
      "13/13 - 0s - loss: 0.0370 - 56ms/epoch - 4ms/step\n",
      "Epoch 254/1000\n",
      "13/13 - 0s - loss: 0.0369 - 62ms/epoch - 5ms/step\n",
      "Epoch 255/1000\n",
      "13/13 - 0s - loss: 0.0370 - 67ms/epoch - 5ms/step\n",
      "Epoch 256/1000\n",
      "13/13 - 0s - loss: 0.0369 - 50ms/epoch - 4ms/step\n",
      "Epoch 257/1000\n",
      "13/13 - 0s - loss: 0.0369 - 56ms/epoch - 4ms/step\n",
      "Epoch 258/1000\n",
      "13/13 - 0s - loss: 0.0369 - 57ms/epoch - 4ms/step\n",
      "Epoch 259/1000\n",
      "13/13 - 0s - loss: 0.0369 - 48ms/epoch - 4ms/step\n",
      "Epoch 260/1000\n",
      "13/13 - 0s - loss: 0.0371 - 48ms/epoch - 4ms/step\n",
      "Epoch 261/1000\n",
      "13/13 - 0s - loss: 0.0370 - 43ms/epoch - 3ms/step\n",
      "Epoch 262/1000\n",
      "13/13 - 0s - loss: 0.0369 - 40ms/epoch - 3ms/step\n",
      "Epoch 263/1000\n",
      "13/13 - 0s - loss: 0.0369 - 41ms/epoch - 3ms/step\n",
      "Epoch 264/1000\n",
      "13/13 - 0s - loss: 0.0370 - 38ms/epoch - 3ms/step\n",
      "Epoch 265/1000\n",
      "13/13 - 0s - loss: 0.0371 - 36ms/epoch - 3ms/step\n",
      "Epoch 266/1000\n",
      "13/13 - 0s - loss: 0.0369 - 37ms/epoch - 3ms/step\n",
      "Epoch 267/1000\n",
      "13/13 - 0s - loss: 0.0370 - 35ms/epoch - 3ms/step\n",
      "Epoch 268/1000\n",
      "13/13 - 0s - loss: 0.0369 - 41ms/epoch - 3ms/step\n",
      "Epoch 269/1000\n",
      "13/13 - 0s - loss: 0.0370 - 41ms/epoch - 3ms/step\n",
      "Epoch 270/1000\n",
      "13/13 - 0s - loss: 0.0369 - 43ms/epoch - 3ms/step\n",
      "Epoch 271/1000\n",
      "13/13 - 0s - loss: 0.0369 - 40ms/epoch - 3ms/step\n",
      "Epoch 272/1000\n",
      "13/13 - 0s - loss: 0.0369 - 40ms/epoch - 3ms/step\n",
      "Epoch 273/1000\n",
      "13/13 - 0s - loss: 0.0369 - 38ms/epoch - 3ms/step\n",
      "Epoch 274/1000\n",
      "13/13 - 0s - loss: 0.0369 - 59ms/epoch - 5ms/step\n",
      "Epoch 275/1000\n",
      "13/13 - 0s - loss: 0.0369 - 53ms/epoch - 4ms/step\n",
      "Epoch 276/1000\n",
      "13/13 - 0s - loss: 0.0369 - 44ms/epoch - 3ms/step\n",
      "Epoch 277/1000\n",
      "13/13 - 0s - loss: 0.0369 - 37ms/epoch - 3ms/step\n",
      "Epoch 278/1000\n",
      "13/13 - 0s - loss: 0.0370 - 40ms/epoch - 3ms/step\n",
      "Epoch 279/1000\n",
      "13/13 - 0s - loss: 0.0369 - 39ms/epoch - 3ms/step\n",
      "Epoch 280/1000\n",
      "13/13 - 0s - loss: 0.0369 - 40ms/epoch - 3ms/step\n",
      "Epoch 281/1000\n",
      "13/13 - 0s - loss: 0.0369 - 41ms/epoch - 3ms/step\n",
      "Epoch 282/1000\n",
      "13/13 - 0s - loss: 0.0369 - 51ms/epoch - 4ms/step\n",
      "Epoch 283/1000\n",
      "13/13 - 0s - loss: 0.0370 - 51ms/epoch - 4ms/step\n",
      "Epoch 284/1000\n",
      "13/13 - 0s - loss: 0.0369 - 48ms/epoch - 4ms/step\n",
      "Epoch 285/1000\n",
      "13/13 - 0s - loss: 0.0369 - 41ms/epoch - 3ms/step\n",
      "Epoch 286/1000\n",
      "13/13 - 0s - loss: 0.0370 - 43ms/epoch - 3ms/step\n",
      "Epoch 287/1000\n",
      "13/13 - 0s - loss: 0.0369 - 39ms/epoch - 3ms/step\n",
      "Epoch 288/1000\n",
      "13/13 - 0s - loss: 0.0370 - 37ms/epoch - 3ms/step\n",
      "Epoch 289/1000\n",
      "13/13 - 0s - loss: 0.0369 - 37ms/epoch - 3ms/step\n",
      "Epoch 290/1000\n",
      "13/13 - 0s - loss: 0.0370 - 44ms/epoch - 3ms/step\n",
      "Epoch 291/1000\n",
      "13/13 - 0s - loss: 0.0370 - 40ms/epoch - 3ms/step\n",
      "Epoch 292/1000\n",
      "13/13 - 0s - loss: 0.0369 - 35ms/epoch - 3ms/step\n",
      "Epoch 293/1000\n",
      "13/13 - 0s - loss: 0.0372 - 38ms/epoch - 3ms/step\n",
      "Epoch 294/1000\n",
      "13/13 - 0s - loss: 0.0369 - 39ms/epoch - 3ms/step\n",
      "Epoch 295/1000\n",
      "13/13 - 0s - loss: 0.0369 - 40ms/epoch - 3ms/step\n",
      "Epoch 296/1000\n",
      "13/13 - 0s - loss: 0.0369 - 38ms/epoch - 3ms/step\n",
      "Epoch 297/1000\n",
      "13/13 - 0s - loss: 0.0369 - 40ms/epoch - 3ms/step\n",
      "Epoch 298/1000\n",
      "13/13 - 0s - loss: 0.0369 - 42ms/epoch - 3ms/step\n",
      "Epoch 299/1000\n",
      "13/13 - 0s - loss: 0.0370 - 41ms/epoch - 3ms/step\n",
      "Epoch 300/1000\n",
      "13/13 - 0s - loss: 0.0369 - 41ms/epoch - 3ms/step\n",
      "Epoch 301/1000\n",
      "13/13 - 0s - loss: 0.0370 - 38ms/epoch - 3ms/step\n",
      "Epoch 302/1000\n",
      "13/13 - 0s - loss: 0.0369 - 38ms/epoch - 3ms/step\n",
      "Epoch 303/1000\n",
      "13/13 - 0s - loss: 0.0369 - 38ms/epoch - 3ms/step\n",
      "Epoch 304/1000\n",
      "13/13 - 0s - loss: 0.0369 - 46ms/epoch - 4ms/step\n",
      "Epoch 305/1000\n",
      "13/13 - 0s - loss: 0.0369 - 40ms/epoch - 3ms/step\n",
      "Epoch 306/1000\n",
      "13/13 - 0s - loss: 0.0369 - 41ms/epoch - 3ms/step\n",
      "Epoch 307/1000\n",
      "13/13 - 0s - loss: 0.0371 - 46ms/epoch - 4ms/step\n",
      "Epoch 308/1000\n",
      "13/13 - 0s - loss: 0.0369 - 39ms/epoch - 3ms/step\n",
      "Epoch 309/1000\n",
      "13/13 - 0s - loss: 0.0369 - 38ms/epoch - 3ms/step\n",
      "Epoch 310/1000\n",
      "13/13 - 0s - loss: 0.0370 - 39ms/epoch - 3ms/step\n",
      "Epoch 311/1000\n",
      "13/13 - 0s - loss: 0.0370 - 42ms/epoch - 3ms/step\n",
      "Epoch 312/1000\n",
      "13/13 - 0s - loss: 0.0368 - 39ms/epoch - 3ms/step\n",
      "Epoch 313/1000\n",
      "13/13 - 0s - loss: 0.0370 - 36ms/epoch - 3ms/step\n",
      "Epoch 314/1000\n",
      "13/13 - 0s - loss: 0.0369 - 38ms/epoch - 3ms/step\n",
      "Epoch 315/1000\n",
      "13/13 - 0s - loss: 0.0369 - 53ms/epoch - 4ms/step\n",
      "Epoch 316/1000\n",
      "13/13 - 0s - loss: 0.0369 - 52ms/epoch - 4ms/step\n",
      "Epoch 317/1000\n",
      "13/13 - 0s - loss: 0.0369 - 41ms/epoch - 3ms/step\n",
      "Epoch 318/1000\n",
      "13/13 - 0s - loss: 0.0369 - 37ms/epoch - 3ms/step\n",
      "Epoch 319/1000\n",
      "13/13 - 0s - loss: 0.0369 - 40ms/epoch - 3ms/step\n",
      "Epoch 320/1000\n",
      "13/13 - 0s - loss: 0.0370 - 38ms/epoch - 3ms/step\n",
      "Epoch 321/1000\n",
      "13/13 - 0s - loss: 0.0369 - 38ms/epoch - 3ms/step\n",
      "Epoch 322/1000\n",
      "13/13 - 0s - loss: 0.0369 - 41ms/epoch - 3ms/step\n",
      "Epoch 323/1000\n",
      "13/13 - 0s - loss: 0.0370 - 44ms/epoch - 3ms/step\n",
      "Epoch 324/1000\n",
      "13/13 - 0s - loss: 0.0370 - 40ms/epoch - 3ms/step\n",
      "Epoch 325/1000\n",
      "13/13 - 0s - loss: 0.0369 - 34ms/epoch - 3ms/step\n",
      "Epoch 326/1000\n",
      "13/13 - 0s - loss: 0.0368 - 39ms/epoch - 3ms/step\n",
      "Epoch 327/1000\n",
      "13/13 - 0s - loss: 0.0372 - 38ms/epoch - 3ms/step\n",
      "Epoch 328/1000\n",
      "13/13 - 0s - loss: 0.0369 - 38ms/epoch - 3ms/step\n",
      "Epoch 329/1000\n",
      "13/13 - 0s - loss: 0.0369 - 37ms/epoch - 3ms/step\n",
      "Epoch 330/1000\n",
      "13/13 - 0s - loss: 0.0371 - 38ms/epoch - 3ms/step\n",
      "Epoch 331/1000\n",
      "13/13 - 0s - loss: 0.0369 - 39ms/epoch - 3ms/step\n",
      "Epoch 332/1000\n",
      "13/13 - 0s - loss: 0.0368 - 35ms/epoch - 3ms/step\n",
      "Epoch 333/1000\n",
      "13/13 - 0s - loss: 0.0369 - 37ms/epoch - 3ms/step\n",
      "Epoch 334/1000\n",
      "13/13 - 0s - loss: 0.0369 - 41ms/epoch - 3ms/step\n",
      "Epoch 335/1000\n",
      "13/13 - 0s - loss: 0.0369 - 38ms/epoch - 3ms/step\n",
      "Epoch 336/1000\n",
      "13/13 - 0s - loss: 0.0371 - 39ms/epoch - 3ms/step\n",
      "Epoch 337/1000\n",
      "13/13 - 0s - loss: 0.0369 - 36ms/epoch - 3ms/step\n",
      "Epoch 338/1000\n",
      "13/13 - 0s - loss: 0.0369 - 39ms/epoch - 3ms/step\n",
      "Epoch 339/1000\n",
      "13/13 - 0s - loss: 0.0369 - 70ms/epoch - 5ms/step\n",
      "Epoch 340/1000\n",
      "13/13 - 0s - loss: 0.0368 - 74ms/epoch - 6ms/step\n",
      "Epoch 341/1000\n",
      "13/13 - 0s - loss: 0.0369 - 44ms/epoch - 3ms/step\n",
      "Epoch 342/1000\n",
      "13/13 - 0s - loss: 0.0368 - 41ms/epoch - 3ms/step\n",
      "Epoch 343/1000\n",
      "13/13 - 0s - loss: 0.0369 - 43ms/epoch - 3ms/step\n",
      "Epoch 344/1000\n",
      "13/13 - 0s - loss: 0.0369 - 43ms/epoch - 3ms/step\n",
      "Epoch 345/1000\n",
      "13/13 - 0s - loss: 0.0370 - 56ms/epoch - 4ms/step\n",
      "Epoch 346/1000\n",
      "13/13 - 0s - loss: 0.0369 - 53ms/epoch - 4ms/step\n",
      "Epoch 347/1000\n",
      "13/13 - 0s - loss: 0.0369 - 45ms/epoch - 3ms/step\n",
      "Epoch 348/1000\n",
      "13/13 - 0s - loss: 0.0369 - 51ms/epoch - 4ms/step\n",
      "Epoch 349/1000\n",
      "13/13 - 0s - loss: 0.0370 - 42ms/epoch - 3ms/step\n",
      "Epoch 350/1000\n",
      "13/13 - 0s - loss: 0.0369 - 43ms/epoch - 3ms/step\n",
      "Epoch 351/1000\n",
      "13/13 - 0s - loss: 0.0369 - 57ms/epoch - 4ms/step\n",
      "Epoch 352/1000\n",
      "13/13 - 0s - loss: 0.0369 - 48ms/epoch - 4ms/step\n",
      "Epoch 353/1000\n",
      "13/13 - 0s - loss: 0.0369 - 46ms/epoch - 4ms/step\n",
      "Epoch 354/1000\n",
      "13/13 - 0s - loss: 0.0368 - 37ms/epoch - 3ms/step\n",
      "Epoch 355/1000\n",
      "13/13 - 0s - loss: 0.0369 - 39ms/epoch - 3ms/step\n",
      "Epoch 356/1000\n",
      "13/13 - 0s - loss: 0.0368 - 38ms/epoch - 3ms/step\n",
      "Epoch 357/1000\n",
      "13/13 - 0s - loss: 0.0368 - 41ms/epoch - 3ms/step\n",
      "Epoch 358/1000\n",
      "13/13 - 0s - loss: 0.0369 - 31ms/epoch - 2ms/step\n",
      "Epoch 359/1000\n",
      "13/13 - 0s - loss: 0.0368 - 38ms/epoch - 3ms/step\n",
      "Epoch 360/1000\n",
      "13/13 - 0s - loss: 0.0369 - 39ms/epoch - 3ms/step\n",
      "Epoch 361/1000\n",
      "13/13 - 0s - loss: 0.0369 - 35ms/epoch - 3ms/step\n",
      "Epoch 362/1000\n",
      "13/13 - 0s - loss: 0.0369 - 46ms/epoch - 4ms/step\n",
      "Epoch 363/1000\n",
      "13/13 - 0s - loss: 0.0368 - 51ms/epoch - 4ms/step\n",
      "Epoch 364/1000\n",
      "13/13 - 0s - loss: 0.0370 - 50ms/epoch - 4ms/step\n",
      "Epoch 365/1000\n",
      "13/13 - 0s - loss: 0.0370 - 50ms/epoch - 4ms/step\n",
      "Epoch 366/1000\n",
      "13/13 - 0s - loss: 0.0369 - 39ms/epoch - 3ms/step\n",
      "Epoch 367/1000\n",
      "13/13 - 0s - loss: 0.0368 - 41ms/epoch - 3ms/step\n",
      "Epoch 368/1000\n",
      "13/13 - 0s - loss: 0.0369 - 37ms/epoch - 3ms/step\n",
      "Epoch 369/1000\n",
      "13/13 - 0s - loss: 0.0370 - 38ms/epoch - 3ms/step\n",
      "Epoch 370/1000\n",
      "13/13 - 0s - loss: 0.0368 - 38ms/epoch - 3ms/step\n",
      "Epoch 371/1000\n",
      "13/13 - 0s - loss: 0.0369 - 37ms/epoch - 3ms/step\n",
      "Epoch 372/1000\n",
      "13/13 - 0s - loss: 0.0370 - 40ms/epoch - 3ms/step\n",
      "Epoch 373/1000\n",
      "13/13 - 0s - loss: 0.0368 - 41ms/epoch - 3ms/step\n",
      "Epoch 374/1000\n",
      "13/13 - 0s - loss: 0.0369 - 35ms/epoch - 3ms/step\n",
      "Epoch 375/1000\n",
      "13/13 - 0s - loss: 0.0370 - 40ms/epoch - 3ms/step\n",
      "Epoch 376/1000\n",
      "13/13 - 0s - loss: 0.0370 - 39ms/epoch - 3ms/step\n",
      "Epoch 377/1000\n",
      "13/13 - 0s - loss: 0.0369 - 37ms/epoch - 3ms/step\n",
      "Epoch 378/1000\n",
      "13/13 - 0s - loss: 0.0371 - 37ms/epoch - 3ms/step\n",
      "Epoch 379/1000\n",
      "13/13 - 0s - loss: 0.0368 - 41ms/epoch - 3ms/step\n",
      "Epoch 380/1000\n",
      "13/13 - 0s - loss: 0.0369 - 46ms/epoch - 4ms/step\n",
      "Epoch 381/1000\n",
      "13/13 - 0s - loss: 0.0370 - 56ms/epoch - 4ms/step\n",
      "Epoch 382/1000\n",
      "13/13 - 0s - loss: 0.0369 - 42ms/epoch - 3ms/step\n",
      "Epoch 383/1000\n",
      "13/13 - 0s - loss: 0.0369 - 37ms/epoch - 3ms/step\n",
      "Epoch 384/1000\n",
      "13/13 - 0s - loss: 0.0369 - 39ms/epoch - 3ms/step\n",
      "Epoch 385/1000\n",
      "13/13 - 0s - loss: 0.0370 - 37ms/epoch - 3ms/step\n",
      "Epoch 386/1000\n",
      "13/13 - 0s - loss: 0.0368 - 37ms/epoch - 3ms/step\n",
      "Epoch 387/1000\n",
      "13/13 - 0s - loss: 0.0369 - 38ms/epoch - 3ms/step\n",
      "Epoch 388/1000\n",
      "13/13 - 0s - loss: 0.0369 - 35ms/epoch - 3ms/step\n",
      "Epoch 389/1000\n",
      "13/13 - 0s - loss: 0.0369 - 39ms/epoch - 3ms/step\n",
      "Epoch 390/1000\n",
      "13/13 - 0s - loss: 0.0369 - 42ms/epoch - 3ms/step\n",
      "Epoch 391/1000\n",
      "13/13 - 0s - loss: 0.0368 - 41ms/epoch - 3ms/step\n",
      "Epoch 392/1000\n",
      "13/13 - 0s - loss: 0.0368 - 36ms/epoch - 3ms/step\n",
      "Epoch 393/1000\n",
      "13/13 - 0s - loss: 0.0368 - 33ms/epoch - 3ms/step\n",
      "Epoch 394/1000\n",
      "13/13 - 0s - loss: 0.0368 - 40ms/epoch - 3ms/step\n",
      "Epoch 395/1000\n",
      "13/13 - 0s - loss: 0.0368 - 51ms/epoch - 4ms/step\n",
      "Epoch 396/1000\n",
      "13/13 - 0s - loss: 0.0369 - 50ms/epoch - 4ms/step\n",
      "Epoch 397/1000\n",
      "13/13 - 0s - loss: 0.0369 - 35ms/epoch - 3ms/step\n",
      "Epoch 398/1000\n",
      "13/13 - 0s - loss: 0.0369 - 43ms/epoch - 3ms/step\n",
      "Epoch 399/1000\n",
      "13/13 - 0s - loss: 0.0368 - 41ms/epoch - 3ms/step\n",
      "Epoch 400/1000\n",
      "13/13 - 0s - loss: 0.0369 - 35ms/epoch - 3ms/step\n",
      "Epoch 401/1000\n",
      "13/13 - 0s - loss: 0.0369 - 39ms/epoch - 3ms/step\n",
      "Epoch 402/1000\n",
      "13/13 - 0s - loss: 0.0368 - 34ms/epoch - 3ms/step\n",
      "Epoch 403/1000\n",
      "13/13 - 0s - loss: 0.0368 - 34ms/epoch - 3ms/step\n",
      "Epoch 404/1000\n",
      "13/13 - 0s - loss: 0.0369 - 52ms/epoch - 4ms/step\n",
      "Epoch 405/1000\n",
      "13/13 - 0s - loss: 0.0368 - 46ms/epoch - 4ms/step\n",
      "Epoch 406/1000\n",
      "13/13 - 0s - loss: 0.0369 - 49ms/epoch - 4ms/step\n",
      "Epoch 407/1000\n",
      "13/13 - 0s - loss: 0.0368 - 88ms/epoch - 7ms/step\n",
      "Epoch 408/1000\n",
      "13/13 - 0s - loss: 0.0368 - 53ms/epoch - 4ms/step\n",
      "Epoch 409/1000\n",
      "13/13 - 0s - loss: 0.0368 - 49ms/epoch - 4ms/step\n",
      "Epoch 410/1000\n",
      "13/13 - 0s - loss: 0.0368 - 45ms/epoch - 3ms/step\n",
      "Epoch 411/1000\n",
      "13/13 - 0s - loss: 0.0368 - 46ms/epoch - 4ms/step\n",
      "Epoch 412/1000\n",
      "13/13 - 0s - loss: 0.0368 - 41ms/epoch - 3ms/step\n",
      "Epoch 413/1000\n",
      "13/13 - 0s - loss: 0.0368 - 44ms/epoch - 3ms/step\n",
      "Epoch 414/1000\n",
      "13/13 - 0s - loss: 0.0369 - 47ms/epoch - 4ms/step\n",
      "Epoch 415/1000\n",
      "13/13 - 0s - loss: 0.0368 - 51ms/epoch - 4ms/step\n",
      "Epoch 416/1000\n",
      "13/13 - 0s - loss: 0.0368 - 44ms/epoch - 3ms/step\n",
      "Epoch 417/1000\n",
      "13/13 - 0s - loss: 0.0368 - 50ms/epoch - 4ms/step\n",
      "Epoch 418/1000\n",
      "13/13 - 0s - loss: 0.0368 - 43ms/epoch - 3ms/step\n",
      "Epoch 419/1000\n",
      "13/13 - 0s - loss: 0.0368 - 46ms/epoch - 4ms/step\n",
      "Epoch 420/1000\n",
      "13/13 - 0s - loss: 0.0370 - 37ms/epoch - 3ms/step\n",
      "Epoch 421/1000\n",
      "13/13 - 0s - loss: 0.0368 - 47ms/epoch - 4ms/step\n",
      "Epoch 422/1000\n",
      "13/13 - 0s - loss: 0.0369 - 43ms/epoch - 3ms/step\n",
      "Epoch 423/1000\n",
      "13/13 - 0s - loss: 0.0368 - 41ms/epoch - 3ms/step\n",
      "Epoch 424/1000\n",
      "13/13 - 0s - loss: 0.0369 - 39ms/epoch - 3ms/step\n",
      "Epoch 425/1000\n",
      "13/13 - 0s - loss: 0.0369 - 35ms/epoch - 3ms/step\n",
      "Epoch 426/1000\n",
      "13/13 - 0s - loss: 0.0368 - 37ms/epoch - 3ms/step\n",
      "Epoch 427/1000\n",
      "13/13 - 0s - loss: 0.0368 - 41ms/epoch - 3ms/step\n",
      "Epoch 428/1000\n",
      "13/13 - 0s - loss: 0.0370 - 36ms/epoch - 3ms/step\n",
      "Epoch 429/1000\n",
      "13/13 - 0s - loss: 0.0370 - 36ms/epoch - 3ms/step\n",
      "Epoch 430/1000\n",
      "13/13 - 0s - loss: 0.0368 - 40ms/epoch - 3ms/step\n",
      "Epoch 431/1000\n",
      "13/13 - 0s - loss: 0.0368 - 37ms/epoch - 3ms/step\n",
      "Epoch 432/1000\n",
      "13/13 - 0s - loss: 0.0370 - 39ms/epoch - 3ms/step\n",
      "Epoch 433/1000\n",
      "13/13 - 0s - loss: 0.0368 - 37ms/epoch - 3ms/step\n",
      "Epoch 434/1000\n",
      "13/13 - 0s - loss: 0.0371 - 45ms/epoch - 3ms/step\n",
      "Epoch 435/1000\n",
      "13/13 - 0s - loss: 0.0371 - 37ms/epoch - 3ms/step\n",
      "Epoch 436/1000\n",
      "13/13 - 0s - loss: 0.0369 - 58ms/epoch - 4ms/step\n",
      "Epoch 437/1000\n",
      "13/13 - 0s - loss: 0.0369 - 49ms/epoch - 4ms/step\n",
      "Epoch 438/1000\n",
      "13/13 - 0s - loss: 0.0371 - 59ms/epoch - 5ms/step\n",
      "Epoch 439/1000\n",
      "13/13 - 0s - loss: 0.0369 - 51ms/epoch - 4ms/step\n",
      "Epoch 440/1000\n",
      "13/13 - 0s - loss: 0.0369 - 61ms/epoch - 5ms/step\n",
      "Epoch 441/1000\n",
      "13/13 - 0s - loss: 0.0368 - 52ms/epoch - 4ms/step\n",
      "Epoch 442/1000\n",
      "13/13 - 0s - loss: 0.0368 - 46ms/epoch - 4ms/step\n",
      "Epoch 443/1000\n",
      "13/13 - 0s - loss: 0.0368 - 45ms/epoch - 3ms/step\n",
      "Epoch 444/1000\n",
      "13/13 - 0s - loss: 0.0369 - 40ms/epoch - 3ms/step\n",
      "Epoch 445/1000\n",
      "13/13 - 0s - loss: 0.0368 - 48ms/epoch - 4ms/step\n",
      "Epoch 446/1000\n",
      "13/13 - 0s - loss: 0.0370 - 42ms/epoch - 3ms/step\n",
      "Epoch 447/1000\n",
      "13/13 - 0s - loss: 0.0368 - 46ms/epoch - 4ms/step\n",
      "Epoch 448/1000\n",
      "13/13 - 0s - loss: 0.0368 - 45ms/epoch - 3ms/step\n",
      "Epoch 449/1000\n",
      "13/13 - 0s - loss: 0.0369 - 50ms/epoch - 4ms/step\n",
      "Epoch 450/1000\n",
      "13/13 - 0s - loss: 0.0368 - 43ms/epoch - 3ms/step\n",
      "Epoch 451/1000\n",
      "13/13 - 0s - loss: 0.0368 - 46ms/epoch - 4ms/step\n",
      "Epoch 452/1000\n",
      "13/13 - 0s - loss: 0.0370 - 41ms/epoch - 3ms/step\n",
      "Epoch 453/1000\n",
      "13/13 - 0s - loss: 0.0369 - 37ms/epoch - 3ms/step\n",
      "Epoch 454/1000\n",
      "13/13 - 0s - loss: 0.0369 - 55ms/epoch - 4ms/step\n",
      "Epoch 455/1000\n",
      "13/13 - 0s - loss: 0.0368 - 50ms/epoch - 4ms/step\n",
      "Epoch 456/1000\n",
      "13/13 - 0s - loss: 0.0368 - 71ms/epoch - 5ms/step\n",
      "Epoch 457/1000\n",
      "13/13 - 0s - loss: 0.0369 - 68ms/epoch - 5ms/step\n",
      "Epoch 458/1000\n",
      "13/13 - 0s - loss: 0.0368 - 56ms/epoch - 4ms/step\n",
      "Epoch 459/1000\n",
      "13/13 - 0s - loss: 0.0368 - 49ms/epoch - 4ms/step\n",
      "Epoch 460/1000\n",
      "13/13 - 0s - loss: 0.0368 - 56ms/epoch - 4ms/step\n",
      "Epoch 461/1000\n",
      "13/13 - 0s - loss: 0.0369 - 54ms/epoch - 4ms/step\n",
      "Epoch 462/1000\n",
      "13/13 - 0s - loss: 0.0369 - 51ms/epoch - 4ms/step\n",
      "Epoch 463/1000\n",
      "13/13 - 0s - loss: 0.0369 - 46ms/epoch - 4ms/step\n",
      "Epoch 464/1000\n",
      "13/13 - 0s - loss: 0.0368 - 55ms/epoch - 4ms/step\n",
      "Epoch 465/1000\n",
      "13/13 - 0s - loss: 0.0369 - 49ms/epoch - 4ms/step\n",
      "Epoch 466/1000\n",
      "13/13 - 0s - loss: 0.0368 - 38ms/epoch - 3ms/step\n",
      "Epoch 467/1000\n",
      "13/13 - 0s - loss: 0.0370 - 48ms/epoch - 4ms/step\n",
      "Epoch 468/1000\n",
      "13/13 - 0s - loss: 0.0369 - 42ms/epoch - 3ms/step\n",
      "Epoch 469/1000\n",
      "13/13 - 0s - loss: 0.0368 - 54ms/epoch - 4ms/step\n",
      "Epoch 470/1000\n",
      "13/13 - 0s - loss: 0.0368 - 46ms/epoch - 4ms/step\n",
      "Epoch 471/1000\n",
      "13/13 - 0s - loss: 0.0373 - 57ms/epoch - 4ms/step\n",
      "Epoch 472/1000\n",
      "13/13 - 0s - loss: 0.0369 - 69ms/epoch - 5ms/step\n",
      "Epoch 473/1000\n",
      "13/13 - 0s - loss: 0.0368 - 72ms/epoch - 6ms/step\n",
      "Epoch 474/1000\n",
      "13/13 - 0s - loss: 0.0370 - 71ms/epoch - 5ms/step\n",
      "Epoch 475/1000\n",
      "13/13 - 0s - loss: 0.0368 - 44ms/epoch - 3ms/step\n",
      "Epoch 476/1000\n",
      "13/13 - 0s - loss: 0.0368 - 49ms/epoch - 4ms/step\n",
      "Epoch 477/1000\n",
      "13/13 - 0s - loss: 0.0368 - 46ms/epoch - 4ms/step\n",
      "Epoch 478/1000\n",
      "13/13 - 0s - loss: 0.0369 - 50ms/epoch - 4ms/step\n",
      "Epoch 479/1000\n",
      "13/13 - 0s - loss: 0.0369 - 47ms/epoch - 4ms/step\n",
      "Epoch 480/1000\n",
      "13/13 - 0s - loss: 0.0369 - 38ms/epoch - 3ms/step\n",
      "Epoch 481/1000\n",
      "13/13 - 0s - loss: 0.0368 - 48ms/epoch - 4ms/step\n",
      "Epoch 482/1000\n",
      "13/13 - 0s - loss: 0.0369 - 42ms/epoch - 3ms/step\n",
      "Epoch 483/1000\n",
      "13/13 - 0s - loss: 0.0372 - 41ms/epoch - 3ms/step\n",
      "Epoch 484/1000\n",
      "13/13 - 0s - loss: 0.0368 - 42ms/epoch - 3ms/step\n",
      "Epoch 485/1000\n",
      "13/13 - 0s - loss: 0.0368 - 47ms/epoch - 4ms/step\n",
      "Epoch 486/1000\n",
      "13/13 - 0s - loss: 0.0370 - 38ms/epoch - 3ms/step\n",
      "Epoch 487/1000\n",
      "13/13 - 0s - loss: 0.0368 - 55ms/epoch - 4ms/step\n",
      "Epoch 488/1000\n",
      "13/13 - 0s - loss: 0.0368 - 41ms/epoch - 3ms/step\n",
      "Epoch 489/1000\n",
      "13/13 - 0s - loss: 0.0369 - 40ms/epoch - 3ms/step\n",
      "Epoch 490/1000\n",
      "13/13 - 0s - loss: 0.0368 - 42ms/epoch - 3ms/step\n",
      "Epoch 491/1000\n",
      "13/13 - 0s - loss: 0.0368 - 46ms/epoch - 4ms/step\n",
      "Epoch 492/1000\n",
      "13/13 - 0s - loss: 0.0370 - 45ms/epoch - 3ms/step\n",
      "Epoch 493/1000\n",
      "13/13 - 0s - loss: 0.0369 - 46ms/epoch - 4ms/step\n",
      "Epoch 494/1000\n",
      "13/13 - 0s - loss: 0.0371 - 50ms/epoch - 4ms/step\n",
      "Epoch 495/1000\n",
      "13/13 - 0s - loss: 0.0368 - 44ms/epoch - 3ms/step\n",
      "Epoch 496/1000\n",
      "13/13 - 0s - loss: 0.0369 - 46ms/epoch - 4ms/step\n",
      "Epoch 497/1000\n",
      "13/13 - 0s - loss: 0.0368 - 44ms/epoch - 3ms/step\n",
      "Epoch 498/1000\n",
      "13/13 - 0s - loss: 0.0368 - 43ms/epoch - 3ms/step\n",
      "Epoch 499/1000\n",
      "13/13 - 0s - loss: 0.0369 - 43ms/epoch - 3ms/step\n",
      "Epoch 500/1000\n",
      "13/13 - 0s - loss: 0.0368 - 35ms/epoch - 3ms/step\n",
      "Epoch 501/1000\n",
      "13/13 - 0s - loss: 0.0368 - 40ms/epoch - 3ms/step\n",
      "Epoch 502/1000\n",
      "13/13 - 0s - loss: 0.0368 - 32ms/epoch - 2ms/step\n",
      "Epoch 503/1000\n",
      "13/13 - 0s - loss: 0.0369 - 37ms/epoch - 3ms/step\n",
      "Epoch 504/1000\n",
      "13/13 - 0s - loss: 0.0368 - 41ms/epoch - 3ms/step\n",
      "Epoch 505/1000\n",
      "13/13 - 0s - loss: 0.0369 - 41ms/epoch - 3ms/step\n",
      "Epoch 506/1000\n",
      "13/13 - 0s - loss: 0.0368 - 40ms/epoch - 3ms/step\n",
      "Epoch 507/1000\n",
      "13/13 - 0s - loss: 0.0368 - 46ms/epoch - 4ms/step\n",
      "Epoch 508/1000\n",
      "13/13 - 0s - loss: 0.0369 - 62ms/epoch - 5ms/step\n",
      "Epoch 509/1000\n",
      "13/13 - 0s - loss: 0.0369 - 50ms/epoch - 4ms/step\n",
      "Epoch 510/1000\n",
      "13/13 - 0s - loss: 0.0369 - 42ms/epoch - 3ms/step\n",
      "Epoch 511/1000\n",
      "13/13 - 0s - loss: 0.0369 - 33ms/epoch - 3ms/step\n",
      "Epoch 512/1000\n",
      "13/13 - 0s - loss: 0.0371 - 50ms/epoch - 4ms/step\n",
      "Epoch 513/1000\n",
      "13/13 - 0s - loss: 0.0368 - 41ms/epoch - 3ms/step\n",
      "Epoch 514/1000\n",
      "13/13 - 0s - loss: 0.0368 - 40ms/epoch - 3ms/step\n",
      "Epoch 515/1000\n",
      "13/13 - 0s - loss: 0.0368 - 44ms/epoch - 3ms/step\n",
      "Epoch 516/1000\n",
      "13/13 - 0s - loss: 0.0371 - 43ms/epoch - 3ms/step\n",
      "Epoch 517/1000\n",
      "13/13 - 0s - loss: 0.0369 - 37ms/epoch - 3ms/step\n",
      "Epoch 518/1000\n",
      "13/13 - 0s - loss: 0.0369 - 50ms/epoch - 4ms/step\n",
      "Epoch 519/1000\n",
      "13/13 - 0s - loss: 0.0368 - 34ms/epoch - 3ms/step\n",
      "Epoch 520/1000\n",
      "13/13 - 0s - loss: 0.0368 - 42ms/epoch - 3ms/step\n",
      "Epoch 521/1000\n",
      "13/13 - 0s - loss: 0.0369 - 44ms/epoch - 3ms/step\n",
      "Epoch 522/1000\n",
      "13/13 - 0s - loss: 0.0368 - 48ms/epoch - 4ms/step\n",
      "Epoch 523/1000\n",
      "13/13 - 0s - loss: 0.0368 - 49ms/epoch - 4ms/step\n",
      "Epoch 524/1000\n",
      "13/13 - 0s - loss: 0.0368 - 46ms/epoch - 4ms/step\n",
      "Epoch 525/1000\n",
      "13/13 - 0s - loss: 0.0369 - 47ms/epoch - 4ms/step\n",
      "Epoch 526/1000\n",
      "13/13 - 0s - loss: 0.0369 - 46ms/epoch - 4ms/step\n",
      "Epoch 527/1000\n",
      "13/13 - 0s - loss: 0.0370 - 44ms/epoch - 3ms/step\n",
      "Epoch 528/1000\n",
      "13/13 - 0s - loss: 0.0368 - 42ms/epoch - 3ms/step\n",
      "Epoch 529/1000\n",
      "13/13 - 0s - loss: 0.0369 - 48ms/epoch - 4ms/step\n",
      "Epoch 530/1000\n",
      "13/13 - 0s - loss: 0.0368 - 45ms/epoch - 3ms/step\n",
      "Epoch 531/1000\n",
      "13/13 - 0s - loss: 0.0368 - 62ms/epoch - 5ms/step\n",
      "Epoch 532/1000\n",
      "13/13 - 0s - loss: 0.0371 - 50ms/epoch - 4ms/step\n",
      "Epoch 533/1000\n",
      "13/13 - 0s - loss: 0.0369 - 54ms/epoch - 4ms/step\n",
      "Epoch 534/1000\n",
      "13/13 - 0s - loss: 0.0368 - 58ms/epoch - 4ms/step\n",
      "Epoch 535/1000\n",
      "13/13 - 0s - loss: 0.0368 - 57ms/epoch - 4ms/step\n",
      "Epoch 536/1000\n",
      "13/13 - 0s - loss: 0.0368 - 45ms/epoch - 3ms/step\n",
      "Epoch 537/1000\n",
      "13/13 - 0s - loss: 0.0368 - 41ms/epoch - 3ms/step\n",
      "Epoch 538/1000\n",
      "13/13 - 0s - loss: 0.0368 - 47ms/epoch - 4ms/step\n",
      "Epoch 539/1000\n",
      "13/13 - 0s - loss: 0.0368 - 40ms/epoch - 3ms/step\n",
      "Epoch 540/1000\n",
      "13/13 - 0s - loss: 0.0370 - 40ms/epoch - 3ms/step\n",
      "Epoch 541/1000\n",
      "13/13 - 0s - loss: 0.0370 - 52ms/epoch - 4ms/step\n",
      "Epoch 542/1000\n",
      "13/13 - 0s - loss: 0.0368 - 52ms/epoch - 4ms/step\n",
      "Epoch 543/1000\n",
      "13/13 - 0s - loss: 0.0368 - 45ms/epoch - 3ms/step\n",
      "Epoch 544/1000\n",
      "13/13 - 0s - loss: 0.0368 - 38ms/epoch - 3ms/step\n",
      "Epoch 545/1000\n",
      "13/13 - 0s - loss: 0.0369 - 39ms/epoch - 3ms/step\n",
      "Epoch 546/1000\n",
      "13/13 - 0s - loss: 0.0368 - 39ms/epoch - 3ms/step\n",
      "Epoch 547/1000\n",
      "13/13 - 0s - loss: 0.0368 - 41ms/epoch - 3ms/step\n",
      "Epoch 548/1000\n",
      "13/13 - 0s - loss: 0.0368 - 38ms/epoch - 3ms/step\n",
      "Epoch 549/1000\n",
      "13/13 - 0s - loss: 0.0368 - 39ms/epoch - 3ms/step\n",
      "Epoch 550/1000\n",
      "13/13 - 0s - loss: 0.0368 - 39ms/epoch - 3ms/step\n",
      "Epoch 551/1000\n",
      "13/13 - 0s - loss: 0.0369 - 41ms/epoch - 3ms/step\n",
      "Epoch 552/1000\n",
      "13/13 - 0s - loss: 0.0368 - 44ms/epoch - 3ms/step\n",
      "Epoch 553/1000\n",
      "13/13 - 0s - loss: 0.0368 - 37ms/epoch - 3ms/step\n",
      "Epoch 554/1000\n",
      "13/13 - 0s - loss: 0.0368 - 45ms/epoch - 3ms/step\n",
      "Epoch 555/1000\n",
      "13/13 - 0s - loss: 0.0368 - 51ms/epoch - 4ms/step\n",
      "Epoch 556/1000\n",
      "13/13 - 0s - loss: 0.0368 - 49ms/epoch - 4ms/step\n",
      "Epoch 557/1000\n",
      "13/13 - 0s - loss: 0.0368 - 41ms/epoch - 3ms/step\n",
      "Epoch 558/1000\n",
      "13/13 - 0s - loss: 0.0368 - 44ms/epoch - 3ms/step\n",
      "Epoch 559/1000\n",
      "13/13 - 0s - loss: 0.0368 - 46ms/epoch - 4ms/step\n",
      "Epoch 560/1000\n",
      "13/13 - 0s - loss: 0.0369 - 42ms/epoch - 3ms/step\n",
      "Epoch 561/1000\n",
      "13/13 - 0s - loss: 0.0368 - 49ms/epoch - 4ms/step\n",
      "Epoch 562/1000\n",
      "13/13 - 0s - loss: 0.0368 - 39ms/epoch - 3ms/step\n",
      "Epoch 563/1000\n",
      "13/13 - 0s - loss: 0.0368 - 36ms/epoch - 3ms/step\n",
      "Epoch 564/1000\n",
      "13/13 - 0s - loss: 0.0368 - 49ms/epoch - 4ms/step\n",
      "Epoch 565/1000\n",
      "13/13 - 0s - loss: 0.0368 - 43ms/epoch - 3ms/step\n",
      "Epoch 566/1000\n",
      "13/13 - 0s - loss: 0.0368 - 48ms/epoch - 4ms/step\n",
      "Epoch 567/1000\n",
      "13/13 - 0s - loss: 0.0368 - 48ms/epoch - 4ms/step\n",
      "Epoch 568/1000\n",
      "13/13 - 0s - loss: 0.0368 - 54ms/epoch - 4ms/step\n",
      "Epoch 569/1000\n",
      "13/13 - 0s - loss: 0.0369 - 42ms/epoch - 3ms/step\n",
      "Epoch 570/1000\n",
      "13/13 - 0s - loss: 0.0370 - 44ms/epoch - 3ms/step\n",
      "Epoch 571/1000\n",
      "13/13 - 0s - loss: 0.0369 - 45ms/epoch - 3ms/step\n",
      "Epoch 572/1000\n",
      "13/13 - 0s - loss: 0.0368 - 50ms/epoch - 4ms/step\n",
      "Epoch 573/1000\n",
      "13/13 - 0s - loss: 0.0370 - 75ms/epoch - 6ms/step\n",
      "Epoch 574/1000\n",
      "13/13 - 0s - loss: 0.0370 - 52ms/epoch - 4ms/step\n",
      "Epoch 575/1000\n",
      "13/13 - 0s - loss: 0.0368 - 47ms/epoch - 4ms/step\n",
      "Epoch 576/1000\n",
      "13/13 - 0s - loss: 0.0370 - 51ms/epoch - 4ms/step\n",
      "Epoch 577/1000\n",
      "13/13 - 0s - loss: 0.0373 - 46ms/epoch - 4ms/step\n",
      "Epoch 578/1000\n",
      "13/13 - 0s - loss: 0.0368 - 47ms/epoch - 4ms/step\n",
      "Epoch 579/1000\n",
      "13/13 - 0s - loss: 0.0368 - 41ms/epoch - 3ms/step\n",
      "Epoch 580/1000\n",
      "13/13 - 0s - loss: 0.0368 - 35ms/epoch - 3ms/step\n",
      "Epoch 581/1000\n",
      "13/13 - 0s - loss: 0.0369 - 42ms/epoch - 3ms/step\n",
      "Epoch 582/1000\n",
      "13/13 - 0s - loss: 0.0369 - 34ms/epoch - 3ms/step\n",
      "Epoch 583/1000\n",
      "13/13 - 0s - loss: 0.0368 - 35ms/epoch - 3ms/step\n",
      "Epoch 584/1000\n",
      "13/13 - 0s - loss: 0.0369 - 37ms/epoch - 3ms/step\n",
      "Epoch 585/1000\n",
      "13/13 - 0s - loss: 0.0368 - 37ms/epoch - 3ms/step\n",
      "Epoch 586/1000\n",
      "13/13 - 0s - loss: 0.0370 - 44ms/epoch - 3ms/step\n",
      "Epoch 587/1000\n",
      "13/13 - 0s - loss: 0.0370 - 40ms/epoch - 3ms/step\n",
      "Epoch 588/1000\n",
      "13/13 - 0s - loss: 0.0369 - 41ms/epoch - 3ms/step\n",
      "Epoch 589/1000\n",
      "13/13 - 0s - loss: 0.0371 - 38ms/epoch - 3ms/step\n",
      "Epoch 590/1000\n",
      "13/13 - 0s - loss: 0.0368 - 37ms/epoch - 3ms/step\n",
      "Epoch 591/1000\n",
      "13/13 - 0s - loss: 0.0368 - 40ms/epoch - 3ms/step\n",
      "Epoch 592/1000\n",
      "13/13 - 0s - loss: 0.0368 - 42ms/epoch - 3ms/step\n",
      "Epoch 593/1000\n",
      "13/13 - 0s - loss: 0.0368 - 39ms/epoch - 3ms/step\n",
      "Epoch 594/1000\n",
      "13/13 - 0s - loss: 0.0368 - 42ms/epoch - 3ms/step\n",
      "Epoch 595/1000\n",
      "13/13 - 0s - loss: 0.0368 - 44ms/epoch - 3ms/step\n",
      "Epoch 596/1000\n",
      "13/13 - 0s - loss: 0.0368 - 39ms/epoch - 3ms/step\n",
      "Epoch 597/1000\n",
      "13/13 - 0s - loss: 0.0368 - 45ms/epoch - 3ms/step\n",
      "Epoch 598/1000\n",
      "13/13 - 0s - loss: 0.0369 - 40ms/epoch - 3ms/step\n",
      "Epoch 599/1000\n",
      "13/13 - 0s - loss: 0.0369 - 39ms/epoch - 3ms/step\n",
      "Epoch 600/1000\n",
      "13/13 - 0s - loss: 0.0368 - 39ms/epoch - 3ms/step\n",
      "Epoch 601/1000\n",
      "13/13 - 0s - loss: 0.0368 - 48ms/epoch - 4ms/step\n",
      "Epoch 602/1000\n",
      "13/13 - 0s - loss: 0.0368 - 38ms/epoch - 3ms/step\n",
      "Epoch 603/1000\n",
      "13/13 - 0s - loss: 0.0368 - 36ms/epoch - 3ms/step\n",
      "Epoch 604/1000\n",
      "13/13 - 0s - loss: 0.0370 - 38ms/epoch - 3ms/step\n",
      "Epoch 605/1000\n",
      "13/13 - 0s - loss: 0.0369 - 41ms/epoch - 3ms/step\n",
      "Epoch 606/1000\n",
      "13/13 - 0s - loss: 0.0369 - 47ms/epoch - 4ms/step\n",
      "Epoch 607/1000\n",
      "13/13 - 0s - loss: 0.0368 - 53ms/epoch - 4ms/step\n",
      "Epoch 608/1000\n",
      "13/13 - 0s - loss: 0.0368 - 41ms/epoch - 3ms/step\n",
      "Epoch 609/1000\n",
      "13/13 - 0s - loss: 0.0368 - 43ms/epoch - 3ms/step\n",
      "Epoch 610/1000\n",
      "13/13 - 0s - loss: 0.0368 - 41ms/epoch - 3ms/step\n",
      "Epoch 611/1000\n",
      "13/13 - 0s - loss: 0.0369 - 38ms/epoch - 3ms/step\n",
      "Epoch 612/1000\n",
      "13/13 - 0s - loss: 0.0369 - 42ms/epoch - 3ms/step\n",
      "Epoch 613/1000\n",
      "13/13 - 0s - loss: 0.0369 - 40ms/epoch - 3ms/step\n",
      "Epoch 614/1000\n",
      "13/13 - 0s - loss: 0.0368 - 39ms/epoch - 3ms/step\n",
      "Epoch 615/1000\n",
      "13/13 - 0s - loss: 0.0368 - 38ms/epoch - 3ms/step\n",
      "Epoch 616/1000\n",
      "13/13 - 0s - loss: 0.0368 - 37ms/epoch - 3ms/step\n",
      "Epoch 617/1000\n",
      "13/13 - 0s - loss: 0.0369 - 42ms/epoch - 3ms/step\n",
      "Epoch 618/1000\n",
      "13/13 - 0s - loss: 0.0368 - 40ms/epoch - 3ms/step\n",
      "Epoch 619/1000\n",
      "13/13 - 0s - loss: 0.0370 - 38ms/epoch - 3ms/step\n",
      "Epoch 620/1000\n",
      "13/13 - 0s - loss: 0.0368 - 43ms/epoch - 3ms/step\n",
      "Epoch 621/1000\n",
      "13/13 - 0s - loss: 0.0368 - 40ms/epoch - 3ms/step\n",
      "Epoch 622/1000\n",
      "13/13 - 0s - loss: 0.0371 - 46ms/epoch - 4ms/step\n",
      "Epoch 623/1000\n",
      "13/13 - 0s - loss: 0.0368 - 41ms/epoch - 3ms/step\n",
      "Epoch 624/1000\n",
      "13/13 - 0s - loss: 0.0368 - 35ms/epoch - 3ms/step\n",
      "Epoch 625/1000\n",
      "13/13 - 0s - loss: 0.0368 - 40ms/epoch - 3ms/step\n",
      "Epoch 626/1000\n",
      "13/13 - 0s - loss: 0.0368 - 56ms/epoch - 4ms/step\n",
      "Epoch 627/1000\n",
      "13/13 - 0s - loss: 0.0368 - 41ms/epoch - 3ms/step\n",
      "Epoch 628/1000\n",
      "13/13 - 0s - loss: 0.0368 - 47ms/epoch - 4ms/step\n",
      "Epoch 629/1000\n",
      "13/13 - 0s - loss: 0.0368 - 43ms/epoch - 3ms/step\n",
      "Epoch 630/1000\n",
      "13/13 - 0s - loss: 0.0370 - 40ms/epoch - 3ms/step\n",
      "Epoch 631/1000\n",
      "13/13 - 0s - loss: 0.0369 - 49ms/epoch - 4ms/step\n",
      "Epoch 632/1000\n",
      "13/13 - 0s - loss: 0.0369 - 46ms/epoch - 4ms/step\n",
      "Epoch 633/1000\n",
      "13/13 - 0s - loss: 0.0369 - 42ms/epoch - 3ms/step\n",
      "Epoch 634/1000\n",
      "13/13 - 0s - loss: 0.0368 - 46ms/epoch - 4ms/step\n",
      "Epoch 635/1000\n",
      "13/13 - 0s - loss: 0.0368 - 44ms/epoch - 3ms/step\n",
      "Epoch 636/1000\n",
      "13/13 - 0s - loss: 0.0368 - 42ms/epoch - 3ms/step\n",
      "Epoch 637/1000\n",
      "13/13 - 0s - loss: 0.0368 - 41ms/epoch - 3ms/step\n",
      "Epoch 638/1000\n",
      "13/13 - 0s - loss: 0.0368 - 38ms/epoch - 3ms/step\n",
      "Epoch 639/1000\n",
      "13/13 - 0s - loss: 0.0368 - 64ms/epoch - 5ms/step\n",
      "Epoch 640/1000\n",
      "13/13 - 0s - loss: 0.0369 - 54ms/epoch - 4ms/step\n",
      "Epoch 641/1000\n",
      "13/13 - 0s - loss: 0.0368 - 43ms/epoch - 3ms/step\n",
      "Epoch 642/1000\n",
      "13/13 - 0s - loss: 0.0368 - 32ms/epoch - 2ms/step\n",
      "Epoch 643/1000\n",
      "13/13 - 0s - loss: 0.0369 - 41ms/epoch - 3ms/step\n",
      "Epoch 644/1000\n",
      "13/13 - 0s - loss: 0.0368 - 37ms/epoch - 3ms/step\n",
      "Epoch 645/1000\n",
      "13/13 - 0s - loss: 0.0369 - 36ms/epoch - 3ms/step\n",
      "Epoch 646/1000\n",
      "13/13 - 0s - loss: 0.0369 - 37ms/epoch - 3ms/step\n",
      "Epoch 647/1000\n",
      "13/13 - 0s - loss: 0.0368 - 33ms/epoch - 3ms/step\n",
      "Epoch 648/1000\n",
      "13/13 - 0s - loss: 0.0368 - 36ms/epoch - 3ms/step\n",
      "Epoch 649/1000\n",
      "13/13 - 0s - loss: 0.0369 - 34ms/epoch - 3ms/step\n",
      "Epoch 650/1000\n",
      "13/13 - 0s - loss: 0.0368 - 37ms/epoch - 3ms/step\n",
      "Epoch 651/1000\n",
      "13/13 - 0s - loss: 0.0369 - 36ms/epoch - 3ms/step\n",
      "Epoch 652/1000\n",
      "13/13 - 0s - loss: 0.0368 - 38ms/epoch - 3ms/step\n",
      "Epoch 653/1000\n",
      "13/13 - 0s - loss: 0.0368 - 38ms/epoch - 3ms/step\n",
      "Epoch 654/1000\n",
      "13/13 - 0s - loss: 0.0368 - 37ms/epoch - 3ms/step\n",
      "Epoch 655/1000\n",
      "13/13 - 0s - loss: 0.0368 - 38ms/epoch - 3ms/step\n",
      "Epoch 656/1000\n",
      "13/13 - 0s - loss: 0.0369 - 39ms/epoch - 3ms/step\n",
      "Epoch 657/1000\n",
      "13/13 - 0s - loss: 0.0369 - 43ms/epoch - 3ms/step\n",
      "Epoch 658/1000\n",
      "13/13 - 0s - loss: 0.0368 - 55ms/epoch - 4ms/step\n",
      "Epoch 659/1000\n",
      "13/13 - 0s - loss: 0.0369 - 44ms/epoch - 3ms/step\n",
      "Epoch 660/1000\n",
      "13/13 - 0s - loss: 0.0368 - 54ms/epoch - 4ms/step\n",
      "Epoch 661/1000\n",
      "13/13 - 0s - loss: 0.0368 - 49ms/epoch - 4ms/step\n",
      "Epoch 662/1000\n",
      "13/13 - 0s - loss: 0.0369 - 42ms/epoch - 3ms/step\n",
      "Epoch 663/1000\n",
      "13/13 - 0s - loss: 0.0369 - 76ms/epoch - 6ms/step\n",
      "Epoch 664/1000\n",
      "13/13 - 0s - loss: 0.0369 - 57ms/epoch - 4ms/step\n",
      "Epoch 665/1000\n",
      "13/13 - 0s - loss: 0.0368 - 52ms/epoch - 4ms/step\n",
      "Epoch 666/1000\n",
      "13/13 - 0s - loss: 0.0371 - 54ms/epoch - 4ms/step\n",
      "Epoch 667/1000\n",
      "13/13 - 0s - loss: 0.0368 - 39ms/epoch - 3ms/step\n",
      "Epoch 668/1000\n",
      "13/13 - 0s - loss: 0.0368 - 46ms/epoch - 4ms/step\n",
      "Epoch 669/1000\n",
      "13/13 - 0s - loss: 0.0369 - 39ms/epoch - 3ms/step\n",
      "Epoch 670/1000\n",
      "13/13 - 0s - loss: 0.0368 - 50ms/epoch - 4ms/step\n",
      "Epoch 671/1000\n",
      "13/13 - 0s - loss: 0.0368 - 49ms/epoch - 4ms/step\n",
      "Epoch 672/1000\n",
      "13/13 - 0s - loss: 0.0368 - 55ms/epoch - 4ms/step\n",
      "Epoch 673/1000\n",
      "13/13 - 0s - loss: 0.0368 - 50ms/epoch - 4ms/step\n",
      "Epoch 674/1000\n",
      "13/13 - 0s - loss: 0.0368 - 50ms/epoch - 4ms/step\n",
      "Epoch 675/1000\n",
      "13/13 - 0s - loss: 0.0369 - 50ms/epoch - 4ms/step\n",
      "Epoch 676/1000\n",
      "13/13 - 0s - loss: 0.0368 - 52ms/epoch - 4ms/step\n",
      "Epoch 677/1000\n",
      "13/13 - 0s - loss: 0.0368 - 48ms/epoch - 4ms/step\n",
      "Epoch 678/1000\n",
      "13/13 - 0s - loss: 0.0368 - 47ms/epoch - 4ms/step\n",
      "Epoch 679/1000\n",
      "13/13 - 0s - loss: 0.0369 - 49ms/epoch - 4ms/step\n",
      "Epoch 680/1000\n",
      "13/13 - 0s - loss: 0.0369 - 51ms/epoch - 4ms/step\n",
      "Epoch 681/1000\n",
      "13/13 - 0s - loss: 0.0368 - 52ms/epoch - 4ms/step\n",
      "Epoch 682/1000\n",
      "13/13 - 0s - loss: 0.0368 - 72ms/epoch - 6ms/step\n",
      "Epoch 683/1000\n",
      "13/13 - 0s - loss: 0.0369 - 53ms/epoch - 4ms/step\n",
      "Epoch 684/1000\n",
      "13/13 - 0s - loss: 0.0369 - 54ms/epoch - 4ms/step\n",
      "Epoch 685/1000\n",
      "13/13 - 0s - loss: 0.0369 - 38ms/epoch - 3ms/step\n",
      "Epoch 686/1000\n",
      "13/13 - 0s - loss: 0.0371 - 44ms/epoch - 3ms/step\n",
      "Epoch 687/1000\n",
      "13/13 - 0s - loss: 0.0368 - 48ms/epoch - 4ms/step\n",
      "Epoch 688/1000\n",
      "13/13 - 0s - loss: 0.0369 - 42ms/epoch - 3ms/step\n",
      "Epoch 689/1000\n",
      "13/13 - 0s - loss: 0.0368 - 36ms/epoch - 3ms/step\n",
      "Epoch 690/1000\n",
      "13/13 - 0s - loss: 0.0368 - 39ms/epoch - 3ms/step\n",
      "Epoch 691/1000\n",
      "13/13 - 0s - loss: 0.0368 - 43ms/epoch - 3ms/step\n",
      "Epoch 692/1000\n",
      "13/13 - 0s - loss: 0.0368 - 43ms/epoch - 3ms/step\n",
      "Epoch 693/1000\n",
      "13/13 - 0s - loss: 0.0368 - 40ms/epoch - 3ms/step\n",
      "Epoch 694/1000\n",
      "13/13 - 0s - loss: 0.0369 - 34ms/epoch - 3ms/step\n",
      "Epoch 695/1000\n",
      "13/13 - 0s - loss: 0.0368 - 41ms/epoch - 3ms/step\n",
      "Epoch 696/1000\n",
      "13/13 - 0s - loss: 0.0368 - 40ms/epoch - 3ms/step\n",
      "Epoch 697/1000\n",
      "13/13 - 0s - loss: 0.0368 - 40ms/epoch - 3ms/step\n",
      "Epoch 698/1000\n",
      "13/13 - 0s - loss: 0.0368 - 41ms/epoch - 3ms/step\n",
      "Epoch 699/1000\n",
      "13/13 - 0s - loss: 0.0368 - 36ms/epoch - 3ms/step\n",
      "Epoch 700/1000\n",
      "13/13 - 0s - loss: 0.0368 - 39ms/epoch - 3ms/step\n",
      "Epoch 701/1000\n",
      "13/13 - 0s - loss: 0.0368 - 40ms/epoch - 3ms/step\n",
      "Epoch 702/1000\n",
      "13/13 - 0s - loss: 0.0369 - 56ms/epoch - 4ms/step\n",
      "Epoch 703/1000\n",
      "13/13 - 0s - loss: 0.0368 - 46ms/epoch - 4ms/step\n",
      "Epoch 704/1000\n",
      "13/13 - 0s - loss: 0.0368 - 42ms/epoch - 3ms/step\n",
      "Epoch 705/1000\n",
      "13/13 - 0s - loss: 0.0368 - 38ms/epoch - 3ms/step\n",
      "Epoch 706/1000\n",
      "13/13 - 0s - loss: 0.0369 - 40ms/epoch - 3ms/step\n",
      "Epoch 707/1000\n",
      "13/13 - 0s - loss: 0.0369 - 37ms/epoch - 3ms/step\n",
      "Epoch 708/1000\n",
      "13/13 - 0s - loss: 0.0369 - 43ms/epoch - 3ms/step\n",
      "Epoch 709/1000\n",
      "13/13 - 0s - loss: 0.0371 - 39ms/epoch - 3ms/step\n",
      "Epoch 710/1000\n",
      "13/13 - 0s - loss: 0.0368 - 36ms/epoch - 3ms/step\n",
      "Epoch 711/1000\n",
      "13/13 - 0s - loss: 0.0368 - 54ms/epoch - 4ms/step\n",
      "Epoch 712/1000\n",
      "13/13 - 0s - loss: 0.0369 - 47ms/epoch - 4ms/step\n",
      "Epoch 713/1000\n",
      "13/13 - 0s - loss: 0.0368 - 38ms/epoch - 3ms/step\n",
      "Epoch 714/1000\n",
      "13/13 - 0s - loss: 0.0368 - 43ms/epoch - 3ms/step\n",
      "Epoch 715/1000\n",
      "13/13 - 0s - loss: 0.0369 - 41ms/epoch - 3ms/step\n",
      "Epoch 716/1000\n",
      "13/13 - 0s - loss: 0.0368 - 40ms/epoch - 3ms/step\n",
      "Epoch 717/1000\n",
      "13/13 - 0s - loss: 0.0368 - 37ms/epoch - 3ms/step\n",
      "Epoch 718/1000\n",
      "13/13 - 0s - loss: 0.0368 - 38ms/epoch - 3ms/step\n",
      "Epoch 719/1000\n",
      "13/13 - 0s - loss: 0.0369 - 36ms/epoch - 3ms/step\n",
      "Epoch 720/1000\n",
      "13/13 - 0s - loss: 0.0368 - 35ms/epoch - 3ms/step\n",
      "Epoch 721/1000\n",
      "13/13 - 0s - loss: 0.0368 - 40ms/epoch - 3ms/step\n",
      "Epoch 722/1000\n",
      "13/13 - 0s - loss: 0.0368 - 39ms/epoch - 3ms/step\n",
      "Epoch 723/1000\n",
      "13/13 - 0s - loss: 0.0368 - 38ms/epoch - 3ms/step\n",
      "Epoch 724/1000\n",
      "13/13 - 0s - loss: 0.0369 - 37ms/epoch - 3ms/step\n",
      "Epoch 725/1000\n",
      "13/13 - 0s - loss: 0.0369 - 38ms/epoch - 3ms/step\n",
      "Epoch 726/1000\n",
      "13/13 - 0s - loss: 0.0368 - 39ms/epoch - 3ms/step\n",
      "Epoch 727/1000\n",
      "13/13 - 0s - loss: 0.0368 - 44ms/epoch - 3ms/step\n",
      "Epoch 728/1000\n",
      "13/13 - 0s - loss: 0.0368 - 39ms/epoch - 3ms/step\n",
      "Epoch 729/1000\n",
      "13/13 - 0s - loss: 0.0368 - 44ms/epoch - 3ms/step\n",
      "Epoch 730/1000\n",
      "13/13 - 0s - loss: 0.0368 - 50ms/epoch - 4ms/step\n",
      "Epoch 731/1000\n",
      "13/13 - 0s - loss: 0.0368 - 49ms/epoch - 4ms/step\n",
      "Epoch 732/1000\n",
      "13/13 - 0s - loss: 0.0368 - 41ms/epoch - 3ms/step\n",
      "Epoch 733/1000\n",
      "13/13 - 0s - loss: 0.0369 - 38ms/epoch - 3ms/step\n",
      "Epoch 734/1000\n",
      "13/13 - 0s - loss: 0.0368 - 57ms/epoch - 4ms/step\n",
      "Epoch 735/1000\n",
      "13/13 - 0s - loss: 0.0368 - 50ms/epoch - 4ms/step\n",
      "Epoch 736/1000\n",
      "13/13 - 0s - loss: 0.0368 - 45ms/epoch - 3ms/step\n",
      "Epoch 737/1000\n",
      "13/13 - 0s - loss: 0.0368 - 42ms/epoch - 3ms/step\n",
      "Epoch 738/1000\n",
      "13/13 - 0s - loss: 0.0368 - 35ms/epoch - 3ms/step\n",
      "Epoch 739/1000\n",
      "13/13 - 0s - loss: 0.0369 - 38ms/epoch - 3ms/step\n",
      "Epoch 740/1000\n",
      "13/13 - 0s - loss: 0.0369 - 38ms/epoch - 3ms/step\n",
      "Epoch 741/1000\n",
      "13/13 - 0s - loss: 0.0369 - 38ms/epoch - 3ms/step\n",
      "Epoch 742/1000\n",
      "13/13 - 0s - loss: 0.0368 - 37ms/epoch - 3ms/step\n",
      "Epoch 743/1000\n",
      "13/13 - 0s - loss: 0.0369 - 38ms/epoch - 3ms/step\n",
      "Epoch 744/1000\n",
      "13/13 - 0s - loss: 0.0368 - 37ms/epoch - 3ms/step\n",
      "Epoch 745/1000\n",
      "13/13 - 0s - loss: 0.0368 - 39ms/epoch - 3ms/step\n",
      "Epoch 746/1000\n",
      "13/13 - 0s - loss: 0.0368 - 39ms/epoch - 3ms/step\n",
      "Epoch 747/1000\n",
      "13/13 - 0s - loss: 0.0368 - 38ms/epoch - 3ms/step\n",
      "Epoch 748/1000\n",
      "13/13 - 0s - loss: 0.0368 - 38ms/epoch - 3ms/step\n",
      "Epoch 749/1000\n",
      "13/13 - 0s - loss: 0.0372 - 42ms/epoch - 3ms/step\n",
      "Epoch 750/1000\n",
      "13/13 - 0s - loss: 0.0370 - 33ms/epoch - 3ms/step\n",
      "Epoch 751/1000\n",
      "13/13 - 0s - loss: 0.0369 - 40ms/epoch - 3ms/step\n",
      "Epoch 752/1000\n",
      "13/13 - 0s - loss: 0.0369 - 37ms/epoch - 3ms/step\n",
      "Epoch 753/1000\n",
      "13/13 - 0s - loss: 0.0368 - 41ms/epoch - 3ms/step\n",
      "Epoch 754/1000\n",
      "13/13 - 0s - loss: 0.0369 - 38ms/epoch - 3ms/step\n",
      "Epoch 755/1000\n",
      "13/13 - 0s - loss: 0.0368 - 45ms/epoch - 3ms/step\n",
      "Epoch 756/1000\n",
      "13/13 - 0s - loss: 0.0368 - 41ms/epoch - 3ms/step\n",
      "Epoch 757/1000\n",
      "13/13 - 0s - loss: 0.0368 - 39ms/epoch - 3ms/step\n",
      "Epoch 758/1000\n",
      "13/13 - 0s - loss: 0.0370 - 38ms/epoch - 3ms/step\n",
      "Epoch 759/1000\n",
      "13/13 - 0s - loss: 0.0368 - 36ms/epoch - 3ms/step\n",
      "Epoch 760/1000\n",
      "13/13 - 0s - loss: 0.0369 - 38ms/epoch - 3ms/step\n",
      "Epoch 761/1000\n",
      "13/13 - 0s - loss: 0.0369 - 41ms/epoch - 3ms/step\n",
      "Epoch 762/1000\n",
      "13/13 - 0s - loss: 0.0368 - 38ms/epoch - 3ms/step\n",
      "Epoch 763/1000\n",
      "13/13 - 0s - loss: 0.0368 - 44ms/epoch - 3ms/step\n",
      "Epoch 764/1000\n",
      "13/13 - 0s - loss: 0.0370 - 48ms/epoch - 4ms/step\n",
      "Epoch 765/1000\n",
      "13/13 - 0s - loss: 0.0369 - 42ms/epoch - 3ms/step\n",
      "Epoch 766/1000\n",
      "13/13 - 0s - loss: 0.0370 - 34ms/epoch - 3ms/step\n",
      "Epoch 767/1000\n",
      "13/13 - 0s - loss: 0.0370 - 40ms/epoch - 3ms/step\n",
      "Epoch 768/1000\n",
      "13/13 - 0s - loss: 0.0368 - 35ms/epoch - 3ms/step\n",
      "Epoch 769/1000\n",
      "13/13 - 0s - loss: 0.0368 - 40ms/epoch - 3ms/step\n",
      "Epoch 770/1000\n",
      "13/13 - 0s - loss: 0.0368 - 40ms/epoch - 3ms/step\n",
      "Epoch 771/1000\n",
      "13/13 - 0s - loss: 0.0370 - 37ms/epoch - 3ms/step\n",
      "Epoch 772/1000\n",
      "13/13 - 0s - loss: 0.0368 - 37ms/epoch - 3ms/step\n",
      "Epoch 773/1000\n",
      "13/13 - 0s - loss: 0.0368 - 35ms/epoch - 3ms/step\n",
      "Epoch 774/1000\n",
      "13/13 - 0s - loss: 0.0368 - 41ms/epoch - 3ms/step\n",
      "Epoch 775/1000\n",
      "13/13 - 0s - loss: 0.0368 - 41ms/epoch - 3ms/step\n",
      "Epoch 776/1000\n",
      "13/13 - 0s - loss: 0.0370 - 36ms/epoch - 3ms/step\n",
      "Epoch 777/1000\n",
      "13/13 - 0s - loss: 0.0368 - 39ms/epoch - 3ms/step\n",
      "Epoch 778/1000\n",
      "13/13 - 0s - loss: 0.0368 - 38ms/epoch - 3ms/step\n",
      "Epoch 779/1000\n",
      "13/13 - 0s - loss: 0.0368 - 40ms/epoch - 3ms/step\n",
      "Epoch 780/1000\n",
      "13/13 - 0s - loss: 0.0371 - 36ms/epoch - 3ms/step\n",
      "Epoch 781/1000\n",
      "13/13 - 0s - loss: 0.0369 - 41ms/epoch - 3ms/step\n",
      "Epoch 782/1000\n",
      "13/13 - 0s - loss: 0.0368 - 41ms/epoch - 3ms/step\n",
      "Epoch 783/1000\n",
      "13/13 - 0s - loss: 0.0368 - 40ms/epoch - 3ms/step\n",
      "Epoch 784/1000\n",
      "13/13 - 0s - loss: 0.0368 - 37ms/epoch - 3ms/step\n",
      "Epoch 785/1000\n",
      "13/13 - 0s - loss: 0.0368 - 32ms/epoch - 2ms/step\n",
      "Epoch 786/1000\n",
      "13/13 - 0s - loss: 0.0369 - 40ms/epoch - 3ms/step\n",
      "Epoch 787/1000\n",
      "13/13 - 0s - loss: 0.0368 - 47ms/epoch - 4ms/step\n",
      "Epoch 788/1000\n",
      "13/13 - 0s - loss: 0.0368 - 42ms/epoch - 3ms/step\n",
      "Epoch 789/1000\n",
      "13/13 - 0s - loss: 0.0368 - 41ms/epoch - 3ms/step\n",
      "Epoch 790/1000\n",
      "13/13 - 0s - loss: 0.0369 - 40ms/epoch - 3ms/step\n",
      "Epoch 791/1000\n",
      "13/13 - 0s - loss: 0.0368 - 38ms/epoch - 3ms/step\n",
      "Epoch 792/1000\n",
      "13/13 - 0s - loss: 0.0369 - 35ms/epoch - 3ms/step\n",
      "Epoch 793/1000\n",
      "13/13 - 0s - loss: 0.0368 - 41ms/epoch - 3ms/step\n",
      "Epoch 794/1000\n",
      "13/13 - 0s - loss: 0.0368 - 40ms/epoch - 3ms/step\n",
      "Epoch 795/1000\n",
      "13/13 - 0s - loss: 0.0368 - 35ms/epoch - 3ms/step\n",
      "Epoch 796/1000\n",
      "13/13 - 0s - loss: 0.0368 - 42ms/epoch - 3ms/step\n",
      "Epoch 797/1000\n",
      "13/13 - 0s - loss: 0.0368 - 52ms/epoch - 4ms/step\n",
      "Epoch 798/1000\n",
      "13/13 - 0s - loss: 0.0369 - 43ms/epoch - 3ms/step\n",
      "Epoch 799/1000\n",
      "13/13 - 0s - loss: 0.0368 - 39ms/epoch - 3ms/step\n",
      "Epoch 800/1000\n",
      "13/13 - 0s - loss: 0.0368 - 37ms/epoch - 3ms/step\n",
      "Epoch 801/1000\n",
      "13/13 - 0s - loss: 0.0368 - 39ms/epoch - 3ms/step\n",
      "Epoch 802/1000\n",
      "13/13 - 0s - loss: 0.0372 - 39ms/epoch - 3ms/step\n",
      "Epoch 803/1000\n",
      "13/13 - 0s - loss: 0.0368 - 39ms/epoch - 3ms/step\n",
      "Epoch 804/1000\n",
      "13/13 - 0s - loss: 0.0369 - 37ms/epoch - 3ms/step\n",
      "Epoch 805/1000\n",
      "13/13 - 0s - loss: 0.0368 - 39ms/epoch - 3ms/step\n",
      "Epoch 806/1000\n",
      "13/13 - 0s - loss: 0.0369 - 37ms/epoch - 3ms/step\n",
      "Epoch 807/1000\n",
      "13/13 - 0s - loss: 0.0368 - 39ms/epoch - 3ms/step\n",
      "Epoch 808/1000\n",
      "13/13 - 0s - loss: 0.0369 - 38ms/epoch - 3ms/step\n",
      "Epoch 809/1000\n",
      "13/13 - 0s - loss: 0.0368 - 40ms/epoch - 3ms/step\n",
      "Epoch 810/1000\n",
      "13/13 - 0s - loss: 0.0368 - 38ms/epoch - 3ms/step\n",
      "Epoch 811/1000\n",
      "13/13 - 0s - loss: 0.0368 - 41ms/epoch - 3ms/step\n",
      "Epoch 812/1000\n",
      "13/13 - 0s - loss: 0.0368 - 37ms/epoch - 3ms/step\n",
      "Epoch 813/1000\n",
      "13/13 - 0s - loss: 0.0368 - 38ms/epoch - 3ms/step\n",
      "Epoch 814/1000\n",
      "13/13 - 0s - loss: 0.0370 - 42ms/epoch - 3ms/step\n",
      "Epoch 815/1000\n",
      "13/13 - 0s - loss: 0.0369 - 41ms/epoch - 3ms/step\n",
      "Epoch 816/1000\n",
      "13/13 - 0s - loss: 0.0372 - 42ms/epoch - 3ms/step\n",
      "Epoch 817/1000\n",
      "13/13 - 0s - loss: 0.0368 - 36ms/epoch - 3ms/step\n",
      "Epoch 818/1000\n",
      "13/13 - 0s - loss: 0.0368 - 38ms/epoch - 3ms/step\n",
      "Epoch 819/1000\n",
      "13/13 - 0s - loss: 0.0372 - 35ms/epoch - 3ms/step\n",
      "Epoch 820/1000\n",
      "13/13 - 0s - loss: 0.0368 - 45ms/epoch - 3ms/step\n",
      "Epoch 821/1000\n",
      "13/13 - 0s - loss: 0.0368 - 45ms/epoch - 3ms/step\n",
      "Epoch 822/1000\n",
      "13/13 - 0s - loss: 0.0368 - 47ms/epoch - 4ms/step\n",
      "Epoch 823/1000\n",
      "13/13 - 0s - loss: 0.0368 - 41ms/epoch - 3ms/step\n",
      "Epoch 824/1000\n",
      "13/13 - 0s - loss: 0.0369 - 42ms/epoch - 3ms/step\n",
      "Epoch 825/1000\n",
      "13/13 - 0s - loss: 0.0368 - 42ms/epoch - 3ms/step\n",
      "Epoch 826/1000\n",
      "13/13 - 0s - loss: 0.0368 - 46ms/epoch - 4ms/step\n",
      "Epoch 827/1000\n",
      "13/13 - 0s - loss: 0.0369 - 40ms/epoch - 3ms/step\n",
      "Epoch 828/1000\n",
      "13/13 - 0s - loss: 0.0368 - 43ms/epoch - 3ms/step\n",
      "Epoch 829/1000\n",
      "13/13 - 0s - loss: 0.0367 - 42ms/epoch - 3ms/step\n",
      "Epoch 830/1000\n",
      "13/13 - 0s - loss: 0.0369 - 58ms/epoch - 4ms/step\n",
      "Epoch 831/1000\n",
      "13/13 - 0s - loss: 0.0368 - 47ms/epoch - 4ms/step\n",
      "Epoch 832/1000\n",
      "13/13 - 0s - loss: 0.0368 - 38ms/epoch - 3ms/step\n",
      "Epoch 833/1000\n",
      "13/13 - 0s - loss: 0.0368 - 43ms/epoch - 3ms/step\n",
      "Epoch 834/1000\n",
      "13/13 - 0s - loss: 0.0369 - 38ms/epoch - 3ms/step\n",
      "Epoch 835/1000\n",
      "13/13 - 0s - loss: 0.0368 - 43ms/epoch - 3ms/step\n",
      "Epoch 836/1000\n",
      "13/13 - 0s - loss: 0.0368 - 46ms/epoch - 4ms/step\n",
      "Epoch 837/1000\n",
      "13/13 - 0s - loss: 0.0369 - 44ms/epoch - 3ms/step\n",
      "Epoch 838/1000\n",
      "13/13 - 0s - loss: 0.0368 - 40ms/epoch - 3ms/step\n",
      "Epoch 839/1000\n",
      "13/13 - 0s - loss: 0.0368 - 45ms/epoch - 3ms/step\n",
      "Epoch 840/1000\n",
      "13/13 - 0s - loss: 0.0368 - 42ms/epoch - 3ms/step\n",
      "Epoch 841/1000\n",
      "13/13 - 0s - loss: 0.0369 - 37ms/epoch - 3ms/step\n",
      "Epoch 842/1000\n",
      "13/13 - 0s - loss: 0.0369 - 40ms/epoch - 3ms/step\n",
      "Epoch 843/1000\n",
      "13/13 - 0s - loss: 0.0368 - 41ms/epoch - 3ms/step\n",
      "Epoch 844/1000\n",
      "13/13 - 0s - loss: 0.0368 - 37ms/epoch - 3ms/step\n",
      "Epoch 845/1000\n",
      "13/13 - 0s - loss: 0.0369 - 39ms/epoch - 3ms/step\n",
      "Epoch 846/1000\n",
      "13/13 - 0s - loss: 0.0369 - 41ms/epoch - 3ms/step\n",
      "Epoch 847/1000\n",
      "13/13 - 0s - loss: 0.0369 - 35ms/epoch - 3ms/step\n",
      "Epoch 848/1000\n",
      "13/13 - 0s - loss: 0.0369 - 36ms/epoch - 3ms/step\n",
      "Epoch 849/1000\n",
      "13/13 - 0s - loss: 0.0368 - 39ms/epoch - 3ms/step\n",
      "Epoch 850/1000\n",
      "13/13 - 0s - loss: 0.0369 - 40ms/epoch - 3ms/step\n",
      "Epoch 851/1000\n",
      "13/13 - 0s - loss: 0.0368 - 36ms/epoch - 3ms/step\n",
      "Epoch 852/1000\n",
      "13/13 - 0s - loss: 0.0368 - 36ms/epoch - 3ms/step\n",
      "Epoch 853/1000\n",
      "13/13 - 0s - loss: 0.0369 - 47ms/epoch - 4ms/step\n",
      "Epoch 854/1000\n",
      "13/13 - 0s - loss: 0.0369 - 42ms/epoch - 3ms/step\n",
      "Epoch 855/1000\n",
      "13/13 - 0s - loss: 0.0368 - 46ms/epoch - 4ms/step\n",
      "Epoch 856/1000\n",
      "13/13 - 0s - loss: 0.0368 - 36ms/epoch - 3ms/step\n",
      "Epoch 857/1000\n",
      "13/13 - 0s - loss: 0.0368 - 36ms/epoch - 3ms/step\n",
      "Epoch 858/1000\n",
      "13/13 - 0s - loss: 0.0369 - 37ms/epoch - 3ms/step\n",
      "Epoch 859/1000\n",
      "13/13 - 0s - loss: 0.0369 - 37ms/epoch - 3ms/step\n",
      "Epoch 860/1000\n",
      "13/13 - 0s - loss: 0.0369 - 55ms/epoch - 4ms/step\n",
      "Epoch 861/1000\n",
      "13/13 - 0s - loss: 0.0368 - 47ms/epoch - 4ms/step\n",
      "Epoch 862/1000\n",
      "13/13 - 0s - loss: 0.0369 - 42ms/epoch - 3ms/step\n",
      "Epoch 863/1000\n",
      "13/13 - 0s - loss: 0.0368 - 39ms/epoch - 3ms/step\n",
      "Epoch 864/1000\n",
      "13/13 - 0s - loss: 0.0369 - 39ms/epoch - 3ms/step\n",
      "Epoch 865/1000\n",
      "13/13 - 0s - loss: 0.0368 - 45ms/epoch - 3ms/step\n",
      "Epoch 866/1000\n",
      "13/13 - 0s - loss: 0.0369 - 50ms/epoch - 4ms/step\n",
      "Epoch 867/1000\n",
      "13/13 - 0s - loss: 0.0368 - 46ms/epoch - 4ms/step\n",
      "Epoch 868/1000\n",
      "13/13 - 0s - loss: 0.0368 - 48ms/epoch - 4ms/step\n",
      "Epoch 869/1000\n",
      "13/13 - 0s - loss: 0.0368 - 42ms/epoch - 3ms/step\n",
      "Epoch 870/1000\n",
      "13/13 - 0s - loss: 0.0370 - 44ms/epoch - 3ms/step\n",
      "Epoch 871/1000\n",
      "13/13 - 0s - loss: 0.0368 - 40ms/epoch - 3ms/step\n",
      "Epoch 872/1000\n",
      "13/13 - 0s - loss: 0.0368 - 40ms/epoch - 3ms/step\n",
      "Epoch 873/1000\n",
      "13/13 - 0s - loss: 0.0368 - 41ms/epoch - 3ms/step\n",
      "Epoch 874/1000\n",
      "13/13 - 0s - loss: 0.0368 - 39ms/epoch - 3ms/step\n",
      "Epoch 875/1000\n",
      "13/13 - 0s - loss: 0.0369 - 50ms/epoch - 4ms/step\n",
      "Epoch 876/1000\n",
      "13/13 - 0s - loss: 0.0368 - 39ms/epoch - 3ms/step\n",
      "Epoch 877/1000\n",
      "13/13 - 0s - loss: 0.0369 - 39ms/epoch - 3ms/step\n",
      "Epoch 878/1000\n",
      "13/13 - 0s - loss: 0.0369 - 44ms/epoch - 3ms/step\n",
      "Epoch 879/1000\n",
      "13/13 - 0s - loss: 0.0368 - 37ms/epoch - 3ms/step\n",
      "Epoch 880/1000\n",
      "13/13 - 0s - loss: 0.0369 - 38ms/epoch - 3ms/step\n",
      "Epoch 881/1000\n",
      "13/13 - 0s - loss: 0.0369 - 41ms/epoch - 3ms/step\n",
      "Epoch 882/1000\n",
      "13/13 - 0s - loss: 0.0368 - 35ms/epoch - 3ms/step\n",
      "Epoch 883/1000\n",
      "13/13 - 0s - loss: 0.0368 - 44ms/epoch - 3ms/step\n",
      "Epoch 884/1000\n",
      "13/13 - 0s - loss: 0.0369 - 48ms/epoch - 4ms/step\n",
      "Epoch 885/1000\n",
      "13/13 - 0s - loss: 0.0369 - 42ms/epoch - 3ms/step\n",
      "Epoch 886/1000\n",
      "13/13 - 0s - loss: 0.0368 - 39ms/epoch - 3ms/step\n",
      "Epoch 887/1000\n",
      "13/13 - 0s - loss: 0.0368 - 41ms/epoch - 3ms/step\n",
      "Epoch 888/1000\n",
      "13/13 - 0s - loss: 0.0368 - 44ms/epoch - 3ms/step\n",
      "Epoch 889/1000\n",
      "13/13 - 0s - loss: 0.0368 - 41ms/epoch - 3ms/step\n",
      "Epoch 890/1000\n",
      "13/13 - 0s - loss: 0.0369 - 36ms/epoch - 3ms/step\n",
      "Epoch 891/1000\n",
      "13/13 - 0s - loss: 0.0369 - 39ms/epoch - 3ms/step\n",
      "Epoch 892/1000\n",
      "13/13 - 0s - loss: 0.0368 - 34ms/epoch - 3ms/step\n",
      "Epoch 893/1000\n",
      "13/13 - 0s - loss: 0.0368 - 72ms/epoch - 6ms/step\n",
      "Epoch 894/1000\n",
      "13/13 - 0s - loss: 0.0369 - 44ms/epoch - 3ms/step\n",
      "Epoch 895/1000\n",
      "13/13 - 0s - loss: 0.0369 - 43ms/epoch - 3ms/step\n",
      "Epoch 896/1000\n",
      "13/13 - 0s - loss: 0.0368 - 44ms/epoch - 3ms/step\n",
      "Epoch 897/1000\n",
      "13/13 - 0s - loss: 0.0369 - 42ms/epoch - 3ms/step\n",
      "Epoch 898/1000\n",
      "13/13 - 0s - loss: 0.0368 - 54ms/epoch - 4ms/step\n",
      "Epoch 899/1000\n",
      "13/13 - 0s - loss: 0.0368 - 47ms/epoch - 4ms/step\n",
      "Epoch 900/1000\n",
      "13/13 - 0s - loss: 0.0368 - 38ms/epoch - 3ms/step\n",
      "Epoch 901/1000\n",
      "13/13 - 0s - loss: 0.0373 - 35ms/epoch - 3ms/step\n",
      "Epoch 902/1000\n",
      "13/13 - 0s - loss: 0.0369 - 35ms/epoch - 3ms/step\n",
      "Epoch 903/1000\n",
      "13/13 - 0s - loss: 0.0369 - 38ms/epoch - 3ms/step\n",
      "Epoch 904/1000\n",
      "13/13 - 0s - loss: 0.0368 - 25ms/epoch - 2ms/step\n",
      "Epoch 905/1000\n",
      "13/13 - 0s - loss: 0.0370 - 37ms/epoch - 3ms/step\n",
      "Epoch 906/1000\n",
      "13/13 - 0s - loss: 0.0368 - 35ms/epoch - 3ms/step\n",
      "Epoch 907/1000\n",
      "13/13 - 0s - loss: 0.0368 - 42ms/epoch - 3ms/step\n",
      "Epoch 908/1000\n",
      "13/13 - 0s - loss: 0.0369 - 35ms/epoch - 3ms/step\n",
      "Epoch 909/1000\n",
      "13/13 - 0s - loss: 0.0367 - 35ms/epoch - 3ms/step\n",
      "Epoch 910/1000\n",
      "13/13 - 0s - loss: 0.0368 - 33ms/epoch - 3ms/step\n",
      "Epoch 911/1000\n",
      "13/13 - 0s - loss: 0.0370 - 44ms/epoch - 3ms/step\n",
      "Epoch 912/1000\n",
      "13/13 - 0s - loss: 0.0368 - 44ms/epoch - 3ms/step\n",
      "Epoch 913/1000\n",
      "13/13 - 0s - loss: 0.0368 - 39ms/epoch - 3ms/step\n",
      "Epoch 914/1000\n",
      "13/13 - 0s - loss: 0.0368 - 43ms/epoch - 3ms/step\n",
      "Epoch 915/1000\n",
      "13/13 - 0s - loss: 0.0368 - 42ms/epoch - 3ms/step\n",
      "Epoch 916/1000\n",
      "13/13 - 0s - loss: 0.0369 - 47ms/epoch - 4ms/step\n",
      "Epoch 917/1000\n",
      "13/13 - 0s - loss: 0.0368 - 41ms/epoch - 3ms/step\n",
      "Epoch 918/1000\n",
      "13/13 - 0s - loss: 0.0369 - 43ms/epoch - 3ms/step\n",
      "Epoch 919/1000\n",
      "13/13 - 0s - loss: 0.0368 - 41ms/epoch - 3ms/step\n",
      "Epoch 920/1000\n",
      "13/13 - 0s - loss: 0.0368 - 42ms/epoch - 3ms/step\n",
      "Epoch 921/1000\n",
      "13/13 - 0s - loss: 0.0368 - 38ms/epoch - 3ms/step\n",
      "Epoch 922/1000\n",
      "13/13 - 0s - loss: 0.0368 - 36ms/epoch - 3ms/step\n",
      "Epoch 923/1000\n",
      "13/13 - 0s - loss: 0.0369 - 43ms/epoch - 3ms/step\n",
      "Epoch 924/1000\n",
      "13/13 - 0s - loss: 0.0369 - 46ms/epoch - 4ms/step\n",
      "Epoch 925/1000\n",
      "13/13 - 0s - loss: 0.0369 - 66ms/epoch - 5ms/step\n",
      "Epoch 926/1000\n",
      "13/13 - 0s - loss: 0.0368 - 47ms/epoch - 4ms/step\n",
      "Epoch 927/1000\n",
      "13/13 - 0s - loss: 0.0370 - 40ms/epoch - 3ms/step\n",
      "Epoch 928/1000\n",
      "13/13 - 0s - loss: 0.0369 - 37ms/epoch - 3ms/step\n",
      "Epoch 929/1000\n",
      "13/13 - 0s - loss: 0.0369 - 36ms/epoch - 3ms/step\n",
      "Epoch 930/1000\n",
      "13/13 - 0s - loss: 0.0368 - 38ms/epoch - 3ms/step\n",
      "Epoch 931/1000\n",
      "13/13 - 0s - loss: 0.0369 - 42ms/epoch - 3ms/step\n",
      "Epoch 932/1000\n",
      "13/13 - 0s - loss: 0.0368 - 39ms/epoch - 3ms/step\n",
      "Epoch 933/1000\n",
      "13/13 - 0s - loss: 0.0368 - 46ms/epoch - 4ms/step\n",
      "Epoch 934/1000\n",
      "13/13 - 0s - loss: 0.0368 - 41ms/epoch - 3ms/step\n",
      "Epoch 935/1000\n",
      "13/13 - 0s - loss: 0.0368 - 43ms/epoch - 3ms/step\n",
      "Epoch 936/1000\n",
      "13/13 - 0s - loss: 0.0372 - 49ms/epoch - 4ms/step\n",
      "Epoch 937/1000\n",
      "13/13 - 0s - loss: 0.0367 - 46ms/epoch - 4ms/step\n",
      "Epoch 938/1000\n",
      "13/13 - 0s - loss: 0.0370 - 44ms/epoch - 3ms/step\n",
      "Epoch 939/1000\n",
      "13/13 - 0s - loss: 0.0369 - 38ms/epoch - 3ms/step\n",
      "Epoch 940/1000\n",
      "13/13 - 0s - loss: 0.0368 - 42ms/epoch - 3ms/step\n",
      "Epoch 941/1000\n",
      "13/13 - 0s - loss: 0.0368 - 41ms/epoch - 3ms/step\n",
      "Epoch 942/1000\n",
      "13/13 - 0s - loss: 0.0368 - 40ms/epoch - 3ms/step\n",
      "Epoch 943/1000\n",
      "13/13 - 0s - loss: 0.0369 - 44ms/epoch - 3ms/step\n",
      "Epoch 944/1000\n",
      "13/13 - 0s - loss: 0.0368 - 44ms/epoch - 3ms/step\n",
      "Epoch 945/1000\n",
      "13/13 - 0s - loss: 0.0368 - 40ms/epoch - 3ms/step\n",
      "Epoch 946/1000\n",
      "13/13 - 0s - loss: 0.0368 - 36ms/epoch - 3ms/step\n",
      "Epoch 947/1000\n",
      "13/13 - 0s - loss: 0.0368 - 46ms/epoch - 4ms/step\n",
      "Epoch 948/1000\n",
      "13/13 - 0s - loss: 0.0370 - 43ms/epoch - 3ms/step\n",
      "Epoch 949/1000\n",
      "13/13 - 0s - loss: 0.0368 - 41ms/epoch - 3ms/step\n",
      "Epoch 950/1000\n",
      "13/13 - 0s - loss: 0.0368 - 44ms/epoch - 3ms/step\n",
      "Epoch 951/1000\n",
      "13/13 - 0s - loss: 0.0368 - 39ms/epoch - 3ms/step\n",
      "Epoch 952/1000\n",
      "13/13 - 0s - loss: 0.0369 - 41ms/epoch - 3ms/step\n",
      "Epoch 953/1000\n",
      "13/13 - 0s - loss: 0.0368 - 41ms/epoch - 3ms/step\n",
      "Epoch 954/1000\n",
      "13/13 - 0s - loss: 0.0368 - 34ms/epoch - 3ms/step\n",
      "Epoch 955/1000\n",
      "13/13 - 0s - loss: 0.0368 - 51ms/epoch - 4ms/step\n",
      "Epoch 956/1000\n",
      "13/13 - 0s - loss: 0.0368 - 54ms/epoch - 4ms/step\n",
      "Epoch 957/1000\n",
      "13/13 - 0s - loss: 0.0369 - 37ms/epoch - 3ms/step\n",
      "Epoch 958/1000\n",
      "13/13 - 0s - loss: 0.0369 - 42ms/epoch - 3ms/step\n",
      "Epoch 959/1000\n",
      "13/13 - 0s - loss: 0.0369 - 44ms/epoch - 3ms/step\n",
      "Epoch 960/1000\n",
      "13/13 - 0s - loss: 0.0368 - 39ms/epoch - 3ms/step\n",
      "Epoch 961/1000\n",
      "13/13 - 0s - loss: 0.0368 - 43ms/epoch - 3ms/step\n",
      "Epoch 962/1000\n",
      "13/13 - 0s - loss: 0.0368 - 44ms/epoch - 3ms/step\n",
      "Epoch 963/1000\n",
      "13/13 - 0s - loss: 0.0368 - 39ms/epoch - 3ms/step\n",
      "Epoch 964/1000\n",
      "13/13 - 0s - loss: 0.0368 - 46ms/epoch - 4ms/step\n",
      "Epoch 965/1000\n",
      "13/13 - 0s - loss: 0.0368 - 44ms/epoch - 3ms/step\n",
      "Epoch 966/1000\n",
      "13/13 - 0s - loss: 0.0368 - 41ms/epoch - 3ms/step\n",
      "Epoch 967/1000\n",
      "13/13 - 0s - loss: 0.0368 - 48ms/epoch - 4ms/step\n",
      "Epoch 968/1000\n",
      "13/13 - 0s - loss: 0.0368 - 39ms/epoch - 3ms/step\n",
      "Epoch 969/1000\n",
      "13/13 - 0s - loss: 0.0368 - 36ms/epoch - 3ms/step\n",
      "Epoch 970/1000\n",
      "13/13 - 0s - loss: 0.0370 - 37ms/epoch - 3ms/step\n",
      "Epoch 971/1000\n",
      "13/13 - 0s - loss: 0.0368 - 39ms/epoch - 3ms/step\n",
      "Epoch 972/1000\n",
      "13/13 - 0s - loss: 0.0368 - 38ms/epoch - 3ms/step\n",
      "Epoch 973/1000\n",
      "13/13 - 0s - loss: 0.0369 - 33ms/epoch - 3ms/step\n",
      "Epoch 974/1000\n",
      "13/13 - 0s - loss: 0.0368 - 42ms/epoch - 3ms/step\n",
      "Epoch 975/1000\n",
      "13/13 - 0s - loss: 0.0369 - 43ms/epoch - 3ms/step\n",
      "Epoch 976/1000\n",
      "13/13 - 0s - loss: 0.0368 - 41ms/epoch - 3ms/step\n",
      "Epoch 977/1000\n",
      "13/13 - 0s - loss: 0.0368 - 37ms/epoch - 3ms/step\n",
      "Epoch 978/1000\n",
      "13/13 - 0s - loss: 0.0368 - 47ms/epoch - 4ms/step\n",
      "Epoch 979/1000\n",
      "13/13 - 0s - loss: 0.0369 - 38ms/epoch - 3ms/step\n",
      "Epoch 980/1000\n",
      "13/13 - 0s - loss: 0.0369 - 41ms/epoch - 3ms/step\n",
      "Epoch 981/1000\n",
      "13/13 - 0s - loss: 0.0368 - 37ms/epoch - 3ms/step\n",
      "Epoch 982/1000\n",
      "13/13 - 0s - loss: 0.0369 - 36ms/epoch - 3ms/step\n",
      "Epoch 983/1000\n",
      "13/13 - 0s - loss: 0.0368 - 43ms/epoch - 3ms/step\n",
      "Epoch 984/1000\n",
      "13/13 - 0s - loss: 0.0368 - 42ms/epoch - 3ms/step\n",
      "Epoch 985/1000\n",
      "13/13 - 0s - loss: 0.0369 - 40ms/epoch - 3ms/step\n",
      "Epoch 986/1000\n",
      "13/13 - 0s - loss: 0.0368 - 40ms/epoch - 3ms/step\n",
      "Epoch 987/1000\n",
      "13/13 - 0s - loss: 0.0369 - 42ms/epoch - 3ms/step\n",
      "Epoch 988/1000\n",
      "13/13 - 0s - loss: 0.0368 - 63ms/epoch - 5ms/step\n",
      "Epoch 989/1000\n",
      "13/13 - 0s - loss: 0.0369 - 54ms/epoch - 4ms/step\n",
      "Epoch 990/1000\n",
      "13/13 - 0s - loss: 0.0370 - 48ms/epoch - 4ms/step\n",
      "Epoch 991/1000\n",
      "13/13 - 0s - loss: 0.0368 - 45ms/epoch - 3ms/step\n",
      "Epoch 992/1000\n",
      "13/13 - 0s - loss: 0.0369 - 45ms/epoch - 3ms/step\n",
      "Epoch 993/1000\n",
      "13/13 - 0s - loss: 0.0368 - 42ms/epoch - 3ms/step\n",
      "Epoch 994/1000\n",
      "13/13 - 0s - loss: 0.0368 - 39ms/epoch - 3ms/step\n",
      "Epoch 995/1000\n",
      "13/13 - 0s - loss: 0.0368 - 39ms/epoch - 3ms/step\n",
      "Epoch 996/1000\n",
      "13/13 - 0s - loss: 0.0369 - 43ms/epoch - 3ms/step\n",
      "Epoch 997/1000\n",
      "13/13 - 0s - loss: 0.0368 - 39ms/epoch - 3ms/step\n",
      "Epoch 998/1000\n",
      "13/13 - 0s - loss: 0.0368 - 41ms/epoch - 3ms/step\n",
      "Epoch 999/1000\n",
      "13/13 - 0s - loss: 0.0368 - 44ms/epoch - 3ms/step\n",
      "Epoch 1000/1000\n",
      "13/13 - 0s - loss: 0.0368 - 43ms/epoch - 3ms/step\n"
     ]
    }
   ],
   "source": [
    "# LSTM modelini oluşturun\n",
    "model = Sequential()\n",
    "model.add(LSTM(4, input_shape=(1, look_back)))\n",
    "model.add(Dense(1))\n",
    "model.compile(loss='mean_squared_error', optimizer='adam')\n",
    "history = model.fit(trainX, trainY, epochs=1000, batch_size=1, verbose=2)"
   ]
  },
  {
   "cell_type": "code",
   "execution_count": 183,
   "metadata": {},
   "outputs": [
    {
     "name": "stdout",
     "output_type": "stream",
     "text": [
      "1/1 [==============================] - 1s 1s/step\n",
      "1/1 [==============================] - 0s 39ms/step\n"
     ]
    }
   ],
   "source": [
    "# Tahmin yapın\n",
    "trainPredict = model.predict(trainX)\n",
    "testPredict = model.predict(testX)"
   ]
  },
  {
   "cell_type": "code",
   "execution_count": 184,
   "metadata": {},
   "outputs": [],
   "source": [
    "# Tahminleri ters ölçeklendirin\n",
    "trainPredict = scaler.inverse_transform(trainPredict)\n",
    "trainY = scaler.inverse_transform([trainY])\n",
    "testPredict = scaler.inverse_transform(testPredict)\n",
    "testY = scaler.inverse_transform([testY])"
   ]
  },
  {
   "cell_type": "code",
   "execution_count": 185,
   "metadata": {},
   "outputs": [
    {
     "name": "stdout",
     "output_type": "stream",
     "text": [
      "1/1 [==============================] - 1s 1s/step\n",
      "2022 tahmini deprem sayısı: 28\n"
     ]
    }
   ],
   "source": [
    "\n",
    "# 2022 ve 2023 için tahmin yapın\n",
    "last_data = np.array([testPredict[-1]])\n",
    "next_year = model.predict(np.reshape(last_data, (1, 1, 1)))\n",
    "next_year = scaler.inverse_transform(next_year)\n",
    "print(\"2022 tahmini deprem sayısı:\", int(next_year[0][0]))\n"
   ]
  },
  {
   "cell_type": "code",
   "execution_count": 186,
   "metadata": {},
   "outputs": [
    {
     "name": "stdout",
     "output_type": "stream",
     "text": [
      "1/1 [==============================] - 0s 38ms/step\n",
      "2023 tahmini deprem sayısı: 30\n"
     ]
    }
   ],
   "source": [
    "next_next_year = model.predict(np.reshape(np.array([next_year]), (1, 1, 1)))\n",
    "next_next_year = scaler.inverse_transform(next_next_year)\n",
    "print(\"2023 tahmini deprem sayısı:\", int(next_next_year[0][0]))"
   ]
  },
  {
   "cell_type": "code",
   "execution_count": 187,
   "metadata": {},
   "outputs": [
    {
     "name": "stdout",
     "output_type": "stream",
     "text": [
      "1/1 [==============================] - 0s 43ms/step\n",
      "2024 tahmini deprem sayısı: 30\n"
     ]
    }
   ],
   "source": [
    "# 2024 için tahmin yapın\n",
    "next_next_next_year = model.predict(np.reshape(np.array([next_next_year]), (1, 1, 1)))\n",
    "next_next_next_year = scaler.inverse_transform(next_next_next_year)\n",
    "print(\"2024 tahmini deprem sayısı:\", int(next_next_next_year[0][0]))"
   ]
  },
  {
   "cell_type": "code",
   "execution_count": 189,
   "metadata": {},
   "outputs": [
    {
     "data": {
      "image/png": "[encoded data removed]",
      "text/plain": [
       "<Figure size 432x288 with 1 Axes>"
      ]
     },
     "metadata": {
      "needs_background": "light"
     },
     "output_type": "display_data"
    }
   ],
   "source": [
    "plt.plot(history.history['loss'], label='Eğitim Loss')\n",
    "plt.xlabel('Epok')\n",
    "plt.ylabel('Loss')\n",
    "plt.legend()\n",
    "plt.title('LSTM Modeli Loss Değeri')\n",
    "plt.show()"
   ]
  },
  {
   "attachments": {},
   "cell_type": "markdown",
   "metadata": {},
   "source": [
    "."
   ]
  },
  {
   "attachments": {},
   "cell_type": "markdown",
   "metadata": {},
   "source": [
    "."
   ]
  },
  {
   "attachments": {},
   "cell_type": "markdown",
   "metadata": {},
   "source": [
    "."
   ]
  },
  {
   "attachments": {},
   "cell_type": "markdown",
   "metadata": {},
   "source": [
    "Other datasets"
   ]
  },
  {
   "cell_type": "code",
   "execution_count": null,
   "metadata": {},
   "outputs": [
    {
     "name": "stdout",
     "output_type": "stream",
     "text": [
      "(78, 7)\n"
     ]
    },
    {
     "data": {
      "text/html": [
       "<div>\n",
       "<style scoped>\n",
       "    .dataframe tbody tr th:only-of-type {\n",
       "        vertical-align: middle;\n",
       "    }\n",
       "\n",
       "    .dataframe tbody tr th {\n",
       "        vertical-align: top;\n",
       "    }\n",
       "\n",
       "    .dataframe thead th {\n",
       "        text-align: right;\n",
       "    }\n",
       "</style>\n",
       "<table border=\"1\" class=\"dataframe\">\n",
       "  <thead>\n",
       "    <tr style=\"text-align: right;\">\n",
       "      <th></th>\n",
       "      <th>Date</th>\n",
       "      <th>Time‡</th>\n",
       "      <th>Place</th>\n",
       "      <th>Lat</th>\n",
       "      <th>Long</th>\n",
       "      <th>Deaths</th>\n",
       "      <th>Mag</th>\n",
       "    </tr>\n",
       "  </thead>\n",
       "  <tbody>\n",
       "    <tr>\n",
       "      <th>0</th>\n",
       "      <td>10 September 1509</td>\n",
       "      <td>NaN</td>\n",
       "      <td>Constantinople</td>\n",
       "      <td>40.9</td>\n",
       "      <td>28.7</td>\n",
       "      <td>10,000</td>\n",
       "      <td>7.2 Mw</td>\n",
       "    </tr>\n",
       "    <tr>\n",
       "      <th>1</th>\n",
       "      <td>23 February 1653</td>\n",
       "      <td>NaN</td>\n",
       "      <td>Smyrna</td>\n",
       "      <td>38.2</td>\n",
       "      <td>28.2</td>\n",
       "      <td>2,500</td>\n",
       "      <td>7.5 Mw</td>\n",
       "    </tr>\n",
       "    <tr>\n",
       "      <th>2</th>\n",
       "      <td>17 August 1668</td>\n",
       "      <td>NaN</td>\n",
       "      <td>Anatolia</td>\n",
       "      <td>40.0</td>\n",
       "      <td>36.0</td>\n",
       "      <td>8,000</td>\n",
       "      <td>8M w</td>\n",
       "    </tr>\n",
       "    <tr>\n",
       "      <th>3</th>\n",
       "      <td>10 July 1688</td>\n",
       "      <td>11:45</td>\n",
       "      <td>Smyrna</td>\n",
       "      <td>38.4</td>\n",
       "      <td>26.9</td>\n",
       "      <td>16,000</td>\n",
       "      <td>7.0 Mw</td>\n",
       "    </tr>\n",
       "    <tr>\n",
       "      <th>4</th>\n",
       "      <td>22 May 1766</td>\n",
       "      <td>05:10</td>\n",
       "      <td>Istanbul</td>\n",
       "      <td>40.8</td>\n",
       "      <td>29.0</td>\n",
       "      <td>4,000</td>\n",
       "      <td>7.1 Mw</td>\n",
       "    </tr>\n",
       "  </tbody>\n",
       "</table>\n",
       "</div>"
      ],
      "text/plain": [
       "                Date  Time‡           Place   Lat  Long  Deaths     Mag\n",
       "0  10 September 1509    NaN  Constantinople  40.9  28.7  10,000  7.2 Mw\n",
       "1   23 February 1653    NaN          Smyrna  38.2  28.2   2,500  7.5 Mw\n",
       "2     17 August 1668    NaN        Anatolia  40.0  36.0   8,000    8M w\n",
       "3       10 July 1688  11:45          Smyrna  38.4  26.9  16,000  7.0 Mw\n",
       "4        22 May 1766  05:10        Istanbul  40.8  29.0   4,000  7.1 Mw"
      ]
     },
     "execution_count": 137,
     "metadata": {},
     "output_type": "execute_result"
    }
   ],
   "source": [
    "tr = pd.read_csv('Turkey_earthquakes.csv')\n",
    "print (tr.shape)\n",
    "tr.head(5)"
   ]
  },
  {
   "cell_type": "code",
   "execution_count": null,
   "metadata": {},
   "outputs": [
    {
     "data": {
      "text/plain": [
       "Erzincan         3\n",
       "Smyrna           3\n",
       "Bingöl           3\n",
       "Ayvalık          2\n",
       "Van              2\n",
       "                ..\n",
       "Kahramanmaraş    1\n",
       "Yenice           1\n",
       "Fethiye          1\n",
       "Chios            1\n",
       "Erbaa            1\n",
       "Name: Place, Length: 65, dtype: int64"
      ]
     },
     "execution_count": 138,
     "metadata": {},
     "output_type": "execute_result"
    }
   ],
   "source": [
    "tr.Place.value_counts()"
   ]
  },
  {
   "cell_type": "code",
   "execution_count": null,
   "metadata": {},
   "outputs": [
    {
     "data": {
      "text/plain": [
       "count           78\n",
       "unique          65\n",
       "top       Erzincan\n",
       "freq             3\n",
       "Name: Place, dtype: object"
      ]
     },
     "execution_count": 139,
     "metadata": {},
     "output_type": "execute_result"
    }
   ],
   "source": [
    "tr.Place.describe()\n"
   ]
  },
  {
   "cell_type": "code",
   "execution_count": null,
   "metadata": {},
   "outputs": [
    {
     "data": {
      "text/html": [
       "<div>\n",
       "<style scoped>\n",
       "    .dataframe tbody tr th:only-of-type {\n",
       "        vertical-align: middle;\n",
       "    }\n",
       "\n",
       "    .dataframe tbody tr th {\n",
       "        vertical-align: top;\n",
       "    }\n",
       "\n",
       "    .dataframe thead th {\n",
       "        text-align: right;\n",
       "    }\n",
       "</style>\n",
       "<table border=\"1\" class=\"dataframe\">\n",
       "  <thead>\n",
       "    <tr style=\"text-align: right;\">\n",
       "      <th></th>\n",
       "      <th>Date</th>\n",
       "      <th>Time‡</th>\n",
       "      <th>Place</th>\n",
       "      <th>Lat</th>\n",
       "      <th>Long</th>\n",
       "      <th>Deaths</th>\n",
       "      <th>Mag</th>\n",
       "      <th>geometry</th>\n",
       "    </tr>\n",
       "  </thead>\n",
       "  <tbody>\n",
       "    <tr>\n",
       "      <th>0</th>\n",
       "      <td>10 September 1509</td>\n",
       "      <td>NaN</td>\n",
       "      <td>Constantinople</td>\n",
       "      <td>40.9</td>\n",
       "      <td>28.7</td>\n",
       "      <td>10,000</td>\n",
       "      <td>7.2 Mw</td>\n",
       "      <td>POINT (28.7 40.9)</td>\n",
       "    </tr>\n",
       "    <tr>\n",
       "      <th>1</th>\n",
       "      <td>23 February 1653</td>\n",
       "      <td>NaN</td>\n",
       "      <td>Smyrna</td>\n",
       "      <td>38.2</td>\n",
       "      <td>28.2</td>\n",
       "      <td>2,500</td>\n",
       "      <td>7.5 Mw</td>\n",
       "      <td>POINT (28.2 38.2)</td>\n",
       "    </tr>\n",
       "    <tr>\n",
       "      <th>2</th>\n",
       "      <td>17 August 1668</td>\n",
       "      <td>NaN</td>\n",
       "      <td>Anatolia</td>\n",
       "      <td>40.0</td>\n",
       "      <td>36.0</td>\n",
       "      <td>8,000</td>\n",
       "      <td>8M w</td>\n",
       "      <td>POINT (36 40)</td>\n",
       "    </tr>\n",
       "    <tr>\n",
       "      <th>3</th>\n",
       "      <td>10 July 1688</td>\n",
       "      <td>11:45</td>\n",
       "      <td>Smyrna</td>\n",
       "      <td>38.4</td>\n",
       "      <td>26.9</td>\n",
       "      <td>16,000</td>\n",
       "      <td>7.0 Mw</td>\n",
       "      <td>POINT (26.9 38.4)</td>\n",
       "    </tr>\n",
       "    <tr>\n",
       "      <th>4</th>\n",
       "      <td>22 May 1766</td>\n",
       "      <td>05:10</td>\n",
       "      <td>Istanbul</td>\n",
       "      <td>40.8</td>\n",
       "      <td>29.0</td>\n",
       "      <td>4,000</td>\n",
       "      <td>7.1 Mw</td>\n",
       "      <td>POINT (29 40.8)</td>\n",
       "    </tr>\n",
       "  </tbody>\n",
       "</table>\n",
       "</div>"
      ],
      "text/plain": [
       "                Date  Time‡           Place   Lat  Long  Deaths     Mag  \\\n",
       "0  10 September 1509    NaN  Constantinople  40.9  28.7  10,000  7.2 Mw   \n",
       "1   23 February 1653    NaN          Smyrna  38.2  28.2   2,500  7.5 Mw   \n",
       "2     17 August 1668    NaN        Anatolia  40.0  36.0   8,000    8M w   \n",
       "3       10 July 1688  11:45          Smyrna  38.4  26.9  16,000  7.0 Mw   \n",
       "4        22 May 1766  05:10        Istanbul  40.8  29.0   4,000  7.1 Mw   \n",
       "\n",
       "            geometry  \n",
       "0  POINT (28.7 40.9)  \n",
       "1  POINT (28.2 38.2)  \n",
       "2      POINT (36 40)  \n",
       "3  POINT (26.9 38.4)  \n",
       "4    POINT (29 40.8)  "
      ]
     },
     "execution_count": 140,
     "metadata": {},
     "output_type": "execute_result"
    }
   ],
   "source": [
    "tr['geometry'] = tr.apply(lambda row:  Point(row[\"Long\"], row[\"Lat\"]), axis=1)\n",
    "tr.head()"
   ]
  },
  {
   "cell_type": "code",
   "execution_count": null,
   "metadata": {},
   "outputs": [
    {
     "name": "stdout",
     "output_type": "stream",
     "text": [
      "<class 'pandas.core.frame.DataFrame'>\n",
      "RangeIndex: 78 entries, 0 to 77\n",
      "Data columns (total 8 columns):\n",
      " #   Column    Non-Null Count  Dtype  \n",
      "---  ------    --------------  -----  \n",
      " 0   Date      78 non-null     object \n",
      " 1   Time‡     71 non-null     object \n",
      " 2   Place     78 non-null     object \n",
      " 3   Lat       78 non-null     float64\n",
      " 4   Long      78 non-null     float64\n",
      " 5   Deaths    78 non-null     object \n",
      " 6   Mag       77 non-null     object \n",
      " 7   geometry  78 non-null     object \n",
      "dtypes: float64(2), object(6)\n",
      "memory usage: 5.0+ KB\n"
     ]
    }
   ],
   "source": [
    "tr.info()"
   ]
  },
  {
   "cell_type": "code",
   "execution_count": null,
   "metadata": {},
   "outputs": [
    {
     "data": {
      "text/html": [
       "<div>\n",
       "<style scoped>\n",
       "    .dataframe tbody tr th:only-of-type {\n",
       "        vertical-align: middle;\n",
       "    }\n",
       "\n",
       "    .dataframe tbody tr th {\n",
       "        vertical-align: top;\n",
       "    }\n",
       "\n",
       "    .dataframe thead th {\n",
       "        text-align: right;\n",
       "    }\n",
       "</style>\n",
       "<table border=\"1\" class=\"dataframe\">\n",
       "  <thead>\n",
       "    <tr style=\"text-align: right;\">\n",
       "      <th></th>\n",
       "      <th>Date</th>\n",
       "      <th>Time‡</th>\n",
       "      <th>Place</th>\n",
       "      <th>Lat</th>\n",
       "      <th>Long</th>\n",
       "      <th>Deaths</th>\n",
       "      <th>Mag</th>\n",
       "      <th>geometry</th>\n",
       "      <th>parsed_Date</th>\n",
       "    </tr>\n",
       "  </thead>\n",
       "  <tbody>\n",
       "    <tr>\n",
       "      <th>0</th>\n",
       "      <td>10 September 1509</td>\n",
       "      <td>NaN</td>\n",
       "      <td>Constantinople</td>\n",
       "      <td>40.9</td>\n",
       "      <td>28.7</td>\n",
       "      <td>10,000</td>\n",
       "      <td>7.2 Mw</td>\n",
       "      <td>POINT (28.7 40.9)</td>\n",
       "      <td>NaT</td>\n",
       "    </tr>\n",
       "    <tr>\n",
       "      <th>1</th>\n",
       "      <td>23 February 1653</td>\n",
       "      <td>NaN</td>\n",
       "      <td>Smyrna</td>\n",
       "      <td>38.2</td>\n",
       "      <td>28.2</td>\n",
       "      <td>2,500</td>\n",
       "      <td>7.5 Mw</td>\n",
       "      <td>POINT (28.2 38.2)</td>\n",
       "      <td>NaT</td>\n",
       "    </tr>\n",
       "    <tr>\n",
       "      <th>2</th>\n",
       "      <td>17 August 1668</td>\n",
       "      <td>NaN</td>\n",
       "      <td>Anatolia</td>\n",
       "      <td>40.0</td>\n",
       "      <td>36.0</td>\n",
       "      <td>8,000</td>\n",
       "      <td>8M w</td>\n",
       "      <td>POINT (36 40)</td>\n",
       "      <td>NaT</td>\n",
       "    </tr>\n",
       "    <tr>\n",
       "      <th>3</th>\n",
       "      <td>10 July 1688</td>\n",
       "      <td>11:45</td>\n",
       "      <td>Smyrna</td>\n",
       "      <td>38.4</td>\n",
       "      <td>26.9</td>\n",
       "      <td>16,000</td>\n",
       "      <td>7.0 Mw</td>\n",
       "      <td>POINT (26.9 38.4)</td>\n",
       "      <td>1688-07-10</td>\n",
       "    </tr>\n",
       "    <tr>\n",
       "      <th>4</th>\n",
       "      <td>22 May 1766</td>\n",
       "      <td>05:10</td>\n",
       "      <td>Istanbul</td>\n",
       "      <td>40.8</td>\n",
       "      <td>29.0</td>\n",
       "      <td>4,000</td>\n",
       "      <td>7.1 Mw</td>\n",
       "      <td>POINT (29 40.8)</td>\n",
       "      <td>1766-05-22</td>\n",
       "    </tr>\n",
       "  </tbody>\n",
       "</table>\n",
       "</div>"
      ],
      "text/plain": [
       "                Date  Time‡           Place   Lat  Long  Deaths     Mag  \\\n",
       "0  10 September 1509    NaN  Constantinople  40.9  28.7  10,000  7.2 Mw   \n",
       "1   23 February 1653    NaN          Smyrna  38.2  28.2   2,500  7.5 Mw   \n",
       "2     17 August 1668    NaN        Anatolia  40.0  36.0   8,000    8M w   \n",
       "3       10 July 1688  11:45          Smyrna  38.4  26.9  16,000  7.0 Mw   \n",
       "4        22 May 1766  05:10        Istanbul  40.8  29.0   4,000  7.1 Mw   \n",
       "\n",
       "            geometry parsed_Date  \n",
       "0  POINT (28.7 40.9)         NaT  \n",
       "1  POINT (28.2 38.2)         NaT  \n",
       "2      POINT (36 40)         NaT  \n",
       "3  POINT (26.9 38.4)  1688-07-10  \n",
       "4    POINT (29 40.8)  1766-05-22  "
      ]
     },
     "execution_count": 142,
     "metadata": {},
     "output_type": "execute_result"
    }
   ],
   "source": [
    "tr[\"parsed_Date\"] = pd.to_datetime(tr[\"Date\"], format=\"%d %B %Y\", errors = 'coerce')\n",
    "tr.head()"
   ]
  },
  {
   "cell_type": "code",
   "execution_count": null,
   "metadata": {},
   "outputs": [
    {
     "data": {
      "image/png": "[encoded data removed]",
      "text/plain": [
       "<Figure size 1584x432 with 1 Axes>"
      ]
     },
     "metadata": {
      "needs_background": "light"
     },
     "output_type": "display_data"
    }
   ],
   "source": [
    "tr['year'] = tr['parsed_Date'].dt.year\n",
    "labels_turkey = tr.year.value_counts().index\n",
    "plt.figure(figsize=(22,6))\n",
    "pal = sns.cubehelix_palette(len(tr.year.value_counts().index), start=.5, rot=-.75)\n",
    "sns.barplot(x=np.sort(tr.year.value_counts().index) ,y = tr.year.value_counts().values,palette =pal )\n",
    "plt.xticks(rotation=90 , color ='black')\n",
    "plt.show()"
   ]
  },
  {
   "cell_type": "code",
   "execution_count": null,
   "metadata": {},
   "outputs": [
    {
     "name": "stdout",
     "output_type": "stream",
     "text": [
      "(78, 10)\n"
     ]
    },
    {
     "data": {
      "text/html": [
       "<div>\n",
       "<style scoped>\n",
       "    .dataframe tbody tr th:only-of-type {\n",
       "        vertical-align: middle;\n",
       "    }\n",
       "\n",
       "    .dataframe tbody tr th {\n",
       "        vertical-align: top;\n",
       "    }\n",
       "\n",
       "    .dataframe thead th {\n",
       "        text-align: right;\n",
       "    }\n",
       "</style>\n",
       "<table border=\"1\" class=\"dataframe\">\n",
       "  <thead>\n",
       "    <tr style=\"text-align: right;\">\n",
       "      <th></th>\n",
       "      <th>Date</th>\n",
       "      <th>Time‡</th>\n",
       "      <th>Place</th>\n",
       "      <th>Lat</th>\n",
       "      <th>Long</th>\n",
       "      <th>Deaths</th>\n",
       "      <th>Mag</th>\n",
       "      <th>geometry</th>\n",
       "      <th>parsed_Date</th>\n",
       "      <th>year</th>\n",
       "    </tr>\n",
       "  </thead>\n",
       "  <tbody>\n",
       "    <tr>\n",
       "      <th>73</th>\n",
       "      <td>14 June 2020</td>\n",
       "      <td>16:24 local time</td>\n",
       "      <td>Bingöl</td>\n",
       "      <td>39.4200</td>\n",
       "      <td>40.6700</td>\n",
       "      <td>1</td>\n",
       "      <td>5.9 Mw</td>\n",
       "      <td>POINT (40.67000 39.42000)</td>\n",
       "      <td>2020-06-14</td>\n",
       "      <td>2020.0</td>\n",
       "    </tr>\n",
       "    <tr>\n",
       "      <th>74</th>\n",
       "      <td>30 October 2020</td>\n",
       "      <td>14:51 local time</td>\n",
       "      <td>\\tAegean Sea</td>\n",
       "      <td>37.9180</td>\n",
       "      <td>26.7900</td>\n",
       "      <td>117</td>\n",
       "      <td>7.0 Mw</td>\n",
       "      <td>POINT (26.79000 37.91800)</td>\n",
       "      <td>2020-10-30</td>\n",
       "      <td>2020.0</td>\n",
       "    </tr>\n",
       "    <tr>\n",
       "      <th>75</th>\n",
       "      <td>23 November 2022</td>\n",
       "      <td>04:08 local time</td>\n",
       "      <td>Düzce</td>\n",
       "      <td>40.8470</td>\n",
       "      <td>30.9670</td>\n",
       "      <td>2</td>\n",
       "      <td>6.1 Mw</td>\n",
       "      <td>POINT (30.96700 40.84700)</td>\n",
       "      <td>2022-11-23</td>\n",
       "      <td>2022.0</td>\n",
       "    </tr>\n",
       "    <tr>\n",
       "      <th>76</th>\n",
       "      <td>6 February 2023</td>\n",
       "      <td>04:17 local time</td>\n",
       "      <td>Gaziantep</td>\n",
       "      <td>37.1123</td>\n",
       "      <td>37.1195</td>\n",
       "      <td>29,600</td>\n",
       "      <td>7.8 Mw</td>\n",
       "      <td>POINT (37.11950 37.11230)</td>\n",
       "      <td>2023-02-06</td>\n",
       "      <td>2023.0</td>\n",
       "    </tr>\n",
       "    <tr>\n",
       "      <th>77</th>\n",
       "      <td>6 February 2023</td>\n",
       "      <td>13:24 local time</td>\n",
       "      <td>Kahramanmaraş</td>\n",
       "      <td>38.0357</td>\n",
       "      <td>37.2287</td>\n",
       "      <td>29,600</td>\n",
       "      <td>7.7 Mw</td>\n",
       "      <td>POINT (37.22870 38.03570)</td>\n",
       "      <td>2023-02-06</td>\n",
       "      <td>2023.0</td>\n",
       "    </tr>\n",
       "  </tbody>\n",
       "</table>\n",
       "</div>"
      ],
      "text/plain": [
       "                Date             Time‡          Place      Lat     Long  \\\n",
       "73      14 June 2020  16:24 local time         Bingöl  39.4200  40.6700   \n",
       "74   30 October 2020  14:51 local time   \\tAegean Sea  37.9180  26.7900   \n",
       "75  23 November 2022  04:08 local time          Düzce  40.8470  30.9670   \n",
       "76   6 February 2023  04:17 local time      Gaziantep  37.1123  37.1195   \n",
       "77   6 February 2023  13:24 local time  Kahramanmaraş  38.0357  37.2287   \n",
       "\n",
       "    Deaths     Mag                   geometry parsed_Date    year  \n",
       "73       1  5.9 Mw  POINT (40.67000 39.42000)  2020-06-14  2020.0  \n",
       "74     117  7.0 Mw  POINT (26.79000 37.91800)  2020-10-30  2020.0  \n",
       "75       2  6.1 Mw  POINT (30.96700 40.84700)  2022-11-23  2022.0  \n",
       "76  29,600  7.8 Mw  POINT (37.11950 37.11230)  2023-02-06  2023.0  \n",
       "77  29,600  7.7 Mw  POINT (37.22870 38.03570)  2023-02-06  2023.0  "
      ]
     },
     "execution_count": 144,
     "metadata": {},
     "output_type": "execute_result"
    }
   ],
   "source": [
    "gdf_earthquakes = gpd.GeoDataFrame(tr, geometry=tr.geometry )\n",
    "print(gdf_earthquakes.shape)\n",
    "gdf_earthquakes.tail()"
   ]
  },
  {
   "cell_type": "code",
   "execution_count": null,
   "metadata": {},
   "outputs": [
    {
     "data": {
      "text/plain": [
       "<AxesSubplot:>"
      ]
     },
     "execution_count": 145,
     "metadata": {},
     "output_type": "execute_result"
    },
    {
     "data": {
      "image/png": "[encoded data removed]",
      "text/plain": [
       "<Figure size 432x288 with 1 Axes>"
      ]
     },
     "metadata": {
      "needs_background": "light"
     },
     "output_type": "display_data"
    }
   ],
   "source": [
    "world = gpd.read_file(gpd.datasets.get_path('naturalearth_lowres'))\n",
    "world.plot()"
   ]
  },
  {
   "cell_type": "code",
   "execution_count": null,
   "metadata": {},
   "outputs": [
    {
     "data": {
      "text/plain": [
       "<AxesSubplot:>"
      ]
     },
     "execution_count": 146,
     "metadata": {},
     "output_type": "execute_result"
    },
    {
     "data": {
      "image/png": "[encoded data removed]",
      "text/plain": [
       "<Figure size 720x720 with 1 Axes>"
      ]
     },
     "metadata": {
      "needs_background": "light"
     },
     "output_type": "display_data"
    }
   ],
   "source": [
    "ax = world[world.name=='Turkey'].plot(figsize=(10, 10), color='none', edgecolor='gainsboro')\n",
    "gdf_earthquakes.plot(ax=ax, color ='red')"
   ]
  },
  {
   "cell_type": "code",
   "execution_count": null,
   "metadata": {},
   "outputs": [
    {
     "data": {
      "text/html": [
       "<div style=\"width:100%;\"><div style=\"position:relative;width:100%;height:0;padding-bottom:60%;\"><span style=\"color:#565656\">Make this Notebook Trusted to load map: File -> Trust Notebook</span><iframe srcdoc=\"&lt;!DOCTYPE html&gt;\n",
       "&lt;html&gt;\n",
       "&lt;head&gt;\n",
       "    \n",
       "    &lt;meta http-equiv=&quot;content-type&quot; content=&quot;text/html; charset=UTF-8&quot; /&gt;\n",
       "    \n",
       "        &lt;script&gt;\n",
       "            L_NO_TOUCH = false;\n",
       "            L_DISABLE_3D = false;\n",
       "        &lt;/script&gt;\n",
       "    \n",
       "    &lt;style&gt;html, body {width: 100%;height: 100%;margin: 0;padding: 0;}&lt;/style&gt;\n",
       "    &lt;style&gt;#map {position:absolute;top:0;bottom:0;right:0;left:0;}&lt;/style&gt;\n",
       "    &lt;script src=&quot;https://cdn.jsdelivr.net/npm/leaflet@1.9.3/dist/leaflet.js&quot;&gt;&lt;/script&gt;\n",
       "    &lt;script src=&quot;https://code.jquery.com/jquery-1.12.4.min.js&quot;&gt;&lt;/script&gt;\n",
       "    &lt;script src=&quot;https://cdn.jsdelivr.net/npm/bootstrap@5.2.2/dist/js/bootstrap.bundle.min.js&quot;&gt;&lt;/script&gt;\n",
       "    &lt;script src=&quot;https://cdnjs.cloudflare.com/ajax/libs/Leaflet.awesome-markers/2.0.2/leaflet.awesome-markers.js&quot;&gt;&lt;/script&gt;\n",
       "    &lt;link rel=&quot;stylesheet&quot; href=&quot;https://cdn.jsdelivr.net/npm/leaflet@1.9.3/dist/leaflet.css&quot;/&gt;\n",
       "    &lt;link rel=&quot;stylesheet&quot; href=&quot;https://cdn.jsdelivr.net/npm/bootstrap@5.2.2/dist/css/bootstrap.min.css&quot;/&gt;\n",
       "    &lt;link rel=&quot;stylesheet&quot; href=&quot;https://netdna.bootstrapcdn.com/bootstrap/3.0.0/css/bootstrap.min.css&quot;/&gt;\n",
       "    &lt;link rel=&quot;stylesheet&quot; href=&quot;https://cdn.jsdelivr.net/npm/@fortawesome/fontawesome-free@6.2.0/css/all.min.css&quot;/&gt;\n",
       "    &lt;link rel=&quot;stylesheet&quot; href=&quot;https://cdnjs.cloudflare.com/ajax/libs/Leaflet.awesome-markers/2.0.2/leaflet.awesome-markers.css&quot;/&gt;\n",
       "    &lt;link rel=&quot;stylesheet&quot; href=&quot;https://cdn.jsdelivr.net/gh/python-visualization/folium/folium/templates/leaflet.awesome.rotate.min.css&quot;/&gt;\n",
       "    \n",
       "            &lt;meta name=&quot;viewport&quot; content=&quot;width=device-width,\n",
       "                initial-scale=1.0, maximum-scale=1.0, user-scalable=no&quot; /&gt;\n",
       "            &lt;style&gt;\n",
       "                #map_1623657bc1ed67f62e947c58134a4116 {\n",
       "                    position: relative;\n",
       "                    width: 100.0%;\n",
       "                    height: 100.0%;\n",
       "                    left: 0.0%;\n",
       "                    top: 0.0%;\n",
       "                }\n",
       "                .leaflet-container { font-size: 1rem; }\n",
       "            &lt;/style&gt;\n",
       "        \n",
       "&lt;/head&gt;\n",
       "&lt;body&gt;\n",
       "    \n",
       "    \n",
       "            &lt;div class=&quot;folium-map&quot; id=&quot;map_1623657bc1ed67f62e947c58134a4116&quot; &gt;&lt;/div&gt;\n",
       "        \n",
       "&lt;/body&gt;\n",
       "&lt;script&gt;\n",
       "    \n",
       "    \n",
       "            var map_1623657bc1ed67f62e947c58134a4116 = L.map(\n",
       "                &quot;map_1623657bc1ed67f62e947c58134a4116&quot;,\n",
       "                {\n",
       "                    center: [39.0618, 33.75],\n",
       "                    crs: L.CRS.EPSG3857,\n",
       "                    zoom: 10,\n",
       "                    zoomControl: true,\n",
       "                    preferCanvas: false,\n",
       "                    titles: &quot;cartodbpositron&quot;,\n",
       "                    zooms: 5,\n",
       "                }\n",
       "            );\n",
       "\n",
       "            \n",
       "\n",
       "        \n",
       "    \n",
       "            var tile_layer_5d1f9ca4f907ffd5915b1f92ebe9cf70 = L.tileLayer(\n",
       "                &quot;https://{s}.tile.openstreetmap.org/{z}/{x}/{y}.png&quot;,\n",
       "                {&quot;attribution&quot;: &quot;Data by \\u0026copy; \\u003ca target=\\&quot;_blank\\&quot; href=\\&quot;http://openstreetmap.org\\&quot;\\u003eOpenStreetMap\\u003c/a\\u003e, under \\u003ca target=\\&quot;_blank\\&quot; href=\\&quot;http://www.openstreetmap.org/copyright\\&quot;\\u003eODbL\\u003c/a\\u003e.&quot;, &quot;detectRetina&quot;: false, &quot;maxNativeZoom&quot;: 18, &quot;maxZoom&quot;: 18, &quot;minZoom&quot;: 0, &quot;noWrap&quot;: false, &quot;opacity&quot;: 1, &quot;subdomains&quot;: &quot;abc&quot;, &quot;tms&quot;: false}\n",
       "            ).addTo(map_1623657bc1ed67f62e947c58134a4116);\n",
       "        \n",
       "    \n",
       "            var marker_9ba1a79c05a3ba7e782cbb2e48800e81 = L.marker(\n",
       "                [40.9, 28.7],\n",
       "                {}\n",
       "            ).addTo(map_1623657bc1ed67f62e947c58134a4116);\n",
       "        \n",
       "    \n",
       "        var popup_eafb237e73c94c08d93b0586e9188763 = L.popup({&quot;maxWidth&quot;: &quot;100%&quot;});\n",
       "\n",
       "        \n",
       "            \n",
       "                var html_e1bad5625e888eb055ae62473aa94ce5 = $(`&lt;div id=&quot;html_e1bad5625e888eb055ae62473aa94ce5&quot; style=&quot;width: 100.0%; height: 100.0%;&quot;&gt;number of Deaths : 10,000  Magnitude : 7.2 Mw  Date : 10 September 1509&lt;/div&gt;`)[0];\n",
       "                popup_eafb237e73c94c08d93b0586e9188763.setContent(html_e1bad5625e888eb055ae62473aa94ce5);\n",
       "            \n",
       "        \n",
       "\n",
       "        marker_9ba1a79c05a3ba7e782cbb2e48800e81.bindPopup(popup_eafb237e73c94c08d93b0586e9188763)\n",
       "        ;\n",
       "\n",
       "        \n",
       "    \n",
       "    \n",
       "            var marker_137bc96522a0ad8e1930fdf440210667 = L.marker(\n",
       "                [38.2, 28.2],\n",
       "                {}\n",
       "            ).addTo(map_1623657bc1ed67f62e947c58134a4116);\n",
       "        \n",
       "    \n",
       "        var popup_76a0cc81d4f9145e46a409554d201b4b = L.popup({&quot;maxWidth&quot;: &quot;100%&quot;});\n",
       "\n",
       "        \n",
       "            \n",
       "                var html_8b80f42e59cfa0c5d65177a91646875d = $(`&lt;div id=&quot;html_8b80f42e59cfa0c5d65177a91646875d&quot; style=&quot;width: 100.0%; height: 100.0%;&quot;&gt;number of Deaths : 2,500  Magnitude : 7.5 Mw  Date : 23 February 1653&lt;/div&gt;`)[0];\n",
       "                popup_76a0cc81d4f9145e46a409554d201b4b.setContent(html_8b80f42e59cfa0c5d65177a91646875d);\n",
       "            \n",
       "        \n",
       "\n",
       "        marker_137bc96522a0ad8e1930fdf440210667.bindPopup(popup_76a0cc81d4f9145e46a409554d201b4b)\n",
       "        ;\n",
       "\n",
       "        \n",
       "    \n",
       "    \n",
       "            var marker_f0737cf800815fa96a793b191d843b18 = L.marker(\n",
       "                [40.0, 36.0],\n",
       "                {}\n",
       "            ).addTo(map_1623657bc1ed67f62e947c58134a4116);\n",
       "        \n",
       "    \n",
       "        var popup_5006e2cf028674a3f539472779377e6f = L.popup({&quot;maxWidth&quot;: &quot;100%&quot;});\n",
       "\n",
       "        \n",
       "            \n",
       "                var html_18749e1c1015835052fd473774cdc750 = $(`&lt;div id=&quot;html_18749e1c1015835052fd473774cdc750&quot; style=&quot;width: 100.0%; height: 100.0%;&quot;&gt;number of Deaths : 8,000  Magnitude : 8M w  Date : 17 August 1668&lt;/div&gt;`)[0];\n",
       "                popup_5006e2cf028674a3f539472779377e6f.setContent(html_18749e1c1015835052fd473774cdc750);\n",
       "            \n",
       "        \n",
       "\n",
       "        marker_f0737cf800815fa96a793b191d843b18.bindPopup(popup_5006e2cf028674a3f539472779377e6f)\n",
       "        ;\n",
       "\n",
       "        \n",
       "    \n",
       "    \n",
       "            var marker_e95ee84acbe094d34b51d34fc9cad6a9 = L.marker(\n",
       "                [38.4, 26.9],\n",
       "                {}\n",
       "            ).addTo(map_1623657bc1ed67f62e947c58134a4116);\n",
       "        \n",
       "    \n",
       "        var popup_98cf117c11f8a4818d874788e36bd809 = L.popup({&quot;maxWidth&quot;: &quot;100%&quot;});\n",
       "\n",
       "        \n",
       "            \n",
       "                var html_6d8b6430f21fac2dff1f56acd5e998cf = $(`&lt;div id=&quot;html_6d8b6430f21fac2dff1f56acd5e998cf&quot; style=&quot;width: 100.0%; height: 100.0%;&quot;&gt;number of Deaths : 16,000  Magnitude : 7.0 Mw  Date : 10 July 1688&lt;/div&gt;`)[0];\n",
       "                popup_98cf117c11f8a4818d874788e36bd809.setContent(html_6d8b6430f21fac2dff1f56acd5e998cf);\n",
       "            \n",
       "        \n",
       "\n",
       "        marker_e95ee84acbe094d34b51d34fc9cad6a9.bindPopup(popup_98cf117c11f8a4818d874788e36bd809)\n",
       "        ;\n",
       "\n",
       "        \n",
       "    \n",
       "    \n",
       "            var marker_f63954754387913ce733b8beb58a2837 = L.marker(\n",
       "                [40.8, 29.0],\n",
       "                {}\n",
       "            ).addTo(map_1623657bc1ed67f62e947c58134a4116);\n",
       "        \n",
       "    \n",
       "        var popup_729c7d691a3b48a270d25213eaf4c502 = L.popup({&quot;maxWidth&quot;: &quot;100%&quot;});\n",
       "\n",
       "        \n",
       "            \n",
       "                var html_90b1d861dd0155509718481c61e62105 = $(`&lt;div id=&quot;html_90b1d861dd0155509718481c61e62105&quot; style=&quot;width: 100.0%; height: 100.0%;&quot;&gt;number of Deaths : 4,000  Magnitude : 7.1 Mw  Date : 22 May 1766&lt;/div&gt;`)[0];\n",
       "                popup_729c7d691a3b48a270d25213eaf4c502.setContent(html_90b1d861dd0155509718481c61e62105);\n",
       "            \n",
       "        \n",
       "\n",
       "        marker_f63954754387913ce733b8beb58a2837.bindPopup(popup_729c7d691a3b48a270d25213eaf4c502)\n",
       "        ;\n",
       "\n",
       "        \n",
       "    \n",
       "    \n",
       "            var marker_ae63e59daae549d40112e7d7a06eb729 = L.marker(\n",
       "                [39.5, 40.2],\n",
       "                {}\n",
       "            ).addTo(map_1623657bc1ed67f62e947c58134a4116);\n",
       "        \n",
       "    \n",
       "        var popup_6790232806e9da6777cd2dfdc2e655d1 = L.popup({&quot;maxWidth&quot;: &quot;100%&quot;});\n",
       "\n",
       "        \n",
       "            \n",
       "                var html_1d5feffaf9b529da57f365424ae2e652 = $(`&lt;div id=&quot;html_1d5feffaf9b529da57f365424ae2e652&quot; style=&quot;width: 100.0%; height: 100.0%;&quot;&gt;number of Deaths : 7500  Magnitude : 7.6 Mw  Date : 23 July 1784&lt;/div&gt;`)[0];\n",
       "                popup_6790232806e9da6777cd2dfdc2e655d1.setContent(html_1d5feffaf9b529da57f365424ae2e652);\n",
       "            \n",
       "        \n",
       "\n",
       "        marker_ae63e59daae549d40112e7d7a06eb729.bindPopup(popup_6790232806e9da6777cd2dfdc2e655d1)\n",
       "        ;\n",
       "\n",
       "        \n",
       "    \n",
       "    \n",
       "            var marker_f87c50f323471a066869345c818e40ec = L.marker(\n",
       "                [39.6, 44.1],\n",
       "                {}\n",
       "            ).addTo(map_1623657bc1ed67f62e947c58134a4116);\n",
       "        \n",
       "    \n",
       "        var popup_cf3999d6871602db07b33779c801c586 = L.popup({&quot;maxWidth&quot;: &quot;100%&quot;});\n",
       "\n",
       "        \n",
       "            \n",
       "                var html_105dfc518846265118e01d336f8213c7 = $(`&lt;div id=&quot;html_105dfc518846265118e01d336f8213c7&quot; style=&quot;width: 100.0%; height: 100.0%;&quot;&gt;number of Deaths : 10,000  Magnitude : 7.4 Mw  Date : 2 July 1840&lt;/div&gt;`)[0];\n",
       "                popup_cf3999d6871602db07b33779c801c586.setContent(html_105dfc518846265118e01d336f8213c7);\n",
       "            \n",
       "        \n",
       "\n",
       "        marker_f87c50f323471a066869345c818e40ec.bindPopup(popup_cf3999d6871602db07b33779c801c586)\n",
       "        ;\n",
       "\n",
       "        \n",
       "    \n",
       "    \n",
       "            var marker_164095d80bc979d6597af6c799785f08 = L.marker(\n",
       "                [40.2, 29.1],\n",
       "                {}\n",
       "            ).addTo(map_1623657bc1ed67f62e947c58134a4116);\n",
       "        \n",
       "    \n",
       "        var popup_d80597b6f6f50c17f530a1724e289098 = L.popup({&quot;maxWidth&quot;: &quot;100%&quot;});\n",
       "\n",
       "        \n",
       "            \n",
       "                var html_8ccdee579f7ae807a3a86fb743adfa41 = $(`&lt;div id=&quot;html_8ccdee579f7ae807a3a86fb743adfa41&quot; style=&quot;width: 100.0%; height: 100.0%;&quot;&gt;number of Deaths : 1,900  Magnitude : 6.7 Mw  Date : 28 February 1855&lt;/div&gt;`)[0];\n",
       "                popup_d80597b6f6f50c17f530a1724e289098.setContent(html_8ccdee579f7ae807a3a86fb743adfa41);\n",
       "            \n",
       "        \n",
       "\n",
       "        marker_164095d80bc979d6597af6c799785f08.bindPopup(popup_d80597b6f6f50c17f530a1724e289098)\n",
       "        ;\n",
       "\n",
       "        \n",
       "    \n",
       "    \n",
       "            var marker_925c82177fdba3142eff072e359f927a = L.marker(\n",
       "                [39.9, 41.3],\n",
       "                {}\n",
       "            ).addTo(map_1623657bc1ed67f62e947c58134a4116);\n",
       "        \n",
       "    \n",
       "        var popup_29aa73cc4b54fc623589fe0a8c9f19ab = L.popup({&quot;maxWidth&quot;: &quot;100%&quot;});\n",
       "\n",
       "        \n",
       "            \n",
       "                var html_2b8eaf2fc0b1ed0d968dc33998d3d08b = $(`&lt;div id=&quot;html_2b8eaf2fc0b1ed0d968dc33998d3d08b&quot; style=&quot;width: 100.0%; height: 100.0%;&quot;&gt;number of Deaths : 15,000  Magnitude : 6.1 Mw  Date : 2 June 1859&lt;/div&gt;`)[0];\n",
       "                popup_29aa73cc4b54fc623589fe0a8c9f19ab.setContent(html_2b8eaf2fc0b1ed0d968dc33998d3d08b);\n",
       "            \n",
       "        \n",
       "\n",
       "        marker_925c82177fdba3142eff072e359f927a.bindPopup(popup_29aa73cc4b54fc623589fe0a8c9f19ab)\n",
       "        ;\n",
       "\n",
       "        \n",
       "    \n",
       "    \n",
       "            var marker_902650a8798c4f1f31423c300479d677 = L.marker(\n",
       "                [36.4, 36.4],\n",
       "                {}\n",
       "            ).addTo(map_1623657bc1ed67f62e947c58134a4116);\n",
       "        \n",
       "    \n",
       "        var popup_41d7297525399a5cad8c370f65c75198 = L.popup({&quot;maxWidth&quot;: &quot;100%&quot;});\n",
       "\n",
       "        \n",
       "            \n",
       "                var html_7ce18936b1b6ad00c40389057d841825 = $(`&lt;div id=&quot;html_7ce18936b1b6ad00c40389057d841825&quot; style=&quot;width: 100.0%; height: 100.0%;&quot;&gt;number of Deaths : 1,800  Magnitude : 7.2 Mw  Date : 3 April 1872&lt;/div&gt;`)[0];\n",
       "                popup_41d7297525399a5cad8c370f65c75198.setContent(html_7ce18936b1b6ad00c40389057d841825);\n",
       "            \n",
       "        \n",
       "\n",
       "        marker_902650a8798c4f1f31423c300479d677.bindPopup(popup_41d7297525399a5cad8c370f65c75198)\n",
       "        ;\n",
       "\n",
       "        \n",
       "    \n",
       "    \n",
       "            var marker_079c11f2d460b284a5d09eb082962481 = L.marker(\n",
       "                [38.25, 26.25],\n",
       "                {}\n",
       "            ).addTo(map_1623657bc1ed67f62e947c58134a4116);\n",
       "        \n",
       "    \n",
       "        var popup_34cc56476bc968b2a91397797b01f293 = L.popup({&quot;maxWidth&quot;: &quot;100%&quot;});\n",
       "\n",
       "        \n",
       "            \n",
       "                var html_7684cfb0cbe603f36a6854742be98a3e = $(`&lt;div id=&quot;html_7684cfb0cbe603f36a6854742be98a3e&quot; style=&quot;width: 100.0%; height: 100.0%;&quot;&gt;number of Deaths : 7,866  Magnitude : 7.3 Mw  Date : 3 April 1881&lt;/div&gt;`)[0];\n",
       "                popup_34cc56476bc968b2a91397797b01f293.setContent(html_7684cfb0cbe603f36a6854742be98a3e);\n",
       "            \n",
       "        \n",
       "\n",
       "        marker_079c11f2d460b284a5d09eb082962481.bindPopup(popup_34cc56476bc968b2a91397797b01f293)\n",
       "        ;\n",
       "\n",
       "        \n",
       "    \n",
       "    \n",
       "            var marker_0bf5b900563698c824001ac06ca52177 = L.marker(\n",
       "                [38.25, 26.25],\n",
       "                {}\n",
       "            ).addTo(map_1623657bc1ed67f62e947c58134a4116);\n",
       "        \n",
       "    \n",
       "        var popup_044446f09640e2da07d46ccef9639f47 = L.popup({&quot;maxWidth&quot;: &quot;100%&quot;});\n",
       "\n",
       "        \n",
       "            \n",
       "                var html_047f441bdd8f34f2707f792dda156e7c = $(`&lt;div id=&quot;html_047f441bdd8f34f2707f792dda156e7c&quot; style=&quot;width: 100.0%; height: 100.0%;&quot;&gt;number of Deaths : 7,866  Magnitude : 7.3 Mw  Date : 3 April 1881&lt;/div&gt;`)[0];\n",
       "                popup_044446f09640e2da07d46ccef9639f47.setContent(html_047f441bdd8f34f2707f792dda156e7c);\n",
       "            \n",
       "        \n",
       "\n",
       "        marker_0bf5b900563698c824001ac06ca52177.bindPopup(popup_044446f09640e2da07d46ccef9639f47)\n",
       "        ;\n",
       "\n",
       "        \n",
       "    \n",
       "    \n",
       "            var marker_079212505165875791cdc1e012915f8d = L.marker(\n",
       "                [38.25, 26.25],\n",
       "                {}\n",
       "            ).addTo(map_1623657bc1ed67f62e947c58134a4116);\n",
       "        \n",
       "    \n",
       "        var popup_8cbc9275717b134fc0e559ca18e9d36a = L.popup({&quot;maxWidth&quot;: &quot;100%&quot;});\n",
       "\n",
       "        \n",
       "            \n",
       "                var html_44620367ad7c7417294f0b75abab9465 = $(`&lt;div id=&quot;html_44620367ad7c7417294f0b75abab9465&quot; style=&quot;width: 100.0%; height: 100.0%;&quot;&gt;number of Deaths : 7,866  Magnitude : 7.3 Mw  Date : 3 April 1881&lt;/div&gt;`)[0];\n",
       "                popup_8cbc9275717b134fc0e559ca18e9d36a.setContent(html_44620367ad7c7417294f0b75abab9465);\n",
       "            \n",
       "        \n",
       "\n",
       "        marker_079212505165875791cdc1e012915f8d.bindPopup(popup_8cbc9275717b134fc0e559ca18e9d36a)\n",
       "        ;\n",
       "\n",
       "        \n",
       "    \n",
       "    \n",
       "            var marker_805515e2a7b10402f8cefa5ea272ce2b = L.marker(\n",
       "                [38.3, 26.2],\n",
       "                {}\n",
       "            ).addTo(map_1623657bc1ed67f62e947c58134a4116);\n",
       "        \n",
       "    \n",
       "        var popup_01321e99fcb570cf034a7a373a128422 = L.popup({&quot;maxWidth&quot;: &quot;100%&quot;});\n",
       "\n",
       "        \n",
       "            \n",
       "                var html_a707c6ef2824421132ff3c9a33b22d5d = $(`&lt;div id=&quot;html_a707c6ef2824421132ff3c9a33b22d5d&quot; style=&quot;width: 100.0%; height: 100.0%;&quot;&gt;number of Deaths : 120  Magnitude : 7.3 Mw  Date : 10 October 1883&lt;/div&gt;`)[0];\n",
       "                popup_01321e99fcb570cf034a7a373a128422.setContent(html_a707c6ef2824421132ff3c9a33b22d5d);\n",
       "            \n",
       "        \n",
       "\n",
       "        marker_805515e2a7b10402f8cefa5ea272ce2b.bindPopup(popup_01321e99fcb570cf034a7a373a128422)\n",
       "        ;\n",
       "\n",
       "        \n",
       "    \n",
       "    \n",
       "            var marker_8a35e6d93a4fcb70205fd1b0beda07bc = L.marker(\n",
       "                [38.3, 26.2],\n",
       "                {}\n",
       "            ).addTo(map_1623657bc1ed67f62e947c58134a4116);\n",
       "        \n",
       "    \n",
       "        var popup_870e79cc78114206e3e690d4d6d61785 = L.popup({&quot;maxWidth&quot;: &quot;100%&quot;});\n",
       "\n",
       "        \n",
       "            \n",
       "                var html_d512681ac31dc3b8f8dd2d073dfc28ab = $(`&lt;div id=&quot;html_d512681ac31dc3b8f8dd2d073dfc28ab&quot; style=&quot;width: 100.0%; height: 100.0%;&quot;&gt;number of Deaths : 120  Magnitude : 7.3 Mw  Date : 10 October 1883&lt;/div&gt;`)[0];\n",
       "                popup_870e79cc78114206e3e690d4d6d61785.setContent(html_d512681ac31dc3b8f8dd2d073dfc28ab);\n",
       "            \n",
       "        \n",
       "\n",
       "        marker_8a35e6d93a4fcb70205fd1b0beda07bc.bindPopup(popup_870e79cc78114206e3e690d4d6d61785)\n",
       "        ;\n",
       "\n",
       "        \n",
       "    \n",
       "    \n",
       "            var marker_b1c9080b5ab35144464b39fa194e75ca = L.marker(\n",
       "                [38.3, 26.2],\n",
       "                {}\n",
       "            ).addTo(map_1623657bc1ed67f62e947c58134a4116);\n",
       "        \n",
       "    \n",
       "        var popup_58ede13a700263361ebaddca79d151ff = L.popup({&quot;maxWidth&quot;: &quot;100%&quot;});\n",
       "\n",
       "        \n",
       "            \n",
       "                var html_3ec2bf02ee8e0ac93826121f8d1e2853 = $(`&lt;div id=&quot;html_3ec2bf02ee8e0ac93826121f8d1e2853&quot; style=&quot;width: 100.0%; height: 100.0%;&quot;&gt;number of Deaths : 120  Magnitude : 7.3 Mw  Date : 10 October 1883&lt;/div&gt;`)[0];\n",
       "                popup_58ede13a700263361ebaddca79d151ff.setContent(html_3ec2bf02ee8e0ac93826121f8d1e2853);\n",
       "            \n",
       "        \n",
       "\n",
       "        marker_b1c9080b5ab35144464b39fa194e75ca.bindPopup(popup_58ede13a700263361ebaddca79d151ff)\n",
       "        ;\n",
       "\n",
       "        \n",
       "    \n",
       "    \n",
       "            var marker_bfb5416d6c358085698324016fc38358 = L.marker(\n",
       "                [40.73, 29.25],\n",
       "                {}\n",
       "            ).addTo(map_1623657bc1ed67f62e947c58134a4116);\n",
       "        \n",
       "    \n",
       "        var popup_d5760bc21260ac870003f57aa599c673 = L.popup({&quot;maxWidth&quot;: &quot;100%&quot;});\n",
       "\n",
       "        \n",
       "            \n",
       "                var html_97d74ff2b8841e963a88ad74adcb9abe = $(`&lt;div id=&quot;html_97d74ff2b8841e963a88ad74adcb9abe&quot; style=&quot;width: 100.0%; height: 100.0%;&quot;&gt;number of Deaths : 1,300  Magnitude : 7.0 Mw  Date : 10 July 1894&lt;/div&gt;`)[0];\n",
       "                popup_d5760bc21260ac870003f57aa599c673.setContent(html_97d74ff2b8841e963a88ad74adcb9abe);\n",
       "            \n",
       "        \n",
       "\n",
       "        marker_bfb5416d6c358085698324016fc38358.bindPopup(popup_d5760bc21260ac870003f57aa599c673)\n",
       "        ;\n",
       "\n",
       "        \n",
       "    \n",
       "    \n",
       "            var marker_c68f41e87acaf18845adc8eb19f5b569 = L.marker(\n",
       "                [37.9, 28.1],\n",
       "                {}\n",
       "            ).addTo(map_1623657bc1ed67f62e947c58134a4116);\n",
       "        \n",
       "    \n",
       "        var popup_f47157a94d87691eb13c32ad86bcf972 = L.popup({&quot;maxWidth&quot;: &quot;100%&quot;});\n",
       "\n",
       "        \n",
       "            \n",
       "                var html_58030d3a84df604f66c41c0c2f15f1d3 = $(`&lt;div id=&quot;html_58030d3a84df604f66c41c0c2f15f1d3&quot; style=&quot;width: 100.0%; height: 100.0%;&quot;&gt;number of Deaths : 1,470  Magnitude : 7.1 Mw  Date : 20 September 1899&lt;/div&gt;`)[0];\n",
       "                popup_f47157a94d87691eb13c32ad86bcf972.setContent(html_58030d3a84df604f66c41c0c2f15f1d3);\n",
       "            \n",
       "        \n",
       "\n",
       "        marker_c68f41e87acaf18845adc8eb19f5b569.bindPopup(popup_f47157a94d87691eb13c32ad86bcf972)\n",
       "        ;\n",
       "\n",
       "        \n",
       "    \n",
       "    \n",
       "            var marker_7552ed19beae4c7a4d8ff82515751dd8 = L.marker(\n",
       "                [39.14, 42.65],\n",
       "                {}\n",
       "            ).addTo(map_1623657bc1ed67f62e947c58134a4116);\n",
       "        \n",
       "    \n",
       "        var popup_95c6ca6890f9dd852fbe4993ec30f414 = L.popup({&quot;maxWidth&quot;: &quot;100%&quot;});\n",
       "\n",
       "        \n",
       "            \n",
       "                var html_dfe6b7ce2bf96f497f981ca86bf116f3 = $(`&lt;div id=&quot;html_dfe6b7ce2bf96f497f981ca86bf116f3&quot; style=&quot;width: 100.0%; height: 100.0%;&quot;&gt;number of Deaths : 600  Magnitude : 6.7 Mw  Date : 29 April 1903&lt;/div&gt;`)[0];\n",
       "                popup_95c6ca6890f9dd852fbe4993ec30f414.setContent(html_dfe6b7ce2bf96f497f981ca86bf116f3);\n",
       "            \n",
       "        \n",
       "\n",
       "        marker_7552ed19beae4c7a4d8ff82515751dd8.bindPopup(popup_95c6ca6890f9dd852fbe4993ec30f414)\n",
       "        ;\n",
       "\n",
       "        \n",
       "    \n",
       "    \n",
       "            var marker_6235d7ba6e23fc0e77f844d8f3f38682 = L.marker(\n",
       "                [40.75, 27.2],\n",
       "                {}\n",
       "            ).addTo(map_1623657bc1ed67f62e947c58134a4116);\n",
       "        \n",
       "    \n",
       "        var popup_388c034c7fa8fd349c443d4c4f21ff67 = L.popup({&quot;maxWidth&quot;: &quot;100%&quot;});\n",
       "\n",
       "        \n",
       "            \n",
       "                var html_48b7921fca97f6ecdf71fcf44cde2e48 = $(`&lt;div id=&quot;html_48b7921fca97f6ecdf71fcf44cde2e48&quot; style=&quot;width: 100.0%; height: 100.0%;&quot;&gt;number of Deaths : \t216\t  Magnitude : 7.3 Mw  Date : 9 August 1912&lt;/div&gt;`)[0];\n",
       "                popup_388c034c7fa8fd349c443d4c4f21ff67.setContent(html_48b7921fca97f6ecdf71fcf44cde2e48);\n",
       "            \n",
       "        \n",
       "\n",
       "        marker_6235d7ba6e23fc0e77f844d8f3f38682.bindPopup(popup_388c034c7fa8fd349c443d4c4f21ff67)\n",
       "        ;\n",
       "\n",
       "        \n",
       "    \n",
       "    \n",
       "            var marker_59983f258d1fd2d52e51de881dd0261c = L.marker(\n",
       "                [37.82, 30.27],\n",
       "                {}\n",
       "            ).addTo(map_1623657bc1ed67f62e947c58134a4116);\n",
       "        \n",
       "    \n",
       "        var popup_f2199e89dba92d4415be1340ea9235c9 = L.popup({&quot;maxWidth&quot;: &quot;100%&quot;});\n",
       "\n",
       "        \n",
       "            \n",
       "                var html_d8a999461f2b040f991d0f4feea1884b = $(`&lt;div id=&quot;html_d8a999461f2b040f991d0f4feea1884b&quot; style=&quot;width: 100.0%; height: 100.0%;&quot;&gt;number of Deaths : 2,344  Magnitude : 6.9 Mw  Date : 4 October 1914&lt;/div&gt;`)[0];\n",
       "                popup_f2199e89dba92d4415be1340ea9235c9.setContent(html_d8a999461f2b040f991d0f4feea1884b);\n",
       "            \n",
       "        \n",
       "\n",
       "        marker_59983f258d1fd2d52e51de881dd0261c.bindPopup(popup_f2199e89dba92d4415be1340ea9235c9)\n",
       "        ;\n",
       "\n",
       "        \n",
       "    \n",
       "    \n",
       "            var marker_101a029109d2e18fcadcd9ddd46226d4 = L.marker(\n",
       "                [39.18, 27.65],\n",
       "                {}\n",
       "            ).addTo(map_1623657bc1ed67f62e947c58134a4116);\n",
       "        \n",
       "    \n",
       "        var popup_87a734648c20f4e7ee3d840b41901d68 = L.popup({&quot;maxWidth&quot;: &quot;100%&quot;});\n",
       "\n",
       "        \n",
       "            \n",
       "                var html_5eb30d40c215e1aaf0c2e83c4b912efb = $(`&lt;div id=&quot;html_5eb30d40c215e1aaf0c2e83c4b912efb&quot; style=&quot;width: 100.0%; height: 100.0%;&quot;&gt;number of Deaths : 3,000  Magnitude : 7.0 Mw  Date : 18 November 1919&lt;/div&gt;`)[0];\n",
       "                popup_87a734648c20f4e7ee3d840b41901d68.setContent(html_5eb30d40c215e1aaf0c2e83c4b912efb);\n",
       "            \n",
       "        \n",
       "\n",
       "        marker_101a029109d2e18fcadcd9ddd46226d4.bindPopup(popup_87a734648c20f4e7ee3d840b41901d68)\n",
       "        ;\n",
       "\n",
       "        \n",
       "    \n",
       "    \n",
       "            var marker_ac3461a7b394a11e65de3245dcc32cc1 = L.marker(\n",
       "                [40.0, 42.1],\n",
       "                {}\n",
       "            ).addTo(map_1623657bc1ed67f62e947c58134a4116);\n",
       "        \n",
       "    \n",
       "        var popup_a74fd7e0ac064f0676ab89087f292211 = L.popup({&quot;maxWidth&quot;: &quot;100%&quot;});\n",
       "\n",
       "        \n",
       "            \n",
       "                var html_32449c8b929eec9d90fbcec0542a92cc = $(`&lt;div id=&quot;html_32449c8b929eec9d90fbcec0542a92cc&quot; style=&quot;width: 100.0%; height: 100.0%;&quot;&gt;number of Deaths : 60  Magnitude : 6.8 Mw  Date : 13 September 1924&lt;/div&gt;`)[0];\n",
       "                popup_a74fd7e0ac064f0676ab89087f292211.setContent(html_32449c8b929eec9d90fbcec0542a92cc);\n",
       "            \n",
       "        \n",
       "\n",
       "        marker_ac3461a7b394a11e65de3245dcc32cc1.bindPopup(popup_a74fd7e0ac064f0676ab89087f292211)\n",
       "        ;\n",
       "\n",
       "        \n",
       "    \n",
       "    \n",
       "            var marker_70360b503733c68e648b2798ec6a8fc4 = L.marker(\n",
       "                [40.7, 43.7],\n",
       "                {}\n",
       "            ).addTo(map_1623657bc1ed67f62e947c58134a4116);\n",
       "        \n",
       "    \n",
       "        var popup_a2061fe3955bf01b42532257a1b449ee = L.popup({&quot;maxWidth&quot;: &quot;100%&quot;});\n",
       "\n",
       "        \n",
       "            \n",
       "                var html_9752d5ffbc6614f3b227ee7ee3f09d15 = $(`&lt;div id=&quot;html_9752d5ffbc6614f3b227ee7ee3f09d15&quot; style=&quot;width: 100.0%; height: 100.0%;&quot;&gt;number of Deaths : 360\t  Magnitude : 6.0 Mw  Date : 22 October 1926&lt;/div&gt;`)[0];\n",
       "                popup_a2061fe3955bf01b42532257a1b449ee.setContent(html_9752d5ffbc6614f3b227ee7ee3f09d15);\n",
       "            \n",
       "        \n",
       "\n",
       "        marker_70360b503733c68e648b2798ec6a8fc4.bindPopup(popup_a2061fe3955bf01b42532257a1b449ee)\n",
       "        ;\n",
       "\n",
       "        \n",
       "    \n",
       "    \n",
       "            var marker_6269b1e1580e19c512f4f6965356800c = L.marker(\n",
       "                [38.5, 28.0],\n",
       "                {}\n",
       "            ).addTo(map_1623657bc1ed67f62e947c58134a4116);\n",
       "        \n",
       "    \n",
       "        var popup_8359fccfb9e70a18e370829914c1204e = L.popup({&quot;maxWidth&quot;: &quot;100%&quot;});\n",
       "\n",
       "        \n",
       "            \n",
       "                var html_98decb5655af9ca4f069df92cf7d32d2 = $(`&lt;div id=&quot;html_98decb5655af9ca4f069df92cf7d32d2&quot; style=&quot;width: 100.0%; height: 100.0%;&quot;&gt;number of Deaths : 50  Magnitude : 6.5 Mw  Date : 31 March 1928&lt;/div&gt;`)[0];\n",
       "                popup_8359fccfb9e70a18e370829914c1204e.setContent(html_98decb5655af9ca4f069df92cf7d32d2);\n",
       "            \n",
       "        \n",
       "\n",
       "        marker_6269b1e1580e19c512f4f6965356800c.bindPopup(popup_8359fccfb9e70a18e370829914c1204e)\n",
       "        ;\n",
       "\n",
       "        \n",
       "    \n",
       "    \n",
       "            var marker_83666230f83738fea8f76ea536dcd9ab = L.marker(\n",
       "                [40.2, 37.9],\n",
       "                {}\n",
       "            ).addTo(map_1623657bc1ed67f62e947c58134a4116);\n",
       "        \n",
       "    \n",
       "        var popup_a199153f6c22950f589fdc25752dacd1 = L.popup({&quot;maxWidth&quot;: &quot;100%&quot;});\n",
       "\n",
       "        \n",
       "            \n",
       "                var html_f8ee82c7e33a407de1f01a44e15f6e72 = $(`&lt;div id=&quot;html_f8ee82c7e33a407de1f01a44e15f6e72&quot; style=&quot;width: 100.0%; height: 100.0%;&quot;&gt;number of Deaths : 64  Magnitude : 6.1 Mw  Date : 18 May 1929&lt;/div&gt;`)[0];\n",
       "                popup_a199153f6c22950f589fdc25752dacd1.setContent(html_f8ee82c7e33a407de1f01a44e15f6e72);\n",
       "            \n",
       "        \n",
       "\n",
       "        marker_83666230f83738fea8f76ea536dcd9ab.bindPopup(popup_a199153f6c22950f589fdc25752dacd1)\n",
       "        ;\n",
       "\n",
       "        \n",
       "    \n",
       "    \n",
       "            var marker_e30e16ed7a4cf75766070fededc70a1a = L.marker(\n",
       "                [38.1, 44.7],\n",
       "                {}\n",
       "            ).addTo(map_1623657bc1ed67f62e947c58134a4116);\n",
       "        \n",
       "    \n",
       "        var popup_a8d494f9db4fd6736168610d452199a9 = L.popup({&quot;maxWidth&quot;: &quot;100%&quot;});\n",
       "\n",
       "        \n",
       "            \n",
       "                var html_d9d716e02cf83fa3658fd6f547e9fb33 = $(`&lt;div id=&quot;html_d9d716e02cf83fa3658fd6f547e9fb33&quot; style=&quot;width: 100.0%; height: 100.0%;&quot;&gt;number of Deaths : 2,514  Magnitude : 7.5 Mw  Date : 7 May 1930&lt;/div&gt;`)[0];\n",
       "                popup_a8d494f9db4fd6736168610d452199a9.setContent(html_d9d716e02cf83fa3658fd6f547e9fb33);\n",
       "            \n",
       "        \n",
       "\n",
       "        marker_e30e16ed7a4cf75766070fededc70a1a.bindPopup(popup_a8d494f9db4fd6736168610d452199a9)\n",
       "        ;\n",
       "\n",
       "        \n",
       "    \n",
       "    \n",
       "            var marker_1fff8664c290b9e0f4007bb7710d56ec = L.marker(\n",
       "                [40.4, 27.5],\n",
       "                {}\n",
       "            ).addTo(map_1623657bc1ed67f62e947c58134a4116);\n",
       "        \n",
       "    \n",
       "        var popup_d1df0b15618e13e8f88fbda32d5015e0 = L.popup({&quot;maxWidth&quot;: &quot;100%&quot;});\n",
       "\n",
       "        \n",
       "            \n",
       "                var html_e6441f5c8862633d9947bd72d23ad4d6 = $(`&lt;div id=&quot;html_e6441f5c8862633d9947bd72d23ad4d6&quot; style=&quot;width: 100.0%; height: 100.0%;&quot;&gt;number of Deaths : 5  Magnitude : 6.4 Mw  Date : 4 January 1935&lt;/div&gt;`)[0];\n",
       "                popup_d1df0b15618e13e8f88fbda32d5015e0.setContent(html_e6441f5c8862633d9947bd72d23ad4d6);\n",
       "            \n",
       "        \n",
       "\n",
       "        marker_1fff8664c290b9e0f4007bb7710d56ec.bindPopup(popup_d1df0b15618e13e8f88fbda32d5015e0)\n",
       "        ;\n",
       "\n",
       "        \n",
       "    \n",
       "    \n",
       "            var marker_e943b3a7127ff4bcd3db883151ace80e = L.marker(\n",
       "                [39.1, 34.0],\n",
       "                {}\n",
       "            ).addTo(map_1623657bc1ed67f62e947c58134a4116);\n",
       "        \n",
       "    \n",
       "        var popup_14762ae9158427fba2c3249e2d2cff5d = L.popup({&quot;maxWidth&quot;: &quot;100%&quot;});\n",
       "\n",
       "        \n",
       "            \n",
       "                var html_4bcd1808cba82a67a8ab90c11924f2b0 = $(`&lt;div id=&quot;html_4bcd1808cba82a67a8ab90c11924f2b0&quot; style=&quot;width: 100.0%; height: 100.0%;&quot;&gt;number of Deaths : 160  Magnitude : 6.6 Mw  Date : 19 April 1938&lt;/div&gt;`)[0];\n",
       "                popup_14762ae9158427fba2c3249e2d2cff5d.setContent(html_4bcd1808cba82a67a8ab90c11924f2b0);\n",
       "            \n",
       "        \n",
       "\n",
       "        marker_e943b3a7127ff4bcd3db883151ace80e.bindPopup(popup_14762ae9158427fba2c3249e2d2cff5d)\n",
       "        ;\n",
       "\n",
       "        \n",
       "    \n",
       "    \n",
       "            var marker_90dfe57f021f8b801f8be00b6514c74c = L.marker(\n",
       "                [39.1, 26.8],\n",
       "                {}\n",
       "            ).addTo(map_1623657bc1ed67f62e947c58134a4116);\n",
       "        \n",
       "    \n",
       "        var popup_2905e30f421966933bcac0b707ae0156 = L.popup({&quot;maxWidth&quot;: &quot;100%&quot;});\n",
       "\n",
       "        \n",
       "            \n",
       "                var html_6cf805d703db4d9e838d58714cf7862d = $(`&lt;div id=&quot;html_6cf805d703db4d9e838d58714cf7862d&quot; style=&quot;width: 100.0%; height: 100.0%;&quot;&gt;number of Deaths : 60  Magnitude : 6.6 Mw  Date : 22 September 1939&lt;/div&gt;`)[0];\n",
       "                popup_2905e30f421966933bcac0b707ae0156.setContent(html_6cf805d703db4d9e838d58714cf7862d);\n",
       "            \n",
       "        \n",
       "\n",
       "        marker_90dfe57f021f8b801f8be00b6514c74c.bindPopup(popup_2905e30f421966933bcac0b707ae0156)\n",
       "        ;\n",
       "\n",
       "        \n",
       "    \n",
       "    \n",
       "            var marker_e85a0f5bf15fe3fe4fdca30e4f1db681 = L.marker(\n",
       "                [39.77, 39.53],\n",
       "                {}\n",
       "            ).addTo(map_1623657bc1ed67f62e947c58134a4116);\n",
       "        \n",
       "    \n",
       "        var popup_4ce1171b74aaea9307deb126023694e5 = L.popup({&quot;maxWidth&quot;: &quot;100%&quot;});\n",
       "\n",
       "        \n",
       "            \n",
       "                var html_b7be3cf5ad49145be1fd2265041ca6f0 = $(`&lt;div id=&quot;html_b7be3cf5ad49145be1fd2265041ca6f0&quot; style=&quot;width: 100.0%; height: 100.0%;&quot;&gt;number of Deaths : 32,700  Magnitude : 7.8 Mw  Date : 26 December 1939&lt;/div&gt;`)[0];\n",
       "                popup_4ce1171b74aaea9307deb126023694e5.setContent(html_b7be3cf5ad49145be1fd2265041ca6f0);\n",
       "            \n",
       "        \n",
       "\n",
       "        marker_e85a0f5bf15fe3fe4fdca30e4f1db681.bindPopup(popup_4ce1171b74aaea9307deb126023694e5)\n",
       "        ;\n",
       "\n",
       "        \n",
       "    \n",
       "    \n",
       "            var marker_9d86833d43c4ad4d278e080a99aae154 = L.marker(\n",
       "                [39.2, 28.2],\n",
       "                {}\n",
       "            ).addTo(map_1623657bc1ed67f62e947c58134a4116);\n",
       "        \n",
       "    \n",
       "        var popup_8b324381cd179a604f4553f40ec93c46 = L.popup({&quot;maxWidth&quot;: &quot;100%&quot;});\n",
       "\n",
       "        \n",
       "            \n",
       "                var html_b4ef0e7a22f6e8d3859e8fb4540c5c5a = $(`&lt;div id=&quot;html_b4ef0e7a22f6e8d3859e8fb4540c5c5a&quot; style=&quot;width: 100.0%; height: 100.0%;&quot;&gt;number of Deaths : 16  Magnitude : 6.1 Mw  Date : 15 November 1942&lt;/div&gt;`)[0];\n",
       "                popup_8b324381cd179a604f4553f40ec93c46.setContent(html_b4ef0e7a22f6e8d3859e8fb4540c5c5a);\n",
       "            \n",
       "        \n",
       "\n",
       "        marker_9d86833d43c4ad4d278e080a99aae154.bindPopup(popup_8b324381cd179a604f4553f40ec93c46)\n",
       "        ;\n",
       "\n",
       "        \n",
       "    \n",
       "    \n",
       "            var marker_49f9dde66196c722c1ea5920a7ded121 = L.marker(\n",
       "                [40.87, 36.47],\n",
       "                {}\n",
       "            ).addTo(map_1623657bc1ed67f62e947c58134a4116);\n",
       "        \n",
       "    \n",
       "        var popup_d5247964d9819c5523cea21f3169495d = L.popup({&quot;maxWidth&quot;: &quot;100%&quot;});\n",
       "\n",
       "        \n",
       "            \n",
       "                var html_5a2accc7b93a51796fafeb177bb43c2e = $(`&lt;div id=&quot;html_5a2accc7b93a51796fafeb177bb43c2e&quot; style=&quot;width: 100.0%; height: 100.0%;&quot;&gt;number of Deaths : 3,000  Magnitude : 7.0 Mw  Date : 20 December 1942&lt;/div&gt;`)[0];\n",
       "                popup_d5247964d9819c5523cea21f3169495d.setContent(html_5a2accc7b93a51796fafeb177bb43c2e);\n",
       "            \n",
       "        \n",
       "\n",
       "        marker_49f9dde66196c722c1ea5920a7ded121.bindPopup(popup_d5247964d9819c5523cea21f3169495d)\n",
       "        ;\n",
       "\n",
       "        \n",
       "    \n",
       "    \n",
       "            var marker_290b2e8419d6b36d43aaaf518fce3113 = L.marker(\n",
       "                [40.6, 30.5],\n",
       "                {}\n",
       "            ).addTo(map_1623657bc1ed67f62e947c58134a4116);\n",
       "        \n",
       "    \n",
       "        var popup_b9764035d133c55f34e801f0d8ce5655 = L.popup({&quot;maxWidth&quot;: &quot;100%&quot;});\n",
       "\n",
       "        \n",
       "            \n",
       "                var html_1605624819c9da7fe3933fd985a8084a = $(`&lt;div id=&quot;html_1605624819c9da7fe3933fd985a8084a&quot; style=&quot;width: 100.0%; height: 100.0%;&quot;&gt;number of Deaths : 336  Magnitude : 6.6 Mw  Date : 20 June 1943&lt;/div&gt;`)[0];\n",
       "                popup_b9764035d133c55f34e801f0d8ce5655.setContent(html_1605624819c9da7fe3933fd985a8084a);\n",
       "            \n",
       "        \n",
       "\n",
       "        marker_290b2e8419d6b36d43aaaf518fce3113.bindPopup(popup_b9764035d133c55f34e801f0d8ce5655)\n",
       "        ;\n",
       "\n",
       "        \n",
       "    \n",
       "    \n",
       "            var marker_59353aa1ea41aa15e06658da1e156e9d = L.marker(\n",
       "                [40.87, 33.65],\n",
       "                {}\n",
       "            ).addTo(map_1623657bc1ed67f62e947c58134a4116);\n",
       "        \n",
       "    \n",
       "        var popup_244f2f4c08b09211e816f42d88186400 = L.popup({&quot;maxWidth&quot;: &quot;100%&quot;});\n",
       "\n",
       "        \n",
       "            \n",
       "                var html_94647d82dd5a43f47a82fff03a27beef = $(`&lt;div id=&quot;html_94647d82dd5a43f47a82fff03a27beef&quot; style=&quot;width: 100.0%; height: 100.0%;&quot;&gt;number of Deaths : 5,000  Magnitude : 7.5 Mw  Date : 26 November 1943&lt;/div&gt;`)[0];\n",
       "                popup_244f2f4c08b09211e816f42d88186400.setContent(html_94647d82dd5a43f47a82fff03a27beef);\n",
       "            \n",
       "        \n",
       "\n",
       "        marker_59353aa1ea41aa15e06658da1e156e9d.bindPopup(popup_244f2f4c08b09211e816f42d88186400)\n",
       "        ;\n",
       "\n",
       "        \n",
       "    \n",
       "    \n",
       "            var marker_feddd23d81b86ef008f7afa69271dfde = L.marker(\n",
       "                [40.8, 32.2],\n",
       "                {}\n",
       "            ).addTo(map_1623657bc1ed67f62e947c58134a4116);\n",
       "        \n",
       "    \n",
       "        var popup_a1dd082e5f88eabebf0000c1d7ad0d79 = L.popup({&quot;maxWidth&quot;: &quot;100%&quot;});\n",
       "\n",
       "        \n",
       "            \n",
       "                var html_aabfd7f1cc01d4e7bc9f23770e288ee9 = $(`&lt;div id=&quot;html_aabfd7f1cc01d4e7bc9f23770e288ee9&quot; style=&quot;width: 100.0%; height: 100.0%;&quot;&gt;number of Deaths : \t3,959  Magnitude : 7.5 Mw  Date : 1 February 1944&lt;/div&gt;`)[0];\n",
       "                popup_a1dd082e5f88eabebf0000c1d7ad0d79.setContent(html_aabfd7f1cc01d4e7bc9f23770e288ee9);\n",
       "            \n",
       "        \n",
       "\n",
       "        marker_feddd23d81b86ef008f7afa69271dfde.bindPopup(popup_a1dd082e5f88eabebf0000c1d7ad0d79)\n",
       "        ;\n",
       "\n",
       "        \n",
       "    \n",
       "    \n",
       "            var marker_e536a9dddf59015f5299bc0b5961cf6f = L.marker(\n",
       "                [39.37, 26.53],\n",
       "                {}\n",
       "            ).addTo(map_1623657bc1ed67f62e947c58134a4116);\n",
       "        \n",
       "    \n",
       "        var popup_1e3182c23d9ffaa5a7b4fc7140894993 = L.popup({&quot;maxWidth&quot;: &quot;100%&quot;});\n",
       "\n",
       "        \n",
       "            \n",
       "                var html_86b1ea62e5ce64762a4a1b8bc213d2ae = $(`&lt;div id=&quot;html_86b1ea62e5ce64762a4a1b8bc213d2ae&quot; style=&quot;width: 100.0%; height: 100.0%;&quot;&gt;number of Deaths : \t30  Magnitude : 6.8 Mw  Date : 6 October 1944&lt;/div&gt;`)[0];\n",
       "                popup_1e3182c23d9ffaa5a7b4fc7140894993.setContent(html_86b1ea62e5ce64762a4a1b8bc213d2ae);\n",
       "            \n",
       "        \n",
       "\n",
       "        marker_e536a9dddf59015f5299bc0b5961cf6f.bindPopup(popup_1e3182c23d9ffaa5a7b4fc7140894993)\n",
       "        ;\n",
       "\n",
       "        \n",
       "    \n",
       "    \n",
       "            var marker_d834a0e15d57cc9a1a554616c01da784 = L.marker(\n",
       "                [39.54, 40.57],\n",
       "                {}\n",
       "            ).addTo(map_1623657bc1ed67f62e947c58134a4116);\n",
       "        \n",
       "    \n",
       "        var popup_87e9ed04fd89ea198cb7c84ff4b4c260 = L.popup({&quot;maxWidth&quot;: &quot;100%&quot;});\n",
       "\n",
       "        \n",
       "            \n",
       "                var html_9eb6e0114ed9da7e018a8a943d25a8da = $(`&lt;div id=&quot;html_9eb6e0114ed9da7e018a8a943d25a8da&quot; style=&quot;width: 100.0%; height: 100.0%;&quot;&gt;number of Deaths : 450  Magnitude : 6.8 Mw  Date : 17 August 1949&lt;/div&gt;`)[0];\n",
       "                popup_87e9ed04fd89ea198cb7c84ff4b4c260.setContent(html_9eb6e0114ed9da7e018a8a943d25a8da);\n",
       "            \n",
       "        \n",
       "\n",
       "        marker_d834a0e15d57cc9a1a554616c01da784.bindPopup(popup_87e9ed04fd89ea198cb7c84ff4b4c260)\n",
       "        ;\n",
       "\n",
       "        \n",
       "    \n",
       "    \n",
       "            var marker_fe859140d2dcb04c153788dfd704f6eb = L.marker(\n",
       "                [40.88, 32.87],\n",
       "                {}\n",
       "            ).addTo(map_1623657bc1ed67f62e947c58134a4116);\n",
       "        \n",
       "    \n",
       "        var popup_2268167c7e634108effefbf8d5cf983e = L.popup({&quot;maxWidth&quot;: &quot;100%&quot;});\n",
       "\n",
       "        \n",
       "            \n",
       "                var html_72ff94024e1e2564459155026fddb92c = $(`&lt;div id=&quot;html_72ff94024e1e2564459155026fddb92c&quot; style=&quot;width: 100.0%; height: 100.0%;&quot;&gt;number of Deaths : 50  Magnitude : 6.9 Mw  Date : 13 August 1951&lt;/div&gt;`)[0];\n",
       "                popup_2268167c7e634108effefbf8d5cf983e.setContent(html_72ff94024e1e2564459155026fddb92c);\n",
       "            \n",
       "        \n",
       "\n",
       "        marker_fe859140d2dcb04c153788dfd704f6eb.bindPopup(popup_2268167c7e634108effefbf8d5cf983e)\n",
       "        ;\n",
       "\n",
       "        \n",
       "    \n",
       "    \n",
       "            var marker_5dbc6cbf59cf5b0ace07a8eea8ca9754 = L.marker(\n",
       "                [39.9, 41.7],\n",
       "                {}\n",
       "            ).addTo(map_1623657bc1ed67f62e947c58134a4116);\n",
       "        \n",
       "    \n",
       "        var popup_36fe9726cc6c2b4f71654256bec97efa = L.popup({&quot;maxWidth&quot;: &quot;100%&quot;});\n",
       "\n",
       "        \n",
       "            \n",
       "                var html_521886348edbaa15682ed1207e3f332f = $(`&lt;div id=&quot;html_521886348edbaa15682ed1207e3f332f&quot; style=&quot;width: 100.0%; height: 100.0%;&quot;&gt;number of Deaths : 41  Magnitude : 5.8 Mw  Date : 3 January 1952&lt;/div&gt;`)[0];\n",
       "                popup_36fe9726cc6c2b4f71654256bec97efa.setContent(html_521886348edbaa15682ed1207e3f332f);\n",
       "            \n",
       "        \n",
       "\n",
       "        marker_5dbc6cbf59cf5b0ace07a8eea8ca9754.bindPopup(popup_36fe9726cc6c2b4f71654256bec97efa)\n",
       "        ;\n",
       "\n",
       "        \n",
       "    \n",
       "    \n",
       "            var marker_f4d312661ebbfb4b7eef808be717edd0 = L.marker(\n",
       "                [40.02, 27.53],\n",
       "                {}\n",
       "            ).addTo(map_1623657bc1ed67f62e947c58134a4116);\n",
       "        \n",
       "    \n",
       "        var popup_c747177f3cdd610eaa27e4db3b052be5 = L.popup({&quot;maxWidth&quot;: &quot;100%&quot;});\n",
       "\n",
       "        \n",
       "            \n",
       "                var html_4b8294a3e6598cff16fe1fc08fd9e4c5 = $(`&lt;div id=&quot;html_4b8294a3e6598cff16fe1fc08fd9e4c5&quot; style=&quot;width: 100.0%; height: 100.0%;&quot;&gt;number of Deaths : 265  Magnitude : 7.2 Mw  Date : 18 March 1953&lt;/div&gt;`)[0];\n",
       "                popup_c747177f3cdd610eaa27e4db3b052be5.setContent(html_4b8294a3e6598cff16fe1fc08fd9e4c5);\n",
       "            \n",
       "        \n",
       "\n",
       "        marker_f4d312661ebbfb4b7eef808be717edd0.bindPopup(popup_c747177f3cdd610eaa27e4db3b052be5)\n",
       "        ;\n",
       "\n",
       "        \n",
       "    \n",
       "    \n",
       "            var marker_07c30b8eb8bef2c40e54b213414e673c = L.marker(\n",
       "                [37.55, 27.05],\n",
       "                {}\n",
       "            ).addTo(map_1623657bc1ed67f62e947c58134a4116);\n",
       "        \n",
       "    \n",
       "        var popup_4c9d532b4657bc4b3ad603407ff9e260 = L.popup({&quot;maxWidth&quot;: &quot;100%&quot;});\n",
       "\n",
       "        \n",
       "            \n",
       "                var html_ff7190f761e9efd133fd43515944ca69 = $(`&lt;div id=&quot;html_ff7190f761e9efd133fd43515944ca69&quot; style=&quot;width: 100.0%; height: 100.0%;&quot;&gt;number of Deaths : 23  Magnitude : 6.8 Mw  Date : 16 July 1955&lt;/div&gt;`)[0];\n",
       "                popup_4c9d532b4657bc4b3ad603407ff9e260.setContent(html_ff7190f761e9efd133fd43515944ca69);\n",
       "            \n",
       "        \n",
       "\n",
       "        marker_07c30b8eb8bef2c40e54b213414e673c.bindPopup(popup_4c9d532b4657bc4b3ad603407ff9e260)\n",
       "        ;\n",
       "\n",
       "        \n",
       "    \n",
       "    \n",
       "            var marker_bc19d8f936fa7c21ca0b797b7ee9c930 = L.marker(\n",
       "                [39.89, 30.49],\n",
       "                {}\n",
       "            ).addTo(map_1623657bc1ed67f62e947c58134a4116);\n",
       "        \n",
       "    \n",
       "        var popup_bf63906526d68be53259a718d42bf5f3 = L.popup({&quot;maxWidth&quot;: &quot;100%&quot;});\n",
       "\n",
       "        \n",
       "            \n",
       "                var html_65efe01c21c3f5eeda828deccb91276e = $(`&lt;div id=&quot;html_65efe01c21c3f5eeda828deccb91276e&quot; style=&quot;width: 100.0%; height: 100.0%;&quot;&gt;number of Deaths : 1  Magnitude : 6.4 Mw  Date : 22 February 1956&lt;/div&gt;`)[0];\n",
       "                popup_bf63906526d68be53259a718d42bf5f3.setContent(html_65efe01c21c3f5eeda828deccb91276e);\n",
       "            \n",
       "        \n",
       "\n",
       "        marker_bc19d8f936fa7c21ca0b797b7ee9c930.bindPopup(popup_bf63906526d68be53259a718d42bf5f3)\n",
       "        ;\n",
       "\n",
       "        \n",
       "    \n",
       "    \n",
       "            var marker_841f3cc02542f641a1c12fda744722e4 = L.marker(\n",
       "                [36.5, 28.6],\n",
       "                {}\n",
       "            ).addTo(map_1623657bc1ed67f62e947c58134a4116);\n",
       "        \n",
       "    \n",
       "        var popup_a50d0ac85b300aecb64b1144d83aeeab = L.popup({&quot;maxWidth&quot;: &quot;100%&quot;});\n",
       "\n",
       "        \n",
       "            \n",
       "                var html_b187d4ef7271f052dc50f39d61713db7 = $(`&lt;div id=&quot;html_b187d4ef7271f052dc50f39d61713db7&quot; style=&quot;width: 100.0%; height: 100.0%;&quot;&gt;number of Deaths : 67  Magnitude : 7.1 Mw  Date : 25 April 1957&lt;/div&gt;`)[0];\n",
       "                popup_a50d0ac85b300aecb64b1144d83aeeab.setContent(html_b187d4ef7271f052dc50f39d61713db7);\n",
       "            \n",
       "        \n",
       "\n",
       "        marker_841f3cc02542f641a1c12fda744722e4.bindPopup(popup_a50d0ac85b300aecb64b1144d83aeeab)\n",
       "        ;\n",
       "\n",
       "        \n",
       "    \n",
       "    \n",
       "            var marker_2bc8155fb98b21698242e32d3ef843b7 = L.marker(\n",
       "                [40.67, 31.0],\n",
       "                {}\n",
       "            ).addTo(map_1623657bc1ed67f62e947c58134a4116);\n",
       "        \n",
       "    \n",
       "        var popup_dd0772634fe18ce0dbf7ddcc74811218 = L.popup({&quot;maxWidth&quot;: &quot;100%&quot;});\n",
       "\n",
       "        \n",
       "            \n",
       "                var html_7fa62bf1bdaa2910fea97e6313c13d80 = $(`&lt;div id=&quot;html_7fa62bf1bdaa2910fea97e6313c13d80&quot; style=&quot;width: 100.0%; height: 100.0%;&quot;&gt;number of Deaths : 52  Magnitude : 7.1 Mw  Date : 26 May 1957&lt;/div&gt;`)[0];\n",
       "                popup_dd0772634fe18ce0dbf7ddcc74811218.setContent(html_7fa62bf1bdaa2910fea97e6313c13d80);\n",
       "            \n",
       "        \n",
       "\n",
       "        marker_2bc8155fb98b21698242e32d3ef843b7.bindPopup(popup_dd0772634fe18ce0dbf7ddcc74811218)\n",
       "        ;\n",
       "\n",
       "        \n",
       "    \n",
       "    \n",
       "            var marker_7f781d83e5e24f385580913960399be8 = L.marker(\n",
       "                [40.1, 27.93],\n",
       "                {}\n",
       "            ).addTo(map_1623657bc1ed67f62e947c58134a4116);\n",
       "        \n",
       "    \n",
       "        var popup_c26e9bf3999e965e25228ccb5954df32 = L.popup({&quot;maxWidth&quot;: &quot;100%&quot;});\n",
       "\n",
       "        \n",
       "            \n",
       "                var html_b7aa4e5bcaad91d3b5cabc288ae4c9ef = $(`&lt;div id=&quot;html_b7aa4e5bcaad91d3b5cabc288ae4c9ef&quot; style=&quot;width: 100.0%; height: 100.0%;&quot;&gt;number of Deaths : 23  Magnitude : 7.0 Mw  Date : 6 October 1964&lt;/div&gt;`)[0];\n",
       "                popup_c26e9bf3999e965e25228ccb5954df32.setContent(html_b7aa4e5bcaad91d3b5cabc288ae4c9ef);\n",
       "            \n",
       "        \n",
       "\n",
       "        marker_7f781d83e5e24f385580913960399be8.bindPopup(popup_c26e9bf3999e965e25228ccb5954df32)\n",
       "        ;\n",
       "\n",
       "        \n",
       "    \n",
       "    \n",
       "            var marker_354be70a23f0af8a294764b7800d8bdd = L.marker(\n",
       "                [39.17, 41.56],\n",
       "                {}\n",
       "            ).addTo(map_1623657bc1ed67f62e947c58134a4116);\n",
       "        \n",
       "    \n",
       "        var popup_f2ab51ee1c968055b39336f6f23a321a = L.popup({&quot;maxWidth&quot;: &quot;100%&quot;});\n",
       "\n",
       "        \n",
       "            \n",
       "                var html_296d5a4e35c95895eb61a0e8c44a2833 = $(`&lt;div id=&quot;html_296d5a4e35c95895eb61a0e8c44a2833&quot; style=&quot;width: 100.0%; height: 100.0%;&quot;&gt;number of Deaths : 2,394  Magnitude : 6.8 Mw  Date : 19 August 1966&lt;/div&gt;`)[0];\n",
       "                popup_f2ab51ee1c968055b39336f6f23a321a.setContent(html_296d5a4e35c95895eb61a0e8c44a2833);\n",
       "            \n",
       "        \n",
       "\n",
       "        marker_354be70a23f0af8a294764b7800d8bdd.bindPopup(popup_f2ab51ee1c968055b39336f6f23a321a)\n",
       "        ;\n",
       "\n",
       "        \n",
       "    \n",
       "    \n",
       "            var marker_a8d9bd5a66d52b8e44e3d996c2cd6e99 = L.marker(\n",
       "                [40.67, 30.69],\n",
       "                {}\n",
       "            ).addTo(map_1623657bc1ed67f62e947c58134a4116);\n",
       "        \n",
       "    \n",
       "        var popup_95a17e59ccbe71b50379a1e0c63c7a56 = L.popup({&quot;maxWidth&quot;: &quot;100%&quot;});\n",
       "\n",
       "        \n",
       "            \n",
       "                var html_9a563743e16ffe44194709f3ab6b15e8 = $(`&lt;div id=&quot;html_9a563743e16ffe44194709f3ab6b15e8&quot; style=&quot;width: 100.0%; height: 100.0%;&quot;&gt;number of Deaths : 89  Magnitude : 7.2 Mw  Date : 22 July 1967&lt;/div&gt;`)[0];\n",
       "                popup_95a17e59ccbe71b50379a1e0c63c7a56.setContent(html_9a563743e16ffe44194709f3ab6b15e8);\n",
       "            \n",
       "        \n",
       "\n",
       "        marker_a8d9bd5a66d52b8e44e3d996c2cd6e99.bindPopup(popup_95a17e59ccbe71b50379a1e0c63c7a56)\n",
       "        ;\n",
       "\n",
       "        \n",
       "    \n",
       "    \n",
       "            var marker_b85fee9f6976aa5ea88e0981ef25f479 = L.marker(\n",
       "                [41.79, 32.31],\n",
       "                {}\n",
       "            ).addTo(map_1623657bc1ed67f62e947c58134a4116);\n",
       "        \n",
       "    \n",
       "        var popup_1ef2f6ca9b920153477d507329c5996d = L.popup({&quot;maxWidth&quot;: &quot;100%&quot;});\n",
       "\n",
       "        \n",
       "            \n",
       "                var html_a0a39d776e51ca510d28fe330b9223fa = $(`&lt;div id=&quot;html_a0a39d776e51ca510d28fe330b9223fa&quot; style=&quot;width: 100.0%; height: 100.0%;&quot;&gt;number of Deaths : 29  Magnitude : 6.5 Mw  Date : 3 September 1968&lt;/div&gt;`)[0];\n",
       "                popup_1ef2f6ca9b920153477d507329c5996d.setContent(html_a0a39d776e51ca510d28fe330b9223fa);\n",
       "            \n",
       "        \n",
       "\n",
       "        marker_b85fee9f6976aa5ea88e0981ef25f479.bindPopup(popup_1ef2f6ca9b920153477d507329c5996d)\n",
       "        ;\n",
       "\n",
       "        \n",
       "    \n",
       "    \n",
       "            var marker_eaf1c490565ca75c247c04ad974606be = L.marker(\n",
       "                [38.5, 28.4],\n",
       "                {}\n",
       "            ).addTo(map_1623657bc1ed67f62e947c58134a4116);\n",
       "        \n",
       "    \n",
       "        var popup_2450e7f72bd92991c5a2237127c92315 = L.popup({&quot;maxWidth&quot;: &quot;100%&quot;});\n",
       "\n",
       "        \n",
       "            \n",
       "                var html_d5bae8280132dc7cc86ed1fa9a437c9e = $(`&lt;div id=&quot;html_d5bae8280132dc7cc86ed1fa9a437c9e&quot; style=&quot;width: 100.0%; height: 100.0%;&quot;&gt;number of Deaths : 53  Magnitude : 6.5 Mw  Date : 28 March 1969&lt;/div&gt;`)[0];\n",
       "                popup_2450e7f72bd92991c5a2237127c92315.setContent(html_d5bae8280132dc7cc86ed1fa9a437c9e);\n",
       "            \n",
       "        \n",
       "\n",
       "        marker_eaf1c490565ca75c247c04ad974606be.bindPopup(popup_2450e7f72bd92991c5a2237127c92315)\n",
       "        ;\n",
       "\n",
       "        \n",
       "    \n",
       "    \n",
       "            var marker_77d0dadeb463c3d284ee6712998545b6 = L.marker(\n",
       "                [39.2, 29.5],\n",
       "                {}\n",
       "            ).addTo(map_1623657bc1ed67f62e947c58134a4116);\n",
       "        \n",
       "    \n",
       "        var popup_6553a81771d0e29222355fc1ce57282f = L.popup({&quot;maxWidth&quot;: &quot;100%&quot;});\n",
       "\n",
       "        \n",
       "            \n",
       "                var html_e26a4f5614e8754e4e1c5e772035fa2c = $(`&lt;div id=&quot;html_e26a4f5614e8754e4e1c5e772035fa2c&quot; style=&quot;width: 100.0%; height: 100.0%;&quot;&gt;number of Deaths : 1,086  Magnitude : 7.2 Mw  Date : 28 March 1970&lt;/div&gt;`)[0];\n",
       "                popup_6553a81771d0e29222355fc1ce57282f.setContent(html_e26a4f5614e8754e4e1c5e772035fa2c);\n",
       "            \n",
       "        \n",
       "\n",
       "        marker_77d0dadeb463c3d284ee6712998545b6.bindPopup(popup_6553a81771d0e29222355fc1ce57282f)\n",
       "        ;\n",
       "\n",
       "        \n",
       "    \n",
       "    \n",
       "            var marker_0052db4c3ed88cd755bc8d44a8a09b80 = L.marker(\n",
       "                [38.83, 40.52],\n",
       "                {}\n",
       "            ).addTo(map_1623657bc1ed67f62e947c58134a4116);\n",
       "        \n",
       "    \n",
       "        var popup_6cacafe73bf73b3b5f6a15a8ba75736b = L.popup({&quot;maxWidth&quot;: &quot;100%&quot;});\n",
       "\n",
       "        \n",
       "            \n",
       "                var html_670921bcdc3735afce7c90e3470779be = $(`&lt;div id=&quot;html_670921bcdc3735afce7c90e3470779be&quot; style=&quot;width: 100.0%; height: 100.0%;&quot;&gt;number of Deaths : 755  Magnitude : 6.9 Mw  Date : 22 May 1971&lt;/div&gt;`)[0];\n",
       "                popup_6cacafe73bf73b3b5f6a15a8ba75736b.setContent(html_670921bcdc3735afce7c90e3470779be);\n",
       "            \n",
       "        \n",
       "\n",
       "        marker_0052db4c3ed88cd755bc8d44a8a09b80.bindPopup(popup_6cacafe73bf73b3b5f6a15a8ba75736b)\n",
       "        ;\n",
       "\n",
       "        \n",
       "    \n",
       "    \n",
       "            var marker_33e64f3e5d8be8763e42baa1023f3088 = L.marker(\n",
       "                [38.5, 40.7],\n",
       "                {}\n",
       "            ).addTo(map_1623657bc1ed67f62e947c58134a4116);\n",
       "        \n",
       "    \n",
       "        var popup_25a5bdbd3beaedb5ca95f26bb3b6e5fd = L.popup({&quot;maxWidth&quot;: &quot;100%&quot;});\n",
       "\n",
       "        \n",
       "            \n",
       "                var html_bdabf4568a26fb1a27e6af9536b0796d = $(`&lt;div id=&quot;html_bdabf4568a26fb1a27e6af9536b0796d&quot; style=&quot;width: 100.0%; height: 100.0%;&quot;&gt;number of Deaths : 2,311  Magnitude : 6.6 Mw  Date : 6 September 1975&lt;/div&gt;`)[0];\n",
       "                popup_25a5bdbd3beaedb5ca95f26bb3b6e5fd.setContent(html_bdabf4568a26fb1a27e6af9536b0796d);\n",
       "            \n",
       "        \n",
       "\n",
       "        marker_33e64f3e5d8be8763e42baa1023f3088.bindPopup(popup_25a5bdbd3beaedb5ca95f26bb3b6e5fd)\n",
       "        ;\n",
       "\n",
       "        \n",
       "    \n",
       "    \n",
       "            var marker_9b974c37f3bcac68716b514e7ffc58d2 = L.marker(\n",
       "                [39.12, 44.03],\n",
       "                {}\n",
       "            ).addTo(map_1623657bc1ed67f62e947c58134a4116);\n",
       "        \n",
       "    \n",
       "        var popup_99f8a9ba0ad880c6e976920e09465b23 = L.popup({&quot;maxWidth&quot;: &quot;100%&quot;});\n",
       "\n",
       "        \n",
       "            \n",
       "                var html_644cad71a3efd9546ce41c222534d8e0 = $(`&lt;div id=&quot;html_644cad71a3efd9546ce41c222534d8e0&quot; style=&quot;width: 100.0%; height: 100.0%;&quot;&gt;number of Deaths : 4,000  Magnitude : 7.5 Mw  Date : 24 November 1976&lt;/div&gt;`)[0];\n",
       "                popup_99f8a9ba0ad880c6e976920e09465b23.setContent(html_644cad71a3efd9546ce41c222534d8e0);\n",
       "            \n",
       "        \n",
       "\n",
       "        marker_9b974c37f3bcac68716b514e7ffc58d2.bindPopup(popup_99f8a9ba0ad880c6e976920e09465b23)\n",
       "        ;\n",
       "\n",
       "        \n",
       "    \n",
       "    \n",
       "            var marker_1c6905cc6551ad2b6383e76725bdfbea = L.marker(\n",
       "                [40.33, 42.19],\n",
       "                {}\n",
       "            ).addTo(map_1623657bc1ed67f62e947c58134a4116);\n",
       "        \n",
       "    \n",
       "        var popup_9eebe6d06961c3a7a66b80faa92bd3e8 = L.popup({&quot;maxWidth&quot;: &quot;100%&quot;});\n",
       "\n",
       "        \n",
       "            \n",
       "                var html_e123928e29d95a2b3286cd95216925b1 = $(`&lt;div id=&quot;html_e123928e29d95a2b3286cd95216925b1&quot; style=&quot;width: 100.0%; height: 100.0%;&quot;&gt;number of Deaths : 1,342  Magnitude : 6.9 Mw  Date : 30 October 1983&lt;/div&gt;`)[0];\n",
       "                popup_9eebe6d06961c3a7a66b80faa92bd3e8.setContent(html_e123928e29d95a2b3286cd95216925b1);\n",
       "            \n",
       "        \n",
       "\n",
       "        marker_1c6905cc6551ad2b6383e76725bdfbea.bindPopup(popup_9eebe6d06961c3a7a66b80faa92bd3e8)\n",
       "        ;\n",
       "\n",
       "        \n",
       "    \n",
       "    \n",
       "            var marker_a9f1cc5d967cbc03779893f114eba75e = L.marker(\n",
       "                [39.7, 39.69],\n",
       "                {}\n",
       "            ).addTo(map_1623657bc1ed67f62e947c58134a4116);\n",
       "        \n",
       "    \n",
       "        var popup_e4c5ea9826873bbadd64cf8a22dda9af = L.popup({&quot;maxWidth&quot;: &quot;100%&quot;});\n",
       "\n",
       "        \n",
       "            \n",
       "                var html_9daf4c3cd4f0b6356833afcc4baf5c58 = $(`&lt;div id=&quot;html_9daf4c3cd4f0b6356833afcc4baf5c58&quot; style=&quot;width: 100.0%; height: 100.0%;&quot;&gt;number of Deaths : 498  Magnitude : 6.7 Mw  Date : 13 March 1992\t&lt;/div&gt;`)[0];\n",
       "                popup_e4c5ea9826873bbadd64cf8a22dda9af.setContent(html_9daf4c3cd4f0b6356833afcc4baf5c58);\n",
       "            \n",
       "        \n",
       "\n",
       "        marker_a9f1cc5d967cbc03779893f114eba75e.bindPopup(popup_e4c5ea9826873bbadd64cf8a22dda9af)\n",
       "        ;\n",
       "\n",
       "        \n",
       "    \n",
       "    \n",
       "            var marker_d23403f855bf92d33deb78fa66c44bf9 = L.marker(\n",
       "                [38.06, 30.13],\n",
       "                {}\n",
       "            ).addTo(map_1623657bc1ed67f62e947c58134a4116);\n",
       "        \n",
       "    \n",
       "        var popup_3ea6c719c9a4a54ea15536d73cc2e8d7 = L.popup({&quot;maxWidth&quot;: &quot;100%&quot;});\n",
       "\n",
       "        \n",
       "            \n",
       "                var html_9630191f49cbfccd9a990e259b7a43ae = $(`&lt;div id=&quot;html_9630191f49cbfccd9a990e259b7a43ae&quot; style=&quot;width: 100.0%; height: 100.0%;&quot;&gt;number of Deaths : 90  Magnitude : 6.1 Mw  Date : 1 October 1995&lt;/div&gt;`)[0];\n",
       "                popup_3ea6c719c9a4a54ea15536d73cc2e8d7.setContent(html_9630191f49cbfccd9a990e259b7a43ae);\n",
       "            \n",
       "        \n",
       "\n",
       "        marker_d23403f855bf92d33deb78fa66c44bf9.bindPopup(popup_3ea6c719c9a4a54ea15536d73cc2e8d7)\n",
       "        ;\n",
       "\n",
       "        \n",
       "    \n",
       "    \n",
       "            var marker_ee756be53fb82158d5102e44ace81501 = L.marker(\n",
       "                [36.88, 35.31],\n",
       "                {}\n",
       "            ).addTo(map_1623657bc1ed67f62e947c58134a4116);\n",
       "        \n",
       "    \n",
       "        var popup_f3a5932994f2624e62d7722aa06eeb22 = L.popup({&quot;maxWidth&quot;: &quot;100%&quot;});\n",
       "\n",
       "        \n",
       "            \n",
       "                var html_1c8da8f6cd3006bd0368279464b5789e = $(`&lt;div id=&quot;html_1c8da8f6cd3006bd0368279464b5789e&quot; style=&quot;width: 100.0%; height: 100.0%;&quot;&gt;number of Deaths : 146  Magnitude : 6.3 Mw  Date : 27 June 1998&lt;/div&gt;`)[0];\n",
       "                popup_f3a5932994f2624e62d7722aa06eeb22.setContent(html_1c8da8f6cd3006bd0368279464b5789e);\n",
       "            \n",
       "        \n",
       "\n",
       "        marker_ee756be53fb82158d5102e44ace81501.bindPopup(popup_f3a5932994f2624e62d7722aa06eeb22)\n",
       "        ;\n",
       "\n",
       "        \n",
       "    \n",
       "    \n",
       "            var marker_150bee03b07847cc9695ada372208e85 = L.marker(\n",
       "                [40.77, 30.0],\n",
       "                {}\n",
       "            ).addTo(map_1623657bc1ed67f62e947c58134a4116);\n",
       "        \n",
       "    \n",
       "        var popup_30968e143e7910a2ab7a91e6212ad6f9 = L.popup({&quot;maxWidth&quot;: &quot;100%&quot;});\n",
       "\n",
       "        \n",
       "            \n",
       "                var html_05c81eb1061ace4046ec99612a32ecba = $(`&lt;div id=&quot;html_05c81eb1061ace4046ec99612a32ecba&quot; style=&quot;width: 100.0%; height: 100.0%;&quot;&gt;number of Deaths : 17,127  Magnitude : 7.6 Mw  Date : 17 August 1999&lt;/div&gt;`)[0];\n",
       "                popup_30968e143e7910a2ab7a91e6212ad6f9.setContent(html_05c81eb1061ace4046ec99612a32ecba);\n",
       "            \n",
       "        \n",
       "\n",
       "        marker_150bee03b07847cc9695ada372208e85.bindPopup(popup_30968e143e7910a2ab7a91e6212ad6f9)\n",
       "        ;\n",
       "\n",
       "        \n",
       "    \n",
       "    \n",
       "            var marker_0108bede6e8df9ddd417d7cddead0f47 = L.marker(\n",
       "                [40.75, 31.16],\n",
       "                {}\n",
       "            ).addTo(map_1623657bc1ed67f62e947c58134a4116);\n",
       "        \n",
       "    \n",
       "        var popup_32540f1748db7712dc3d252922142319 = L.popup({&quot;maxWidth&quot;: &quot;100%&quot;});\n",
       "\n",
       "        \n",
       "            \n",
       "                var html_7cdd87ed172f895d6eebeb43b7f0496b = $(`&lt;div id=&quot;html_7cdd87ed172f895d6eebeb43b7f0496b&quot; style=&quot;width: 100.0%; height: 100.0%;&quot;&gt;number of Deaths : 894  Magnitude : 7.2 Mw  Date : 12 November 1999&lt;/div&gt;`)[0];\n",
       "                popup_32540f1748db7712dc3d252922142319.setContent(html_7cdd87ed172f895d6eebeb43b7f0496b);\n",
       "            \n",
       "        \n",
       "\n",
       "        marker_0108bede6e8df9ddd417d7cddead0f47.bindPopup(popup_32540f1748db7712dc3d252922142319)\n",
       "        ;\n",
       "\n",
       "        \n",
       "    \n",
       "    \n",
       "            var marker_444017fd001f0d2a910f93ca05aaec9a = L.marker(\n",
       "                [38.573, 31.271],\n",
       "                {}\n",
       "            ).addTo(map_1623657bc1ed67f62e947c58134a4116);\n",
       "        \n",
       "    \n",
       "        var popup_533001364f0ef9126430135190f55059 = L.popup({&quot;maxWidth&quot;: &quot;100%&quot;});\n",
       "\n",
       "        \n",
       "            \n",
       "                var html_c8153b20da1399b8df3e65290ef820a1 = $(`&lt;div id=&quot;html_c8153b20da1399b8df3e65290ef820a1&quot; style=&quot;width: 100.0%; height: 100.0%;&quot;&gt;number of Deaths : 44  Magnitude : 6.5 Mw  Date : 3 February 2002&lt;/div&gt;`)[0];\n",
       "                popup_533001364f0ef9126430135190f55059.setContent(html_c8153b20da1399b8df3e65290ef820a1);\n",
       "            \n",
       "        \n",
       "\n",
       "        marker_444017fd001f0d2a910f93ca05aaec9a.bindPopup(popup_533001364f0ef9126430135190f55059)\n",
       "        ;\n",
       "\n",
       "        \n",
       "    \n",
       "    \n",
       "            var marker_cdb11d95b8f28e02584390adc99c50b9 = L.marker(\n",
       "                [39.46, 39.79],\n",
       "                {}\n",
       "            ).addTo(map_1623657bc1ed67f62e947c58134a4116);\n",
       "        \n",
       "    \n",
       "        var popup_a60a6304ba1912d47efbb8c16cd01bc3 = L.popup({&quot;maxWidth&quot;: &quot;100%&quot;});\n",
       "\n",
       "        \n",
       "            \n",
       "                var html_617ca571a4ec03aa1aad26d07d57ee4d = $(`&lt;div id=&quot;html_617ca571a4ec03aa1aad26d07d57ee4d&quot; style=&quot;width: 100.0%; height: 100.0%;&quot;&gt;number of Deaths : 1  Magnitude : 6.1 Mw  Date : 27 January 2003&lt;/div&gt;`)[0];\n",
       "                popup_a60a6304ba1912d47efbb8c16cd01bc3.setContent(html_617ca571a4ec03aa1aad26d07d57ee4d);\n",
       "            \n",
       "        \n",
       "\n",
       "        marker_cdb11d95b8f28e02584390adc99c50b9.bindPopup(popup_a60a6304ba1912d47efbb8c16cd01bc3)\n",
       "        ;\n",
       "\n",
       "        \n",
       "    \n",
       "    \n",
       "            var marker_7aca30456ac596afae49c50cd9d26355 = L.marker(\n",
       "                [39.01, 40.46],\n",
       "                {}\n",
       "            ).addTo(map_1623657bc1ed67f62e947c58134a4116);\n",
       "        \n",
       "    \n",
       "        var popup_e962d88947fd03ca13c2aa42961d1847 = L.popup({&quot;maxWidth&quot;: &quot;100%&quot;});\n",
       "\n",
       "        \n",
       "            \n",
       "                var html_8b7e8994d6ef471de62f2c5624f06526 = $(`&lt;div id=&quot;html_8b7e8994d6ef471de62f2c5624f06526&quot; style=&quot;width: 100.0%; height: 100.0%;&quot;&gt;number of Deaths : 177\t  Magnitude : 6.4 Mw  Date : 1 May 2003&lt;/div&gt;`)[0];\n",
       "                popup_e962d88947fd03ca13c2aa42961d1847.setContent(html_8b7e8994d6ef471de62f2c5624f06526);\n",
       "            \n",
       "        \n",
       "\n",
       "        marker_7aca30456ac596afae49c50cd9d26355.bindPopup(popup_e962d88947fd03ca13c2aa42961d1847)\n",
       "        ;\n",
       "\n",
       "        \n",
       "    \n",
       "    \n",
       "            var marker_e1671573af6d132f384cad8b95e5d7ce = L.marker(\n",
       "                [39.71, 44.02],\n",
       "                {}\n",
       "            ).addTo(map_1623657bc1ed67f62e947c58134a4116);\n",
       "        \n",
       "    \n",
       "        var popup_800553cd3d99738a693715e7a1908939 = L.popup({&quot;maxWidth&quot;: &quot;100%&quot;});\n",
       "\n",
       "        \n",
       "            \n",
       "                var html_953684014293ed78f0cc0a1aa987de16 = $(`&lt;div id=&quot;html_953684014293ed78f0cc0a1aa987de16&quot; style=&quot;width: 100.0%; height: 100.0%;&quot;&gt;number of Deaths : 18  Magnitude : 5.1 Mw  Date : 2 July 2004&lt;/div&gt;`)[0];\n",
       "                popup_800553cd3d99738a693715e7a1908939.setContent(html_953684014293ed78f0cc0a1aa987de16);\n",
       "            \n",
       "        \n",
       "\n",
       "        marker_e1671573af6d132f384cad8b95e5d7ce.bindPopup(popup_800553cd3d99738a693715e7a1908939)\n",
       "        ;\n",
       "\n",
       "        \n",
       "    \n",
       "    \n",
       "            var marker_7ece70fa5087f19b0061df406a364681 = L.marker(\n",
       "                [38.79, 40.03],\n",
       "                {}\n",
       "            ).addTo(map_1623657bc1ed67f62e947c58134a4116);\n",
       "        \n",
       "    \n",
       "        var popup_0823f7a15c8db2a6188a10291f67fefd = L.popup({&quot;maxWidth&quot;: &quot;100%&quot;});\n",
       "\n",
       "        \n",
       "            \n",
       "                var html_daf1e52f893d66ab65444361afc6f702 = $(`&lt;div id=&quot;html_daf1e52f893d66ab65444361afc6f702&quot; style=&quot;width: 100.0%; height: 100.0%;&quot;&gt;number of Deaths : 41  Magnitude : 6.1 Mw  Date : 8 March 2010&lt;/div&gt;`)[0];\n",
       "                popup_0823f7a15c8db2a6188a10291f67fefd.setContent(html_daf1e52f893d66ab65444361afc6f702);\n",
       "            \n",
       "        \n",
       "\n",
       "        marker_7ece70fa5087f19b0061df406a364681.bindPopup(popup_0823f7a15c8db2a6188a10291f67fefd)\n",
       "        ;\n",
       "\n",
       "        \n",
       "    \n",
       "    \n",
       "            var marker_0c8be50b440ca1bd6a1fc257095a979f = L.marker(\n",
       "                [39.14, 29.07],\n",
       "                {}\n",
       "            ).addTo(map_1623657bc1ed67f62e947c58134a4116);\n",
       "        \n",
       "    \n",
       "        var popup_bf2d81e462daf0a33e45b66a7981d14e = L.popup({&quot;maxWidth&quot;: &quot;100%&quot;});\n",
       "\n",
       "        \n",
       "            \n",
       "                var html_fb546f1345f015ff708ce04e0a73765c = $(`&lt;div id=&quot;html_fb546f1345f015ff708ce04e0a73765c&quot; style=&quot;width: 100.0%; height: 100.0%;&quot;&gt;number of Deaths : 2  Magnitude : 5.8 Mw  Date : 19 May 2011&lt;/div&gt;`)[0];\n",
       "                popup_bf2d81e462daf0a33e45b66a7981d14e.setContent(html_fb546f1345f015ff708ce04e0a73765c);\n",
       "            \n",
       "        \n",
       "\n",
       "        marker_0c8be50b440ca1bd6a1fc257095a979f.bindPopup(popup_bf2d81e462daf0a33e45b66a7981d14e)\n",
       "        ;\n",
       "\n",
       "        \n",
       "    \n",
       "    \n",
       "            var marker_cf8c7788cf2b2b106f0711ee6cb7a8ba = L.marker(\n",
       "                [38.63, 43.49],\n",
       "                {}\n",
       "            ).addTo(map_1623657bc1ed67f62e947c58134a4116);\n",
       "        \n",
       "    \n",
       "        var popup_43310a9ba3db887f1f2f056984d02e24 = L.popup({&quot;maxWidth&quot;: &quot;100%&quot;});\n",
       "\n",
       "        \n",
       "            \n",
       "                var html_d890512fde789ecad0ec4b21914658be = $(`&lt;div id=&quot;html_d890512fde789ecad0ec4b21914658be&quot; style=&quot;width: 100.0%; height: 100.0%;&quot;&gt;number of Deaths : 604  Magnitude : 7.2 Mw  Date : 23 October 2011&lt;/div&gt;`)[0];\n",
       "                popup_43310a9ba3db887f1f2f056984d02e24.setContent(html_d890512fde789ecad0ec4b21914658be);\n",
       "            \n",
       "        \n",
       "\n",
       "        marker_cf8c7788cf2b2b106f0711ee6cb7a8ba.bindPopup(popup_43310a9ba3db887f1f2f056984d02e24)\n",
       "        ;\n",
       "\n",
       "        \n",
       "    \n",
       "    \n",
       "            var marker_3b9c9632d61cbbdf31d749c6047d7020 = L.marker(\n",
       "                [38.42, 43.22],\n",
       "                {}\n",
       "            ).addTo(map_1623657bc1ed67f62e947c58134a4116);\n",
       "        \n",
       "    \n",
       "        var popup_ac3a61f890ad7ca2c1c6a728791730a5 = L.popup({&quot;maxWidth&quot;: &quot;100%&quot;});\n",
       "\n",
       "        \n",
       "            \n",
       "                var html_55c383a6476de888d6236fab93f3f1d6 = $(`&lt;div id=&quot;html_55c383a6476de888d6236fab93f3f1d6&quot; style=&quot;width: 100.0%; height: 100.0%;&quot;&gt;number of Deaths : 40  Magnitude : 5.6 Mw  Date : 9 November 2011&lt;/div&gt;`)[0];\n",
       "                popup_ac3a61f890ad7ca2c1c6a728791730a5.setContent(html_55c383a6476de888d6236fab93f3f1d6);\n",
       "            \n",
       "        \n",
       "\n",
       "        marker_3b9c9632d61cbbdf31d749c6047d7020.bindPopup(popup_ac3a61f890ad7ca2c1c6a728791730a5)\n",
       "        ;\n",
       "\n",
       "        \n",
       "    \n",
       "    \n",
       "            var marker_dfb4bc9b17279f854150378071ca8ca6 = L.marker(\n",
       "                [40.31, 25.45],\n",
       "                {}\n",
       "            ).addTo(map_1623657bc1ed67f62e947c58134a4116);\n",
       "        \n",
       "    \n",
       "        var popup_c1d8c3b59a9e88cf425110111bec7148 = L.popup({&quot;maxWidth&quot;: &quot;100%&quot;});\n",
       "\n",
       "        \n",
       "            \n",
       "                var html_71327f743efae548879e5bf070b51e0d = $(`&lt;div id=&quot;html_71327f743efae548879e5bf070b51e0d&quot; style=&quot;width: 100.0%; height: 100.0%;&quot;&gt;number of Deaths : 0  Magnitude : 6.9 Mw  Date : 24 May 2014&lt;/div&gt;`)[0];\n",
       "                popup_c1d8c3b59a9e88cf425110111bec7148.setContent(html_71327f743efae548879e5bf070b51e0d);\n",
       "            \n",
       "        \n",
       "\n",
       "        marker_dfb4bc9b17279f854150378071ca8ca6.bindPopup(popup_c1d8c3b59a9e88cf425110111bec7148)\n",
       "        ;\n",
       "\n",
       "        \n",
       "    \n",
       "    \n",
       "            var marker_54ac6f39359db09691f066a175b43c3c = L.marker(\n",
       "                [36.92, 27.41],\n",
       "                {}\n",
       "            ).addTo(map_1623657bc1ed67f62e947c58134a4116);\n",
       "        \n",
       "    \n",
       "        var popup_9af23cbdd8d12351c4f389bbae4f249a = L.popup({&quot;maxWidth&quot;: &quot;100%&quot;});\n",
       "\n",
       "        \n",
       "            \n",
       "                var html_89be2bcae5de2bccf5d56cbda3e8e6da = $(`&lt;div id=&quot;html_89be2bcae5de2bccf5d56cbda3e8e6da&quot; style=&quot;width: 100.0%; height: 100.0%;&quot;&gt;number of Deaths : 2   Magnitude : nan  Date : 21 July 2017&lt;/div&gt;`)[0];\n",
       "                popup_9af23cbdd8d12351c4f389bbae4f249a.setContent(html_89be2bcae5de2bccf5d56cbda3e8e6da);\n",
       "            \n",
       "        \n",
       "\n",
       "        marker_54ac6f39359db09691f066a175b43c3c.bindPopup(popup_9af23cbdd8d12351c4f389bbae4f249a)\n",
       "        ;\n",
       "\n",
       "        \n",
       "    \n",
       "    \n",
       "            var marker_2d439109ffc623b6af2821c7243b04e0 = L.marker(\n",
       "                [40.89, 28.17],\n",
       "                {}\n",
       "            ).addTo(map_1623657bc1ed67f62e947c58134a4116);\n",
       "        \n",
       "    \n",
       "        var popup_e697de3f883b37e50edfd54c4bf9d1cd = L.popup({&quot;maxWidth&quot;: &quot;100%&quot;});\n",
       "\n",
       "        \n",
       "            \n",
       "                var html_2afd887a4edb6057f1b6f18dc43d0094 = $(`&lt;div id=&quot;html_2afd887a4edb6057f1b6f18dc43d0094&quot; style=&quot;width: 100.0%; height: 100.0%;&quot;&gt;number of Deaths : 1  Magnitude : 5.7 Mw  Date : 26 September 2019&lt;/div&gt;`)[0];\n",
       "                popup_e697de3f883b37e50edfd54c4bf9d1cd.setContent(html_2afd887a4edb6057f1b6f18dc43d0094);\n",
       "            \n",
       "        \n",
       "\n",
       "        marker_2d439109ffc623b6af2821c7243b04e0.bindPopup(popup_e697de3f883b37e50edfd54c4bf9d1cd)\n",
       "        ;\n",
       "\n",
       "        \n",
       "    \n",
       "    \n",
       "            var marker_d73ea9526c536803f03427b68e5b0282 = L.marker(\n",
       "                [38.39, 39.081],\n",
       "                {}\n",
       "            ).addTo(map_1623657bc1ed67f62e947c58134a4116);\n",
       "        \n",
       "    \n",
       "        var popup_0c459b116db28e43eaca32c3b807cde3 = L.popup({&quot;maxWidth&quot;: &quot;100%&quot;});\n",
       "\n",
       "        \n",
       "            \n",
       "                var html_d24aa348b94f14ce7f88fdbc9c1a7a0b = $(`&lt;div id=&quot;html_d24aa348b94f14ce7f88fdbc9c1a7a0b&quot; style=&quot;width: 100.0%; height: 100.0%;&quot;&gt;number of Deaths : 41  Magnitude : 6.7 Mw  Date : 24 January 2020&lt;/div&gt;`)[0];\n",
       "                popup_0c459b116db28e43eaca32c3b807cde3.setContent(html_d24aa348b94f14ce7f88fdbc9c1a7a0b);\n",
       "            \n",
       "        \n",
       "\n",
       "        marker_d73ea9526c536803f03427b68e5b0282.bindPopup(popup_0c459b116db28e43eaca32c3b807cde3)\n",
       "        ;\n",
       "\n",
       "        \n",
       "    \n",
       "    \n",
       "            var marker_2bacc3fdbf67110f86a8d99893f37e7b = L.marker(\n",
       "                [38.39, 39.081],\n",
       "                {}\n",
       "            ).addTo(map_1623657bc1ed67f62e947c58134a4116);\n",
       "        \n",
       "    \n",
       "        var popup_8d1bc1f452d72c1762450fe80fe7c38b = L.popup({&quot;maxWidth&quot;: &quot;100%&quot;});\n",
       "\n",
       "        \n",
       "            \n",
       "                var html_36a5165385c68041e07f1e7cbd0f799e = $(`&lt;div id=&quot;html_36a5165385c68041e07f1e7cbd0f799e&quot; style=&quot;width: 100.0%; height: 100.0%;&quot;&gt;number of Deaths : 41  Magnitude : 6.7 Mw  Date : 24 January 2020&lt;/div&gt;`)[0];\n",
       "                popup_8d1bc1f452d72c1762450fe80fe7c38b.setContent(html_36a5165385c68041e07f1e7cbd0f799e);\n",
       "            \n",
       "        \n",
       "\n",
       "        marker_2bacc3fdbf67110f86a8d99893f37e7b.bindPopup(popup_8d1bc1f452d72c1762450fe80fe7c38b)\n",
       "        ;\n",
       "\n",
       "        \n",
       "    \n",
       "    \n",
       "            var marker_bded08c0c41165883fefdb27df687c01 = L.marker(\n",
       "                [39.42, 40.67],\n",
       "                {}\n",
       "            ).addTo(map_1623657bc1ed67f62e947c58134a4116);\n",
       "        \n",
       "    \n",
       "        var popup_d3b5f330ccfcc8dd5b6ca6781046e606 = L.popup({&quot;maxWidth&quot;: &quot;100%&quot;});\n",
       "\n",
       "        \n",
       "            \n",
       "                var html_e7c429de573712e11321a71672b6d611 = $(`&lt;div id=&quot;html_e7c429de573712e11321a71672b6d611&quot; style=&quot;width: 100.0%; height: 100.0%;&quot;&gt;number of Deaths : 1  Magnitude : 5.9 Mw  Date : 14 June 2020&lt;/div&gt;`)[0];\n",
       "                popup_d3b5f330ccfcc8dd5b6ca6781046e606.setContent(html_e7c429de573712e11321a71672b6d611);\n",
       "            \n",
       "        \n",
       "\n",
       "        marker_bded08c0c41165883fefdb27df687c01.bindPopup(popup_d3b5f330ccfcc8dd5b6ca6781046e606)\n",
       "        ;\n",
       "\n",
       "        \n",
       "    \n",
       "    \n",
       "            var marker_21ccc000b15315b3547bf61436208c22 = L.marker(\n",
       "                [37.918, 26.79],\n",
       "                {}\n",
       "            ).addTo(map_1623657bc1ed67f62e947c58134a4116);\n",
       "        \n",
       "    \n",
       "        var popup_d9886f4870ba9034a4ae23ddb988494a = L.popup({&quot;maxWidth&quot;: &quot;100%&quot;});\n",
       "\n",
       "        \n",
       "            \n",
       "                var html_460b7efc9a7d13242b688d5a104fa41c = $(`&lt;div id=&quot;html_460b7efc9a7d13242b688d5a104fa41c&quot; style=&quot;width: 100.0%; height: 100.0%;&quot;&gt;number of Deaths : 117  Magnitude : 7.0 Mw  Date : 30 October 2020&lt;/div&gt;`)[0];\n",
       "                popup_d9886f4870ba9034a4ae23ddb988494a.setContent(html_460b7efc9a7d13242b688d5a104fa41c);\n",
       "            \n",
       "        \n",
       "\n",
       "        marker_21ccc000b15315b3547bf61436208c22.bindPopup(popup_d9886f4870ba9034a4ae23ddb988494a)\n",
       "        ;\n",
       "\n",
       "        \n",
       "    \n",
       "    \n",
       "            var marker_6dec43b05a458c03ef554608512ae416 = L.marker(\n",
       "                [40.847, 30.967],\n",
       "                {}\n",
       "            ).addTo(map_1623657bc1ed67f62e947c58134a4116);\n",
       "        \n",
       "    \n",
       "        var popup_b81684194d53895032f055a45fe92957 = L.popup({&quot;maxWidth&quot;: &quot;100%&quot;});\n",
       "\n",
       "        \n",
       "            \n",
       "                var html_5c80dbee926d4009308e477c08673480 = $(`&lt;div id=&quot;html_5c80dbee926d4009308e477c08673480&quot; style=&quot;width: 100.0%; height: 100.0%;&quot;&gt;number of Deaths : 2  Magnitude : 6.1 Mw  Date : 23 November 2022&lt;/div&gt;`)[0];\n",
       "                popup_b81684194d53895032f055a45fe92957.setContent(html_5c80dbee926d4009308e477c08673480);\n",
       "            \n",
       "        \n",
       "\n",
       "        marker_6dec43b05a458c03ef554608512ae416.bindPopup(popup_b81684194d53895032f055a45fe92957)\n",
       "        ;\n",
       "\n",
       "        \n",
       "    \n",
       "    \n",
       "            var marker_70467f742a9ff7acfb33d2ed3546ba47 = L.marker(\n",
       "                [37.1123, 37.1195],\n",
       "                {}\n",
       "            ).addTo(map_1623657bc1ed67f62e947c58134a4116);\n",
       "        \n",
       "    \n",
       "        var popup_fd593be8ccdf5838f80b8129448ac19c = L.popup({&quot;maxWidth&quot;: &quot;100%&quot;});\n",
       "\n",
       "        \n",
       "            \n",
       "                var html_2681fcd0b61d6a4df4aef62e2e04bc22 = $(`&lt;div id=&quot;html_2681fcd0b61d6a4df4aef62e2e04bc22&quot; style=&quot;width: 100.0%; height: 100.0%;&quot;&gt;number of Deaths : 29,600  Magnitude : 7.8 Mw  Date : 6 February 2023&lt;/div&gt;`)[0];\n",
       "                popup_fd593be8ccdf5838f80b8129448ac19c.setContent(html_2681fcd0b61d6a4df4aef62e2e04bc22);\n",
       "            \n",
       "        \n",
       "\n",
       "        marker_70467f742a9ff7acfb33d2ed3546ba47.bindPopup(popup_fd593be8ccdf5838f80b8129448ac19c)\n",
       "        ;\n",
       "\n",
       "        \n",
       "    \n",
       "    \n",
       "            var marker_f278c5b6adbdbcd8a8f627376d2bd196 = L.marker(\n",
       "                [38.0357, 37.2287],\n",
       "                {}\n",
       "            ).addTo(map_1623657bc1ed67f62e947c58134a4116);\n",
       "        \n",
       "    \n",
       "        var popup_80885e225ae381212b320dad8f13016a = L.popup({&quot;maxWidth&quot;: &quot;100%&quot;});\n",
       "\n",
       "        \n",
       "            \n",
       "                var html_7a62ccd8e08ff9c0191e9412af57b7ef = $(`&lt;div id=&quot;html_7a62ccd8e08ff9c0191e9412af57b7ef&quot; style=&quot;width: 100.0%; height: 100.0%;&quot;&gt;number of Deaths : 29,600  Magnitude : 7.7 Mw  Date : 6 February 2023&lt;/div&gt;`)[0];\n",
       "                popup_80885e225ae381212b320dad8f13016a.setContent(html_7a62ccd8e08ff9c0191e9412af57b7ef);\n",
       "            \n",
       "        \n",
       "\n",
       "        marker_f278c5b6adbdbcd8a8f627376d2bd196.bindPopup(popup_80885e225ae381212b320dad8f13016a)\n",
       "        ;\n",
       "\n",
       "        \n",
       "    \n",
       "&lt;/script&gt;\n",
       "&lt;/html&gt;\" style=\"position:absolute;width:100%;height:100%;left:0;top:0;border:none !important;\" allowfullscreen webkitallowfullscreen mozallowfullscreen></iframe></div></div>"
      ],
      "text/plain": [
       "<folium.folium.Map at 0x23b26cc2400>"
      ]
     },
     "execution_count": 147,
     "metadata": {},
     "output_type": "execute_result"
    }
   ],
   "source": [
    "m_1 = folium.Map(location=(TURK_LAT, TURK_LNG), titles='cartodbpositron', zooms=5)\n",
    "for i, row in gdf_earthquakes.iterrows():\n",
    "    popup_text = \"number of Deaths : \" + str(row.Deaths) + \"\\n Magnitude : \"+ str(row.Mag) + \"\\n Date : \" + str(row.Date)\n",
    "    Marker([row.geometry.y, row.geometry.x], popup=popup_text).add_to(m_1)\n",
    "m_1"
   ]
  },
  {
   "cell_type": "code",
   "execution_count": null,
   "metadata": {},
   "outputs": [],
   "source": [
    "#Cleaning Deaths column\n",
    "gdf_earthquakes.Deaths = gdf_earthquakes.Deaths.str.strip()\n",
    "gdf_earthquakes.Deaths = gdf_earthquakes.Deaths.map(lambda s: s.replace(',', ''))\n",
    "gdf_earthquakes.Deaths = gdf_earthquakes.Deaths.astype('int')"
   ]
  },
  {
   "cell_type": "code",
   "execution_count": null,
   "metadata": {},
   "outputs": [
    {
     "data": {
      "text/html": [
       "<div>\n",
       "<style scoped>\n",
       "    .dataframe tbody tr th:only-of-type {\n",
       "        vertical-align: middle;\n",
       "    }\n",
       "\n",
       "    .dataframe tbody tr th {\n",
       "        vertical-align: top;\n",
       "    }\n",
       "\n",
       "    .dataframe thead th {\n",
       "        text-align: right;\n",
       "    }\n",
       "</style>\n",
       "<table border=\"1\" class=\"dataframe\">\n",
       "  <thead>\n",
       "    <tr style=\"text-align: right;\">\n",
       "      <th></th>\n",
       "      <th>Lat</th>\n",
       "      <th>Long</th>\n",
       "      <th>Deaths</th>\n",
       "    </tr>\n",
       "  </thead>\n",
       "  <tbody>\n",
       "    <tr>\n",
       "      <th>0</th>\n",
       "      <td>40.9000</td>\n",
       "      <td>28.7000</td>\n",
       "      <td>10000</td>\n",
       "    </tr>\n",
       "    <tr>\n",
       "      <th>1</th>\n",
       "      <td>38.2000</td>\n",
       "      <td>28.2000</td>\n",
       "      <td>2500</td>\n",
       "    </tr>\n",
       "    <tr>\n",
       "      <th>2</th>\n",
       "      <td>40.0000</td>\n",
       "      <td>36.0000</td>\n",
       "      <td>8000</td>\n",
       "    </tr>\n",
       "    <tr>\n",
       "      <th>3</th>\n",
       "      <td>38.4000</td>\n",
       "      <td>26.9000</td>\n",
       "      <td>16000</td>\n",
       "    </tr>\n",
       "    <tr>\n",
       "      <th>4</th>\n",
       "      <td>40.8000</td>\n",
       "      <td>29.0000</td>\n",
       "      <td>4000</td>\n",
       "    </tr>\n",
       "    <tr>\n",
       "      <th>...</th>\n",
       "      <td>...</td>\n",
       "      <td>...</td>\n",
       "      <td>...</td>\n",
       "    </tr>\n",
       "    <tr>\n",
       "      <th>73</th>\n",
       "      <td>39.4200</td>\n",
       "      <td>40.6700</td>\n",
       "      <td>1</td>\n",
       "    </tr>\n",
       "    <tr>\n",
       "      <th>74</th>\n",
       "      <td>37.9180</td>\n",
       "      <td>26.7900</td>\n",
       "      <td>117</td>\n",
       "    </tr>\n",
       "    <tr>\n",
       "      <th>75</th>\n",
       "      <td>40.8470</td>\n",
       "      <td>30.9670</td>\n",
       "      <td>2</td>\n",
       "    </tr>\n",
       "    <tr>\n",
       "      <th>76</th>\n",
       "      <td>37.1123</td>\n",
       "      <td>37.1195</td>\n",
       "      <td>29600</td>\n",
       "    </tr>\n",
       "    <tr>\n",
       "      <th>77</th>\n",
       "      <td>38.0357</td>\n",
       "      <td>37.2287</td>\n",
       "      <td>29600</td>\n",
       "    </tr>\n",
       "  </tbody>\n",
       "</table>\n",
       "<p>78 rows × 3 columns</p>\n",
       "</div>"
      ],
      "text/plain": [
       "        Lat     Long  Deaths\n",
       "0   40.9000  28.7000   10000\n",
       "1   38.2000  28.2000    2500\n",
       "2   40.0000  36.0000    8000\n",
       "3   38.4000  26.9000   16000\n",
       "4   40.8000  29.0000    4000\n",
       "..      ...      ...     ...\n",
       "73  39.4200  40.6700       1\n",
       "74  37.9180  26.7900     117\n",
       "75  40.8470  30.9670       2\n",
       "76  37.1123  37.1195   29600\n",
       "77  38.0357  37.2287   29600\n",
       "\n",
       "[78 rows x 3 columns]"
      ]
     },
     "execution_count": 149,
     "metadata": {},
     "output_type": "execute_result"
    }
   ],
   "source": [
    "gdf_earthquakes.loc[:, ['Lat', 'Long', 'Deaths']]\n"
   ]
  },
  {
   "cell_type": "code",
   "execution_count": null,
   "metadata": {},
   "outputs": [
    {
     "data": {
      "text/html": [
       "<div style=\"width:100%;\"><div style=\"position:relative;width:100%;height:0;padding-bottom:60%;\"><span style=\"color:#565656\">Make this Notebook Trusted to load map: File -> Trust Notebook</span><iframe srcdoc=\"&lt;!DOCTYPE html&gt;\n",
       "&lt;html&gt;\n",
       "&lt;head&gt;\n",
       "    \n",
       "    &lt;meta http-equiv=&quot;content-type&quot; content=&quot;text/html; charset=UTF-8&quot; /&gt;\n",
       "    \n",
       "        &lt;script&gt;\n",
       "            L_NO_TOUCH = false;\n",
       "            L_DISABLE_3D = false;\n",
       "        &lt;/script&gt;\n",
       "    \n",
       "    &lt;style&gt;html, body {width: 100%;height: 100%;margin: 0;padding: 0;}&lt;/style&gt;\n",
       "    &lt;style&gt;#map {position:absolute;top:0;bottom:0;right:0;left:0;}&lt;/style&gt;\n",
       "    &lt;script src=&quot;https://cdn.jsdelivr.net/npm/leaflet@1.9.3/dist/leaflet.js&quot;&gt;&lt;/script&gt;\n",
       "    &lt;script src=&quot;https://code.jquery.com/jquery-1.12.4.min.js&quot;&gt;&lt;/script&gt;\n",
       "    &lt;script src=&quot;https://cdn.jsdelivr.net/npm/bootstrap@5.2.2/dist/js/bootstrap.bundle.min.js&quot;&gt;&lt;/script&gt;\n",
       "    &lt;script src=&quot;https://cdnjs.cloudflare.com/ajax/libs/Leaflet.awesome-markers/2.0.2/leaflet.awesome-markers.js&quot;&gt;&lt;/script&gt;\n",
       "    &lt;link rel=&quot;stylesheet&quot; href=&quot;https://cdn.jsdelivr.net/npm/leaflet@1.9.3/dist/leaflet.css&quot;/&gt;\n",
       "    &lt;link rel=&quot;stylesheet&quot; href=&quot;https://cdn.jsdelivr.net/npm/bootstrap@5.2.2/dist/css/bootstrap.min.css&quot;/&gt;\n",
       "    &lt;link rel=&quot;stylesheet&quot; href=&quot;https://netdna.bootstrapcdn.com/bootstrap/3.0.0/css/bootstrap.min.css&quot;/&gt;\n",
       "    &lt;link rel=&quot;stylesheet&quot; href=&quot;https://cdn.jsdelivr.net/npm/@fortawesome/fontawesome-free@6.2.0/css/all.min.css&quot;/&gt;\n",
       "    &lt;link rel=&quot;stylesheet&quot; href=&quot;https://cdnjs.cloudflare.com/ajax/libs/Leaflet.awesome-markers/2.0.2/leaflet.awesome-markers.css&quot;/&gt;\n",
       "    &lt;link rel=&quot;stylesheet&quot; href=&quot;https://cdn.jsdelivr.net/gh/python-visualization/folium/folium/templates/leaflet.awesome.rotate.min.css&quot;/&gt;\n",
       "    \n",
       "            &lt;meta name=&quot;viewport&quot; content=&quot;width=device-width,\n",
       "                initial-scale=1.0, maximum-scale=1.0, user-scalable=no&quot; /&gt;\n",
       "            &lt;style&gt;\n",
       "                #map_83fed41a060ba0fe5b2ec010e19e9f0f {\n",
       "                    position: relative;\n",
       "                    width: 100.0%;\n",
       "                    height: 100.0%;\n",
       "                    left: 0.0%;\n",
       "                    top: 0.0%;\n",
       "                }\n",
       "                .leaflet-container { font-size: 1rem; }\n",
       "            &lt;/style&gt;\n",
       "        \n",
       "    &lt;script src=&quot;https://cdn.jsdelivr.net/gh/python-visualization/folium@main/folium/templates/leaflet_heat.min.js&quot;&gt;&lt;/script&gt;\n",
       "&lt;/head&gt;\n",
       "&lt;body&gt;\n",
       "    \n",
       "    \n",
       "            &lt;div class=&quot;folium-map&quot; id=&quot;map_83fed41a060ba0fe5b2ec010e19e9f0f&quot; &gt;&lt;/div&gt;\n",
       "        \n",
       "&lt;/body&gt;\n",
       "&lt;script&gt;\n",
       "    \n",
       "    \n",
       "            var map_83fed41a060ba0fe5b2ec010e19e9f0f = L.map(\n",
       "                &quot;map_83fed41a060ba0fe5b2ec010e19e9f0f&quot;,\n",
       "                {\n",
       "                    center: [39.0618, 33.75],\n",
       "                    crs: L.CRS.EPSG3857,\n",
       "                    zoom: 10,\n",
       "                    zoomControl: true,\n",
       "                    preferCanvas: false,\n",
       "                    zooms: 15,\n",
       "                }\n",
       "            );\n",
       "\n",
       "            \n",
       "\n",
       "        \n",
       "    \n",
       "            var tile_layer_435eec5b1b19a3c99676b0af8372cbca = L.tileLayer(\n",
       "                &quot;https://{s}.tile.openstreetmap.org/{z}/{x}/{y}.png&quot;,\n",
       "                {&quot;attribution&quot;: &quot;Data by \\u0026copy; \\u003ca target=\\&quot;_blank\\&quot; href=\\&quot;http://openstreetmap.org\\&quot;\\u003eOpenStreetMap\\u003c/a\\u003e, under \\u003ca target=\\&quot;_blank\\&quot; href=\\&quot;http://www.openstreetmap.org/copyright\\&quot;\\u003eODbL\\u003c/a\\u003e.&quot;, &quot;detectRetina&quot;: false, &quot;maxNativeZoom&quot;: 18, &quot;maxZoom&quot;: 18, &quot;minZoom&quot;: 0, &quot;noWrap&quot;: false, &quot;opacity&quot;: 1, &quot;subdomains&quot;: &quot;abc&quot;, &quot;tms&quot;: false}\n",
       "            ).addTo(map_83fed41a060ba0fe5b2ec010e19e9f0f);\n",
       "        \n",
       "    \n",
       "            var heat_map_702248cfc4e0b18b5bd4c396b51f0258 = L.heatLayer(\n",
       "                [[40.9, 28.7, 10000.0], [38.2, 28.2, 2500.0], [40.0, 36.0, 8000.0], [38.4, 26.9, 16000.0], [40.8, 29.0, 4000.0], [39.5, 40.2, 7500.0], [39.6, 44.1, 10000.0], [40.2, 29.1, 1900.0], [39.9, 41.3, 15000.0], [36.4, 36.4, 1800.0], [38.25, 26.25, 7866.0], [38.25, 26.25, 7866.0], [38.25, 26.25, 7866.0], [38.3, 26.2, 120.0], [38.3, 26.2, 120.0], [38.3, 26.2, 120.0], [40.73, 29.25, 1300.0], [37.9, 28.1, 1470.0], [39.14, 42.65, 600.0], [40.75, 27.2, 216.0], [37.82, 30.27, 2344.0], [39.18, 27.65, 3000.0], [40.0, 42.1, 60.0], [40.7, 43.7, 360.0], [38.5, 28.0, 50.0], [40.2, 37.9, 64.0], [38.1, 44.7, 2514.0], [40.4, 27.5, 5.0], [39.1, 34.0, 160.0], [39.1, 26.8, 60.0], [39.77, 39.53, 32700.0], [39.2, 28.2, 16.0], [40.87, 36.47, 3000.0], [40.6, 30.5, 336.0], [40.87, 33.65, 5000.0], [40.8, 32.2, 3959.0], [39.37, 26.53, 30.0], [39.54, 40.57, 450.0], [40.88, 32.87, 50.0], [39.9, 41.7, 41.0], [40.02, 27.53, 265.0], [37.55, 27.05, 23.0], [39.89, 30.49, 1.0], [36.5, 28.6, 67.0], [40.67, 31.0, 52.0], [40.1, 27.93, 23.0], [39.17, 41.56, 2394.0], [40.67, 30.69, 89.0], [41.79, 32.31, 29.0], [38.5, 28.4, 53.0], [39.2, 29.5, 1086.0], [38.83, 40.52, 755.0], [38.5, 40.7, 2311.0], [39.12, 44.03, 4000.0], [40.33, 42.19, 1342.0], [39.7, 39.69, 498.0], [38.06, 30.13, 90.0], [36.88, 35.31, 146.0], [40.77, 30.0, 17127.0], [40.75, 31.16, 894.0], [38.573, 31.271, 44.0], [39.46, 39.79, 1.0], [39.01, 40.46, 177.0], [39.71, 44.02, 18.0], [38.79, 40.03, 41.0], [39.14, 29.07, 2.0], [38.63, 43.49, 604.0], [38.42, 43.22, 40.0], [40.31, 25.45, 0.0], [36.92, 27.41, 2.0], [40.89, 28.17, 1.0], [38.39, 39.081, 41.0], [38.39, 39.081, 41.0], [39.42, 40.67, 1.0], [37.918, 26.79, 117.0], [40.847, 30.967, 2.0], [37.1123, 37.1195, 29600.0], [38.0357, 37.2287, 29600.0]],\n",
       "                {&quot;blur&quot;: 15, &quot;gradient&quot;: {&quot;0.4&quot;: &quot;blue&quot;, &quot;0.65&quot;: &quot;lime&quot;, &quot;1&quot;: &quot;red&quot;}, &quot;maxZoom&quot;: 18, &quot;minOpacity&quot;: 0.5, &quot;radius&quot;: 25}\n",
       "            ).addTo(map_83fed41a060ba0fe5b2ec010e19e9f0f);\n",
       "        \n",
       "&lt;/script&gt;\n",
       "&lt;/html&gt;\" style=\"position:absolute;width:100%;height:100%;left:0;top:0;border:none !important;\" allowfullscreen webkitallowfullscreen mozallowfullscreen></iframe></div></div>"
      ],
      "text/plain": [
       "<folium.folium.Map at 0x23b29566c40>"
      ]
     },
     "execution_count": 150,
     "metadata": {},
     "output_type": "execute_result"
    }
   ],
   "source": [
    "m_3 = folium.Map(location=(TURK_LAT, TURK_LNG),zooms=15)\n",
    "HeatMap(gdf_earthquakes.loc[:, ['Lat', 'Long', 'Deaths']], gradient={0.4: 'blue', 0.65: 'lime', 1: 'red'}).add_to(m_3)\n",
    "m_3\n"
   ]
  },
  {
   "cell_type": "code",
   "execution_count": null,
   "metadata": {},
   "outputs": [
    {
     "data": {
      "application/vnd.plotly.v1+json": {
       "config": {
        "plotlyServerURL": "https://plot.ly"
       },
       "data": [
        {
         "customdata": [
          [
           "7.2 Mw",
           null
          ],
          [
           "7.5 Mw",
           null
          ],
          [
           "8M w",
           null
          ],
          [
           "7.0 Mw",
           "1688-07-10T00:00:00"
          ],
          [
           "7.1 Mw",
           "1766-05-22T00:00:00"
          ],
          [
           "7.6 Mw",
           "1784-07-23T00:00:00"
          ],
          [
           "7.4 Mw",
           "1840-07-02T00:00:00"
          ],
          [
           "6.7 Mw",
           "1855-02-28T00:00:00"
          ],
          [
           "6.1 Mw",
           "1859-06-02T00:00:00"
          ],
          [
           "7.2 Mw",
           "1872-04-03T00:00:00"
          ],
          [
           "7.3 Mw",
           "1881-04-03T00:00:00"
          ],
          [
           "7.3 Mw",
           "1881-04-03T00:00:00"
          ],
          [
           "7.3 Mw",
           "1881-04-03T00:00:00"
          ],
          [
           "7.3 Mw",
           "1883-10-10T00:00:00"
          ],
          [
           "7.3 Mw",
           "1883-10-10T00:00:00"
          ],
          [
           "7.3 Mw",
           "1883-10-10T00:00:00"
          ],
          [
           "7.0 Mw",
           "1894-07-10T00:00:00"
          ],
          [
           "7.1 Mw",
           "1899-09-20T00:00:00"
          ],
          [
           "6.7 Mw",
           "1903-04-29T00:00:00"
          ],
          [
           "7.3 Mw",
           "1912-08-09T00:00:00"
          ],
          [
           "6.9 Mw",
           "1914-10-04T00:00:00"
          ],
          [
           "7.0 Mw",
           "1919-11-18T00:00:00"
          ],
          [
           "6.8 Mw",
           "1924-09-13T00:00:00"
          ],
          [
           "6.0 Mw",
           "1926-10-22T00:00:00"
          ],
          [
           "6.5 Mw",
           "1928-03-31T00:00:00"
          ],
          [
           "6.1 Mw",
           "1929-05-18T00:00:00"
          ],
          [
           "7.5 Mw",
           "1930-05-07T00:00:00"
          ],
          [
           "6.4 Mw",
           "1935-01-04T00:00:00"
          ],
          [
           "6.6 Mw",
           "1938-04-19T00:00:00"
          ],
          [
           "6.6 Mw",
           "1939-09-22T00:00:00"
          ],
          [
           "7.8 Mw",
           "1939-12-26T00:00:00"
          ],
          [
           "6.1 Mw",
           "1942-11-15T00:00:00"
          ],
          [
           "7.0 Mw",
           "1942-12-20T00:00:00"
          ],
          [
           "6.6 Mw",
           "1943-06-20T00:00:00"
          ],
          [
           "7.5 Mw",
           "1943-11-26T00:00:00"
          ],
          [
           "7.5 Mw",
           "1944-02-01T00:00:00"
          ],
          [
           "6.8 Mw",
           "1944-10-06T00:00:00"
          ],
          [
           "6.8 Mw",
           "1949-08-17T00:00:00"
          ],
          [
           "6.9 Mw",
           "1951-08-13T00:00:00"
          ],
          [
           "5.8 Mw",
           "1952-01-03T00:00:00"
          ],
          [
           "7.2 Mw",
           "1953-03-18T00:00:00"
          ],
          [
           "6.8 Mw",
           "1955-07-16T00:00:00"
          ],
          [
           "6.4 Mw",
           "1956-02-22T00:00:00"
          ],
          [
           "7.1 Mw",
           "1957-04-25T00:00:00"
          ],
          [
           "7.1 Mw",
           "1957-05-26T00:00:00"
          ],
          [
           "7.0 Mw",
           "1964-10-06T00:00:00"
          ],
          [
           "6.8 Mw",
           "1966-08-19T00:00:00"
          ],
          [
           "7.2 Mw",
           "1967-07-22T00:00:00"
          ],
          [
           "6.5 Mw",
           "1968-09-03T00:00:00"
          ],
          [
           "6.5 Mw",
           "1969-03-28T00:00:00"
          ],
          [
           "7.2 Mw",
           "1970-03-28T00:00:00"
          ],
          [
           "6.9 Mw",
           "1971-05-22T00:00:00"
          ],
          [
           "6.6 Mw",
           "1975-09-06T00:00:00"
          ],
          [
           "7.5 Mw",
           "1976-11-24T00:00:00"
          ],
          [
           "6.9 Mw",
           "1983-10-30T00:00:00"
          ],
          [
           "6.7 Mw",
           null
          ],
          [
           "6.1 Mw",
           "1995-10-01T00:00:00"
          ],
          [
           "6.3 Mw",
           "1998-06-27T00:00:00"
          ],
          [
           "7.6 Mw",
           "1999-08-17T00:00:00"
          ],
          [
           "7.2 Mw",
           "1999-11-12T00:00:00"
          ],
          [
           "6.5 Mw",
           "2002-02-03T00:00:00"
          ],
          [
           "6.1 Mw",
           "2003-01-27T00:00:00"
          ],
          [
           "6.4 Mw",
           "2003-05-01T00:00:00"
          ],
          [
           "5.1 Mw",
           "2004-07-02T00:00:00"
          ],
          [
           "6.1 Mw",
           "2010-03-08T00:00:00"
          ],
          [
           "5.8 Mw",
           "2011-05-19T00:00:00"
          ],
          [
           "7.2 Mw",
           "2011-10-23T00:00:00"
          ],
          [
           "5.6 Mw",
           "2011-11-09T00:00:00"
          ],
          [
           "6.9 Mw",
           "2014-05-24T00:00:00"
          ],
          [
           null,
           "2017-07-21T00:00:00"
          ],
          [
           "5.7 Mw",
           "2019-09-26T00:00:00"
          ],
          [
           "6.7 Mw",
           "2020-01-24T00:00:00"
          ],
          [
           "6.7 Mw",
           "2020-01-24T00:00:00"
          ],
          [
           "5.9 Mw",
           "2020-06-14T00:00:00"
          ],
          [
           "7.0 Mw",
           "2020-10-30T00:00:00"
          ],
          [
           "6.1 Mw",
           "2022-11-23T00:00:00"
          ],
          [
           "7.8 Mw",
           "2023-02-06T00:00:00"
          ],
          [
           "7.7 Mw",
           "2023-02-06T00:00:00"
          ]
         ],
         "hovertemplate": "<b>%{hovertext}</b><br><br>Lat=%{lat}<br>Long=%{lon}<br>Mag=%{customdata[0]}<br>parsed_Date=%{customdata[1]}<extra></extra>",
         "hovertext": [
          "Constantinople",
          "Smyrna",
          "Anatolia",
          "Smyrna",
          "Istanbul",
          "Erzincan",
          "Ağrı",
          "Bursa",
          "Erzurum",
          "Hatay",
          "Chios",
          "Çeşme",
          "Alaçatı",
          "Çeşme",
          "Ayvalık",
          "Izmir",
          "Gulf of İzmit",
          "Büyük Menderes Graben",
          "Malazgirt",
          "Mürefte",
          "\tBurdur",
          "Balıkesir",
          "Horasan",
          "Kars",
          "Smyrna",
          "\tSuşehri",
          "Hakkâri",
          "Erdek",
          "Kırşehir",
          "Dikili",
          "Erzincan",
          "Bigadiç",
          "Erbaa",
          "Hendek",
          "Ladik",
          "Gerede",
          "Ayvalık",
          "Karlıova",
          "Kurşunlu",
          "Hasankale",
          "Yenice",
          "Söke",
          "Eskişehir",
          "Fethiye",
          "Abant",
          "Manyas",
          "\tVarto",
          "Mudurnu",
          "Bartın",
          "Alaşehir",
          "Gediz",
          "Bingöl",
          "Lice",
          "Muradiye",
          "Erzurum",
          "Erzincan",
          "Dinar",
          "Ceyhan",
          "\tİzmit",
          "Düzce",
          "Afyon",
          "Pülümür",
          "Bingöl",
          "Ağrı",
          "Elazığ",
          "Kütahya",
          "Van",
          "Van",
          "\tImbros",
          "Bodrum",
          "Marmara Region",
          "Elazığ",
          "Malatya",
          "Bingöl",
          "\tAegean Sea",
          "Düzce",
          "Gaziantep",
          "Kahramanmaraş"
         ],
         "lat": [
          40.9,
          38.2,
          40,
          38.4,
          40.8,
          39.5,
          39.6,
          40.2,
          39.9,
          36.4,
          38.25,
          38.25,
          38.25,
          38.3,
          38.3,
          38.3,
          40.73,
          37.9,
          39.14,
          40.75,
          37.82,
          39.18,
          40,
          40.7,
          38.5,
          40.2,
          38.1,
          40.4,
          39.1,
          39.1,
          39.77,
          39.2,
          40.87,
          40.6,
          40.87,
          40.8,
          39.37,
          39.54,
          40.88,
          39.9,
          40.02,
          37.55,
          39.89,
          36.5,
          40.67,
          40.1,
          39.17,
          40.67,
          41.79,
          38.5,
          39.2,
          38.83,
          38.5,
          39.12,
          40.33,
          39.7,
          38.06,
          36.88,
          40.77,
          40.75,
          38.573,
          39.46,
          39.01,
          39.71,
          38.79,
          39.14,
          38.63,
          38.42,
          40.31,
          36.92,
          40.89,
          38.39,
          38.39,
          39.42,
          37.918,
          40.847,
          37.1123,
          38.0357
         ],
         "legendgroup": "",
         "lon": [
          28.7,
          28.2,
          36,
          26.9,
          29,
          40.2,
          44.1,
          29.1,
          41.3,
          36.4,
          26.25,
          26.25,
          26.25,
          26.2,
          26.2,
          26.2,
          29.25,
          28.1,
          42.65,
          27.2,
          30.27,
          27.65,
          42.1,
          43.7,
          28,
          37.9,
          44.7,
          27.5,
          34,
          26.8,
          39.53,
          28.2,
          36.47,
          30.5,
          33.65,
          32.2,
          26.53,
          40.57,
          32.87,
          41.7,
          27.53,
          27.05,
          30.49,
          28.6,
          31,
          27.93,
          41.56,
          30.69,
          32.31,
          28.4,
          29.5,
          40.52,
          40.7,
          44.03,
          42.19,
          39.69,
          30.13,
          35.31,
          30,
          31.16,
          31.271,
          39.79,
          40.46,
          44.02,
          40.03,
          29.07,
          43.49,
          43.22,
          25.45,
          27.41,
          28.17,
          39.081,
          39.081,
          40.67,
          26.79,
          30.967,
          37.1195,
          37.2287
         ],
         "marker": {
          "color": "light green"
         },
         "mode": "markers",
         "name": "",
         "showlegend": false,
         "subplot": "mapbox",
         "type": "scattermapbox"
        }
       ],
       "layout": {
        "height": 300,
        "legend": {
         "tracegroupgap": 0
        },
        "mapbox": {
         "center": {
          "lat": 39.28123076923076,
          "lon": 33.60766923076923
         },
         "domain": {
          "x": [
           0,
           1
          ],
          "y": [
           0,
           1
          ]
         },
         "style": "open-street-map",
         "zoom": 5
        },
        "margin": {
         "b": 0,
         "l": 0,
         "r": 0,
         "t": 0
        },
        "template": {
         "data": {
          "bar": [
           {
            "error_x": {
             "color": "#2a3f5f"
            },
            "error_y": {
             "color": "#2a3f5f"
            },
            "marker": {
             "line": {
              "color": "#E5ECF6",
              "width": 0.5
             },
             "pattern": {
              "fillmode": "overlay",
              "size": 10,
              "solidity": 0.2
             }
            },
            "type": "bar"
           }
          ],
          "barpolar": [
           {
            "marker": {
             "line": {
              "color": "#E5ECF6",
              "width": 0.5
             },
             "pattern": {
              "fillmode": "overlay",
              "size": 10,
              "solidity": 0.2
             }
            },
            "type": "barpolar"
           }
          ],
          "carpet": [
           {
            "aaxis": {
             "endlinecolor": "#2a3f5f",
             "gridcolor": "white",
             "linecolor": "white",
             "minorgridcolor": "white",
             "startlinecolor": "#2a3f5f"
            },
            "baxis": {
             "endlinecolor": "#2a3f5f",
             "gridcolor": "white",
             "linecolor": "white",
             "minorgridcolor": "white",
             "startlinecolor": "#2a3f5f"
            },
            "type": "carpet"
           }
          ],
          "choropleth": [
           {
            "colorbar": {
             "outlinewidth": 0,
             "ticks": ""
            },
            "type": "choropleth"
           }
          ],
          "contour": [
           {
            "colorbar": {
             "outlinewidth": 0,
             "ticks": ""
            },
            "colorscale": [
             [
              0,
              "#0d0887"
             ],
             [
              0.1111111111111111,
              "#46039f"
             ],
             [
              0.2222222222222222,
              "#7201a8"
             ],
             [
              0.3333333333333333,
              "#9c179e"
             ],
             [
              0.4444444444444444,
              "#bd3786"
             ],
             [
              0.5555555555555556,
              "#d8576b"
             ],
             [
              0.6666666666666666,
              "#ed7953"
             ],
             [
              0.7777777777777778,
              "#fb9f3a"
             ],
             [
              0.8888888888888888,
              "#fdca26"
             ],
             [
              1,
              "#f0f921"
             ]
            ],
            "type": "contour"
           }
          ],
          "contourcarpet": [
           {
            "colorbar": {
             "outlinewidth": 0,
             "ticks": ""
            },
            "type": "contourcarpet"
           }
          ],
          "heatmap": [
           {
            "colorbar": {
             "outlinewidth": 0,
             "ticks": ""
            },
            "colorscale": [
             [
              0,
              "#0d0887"
             ],
             [
              0.1111111111111111,
              "#46039f"
             ],
             [
              0.2222222222222222,
              "#7201a8"
             ],
             [
              0.3333333333333333,
              "#9c179e"
             ],
             [
              0.4444444444444444,
              "#bd3786"
             ],
             [
              0.5555555555555556,
              "#d8576b"
             ],
             [
              0.6666666666666666,
              "#ed7953"
             ],
             [
              0.7777777777777778,
              "#fb9f3a"
             ],
             [
              0.8888888888888888,
              "#fdca26"
             ],
             [
              1,
              "#f0f921"
             ]
            ],
            "type": "heatmap"
           }
          ],
          "heatmapgl": [
           {
            "colorbar": {
             "outlinewidth": 0,
             "ticks": ""
            },
            "colorscale": [
             [
              0,
              "#0d0887"
             ],
             [
              0.1111111111111111,
              "#46039f"
             ],
             [
              0.2222222222222222,
              "#7201a8"
             ],
             [
              0.3333333333333333,
              "#9c179e"
             ],
             [
              0.4444444444444444,
              "#bd3786"
             ],
             [
              0.5555555555555556,
              "#d8576b"
             ],
             [
              0.6666666666666666,
              "#ed7953"
             ],
             [
              0.7777777777777778,
              "#fb9f3a"
             ],
             [
              0.8888888888888888,
              "#fdca26"
             ],
             [
              1,
              "#f0f921"
             ]
            ],
            "type": "heatmapgl"
           }
          ],
          "histogram": [
           {
            "marker": {
             "pattern": {
              "fillmode": "overlay",
              "size": 10,
              "solidity": 0.2
             }
            },
            "type": "histogram"
           }
          ],
          "histogram2d": [
           {
            "colorbar": {
             "outlinewidth": 0,
             "ticks": ""
            },
            "colorscale": [
             [
              0,
              "#0d0887"
             ],
             [
              0.1111111111111111,
              "#46039f"
             ],
             [
              0.2222222222222222,
              "#7201a8"
             ],
             [
              0.3333333333333333,
              "#9c179e"
             ],
             [
              0.4444444444444444,
              "#bd3786"
             ],
             [
              0.5555555555555556,
              "#d8576b"
             ],
             [
              0.6666666666666666,
              "#ed7953"
             ],
             [
              0.7777777777777778,
              "#fb9f3a"
             ],
             [
              0.8888888888888888,
              "#fdca26"
             ],
             [
              1,
              "#f0f921"
             ]
            ],
            "type": "histogram2d"
           }
          ],
          "histogram2dcontour": [
           {
            "colorbar": {
             "outlinewidth": 0,
             "ticks": ""
            },
            "colorscale": [
             [
              0,
              "#0d0887"
             ],
             [
              0.1111111111111111,
              "#46039f"
             ],
             [
              0.2222222222222222,
              "#7201a8"
             ],
             [
              0.3333333333333333,
              "#9c179e"
             ],
             [
              0.4444444444444444,
              "#bd3786"
             ],
             [
              0.5555555555555556,
              "#d8576b"
             ],
             [
              0.6666666666666666,
              "#ed7953"
             ],
             [
              0.7777777777777778,
              "#fb9f3a"
             ],
             [
              0.8888888888888888,
              "#fdca26"
             ],
             [
              1,
              "#f0f921"
             ]
            ],
            "type": "histogram2dcontour"
           }
          ],
          "mesh3d": [
           {
            "colorbar": {
             "outlinewidth": 0,
             "ticks": ""
            },
            "type": "mesh3d"
           }
          ],
          "parcoords": [
           {
            "line": {
             "colorbar": {
              "outlinewidth": 0,
              "ticks": ""
             }
            },
            "type": "parcoords"
           }
          ],
          "pie": [
           {
            "automargin": true,
            "type": "pie"
           }
          ],
          "scatter": [
           {
            "marker": {
             "colorbar": {
              "outlinewidth": 0,
              "ticks": ""
             }
            },
            "type": "scatter"
           }
          ],
          "scatter3d": [
           {
            "line": {
             "colorbar": {
              "outlinewidth": 0,
              "ticks": ""
             }
            },
            "marker": {
             "colorbar": {
              "outlinewidth": 0,
              "ticks": ""
             }
            },
            "type": "scatter3d"
           }
          ],
          "scattercarpet": [
           {
            "marker": {
             "colorbar": {
              "outlinewidth": 0,
              "ticks": ""
             }
            },
            "type": "scattercarpet"
           }
          ],
          "scattergeo": [
           {
            "marker": {
             "colorbar": {
              "outlinewidth": 0,
              "ticks": ""
             }
            },
            "type": "scattergeo"
           }
          ],
          "scattergl": [
           {
            "marker": {
             "colorbar": {
              "outlinewidth": 0,
              "ticks": ""
             }
            },
            "type": "scattergl"
           }
          ],
          "scattermapbox": [
           {
            "marker": {
             "colorbar": {
              "outlinewidth": 0,
              "ticks": ""
             }
            },
            "type": "scattermapbox"
           }
          ],
          "scatterpolar": [
           {
            "marker": {
             "colorbar": {
              "outlinewidth": 0,
              "ticks": ""
             }
            },
            "type": "scatterpolar"
           }
          ],
          "scatterpolargl": [
           {
            "marker": {
             "colorbar": {
              "outlinewidth": 0,
              "ticks": ""
             }
            },
            "type": "scatterpolargl"
           }
          ],
          "scatterternary": [
           {
            "marker": {
             "colorbar": {
              "outlinewidth": 0,
              "ticks": ""
             }
            },
            "type": "scatterternary"
           }
          ],
          "surface": [
           {
            "colorbar": {
             "outlinewidth": 0,
             "ticks": ""
            },
            "colorscale": [
             [
              0,
              "#0d0887"
             ],
             [
              0.1111111111111111,
              "#46039f"
             ],
             [
              0.2222222222222222,
              "#7201a8"
             ],
             [
              0.3333333333333333,
              "#9c179e"
             ],
             [
              0.4444444444444444,
              "#bd3786"
             ],
             [
              0.5555555555555556,
              "#d8576b"
             ],
             [
              0.6666666666666666,
              "#ed7953"
             ],
             [
              0.7777777777777778,
              "#fb9f3a"
             ],
             [
              0.8888888888888888,
              "#fdca26"
             ],
             [
              1,
              "#f0f921"
             ]
            ],
            "type": "surface"
           }
          ],
          "table": [
           {
            "cells": {
             "fill": {
              "color": "#EBF0F8"
             },
             "line": {
              "color": "white"
             }
            },
            "header": {
             "fill": {
              "color": "#C8D4E3"
             },
             "line": {
              "color": "white"
             }
            },
            "type": "table"
           }
          ]
         },
         "layout": {
          "annotationdefaults": {
           "arrowcolor": "#2a3f5f",
           "arrowhead": 0,
           "arrowwidth": 1
          },
          "autotypenumbers": "strict",
          "coloraxis": {
           "colorbar": {
            "outlinewidth": 0,
            "ticks": ""
           }
          },
          "colorscale": {
           "diverging": [
            [
             0,
             "#8e0152"
            ],
            [
             0.1,
             "#c51b7d"
            ],
            [
             0.2,
             "#de77ae"
            ],
            [
             0.3,
             "#f1b6da"
            ],
            [
             0.4,
             "#fde0ef"
            ],
            [
             0.5,
             "#f7f7f7"
            ],
            [
             0.6,
             "#e6f5d0"
            ],
            [
             0.7,
             "#b8e186"
            ],
            [
             0.8,
             "#7fbc41"
            ],
            [
             0.9,
             "#4d9221"
            ],
            [
             1,
             "#276419"
            ]
           ],
           "sequential": [
            [
             0,
             "#0d0887"
            ],
            [
             0.1111111111111111,
             "#46039f"
            ],
            [
             0.2222222222222222,
             "#7201a8"
            ],
            [
             0.3333333333333333,
             "#9c179e"
            ],
            [
             0.4444444444444444,
             "#bd3786"
            ],
            [
             0.5555555555555556,
             "#d8576b"
            ],
            [
             0.6666666666666666,
             "#ed7953"
            ],
            [
             0.7777777777777778,
             "#fb9f3a"
            ],
            [
             0.8888888888888888,
             "#fdca26"
            ],
            [
             1,
             "#f0f921"
            ]
           ],
           "sequentialminus": [
            [
             0,
             "#0d0887"
            ],
            [
             0.1111111111111111,
             "#46039f"
            ],
            [
             0.2222222222222222,
             "#7201a8"
            ],
            [
             0.3333333333333333,
             "#9c179e"
            ],
            [
             0.4444444444444444,
             "#bd3786"
            ],
            [
             0.5555555555555556,
             "#d8576b"
            ],
            [
             0.6666666666666666,
             "#ed7953"
            ],
            [
             0.7777777777777778,
             "#fb9f3a"
            ],
            [
             0.8888888888888888,
             "#fdca26"
            ],
            [
             1,
             "#f0f921"
            ]
           ]
          },
          "colorway": [
           "#636efa",
           "#EF553B",
           "#00cc96",
           "#ab63fa",
           "#FFA15A",
           "#19d3f3",
           "#FF6692",
           "#B6E880",
           "#FF97FF",
           "#FECB52"
          ],
          "font": {
           "color": "#2a3f5f"
          },
          "geo": {
           "bgcolor": "white",
           "lakecolor": "white",
           "landcolor": "#E5ECF6",
           "showlakes": true,
           "showland": true,
           "subunitcolor": "white"
          },
          "hoverlabel": {
           "align": "left"
          },
          "hovermode": "closest",
          "mapbox": {
           "style": "light"
          },
          "paper_bgcolor": "white",
          "plot_bgcolor": "#E5ECF6",
          "polar": {
           "angularaxis": {
            "gridcolor": "white",
            "linecolor": "white",
            "ticks": ""
           },
           "bgcolor": "#E5ECF6",
           "radialaxis": {
            "gridcolor": "white",
            "linecolor": "white",
            "ticks": ""
           }
          },
          "scene": {
           "xaxis": {
            "backgroundcolor": "#E5ECF6",
            "gridcolor": "white",
            "gridwidth": 2,
            "linecolor": "white",
            "showbackground": true,
            "ticks": "",
            "zerolinecolor": "white"
           },
           "yaxis": {
            "backgroundcolor": "#E5ECF6",
            "gridcolor": "white",
            "gridwidth": 2,
            "linecolor": "white",
            "showbackground": true,
            "ticks": "",
            "zerolinecolor": "white"
           },
           "zaxis": {
            "backgroundcolor": "#E5ECF6",
            "gridcolor": "white",
            "gridwidth": 2,
            "linecolor": "white",
            "showbackground": true,
            "ticks": "",
            "zerolinecolor": "white"
           }
          },
          "shapedefaults": {
           "line": {
            "color": "#2a3f5f"
           }
          },
          "ternary": {
           "aaxis": {
            "gridcolor": "white",
            "linecolor": "white",
            "ticks": ""
           },
           "baxis": {
            "gridcolor": "white",
            "linecolor": "white",
            "ticks": ""
           },
           "bgcolor": "#E5ECF6",
           "caxis": {
            "gridcolor": "white",
            "linecolor": "white",
            "ticks": ""
           }
          },
          "title": {
           "x": 0.05
          },
          "xaxis": {
           "automargin": true,
           "gridcolor": "white",
           "linecolor": "white",
           "ticks": "",
           "title": {
            "standoff": 15
           },
           "zerolinecolor": "white",
           "zerolinewidth": 2
          },
          "yaxis": {
           "automargin": true,
           "gridcolor": "white",
           "linecolor": "white",
           "ticks": "",
           "title": {
            "standoff": 15
           },
           "zerolinecolor": "white",
           "zerolinewidth": 2
          }
         }
        }
       }
      }
     },
     "metadata": {},
     "output_type": "display_data"
    }
   ],
   "source": [
    "fig = px.scatter_mapbox(gdf_earthquakes, lat=\"Lat\", lon=\"Long\", hover_name=\"Place\", hover_data=[\"Mag\", \"parsed_Date\"],\n",
    "                        color_discrete_sequence=[\"light green\"], zoom=5, height=300)\n",
    "fig.update_layout(mapbox_style=\"open-street-map\")\n",
    "fig.update_layout(margin={\"r\":0,\"t\":0,\"l\":0,\"b\":0})\n",
    "fig.show()"
   ]
  },
  {
   "cell_type": "code",
   "execution_count": null,
   "metadata": {},
   "outputs": [],
   "source": [
    "gdf_earthquakes.dropna(subset=['year'],inplace=True)"
   ]
  },
  {
   "cell_type": "code",
   "execution_count": null,
   "metadata": {},
   "outputs": [
    {
     "data": {
      "text/html": [
       "<div>\n",
       "<style scoped>\n",
       "    .dataframe tbody tr th:only-of-type {\n",
       "        vertical-align: middle;\n",
       "    }\n",
       "\n",
       "    .dataframe tbody tr th {\n",
       "        vertical-align: top;\n",
       "    }\n",
       "\n",
       "    .dataframe thead th {\n",
       "        text-align: right;\n",
       "    }\n",
       "</style>\n",
       "<table border=\"1\" class=\"dataframe\">\n",
       "  <thead>\n",
       "    <tr style=\"text-align: right;\">\n",
       "      <th></th>\n",
       "      <th>Date</th>\n",
       "      <th>Time‡</th>\n",
       "      <th>Place</th>\n",
       "      <th>Lat</th>\n",
       "      <th>Long</th>\n",
       "      <th>Deaths</th>\n",
       "      <th>Mag</th>\n",
       "      <th>geometry</th>\n",
       "      <th>parsed_Date</th>\n",
       "      <th>year</th>\n",
       "    </tr>\n",
       "  </thead>\n",
       "  <tbody>\n",
       "    <tr>\n",
       "      <th>3</th>\n",
       "      <td>10 July 1688</td>\n",
       "      <td>11:45</td>\n",
       "      <td>Smyrna</td>\n",
       "      <td>38.4000</td>\n",
       "      <td>26.9000</td>\n",
       "      <td>16000</td>\n",
       "      <td>7.0</td>\n",
       "      <td>POINT (26.90000 38.40000)</td>\n",
       "      <td>1688-07-10</td>\n",
       "      <td>1688.0</td>\n",
       "    </tr>\n",
       "    <tr>\n",
       "      <th>4</th>\n",
       "      <td>22 May 1766</td>\n",
       "      <td>05:10</td>\n",
       "      <td>Istanbul</td>\n",
       "      <td>40.8000</td>\n",
       "      <td>29.0000</td>\n",
       "      <td>4000</td>\n",
       "      <td>7.1</td>\n",
       "      <td>POINT (29.00000 40.80000)</td>\n",
       "      <td>1766-05-22</td>\n",
       "      <td>1766.0</td>\n",
       "    </tr>\n",
       "    <tr>\n",
       "      <th>5</th>\n",
       "      <td>23 July 1784</td>\n",
       "      <td>NaN</td>\n",
       "      <td>Erzincan</td>\n",
       "      <td>39.5000</td>\n",
       "      <td>40.2000</td>\n",
       "      <td>7500</td>\n",
       "      <td>7.6</td>\n",
       "      <td>POINT (40.20000 39.50000)</td>\n",
       "      <td>1784-07-23</td>\n",
       "      <td>1784.0</td>\n",
       "    </tr>\n",
       "    <tr>\n",
       "      <th>6</th>\n",
       "      <td>2 July 1840</td>\n",
       "      <td>NaN</td>\n",
       "      <td>Ağrı</td>\n",
       "      <td>39.6000</td>\n",
       "      <td>44.1000</td>\n",
       "      <td>10000</td>\n",
       "      <td>7.4</td>\n",
       "      <td>POINT (44.10000 39.60000)</td>\n",
       "      <td>1840-07-02</td>\n",
       "      <td>1840.0</td>\n",
       "    </tr>\n",
       "    <tr>\n",
       "      <th>7</th>\n",
       "      <td>28 February 1855</td>\n",
       "      <td>01:00</td>\n",
       "      <td>Bursa</td>\n",
       "      <td>40.2000</td>\n",
       "      <td>29.1000</td>\n",
       "      <td>1900</td>\n",
       "      <td>6.7</td>\n",
       "      <td>POINT (29.10000 40.20000)</td>\n",
       "      <td>1855-02-28</td>\n",
       "      <td>1855.0</td>\n",
       "    </tr>\n",
       "    <tr>\n",
       "      <th>...</th>\n",
       "      <td>...</td>\n",
       "      <td>...</td>\n",
       "      <td>...</td>\n",
       "      <td>...</td>\n",
       "      <td>...</td>\n",
       "      <td>...</td>\n",
       "      <td>...</td>\n",
       "      <td>...</td>\n",
       "      <td>...</td>\n",
       "      <td>...</td>\n",
       "    </tr>\n",
       "    <tr>\n",
       "      <th>73</th>\n",
       "      <td>14 June 2020</td>\n",
       "      <td>16:24 local time</td>\n",
       "      <td>Bingöl</td>\n",
       "      <td>39.4200</td>\n",
       "      <td>40.6700</td>\n",
       "      <td>1</td>\n",
       "      <td>5.9</td>\n",
       "      <td>POINT (40.67000 39.42000)</td>\n",
       "      <td>2020-06-14</td>\n",
       "      <td>2020.0</td>\n",
       "    </tr>\n",
       "    <tr>\n",
       "      <th>74</th>\n",
       "      <td>30 October 2020</td>\n",
       "      <td>14:51 local time</td>\n",
       "      <td>\\tAegean Sea</td>\n",
       "      <td>37.9180</td>\n",
       "      <td>26.7900</td>\n",
       "      <td>117</td>\n",
       "      <td>7.0</td>\n",
       "      <td>POINT (26.79000 37.91800)</td>\n",
       "      <td>2020-10-30</td>\n",
       "      <td>2020.0</td>\n",
       "    </tr>\n",
       "    <tr>\n",
       "      <th>75</th>\n",
       "      <td>23 November 2022</td>\n",
       "      <td>04:08 local time</td>\n",
       "      <td>Düzce</td>\n",
       "      <td>40.8470</td>\n",
       "      <td>30.9670</td>\n",
       "      <td>2</td>\n",
       "      <td>6.1</td>\n",
       "      <td>POINT (30.96700 40.84700)</td>\n",
       "      <td>2022-11-23</td>\n",
       "      <td>2022.0</td>\n",
       "    </tr>\n",
       "    <tr>\n",
       "      <th>76</th>\n",
       "      <td>6 February 2023</td>\n",
       "      <td>04:17 local time</td>\n",
       "      <td>Gaziantep</td>\n",
       "      <td>37.1123</td>\n",
       "      <td>37.1195</td>\n",
       "      <td>29600</td>\n",
       "      <td>7.8</td>\n",
       "      <td>POINT (37.11950 37.11230)</td>\n",
       "      <td>2023-02-06</td>\n",
       "      <td>2023.0</td>\n",
       "    </tr>\n",
       "    <tr>\n",
       "      <th>77</th>\n",
       "      <td>6 February 2023</td>\n",
       "      <td>13:24 local time</td>\n",
       "      <td>Kahramanmaraş</td>\n",
       "      <td>38.0357</td>\n",
       "      <td>37.2287</td>\n",
       "      <td>29600</td>\n",
       "      <td>7.7</td>\n",
       "      <td>POINT (37.22870 38.03570)</td>\n",
       "      <td>2023-02-06</td>\n",
       "      <td>2023.0</td>\n",
       "    </tr>\n",
       "  </tbody>\n",
       "</table>\n",
       "<p>74 rows × 10 columns</p>\n",
       "</div>"
      ],
      "text/plain": [
       "                Date             Time‡          Place      Lat     Long  \\\n",
       "3       10 July 1688             11:45         Smyrna  38.4000  26.9000   \n",
       "4        22 May 1766             05:10       Istanbul  40.8000  29.0000   \n",
       "5       23 July 1784               NaN       Erzincan  39.5000  40.2000   \n",
       "6        2 July 1840               NaN           Ağrı  39.6000  44.1000   \n",
       "7   28 February 1855             01:00          Bursa  40.2000  29.1000   \n",
       "..               ...               ...            ...      ...      ...   \n",
       "73      14 June 2020  16:24 local time         Bingöl  39.4200  40.6700   \n",
       "74   30 October 2020  14:51 local time   \\tAegean Sea  37.9180  26.7900   \n",
       "75  23 November 2022  04:08 local time          Düzce  40.8470  30.9670   \n",
       "76   6 February 2023  04:17 local time      Gaziantep  37.1123  37.1195   \n",
       "77   6 February 2023  13:24 local time  Kahramanmaraş  38.0357  37.2287   \n",
       "\n",
       "    Deaths  Mag                   geometry parsed_Date    year  \n",
       "3    16000  7.0  POINT (26.90000 38.40000)  1688-07-10  1688.0  \n",
       "4     4000  7.1  POINT (29.00000 40.80000)  1766-05-22  1766.0  \n",
       "5     7500  7.6  POINT (40.20000 39.50000)  1784-07-23  1784.0  \n",
       "6    10000  7.4  POINT (44.10000 39.60000)  1840-07-02  1840.0  \n",
       "7     1900  6.7  POINT (29.10000 40.20000)  1855-02-28  1855.0  \n",
       "..     ...  ...                        ...         ...     ...  \n",
       "73       1  5.9  POINT (40.67000 39.42000)  2020-06-14  2020.0  \n",
       "74     117  7.0  POINT (26.79000 37.91800)  2020-10-30  2020.0  \n",
       "75       2  6.1  POINT (30.96700 40.84700)  2022-11-23  2022.0  \n",
       "76   29600  7.8  POINT (37.11950 37.11230)  2023-02-06  2023.0  \n",
       "77   29600  7.7  POINT (37.22870 38.03570)  2023-02-06  2023.0  \n",
       "\n",
       "[74 rows x 10 columns]"
      ]
     },
     "execution_count": 153,
     "metadata": {},
     "output_type": "execute_result"
    }
   ],
   "source": [
    "gdf_earthquakes['Mag'] = gdf_earthquakes['Mag'].str.split(' ', n=1, expand=True)[0]\n",
    "gdf_earthquakes['Mag'] = gdf_earthquakes['Mag'].astype(float)\n",
    "gdf_earthquakes"
   ]
  },
  {
   "cell_type": "code",
   "execution_count": null,
   "metadata": {},
   "outputs": [],
   "source": []
  },
  {
   "cell_type": "code",
   "execution_count": null,
   "metadata": {},
   "outputs": [],
   "source": []
  }
 ],
 "metadata": {
  "kernelspec": {
   "display_name": "base",
   "language": "python",
   "name": "python3"
  },
  "language_info": {
   "codemirror_mode": {
    "name": "ipython",
    "version": 3
   },
   "file_extension": ".py",
   "mimetype": "text/x-python",
   "name": "python",
   "nbconvert_exporter": "python",
   "pygments_lexer": "ipython3",
   "version": "3.9.12"
  },
  "orig_nbformat": 4
 },
 "nbformat": 4,
 "nbformat_minor": 2
}
