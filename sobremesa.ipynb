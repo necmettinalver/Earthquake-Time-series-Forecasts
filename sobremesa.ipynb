{
 "cells": [
  {
   "cell_type": "code",
   "execution_count": 1,
   "metadata": {},
   "outputs": [
    {
     "name": "stdout",
     "output_type": "stream",
     "text": [
      "Collecting fbprophet\n",
      "  Using cached fbprophet-0.7.1.tar.gz (64 kB)\n",
      "  Preparing metadata (setup.py): started\n",
      "  Preparing metadata (setup.py): finished with status 'done'\n",
      "Requirement already satisfied: Cython>=0.22 in d:\\anaconda\\lib\\site-packages (from fbprophet) (0.29.28)\n",
      "Requirement already satisfied: cmdstanpy==0.9.5 in d:\\anaconda\\lib\\site-packages (from fbprophet) (0.9.5)\n",
      "Collecting pystan>=2.14\n",
      "  Using cached pystan-3.6.0-py3-none-any.whl (13 kB)\n",
      "Requirement already satisfied: numpy>=1.15.4 in d:\\anaconda\\lib\\site-packages (from fbprophet) (1.22.4)\n",
      "Requirement already satisfied: pandas>=1.0.4 in d:\\anaconda\\lib\\site-packages (from fbprophet) (1.2.4)\n",
      "Requirement already satisfied: matplotlib>=2.0.0 in d:\\anaconda\\lib\\site-packages (from fbprophet) (3.5.1)\n",
      "Requirement already satisfied: LunarCalendar>=0.0.9 in d:\\anaconda\\lib\\site-packages (from fbprophet) (0.0.9)\n",
      "Requirement already satisfied: convertdate>=2.1.2 in d:\\anaconda\\lib\\site-packages (from fbprophet) (2.4.0)\n",
      "Requirement already satisfied: holidays>=0.10.2 in d:\\anaconda\\lib\\site-packages (from fbprophet) (0.22)\n",
      "Requirement already satisfied: setuptools-git>=1.2 in d:\\anaconda\\lib\\site-packages (from fbprophet) (1.2)\n",
      "Requirement already satisfied: python-dateutil>=2.8.0 in d:\\anaconda\\lib\\site-packages (from fbprophet) (2.8.2)\n",
      "Requirement already satisfied: tqdm>=4.36.1 in d:\\anaconda\\lib\\site-packages (from fbprophet) (4.64.0)\n",
      "Requirement already satisfied: pymeeus<=1,>=0.3.13 in d:\\anaconda\\lib\\site-packages (from convertdate>=2.1.2->fbprophet) (0.5.12)\n",
      "Requirement already satisfied: tzdata in d:\\anaconda\\lib\\site-packages (from holidays>=0.10.2->fbprophet) (2023.3)\n",
      "Requirement already satisfied: hijri-converter in d:\\anaconda\\lib\\site-packages (from holidays>=0.10.2->fbprophet) (2.2.4)\n",
      "Requirement already satisfied: korean-lunar-calendar in d:\\anaconda\\lib\\site-packages (from holidays>=0.10.2->fbprophet) (0.3.1)\n",
      "Requirement already satisfied: ephem>=3.7.5.3 in d:\\anaconda\\lib\\site-packages (from LunarCalendar>=0.0.9->fbprophet) (4.1.4)\n",
      "Requirement already satisfied: pytz in d:\\anaconda\\lib\\site-packages (from LunarCalendar>=0.0.9->fbprophet) (2021.3)\n",
      "Requirement already satisfied: fonttools>=4.22.0 in d:\\anaconda\\lib\\site-packages (from matplotlib>=2.0.0->fbprophet) (4.25.0)\n",
      "Requirement already satisfied: cycler>=0.10 in d:\\anaconda\\lib\\site-packages (from matplotlib>=2.0.0->fbprophet) (0.11.0)\n",
      "Requirement already satisfied: kiwisolver>=1.0.1 in d:\\anaconda\\lib\\site-packages (from matplotlib>=2.0.0->fbprophet) (1.3.2)\n",
      "Requirement already satisfied: packaging>=20.0 in d:\\anaconda\\lib\\site-packages (from matplotlib>=2.0.0->fbprophet) (21.3)\n",
      "Requirement already satisfied: pillow>=6.2.0 in d:\\anaconda\\lib\\site-packages (from matplotlib>=2.0.0->fbprophet) (9.0.1)\n",
      "Requirement already satisfied: pyparsing>=2.2.1 in d:\\anaconda\\lib\\site-packages (from matplotlib>=2.0.0->fbprophet) (3.0.4)\n",
      "Requirement already satisfied: setuptools in d:\\anaconda\\lib\\site-packages (from pystan>=2.14->fbprophet) (61.2.0)\n",
      "Collecting pysimdjson<6.0.0,>=5.0.2\n",
      "  Using cached pysimdjson-5.0.2-cp39-cp39-win_amd64.whl (156 kB)\n",
      "Collecting clikit<0.7,>=0.6\n",
      "  Using cached clikit-0.6.2-py2.py3-none-any.whl (91 kB)\n",
      "Requirement already satisfied: aiohttp<4.0,>=3.6 in d:\\anaconda\\lib\\site-packages (from pystan>=2.14->fbprophet) (3.8.1)\n",
      "Collecting pystan>=2.14\n",
      "  Using cached pystan-3.5.0-py3-none-any.whl (13 kB)\n",
      "  Using cached pystan-3.4.0-py3-none-any.whl (13 kB)\n",
      "Collecting pysimdjson<4.0,>=3.2\n",
      "  Using cached pysimdjson-3.2.0-cp39-cp39-win_amd64.whl (157 kB)\n",
      "Collecting pystan>=2.14\n",
      "  Using cached pystan-3.3.0-py3-none-any.whl (13 kB)\n",
      "  Using cached pystan-3.2.0-py3-none-any.whl (13 kB)\n",
      "  Using cached pystan-3.1.1-py3-none-any.whl (13 kB)\n",
      "  Using cached pystan-3.1.0-py3-none-any.whl (13 kB)\n",
      "  Using cached pystan-3.0.2-py3-none-any.whl (13 kB)\n",
      "  Using cached pystan-3.0.1-py3-none-any.whl (12 kB)\n",
      "  Using cached pystan-3.0.0-py3-none-any.whl (12 kB)\n",
      "  Using cached pystan-2.19.1.1-cp39-cp39-win_amd64.whl\n",
      "Requirement already satisfied: six>=1.5 in d:\\anaconda\\lib\\site-packages (from python-dateutil>=2.8.0->fbprophet) (1.16.0)\n",
      "Requirement already satisfied: colorama in d:\\anaconda\\lib\\site-packages (from tqdm>=4.36.1->fbprophet) (0.4.4)\n",
      "Building wheels for collected packages: fbprophet\n",
      "  Building wheel for fbprophet (setup.py): started\n",
      "  Building wheel for fbprophet (setup.py): finished with status 'error'\n",
      "  Running setup.py clean for fbprophet\n",
      "Failed to build fbprophet\n",
      "Installing collected packages: pystan, fbprophet\n",
      "  Running setup.py install for fbprophet: started\n",
      "  Running setup.py install for fbprophet: finished with status 'error'\n"
     ]
    },
    {
     "name": "stderr",
     "output_type": "stream",
     "text": [
      "  error: subprocess-exited-with-error\n",
      "  \n",
      "  × python setup.py bdist_wheel did not run successfully.\n",
      "  │ exit code: 1\n",
      "  ╰─> [47 lines of output]\n",
      "      running bdist_wheel\n",
      "      running build\n",
      "      running build_py\n",
      "      creating build\n",
      "      creating build\\lib\n",
      "      creating build\\lib\\fbprophet\n",
      "      creating build\\lib\\fbprophet\\stan_model\n",
      "      Traceback (most recent call last):\n",
      "        File \"<string>\", line 2, in <module>\n",
      "        File \"<pip-setuptools-caller>\", line 34, in <module>\n",
      "        File \"C:\\Users\\necme\\AppData\\Local\\Temp\\pip-install-v4ixhsmf\\fbprophet_3741fdc976e149e3ba0b968af80ba83e\\setup.py\", line 122, in <module>\n",
      "          setup(\n",
      "        File \"D:\\Anaconda\\lib\\site-packages\\setuptools\\__init__.py\", line 87, in setup\n",
      "          return distutils.core.setup(**attrs)\n",
      "        File \"D:\\Anaconda\\lib\\site-packages\\setuptools\\_distutils\\core.py\", line 148, in setup\n",
      "          return run_commands(dist)\n",
      "        File \"D:\\Anaconda\\lib\\site-packages\\setuptools\\_distutils\\core.py\", line 163, in run_commands\n",
      "          dist.run_commands()\n",
      "        File \"D:\\Anaconda\\lib\\site-packages\\setuptools\\_distutils\\dist.py\", line 967, in run_commands\n",
      "          self.run_command(cmd)\n",
      "        File \"D:\\Anaconda\\lib\\site-packages\\setuptools\\dist.py\", line 1214, in run_command\n",
      "          super().run_command(command)\n",
      "        File \"D:\\Anaconda\\lib\\site-packages\\setuptools\\_distutils\\dist.py\", line 986, in run_command\n",
      "          cmd_obj.run()\n",
      "        File \"D:\\Anaconda\\lib\\site-packages\\wheel\\bdist_wheel.py\", line 299, in run\n",
      "          self.run_command('build')\n",
      "        File \"D:\\Anaconda\\lib\\site-packages\\setuptools\\_distutils\\cmd.py\", line 313, in run_command\n",
      "          self.distribution.run_command(command)\n",
      "        File \"D:\\Anaconda\\lib\\site-packages\\setuptools\\dist.py\", line 1214, in run_command\n",
      "          super().run_command(command)\n",
      "        File \"D:\\Anaconda\\lib\\site-packages\\setuptools\\_distutils\\dist.py\", line 986, in run_command\n",
      "          cmd_obj.run()\n",
      "        File \"D:\\Anaconda\\lib\\site-packages\\setuptools\\_distutils\\command\\build.py\", line 135, in run\n",
      "          self.run_command(cmd_name)\n",
      "        File \"D:\\Anaconda\\lib\\site-packages\\setuptools\\_distutils\\cmd.py\", line 313, in run_command\n",
      "          self.distribution.run_command(command)\n",
      "        File \"D:\\Anaconda\\lib\\site-packages\\setuptools\\dist.py\", line 1214, in run_command\n",
      "          super().run_command(command)\n",
      "        File \"D:\\Anaconda\\lib\\site-packages\\setuptools\\_distutils\\dist.py\", line 986, in run_command\n",
      "          cmd_obj.run()\n",
      "        File \"C:\\Users\\necme\\AppData\\Local\\Temp\\pip-install-v4ixhsmf\\fbprophet_3741fdc976e149e3ba0b968af80ba83e\\setup.py\", line 48, in run\n",
      "          build_models(target_dir)\n",
      "        File \"C:\\Users\\necme\\AppData\\Local\\Temp\\pip-install-v4ixhsmf\\fbprophet_3741fdc976e149e3ba0b968af80ba83e\\setup.py\", line 38, in build_models\n",
      "          StanBackendEnum.get_backend_class(backend).build_model(target_dir, MODEL_DIR)\n",
      "        File \"C:\\Users\\necme\\AppData\\Local\\Temp\\pip-install-v4ixhsmf\\fbprophet_3741fdc976e149e3ba0b968af80ba83e\\fbprophet\\models.py\", line 209, in build_model\n",
      "          import pystan\n",
      "      ModuleNotFoundError: No module named 'pystan'\n",
      "      [end of output]\n",
      "  \n",
      "  note: This error originates from a subprocess, and is likely not a problem with pip.\n",
      "  ERROR: Failed building wheel for fbprophet\n",
      "  error: subprocess-exited-with-error\n",
      "  \n",
      "  × Running setup.py install for fbprophet did not run successfully.\n",
      "  │ exit code: 1\n",
      "  ╰─> [286 lines of output]\n",
      "      running install\n",
      "      D:\\Anaconda\\lib\\site-packages\\setuptools\\command\\install.py:34: SetuptoolsDeprecationWarning: setup.py install is deprecated. Use build and pip and other standards-based tools.\n",
      "        warnings.warn(\n",
      "      running build\n",
      "      running build_py\n",
      "      creating build\n",
      "      creating build\\lib\n",
      "      creating build\\lib\\fbprophet\n",
      "      creating build\\lib\\fbprophet\\stan_model\n",
      "      COMPILING THE C++ CODE FOR MODEL anon_model_f5236004a3fd5b8429270d00efcc0cf9 NOW.\n",
      "      MSVC compiler is not supported\n",
      "      stanfit4anon_model_f5236004a3fd5b8429270d00efcc0cf9_6431238592912432149.cpp\n",
      "      D:\\Anaconda\\lib\\site-packages\\numpy\\core\\include\\numpy\\npy_1_7_deprecated_api.h(14) : Warning Msg: Using deprecated NumPy API, disable it with #define NPY_NO_DEPRECATED_API NPY_1_7_API_VERSION\n",
      "      D:\\Anaconda\\lib\\site-packages\\pystan\\stan\\lib\\stan_math\\stan/math/prim/mat/meta/seq_view.hpp(145): warning C4267: 'return': 'size_t' - 'int' d\\x94n\\x81\\x9f\\x81m\\x81; veri kayb\\x8d olabilir\n",
      "      D:\\Anaconda\\lib\\site-packages\\pystan\\stan\\lib\\stan_math\\stan/math/prim/mat/fun/multiply_lower_tri_self_transpose.hpp(19): warning C4244: 'ba\\x9flat\\x8dl\\x8dyor': 'Eigen::EigenBase<Derived>::Index' - 'int' d\\x94n\\x81\\x9f\\x81m\\x81; veri kayb\\x8d olabilir\n",
      "              with\n",
      "              [\n",
      "                  Derived=Eigen::Matrix<double,-1,-1,0,-1,-1>\n",
      "              ]\n",
      "      D:\\Anaconda\\lib\\site-packages\\pystan\\stan\\lib\\stan_math\\stan/math/prim/mat/fun/multiply_lower_tri_self_transpose.hpp(27): warning C4244: 'ba\\x9flat\\x8dl\\x8dyor': 'Eigen::EigenBase<Derived>::Index' - 'int' d\\x94n\\x81\\x9f\\x81m\\x81; veri kayb\\x8d olabilir\n",
      "              with\n",
      "              [\n",
      "                  Derived=Eigen::Matrix<double,-1,-1,0,-1,-1>\n",
      "              ]\n",
      "      D:\\Anaconda\\lib\\site-packages\\pystan\\stan\\lib\\stan_math\\stan/math/prim/mat/fun/csr_u_to_z.hpp(28): warning C4267: 'ba\\xa7\\x8dms\\x8dz de\\xa7i\\x9fken': 'size_t' - 'int' d\\x94n\\x81\\x9f\\x81m\\x81; veri kayb\\x8d olabilir\n",
      "      D:\\Anaconda\\lib\\site-packages\\pystan\\stan\\lib\\stan_math\\stan/math/prim/mat/fun/matrix_exp_action_handler.hpp(118): warning C4244: 'ba\\x9flat\\x8dl\\x8dyor': 'double' - 'int' d\\x94n\\x81\\x9f\\x81m\\x81; veri kayb\\x8d olabilir\n",
      "      D:\\Anaconda\\lib\\site-packages\\pystan\\stan\\lib\\stan_math\\stan/math/prim/mat/fun/to_matrix.hpp(136): warning C4267: 'ba\\x9flat\\x8dl\\x8dyor': 'size_t' - 'int' d\\x94n\\x81\\x9f\\x81m\\x81; veri kayb\\x8d olabilir\n",
      "      D:\\Anaconda\\lib\\site-packages\\pystan\\stan\\lib\\stan_math\\stan/math/prim/mat/fun/to_row_vector.hpp(31): warning C4267: 'ba\\x9flat\\x8dl\\x8dyor': 'size_t' - 'int' d\\x94n\\x81\\x9f\\x81m\\x81; veri kayb\\x8d olabilir\n",
      "      D:\\Anaconda\\lib\\site-packages\\pystan\\stan\\lib\\stan_math\\stan/math/prim/mat/fun/to_vector.hpp(31): warning C4267: 'ba\\x9flat\\x8dl\\x8dyor': 'size_t' - 'int' d\\x94n\\x81\\x9f\\x81m\\x81; veri kayb\\x8d olabilir\n",
      "      D:\\Anaconda\\lib\\site-packages\\pystan\\stan\\lib\\stan_math\\stan/math/prim/mat/fun/welford_covar_estimator.hpp(31): warning C4244: 'return': 'double' - 'int' d\\x94n\\x81\\x9f\\x81m\\x81; veri kayb\\x8d olabilir\n",
      "      D:\\Anaconda\\lib\\site-packages\\pystan\\stan\\lib\\stan_math\\stan/math/prim/mat/fun/welford_var_estimator.hpp(31): warning C4244: 'return': 'double' - 'int' d\\x94n\\x81\\x9f\\x81m\\x81; veri kayb\\x8d olabilir\n",
      "      D:\\Anaconda\\lib\\site-packages\\pystan\\stan\\src\\stan/io/dump.hpp(243): warning C4101: 'exc': yerel de\\xa7i\\x9fken ba\\x9fvurusu kald\\x8dr\\x8dld\\x8d\n",
      "      D:\\Anaconda\\lib\\site-packages\\pystan\\stan\\src\\stan/io/dump.hpp(270): warning C4101: 'exc': yerel de\\xa7i\\x9fken ba\\x9fvurusu kald\\x8dr\\x8dld\\x8d\n",
      "      D:\\Anaconda\\lib\\site-packages\\pystan\\stan\\src\\stan/io/dump.hpp(284): warning C4101: 'exc': yerel de\\xa7i\\x9fken ba\\x9fvurusu kald\\x8dr\\x8dld\\x8d\n",
      "      D:\\Anaconda\\lib\\site-packages\\pystan\\stan\\lib\\stan_math\\stan/math/rev/mat/meta/operands_and_partials.hpp(42): warning C4267: 'return': 'size_t' - 'int' d\\x94n\\x81\\x9f\\x81m\\x81; veri kayb\\x8d olabilir\n",
      "      D:\\Anaconda\\lib\\site-packages\\pystan\\stan\\lib\\stan_math\\stan/math/rev/mat/meta/operands_and_partials.hpp(155): warning C4267: 'return': 'size_t' - 'int' d\\x94n\\x81\\x9f\\x81m\\x81; veri kayb\\x8d olabilir\n",
      "      D:\\Anaconda\\lib\\site-packages\\pystan\\stan\\lib\\stan_math\\stan/math/rev/scal/fun/bessel_first_kind.hpp(19): warning C4244: 'ba\\xa7\\x8dms\\x8dz de\\xa7i\\x9fken': 'double' - 'int' d\\x94n\\x81\\x9f\\x81m\\x81; veri kayb\\x8d olabilir\n",
      "      D:\\Anaconda\\lib\\site-packages\\pystan\\stan\\lib\\stan_math\\stan/math/rev/scal/fun/bessel_first_kind.hpp(20): warning C4244: 'ba\\xa7\\x8dms\\x8dz de\\xa7i\\x9fken': 'double' - 'int' d\\x94n\\x81\\x9f\\x81m\\x81; veri kayb\\x8d olabilir\n",
      "      D:\\Anaconda\\lib\\site-packages\\pystan\\stan\\lib\\stan_math\\stan/math/rev/scal/fun/bessel_second_kind.hpp(19): warning C4244: 'ba\\xa7\\x8dms\\x8dz de\\xa7i\\x9fken': 'double' - 'int' d\\x94n\\x81\\x9f\\x81m\\x81; veri kayb\\x8d olabilir\n",
      "      D:\\Anaconda\\lib\\site-packages\\pystan\\stan\\lib\\stan_math\\stan/math/rev/scal/fun/bessel_second_kind.hpp(20): warning C4244: 'ba\\xa7\\x8dms\\x8dz de\\xa7i\\x9fken': 'double' - 'int' d\\x94n\\x81\\x9f\\x81m\\x81; veri kayb\\x8d olabilir\n",
      "      D:\\Anaconda\\lib\\site-packages\\pystan\\stan\\lib\\stan_math\\stan/math/rev/scal/fun/modified_bessel_first_kind.hpp(19): warning C4244: 'ba\\xa7\\x8dms\\x8dz de\\xa7i\\x9fken': 'double' - 'int' d\\x94n\\x81\\x9f\\x81m\\x81; veri kayb\\x8d olabilir\n",
      "      D:\\Anaconda\\lib\\site-packages\\pystan\\stan\\lib\\stan_math\\stan/math/rev/scal/fun/modified_bessel_first_kind.hpp(20): warning C4244: 'ba\\xa7\\x8dms\\x8dz de\\xa7i\\x9fken': 'double' - 'int' d\\x94n\\x81\\x9f\\x81m\\x81; veri kayb\\x8d olabilir\n",
      "      D:\\Anaconda\\lib\\site-packages\\pystan\\stan\\lib\\stan_math\\stan/math/rev/scal/fun/modified_bessel_second_kind.hpp(19): warning C4244: 'ba\\xa7\\x8dms\\x8dz de\\xa7i\\x9fken': 'double' - 'int' d\\x94n\\x81\\x9f\\x81m\\x81; veri kayb\\x8d olabilir\n",
      "      D:\\Anaconda\\lib\\site-packages\\pystan\\stan\\lib\\stan_math\\stan/math/rev/scal/fun/modified_bessel_second_kind.hpp(20): warning C4244: 'ba\\xa7\\x8dms\\x8dz de\\xa7i\\x9fken': 'double' - 'int' d\\x94n\\x81\\x9f\\x81m\\x81; veri kayb\\x8d olabilir\n",
      "      D:\\Anaconda\\lib\\site-packages\\pystan\\stan\\lib\\stan_math\\stan/math/rev/scal/fun/rising_factorial.hpp(18): warning C4244: 'ba\\xa7\\x8dms\\x8dz de\\xa7i\\x9fken': 'double' - 'int' d\\x94n\\x81\\x9f\\x81m\\x81; veri kayb\\x8d olabilir\n",
      "      D:\\Anaconda\\lib\\site-packages\\pystan\\stan\\lib\\stan_math\\stan/math/rev/mat/fun/cholesky_decompose.hpp(82): warning C4244: 'ba\\x9flat\\x8dl\\x8dyor': 'Eigen::EigenBase<Derived>::Index' - 'int' d\\x94n\\x81\\x9f\\x81m\\x81; veri kayb\\x8d olabilir\n",
      "              with\n",
      "              [\n",
      "                  Derived=Eigen::Matrix<stan::math::var,-1,-1,0,-1,-1>\n",
      "              ]\n",
      "      D:\\Anaconda\\lib\\site-packages\\pystan\\stan\\lib\\stan_math\\stan/math/rev/mat/fun/cholesky_decompose.hpp(194): warning C4244: 'ba\\x9flat\\x8dl\\x8dyor': 'Eigen::EigenBase<Derived>::Index' - 'int' d\\x94n\\x81\\x9f\\x81m\\x81; veri kayb\\x8d olabilir\n",
      "              with\n",
      "              [\n",
      "                  Derived=Eigen::Matrix<stan::math::var,-1,-1,0,-1,-1>\n",
      "              ]\n",
      "      D:\\Anaconda\\lib\\site-packages\\pystan\\stan\\lib\\stan_math\\stan/math/rev/mat/fun/log_softmax.hpp(104): warning C4244: 'ba\\xa7\\x8dms\\x8dz de\\xa7i\\x9fken': 'Eigen::EigenBase<Derived>::Index' - 'int' d\\x94n\\x81\\x9f\\x81m\\x81; veri kayb\\x8d olabilir\n",
      "              with\n",
      "              [\n",
      "                  Derived=Eigen::Matrix<stan::math::var,-1,1,0,-1,1>\n",
      "              ]\n",
      "      D:\\Anaconda\\lib\\site-packages\\pystan\\stan\\lib\\stan_math\\stan/math/rev/mat/fun/multiply_lower_tri_self_transpose.hpp(21): warning C4244: 'ba\\x9flat\\x8dl\\x8dyor': 'Eigen::EigenBase<Derived>::Index' - 'int' d\\x94n\\x81\\x9f\\x81m\\x81; veri kayb\\x8d olabilir\n",
      "              with\n",
      "              [\n",
      "                  Derived=Eigen::Matrix<stan::math::var,-1,-1,0,-1,-1>\n",
      "              ]\n",
      "      D:\\Anaconda\\lib\\site-packages\\pystan\\stan\\lib\\stan_math\\stan/math/rev/mat/fun/multiply_lower_tri_self_transpose.hpp(22): warning C4244: 'ba\\x9flat\\x8dl\\x8dyor': 'Eigen::EigenBase<Derived>::Index' - 'int' d\\x94n\\x81\\x9f\\x81m\\x81; veri kayb\\x8d olabilir\n",
      "              with\n",
      "              [\n",
      "                  Derived=Eigen::Matrix<stan::math::var,-1,-1,0,-1,-1>\n",
      "              ]\n",
      "      D:\\Anaconda\\lib\\site-packages\\pystan\\stan\\lib\\stan_math\\stan/math/rev/mat/functor/adj_jac_apply.hpp(410): error C2660: 'stan::math::adj_jac_vari<F,Eigen::Matrix<stan::math::var,-1,1,0,-1,1>>::count_memory': i\\x9flev 2 ba\\xa7\\x8dms\\x8dz de\\xa7i\\x9fken alm\\x8dyor\n",
      "              with\n",
      "              [\n",
      "                  F=stan::math::internal::ordered_constrain_op\n",
      "              ]\n",
      "      D:\\Anaconda\\lib\\site-packages\\pystan\\stan\\lib\\stan_math\\stan/math/rev/mat/functor/adj_jac_apply.hpp(246): note: 'stan::math::adj_jac_vari<F,Eigen::Matrix<stan::math::var,-1,1,0,-1,1>>::count_memory' bildirimine bak\\x8dn\n",
      "              with\n",
      "              [\n",
      "                  F=stan::math::internal::ordered_constrain_op\n",
      "              ]\n",
      "      D:\\Anaconda\\lib\\site-packages\\pystan\\stan\\lib\\stan_math\\stan/math/rev/mat/functor/adj_jac_apply.hpp(408): note: s\\x8dn\\x8df \\x9fablon \\x81ye i\\x9flevi 'auto stan::math::adj_jac_vari<F,Eigen::Matrix<stan::math::var,-1,1,0,-1,1>>::operator ()(const Eigen::Matrix<stan::math::var,-1,1,0,-1,1> &)' derlenirken\n",
      "              with\n",
      "              [\n",
      "                  F=stan::math::internal::ordered_constrain_op\n",
      "              ]\n",
      "      D:\\Anaconda\\lib\\site-packages\\pystan\\stan\\lib\\stan_math\\stan/math/rev/mat/functor/adj_jac_apply.hpp(617): note: derlenen s\\x8dn\\x8df \\x9fablon \\x94rne\\xa7i olu\\x9fturma 'stan::math::adj_jac_vari<F,Eigen::Matrix<stan::math::var,-1,1,0,-1,1>>' ba\\x9fvurusuna bak\\x8dn\n",
      "              with\n",
      "              [\n",
      "                  F=stan::math::internal::ordered_constrain_op\n",
      "              ]\n",
      "      D:\\Anaconda\\lib\\site-packages\\pystan\\stan\\lib\\stan_math\\stan/math/rev/mat/fun/ordered_constrain.hpp(88): note: derlenen \\x9fablon i\\x9flevi 'auto stan::math::adj_jac_apply<stan::math::internal::ordered_constrain_op,Eigen::Matrix<stan::math::var,-1,1,0,-1,1>>(const Eigen::Matrix<stan::math::var,-1,1,0,-1,1> &)' \\x94rne\\xa7i olu\\x9fturma ba\\x9fvurusuna bak\\x8dn\n",
      "      D:\\Anaconda\\lib\\site-packages\\pystan\\stan\\lib\\stan_math\\stan/math/rev/mat/functor/adj_jac_apply.hpp(412): error C2660: 'stan::math::adj_jac_vari<F,Eigen::Matrix<stan::math::var,-1,1,0,-1,1>>::prepare_x_vis': i\\x9flev 1 ba\\xa7\\x8dms\\x8dz de\\xa7i\\x9fken alm\\x8dyor\n",
      "              with\n",
      "              [\n",
      "                  F=stan::math::internal::ordered_constrain_op\n",
      "              ]\n",
      "      D:\\Anaconda\\lib\\site-packages\\pystan\\stan\\lib\\stan_math\\stan/math/rev/mat/functor/adj_jac_apply.hpp(389): note: 'stan::math::adj_jac_vari<F,Eigen::Matrix<stan::math::var,-1,1,0,-1,1>>::prepare_x_vis' bildirimine bak\\x8dn\n",
      "              with\n",
      "              [\n",
      "                  F=stan::math::internal::ordered_constrain_op\n",
      "              ]\n",
      "      D:\\Anaconda\\lib\\site-packages\\pystan\\stan\\lib\\stan_math\\stan/math/rev/mat/functor/adj_jac_apply.hpp(414): error C2664: 'stan::math::var stan::math::adj_jac_vari<F,Eigen::Matrix<stan::math::var,-1,1,0,-1,1>>::build_return_varis_and_vars(const double &)' : 1 ba\\xa7\\x8dms\\x8dz de\\xa7i\\x9fkeni 'Eigen::VectorXd' de\\xa7erinden 'const double &' de\\xa7erine d\\x94n\\x81\\x9ft\\x81r\\x81lemez\n",
      "              with\n",
      "              [\n",
      "                  F=stan::math::internal::ordered_constrain_op\n",
      "              ]\n",
      "      D:\\Anaconda\\lib\\site-packages\\pystan\\stan\\lib\\stan_math\\stan/math/rev/mat/functor/adj_jac_apply.hpp(414): note: Nedeni: 'Eigen::VectorXd' de\\xa7erinden 'const double' de\\xa7erine d\\x94n\\x81\\x9ft\\x81r\\x81lemez\n",
      "      D:\\Anaconda\\lib\\site-packages\\pystan\\stan\\lib\\stan_math\\stan/math/rev/mat/functor/adj_jac_apply.hpp(414): note: Bu d\\x94n\\x81\\x9ft\\x81rmeyi ger\\x87ekle\\x9ftirecek kullan\\x8dc\\x8d tan\\x8dml\\x8d d\\x94n\\x81\\x9ft\\x81rme i\\x9fleci yok veya i\\x9fle\\x87 \\x87a\\xa7r\\x8dlam\\x8dyor\n",
      "      D:\\Anaconda\\lib\\site-packages\\pystan\\stan\\lib\\stan_math\\stan/math/rev/mat/functor/adj_jac_apply.hpp(333): note: 'stan::math::adj_jac_vari<F,Eigen::Matrix<stan::math::var,-1,1,0,-1,1>>::build_return_varis_and_vars' bildirimine bak\\x8dn\n",
      "              with\n",
      "              [\n",
      "                  F=stan::math::internal::ordered_constrain_op\n",
      "              ]\n",
      "      D:\\Anaconda\\lib\\site-packages\\pystan\\stan\\lib\\stan_math\\stan/math/rev/mat/fun/ordered_constrain.hpp(88): error C2440: 'return': 'void' - 'Eigen::Matrix<stan::math::var,-1,1,0,-1,1>' d\\x94n\\x81\\x9f\\x81m\\x81 yap\\x8dlam\\x8dyor\n",
      "      D:\\Anaconda\\lib\\site-packages\\pystan\\stan\\lib\\stan_math\\stan/math/rev/mat/fun/ordered_constrain.hpp(88): note: Ge\\x87ersiz t\\x81rde ifadeler di\\xa7er t\\x81rlere d\\x94n\\x81\\x9ft\\x81r\\x81lemez\n",
      "      D:\\Anaconda\\lib\\site-packages\\pystan\\stan\\lib\\stan_math\\stan/math/rev/mat/functor/adj_jac_apply.hpp(410): error C2660: 'stan::math::adj_jac_vari<F,Eigen::Matrix<stan::math::var,-1,1,0,-1,1>>::count_memory': i\\x9flev 2 ba\\xa7\\x8dms\\x8dz de\\xa7i\\x9fken alm\\x8dyor\n",
      "              with\n",
      "              [\n",
      "                  F=stan::math::internal::positive_ordered_constrain_op\n",
      "              ]\n",
      "      D:\\Anaconda\\lib\\site-packages\\pystan\\stan\\lib\\stan_math\\stan/math/rev/mat/functor/adj_jac_apply.hpp(246): note: 'stan::math::adj_jac_vari<F,Eigen::Matrix<stan::math::var,-1,1,0,-1,1>>::count_memory' bildirimine bak\\x8dn\n",
      "              with\n",
      "              [\n",
      "                  F=stan::math::internal::positive_ordered_constrain_op\n",
      "              ]\n",
      "      D:\\Anaconda\\lib\\site-packages\\pystan\\stan\\lib\\stan_math\\stan/math/rev/mat/functor/adj_jac_apply.hpp(408): note: s\\x8dn\\x8df \\x9fablon \\x81ye i\\x9flevi 'auto stan::math::adj_jac_vari<F,Eigen::Matrix<stan::math::var,-1,1,0,-1,1>>::operator ()(const Eigen::Matrix<stan::math::var,-1,1,0,-1,1> &)' derlenirken\n",
      "              with\n",
      "              [\n",
      "                  F=stan::math::internal::positive_ordered_constrain_op\n",
      "              ]\n",
      "      D:\\Anaconda\\lib\\site-packages\\pystan\\stan\\lib\\stan_math\\stan/math/rev/mat/functor/adj_jac_apply.hpp(617): note: derlenen s\\x8dn\\x8df \\x9fablon \\x94rne\\xa7i olu\\x9fturma 'stan::math::adj_jac_vari<F,Eigen::Matrix<stan::math::var,-1,1,0,-1,1>>' ba\\x9fvurusuna bak\\x8dn\n",
      "              with\n",
      "              [\n",
      "                  F=stan::math::internal::positive_ordered_constrain_op\n",
      "              ]\n",
      "      D:\\Anaconda\\lib\\site-packages\\pystan\\stan\\lib\\stan_math\\stan/math/rev/mat/fun/positive_ordered_constrain.hpp(86): note: derlenen \\x9fablon i\\x9flevi 'auto stan::math::adj_jac_apply<stan::math::internal::positive_ordered_constrain_op,Eigen::Matrix<stan::math::var,-1,1,0,-1,1>>(const Eigen::Matrix<stan::math::var,-1,1,0,-1,1> &)' \\x94rne\\xa7i olu\\x9fturma ba\\x9fvurusuna bak\\x8dn\n",
      "      D:\\Anaconda\\lib\\site-packages\\pystan\\stan\\lib\\stan_math\\stan/math/rev/mat/functor/adj_jac_apply.hpp(412): error C2660: 'stan::math::adj_jac_vari<F,Eigen::Matrix<stan::math::var,-1,1,0,-1,1>>::prepare_x_vis': i\\x9flev 1 ba\\xa7\\x8dms\\x8dz de\\xa7i\\x9fken alm\\x8dyor\n",
      "              with\n",
      "              [\n",
      "                  F=stan::math::internal::positive_ordered_constrain_op\n",
      "              ]\n",
      "      D:\\Anaconda\\lib\\site-packages\\pystan\\stan\\lib\\stan_math\\stan/math/rev/mat/functor/adj_jac_apply.hpp(389): note: 'stan::math::adj_jac_vari<F,Eigen::Matrix<stan::math::var,-1,1,0,-1,1>>::prepare_x_vis' bildirimine bak\\x8dn\n",
      "              with\n",
      "              [\n",
      "                  F=stan::math::internal::positive_ordered_constrain_op\n",
      "              ]\n",
      "      D:\\Anaconda\\lib\\site-packages\\pystan\\stan\\lib\\stan_math\\stan/math/rev/mat/functor/adj_jac_apply.hpp(414): error C2664: 'stan::math::var stan::math::adj_jac_vari<F,Eigen::Matrix<stan::math::var,-1,1,0,-1,1>>::build_return_varis_and_vars(const double &)' : 1 ba\\xa7\\x8dms\\x8dz de\\xa7i\\x9fkeni 'Eigen::VectorXd' de\\xa7erinden 'const double &' de\\xa7erine d\\x94n\\x81\\x9ft\\x81r\\x81lemez\n",
      "              with\n",
      "              [\n",
      "                  F=stan::math::internal::positive_ordered_constrain_op\n",
      "              ]\n",
      "      D:\\Anaconda\\lib\\site-packages\\pystan\\stan\\lib\\stan_math\\stan/math/rev/mat/functor/adj_jac_apply.hpp(414): note: Nedeni: 'Eigen::VectorXd' de\\xa7erinden 'const double' de\\xa7erine d\\x94n\\x81\\x9ft\\x81r\\x81lemez\n",
      "      D:\\Anaconda\\lib\\site-packages\\pystan\\stan\\lib\\stan_math\\stan/math/rev/mat/functor/adj_jac_apply.hpp(414): note: Bu d\\x94n\\x81\\x9ft\\x81rmeyi ger\\x87ekle\\x9ftirecek kullan\\x8dc\\x8d tan\\x8dml\\x8d d\\x94n\\x81\\x9ft\\x81rme i\\x9fleci yok veya i\\x9fle\\x87 \\x87a\\xa7r\\x8dlam\\x8dyor\n",
      "      D:\\Anaconda\\lib\\site-packages\\pystan\\stan\\lib\\stan_math\\stan/math/rev/mat/functor/adj_jac_apply.hpp(333): note: 'stan::math::adj_jac_vari<F,Eigen::Matrix<stan::math::var,-1,1,0,-1,1>>::build_return_varis_and_vars' bildirimine bak\\x8dn\n",
      "              with\n",
      "              [\n",
      "                  F=stan::math::internal::positive_ordered_constrain_op\n",
      "              ]\n",
      "      D:\\Anaconda\\lib\\site-packages\\pystan\\stan\\lib\\stan_math\\stan/math/rev/mat/fun/positive_ordered_constrain.hpp(86): error C2440: 'return': 'void' - 'Eigen::Matrix<stan::math::var,-1,1,0,-1,1>' d\\x94n\\x81\\x9f\\x81m\\x81 yap\\x8dlam\\x8dyor\n",
      "      D:\\Anaconda\\lib\\site-packages\\pystan\\stan\\lib\\stan_math\\stan/math/rev/mat/fun/positive_ordered_constrain.hpp(86): note: Ge\\x87ersiz t\\x81rde ifadeler di\\xa7er t\\x81rlere d\\x94n\\x81\\x9ft\\x81r\\x81lemez\n",
      "      D:\\Anaconda\\lib\\site-packages\\pystan\\stan\\lib\\stan_math\\stan/math/rev/mat/functor/adj_jac_apply.hpp(410): error C2660: 'stan::math::adj_jac_vari<F,Eigen::Matrix<stan::math::var,-1,1,0,-1,1>>::count_memory': i\\x9flev 2 ba\\xa7\\x8dms\\x8dz de\\xa7i\\x9fken alm\\x8dyor\n",
      "              with\n",
      "              [\n",
      "                  F=stan::math::internal::simplex_constrain_op\n",
      "              ]\n",
      "      D:\\Anaconda\\lib\\site-packages\\pystan\\stan\\lib\\stan_math\\stan/math/rev/mat/functor/adj_jac_apply.hpp(246): note: 'stan::math::adj_jac_vari<F,Eigen::Matrix<stan::math::var,-1,1,0,-1,1>>::count_memory' bildirimine bak\\x8dn\n",
      "              with\n",
      "              [\n",
      "                  F=stan::math::internal::simplex_constrain_op\n",
      "              ]\n",
      "      D:\\Anaconda\\lib\\site-packages\\pystan\\stan\\lib\\stan_math\\stan/math/rev/mat/functor/adj_jac_apply.hpp(408): note: s\\x8dn\\x8df \\x9fablon \\x81ye i\\x9flevi 'auto stan::math::adj_jac_vari<F,Eigen::Matrix<stan::math::var,-1,1,0,-1,1>>::operator ()(const Eigen::Matrix<stan::math::var,-1,1,0,-1,1> &)' derlenirken\n",
      "              with\n",
      "              [\n",
      "                  F=stan::math::internal::simplex_constrain_op\n",
      "              ]\n",
      "      D:\\Anaconda\\lib\\site-packages\\pystan\\stan\\lib\\stan_math\\stan/math/rev/mat/functor/adj_jac_apply.hpp(617): note: derlenen s\\x8dn\\x8df \\x9fablon \\x94rne\\xa7i olu\\x9fturma 'stan::math::adj_jac_vari<F,Eigen::Matrix<stan::math::var,-1,1,0,-1,1>>' ba\\x9fvurusuna bak\\x8dn\n",
      "              with\n",
      "              [\n",
      "                  F=stan::math::internal::simplex_constrain_op\n",
      "              ]\n",
      "      D:\\Anaconda\\lib\\site-packages\\pystan\\stan\\lib\\stan_math\\stan/math/rev/mat/fun/simplex_constrain.hpp(97): note: derlenen \\x9fablon i\\x9flevi 'auto stan::math::adj_jac_apply<stan::math::internal::simplex_constrain_op,Eigen::Matrix<stan::math::var,-1,1,0,-1,1>>(const Eigen::Matrix<stan::math::var,-1,1,0,-1,1> &)' \\x94rne\\xa7i olu\\x9fturma ba\\x9fvurusuna bak\\x8dn\n",
      "      D:\\Anaconda\\lib\\site-packages\\pystan\\stan\\lib\\stan_math\\stan/math/rev/mat/functor/adj_jac_apply.hpp(412): error C2660: 'stan::math::adj_jac_vari<F,Eigen::Matrix<stan::math::var,-1,1,0,-1,1>>::prepare_x_vis': i\\x9flev 1 ba\\xa7\\x8dms\\x8dz de\\xa7i\\x9fken alm\\x8dyor\n",
      "              with\n",
      "              [\n",
      "                  F=stan::math::internal::simplex_constrain_op\n",
      "              ]\n",
      "      D:\\Anaconda\\lib\\site-packages\\pystan\\stan\\lib\\stan_math\\stan/math/rev/mat/functor/adj_jac_apply.hpp(389): note: 'stan::math::adj_jac_vari<F,Eigen::Matrix<stan::math::var,-1,1,0,-1,1>>::prepare_x_vis' bildirimine bak\\x8dn\n",
      "              with\n",
      "              [\n",
      "                  F=stan::math::internal::simplex_constrain_op\n",
      "              ]\n",
      "      D:\\Anaconda\\lib\\site-packages\\pystan\\stan\\lib\\stan_math\\stan/math/rev/mat/functor/adj_jac_apply.hpp(414): error C2664: 'stan::math::var stan::math::adj_jac_vari<F,Eigen::Matrix<stan::math::var,-1,1,0,-1,1>>::build_return_varis_and_vars(const double &)' : 1 ba\\xa7\\x8dms\\x8dz de\\xa7i\\x9fkeni 'Eigen::VectorXd' de\\xa7erinden 'const double &' de\\xa7erine d\\x94n\\x81\\x9ft\\x81r\\x81lemez\n",
      "              with\n",
      "              [\n",
      "                  F=stan::math::internal::simplex_constrain_op\n",
      "              ]\n",
      "      D:\\Anaconda\\lib\\site-packages\\pystan\\stan\\lib\\stan_math\\stan/math/rev/mat/functor/adj_jac_apply.hpp(414): note: Nedeni: 'Eigen::VectorXd' de\\xa7erinden 'const double' de\\xa7erine d\\x94n\\x81\\x9ft\\x81r\\x81lemez\n",
      "      D:\\Anaconda\\lib\\site-packages\\pystan\\stan\\lib\\stan_math\\stan/math/rev/mat/functor/adj_jac_apply.hpp(414): note: Bu d\\x94n\\x81\\x9ft\\x81rmeyi ger\\x87ekle\\x9ftirecek kullan\\x8dc\\x8d tan\\x8dml\\x8d d\\x94n\\x81\\x9ft\\x81rme i\\x9fleci yok veya i\\x9fle\\x87 \\x87a\\xa7r\\x8dlam\\x8dyor\n",
      "      D:\\Anaconda\\lib\\site-packages\\pystan\\stan\\lib\\stan_math\\stan/math/rev/mat/functor/adj_jac_apply.hpp(333): note: 'stan::math::adj_jac_vari<F,Eigen::Matrix<stan::math::var,-1,1,0,-1,1>>::build_return_varis_and_vars' bildirimine bak\\x8dn\n",
      "              with\n",
      "              [\n",
      "                  F=stan::math::internal::simplex_constrain_op\n",
      "              ]\n",
      "      D:\\Anaconda\\lib\\site-packages\\pystan\\stan\\lib\\stan_math\\stan/math/rev/mat/fun/simplex_constrain.hpp(97): error C2440: 'return': 'void' - 'Eigen::Matrix<stan::math::var,-1,1,0,-1,1>' d\\x94n\\x81\\x9f\\x81m\\x81 yap\\x8dlam\\x8dyor\n",
      "      D:\\Anaconda\\lib\\site-packages\\pystan\\stan\\lib\\stan_math\\stan/math/rev/mat/fun/simplex_constrain.hpp(97): note: Ge\\x87ersiz t\\x81rde ifadeler di\\xa7er t\\x81rlere d\\x94n\\x81\\x9ft\\x81r\\x81lemez\n",
      "      D:\\Anaconda\\lib\\site-packages\\pystan\\stan\\lib\\stan_math\\stan/math/rev/mat/functor/adj_jac_apply.hpp(410): error C2660: 'stan::math::adj_jac_vari<F,Eigen::Matrix<stan::math::var,-1,1,0,-1,1>>::count_memory': i\\x9flev 2 ba\\xa7\\x8dms\\x8dz de\\xa7i\\x9fken alm\\x8dyor\n",
      "              with\n",
      "              [\n",
      "                  F=stan::math::internal::softmax_op\n",
      "              ]\n",
      "      D:\\Anaconda\\lib\\site-packages\\pystan\\stan\\lib\\stan_math\\stan/math/rev/mat/functor/adj_jac_apply.hpp(246): note: 'stan::math::adj_jac_vari<F,Eigen::Matrix<stan::math::var,-1,1,0,-1,1>>::count_memory' bildirimine bak\\x8dn\n",
      "              with\n",
      "              [\n",
      "                  F=stan::math::internal::softmax_op\n",
      "              ]\n",
      "      D:\\Anaconda\\lib\\site-packages\\pystan\\stan\\lib\\stan_math\\stan/math/rev/mat/functor/adj_jac_apply.hpp(408): note: s\\x8dn\\x8df \\x9fablon \\x81ye i\\x9flevi 'auto stan::math::adj_jac_vari<F,Eigen::Matrix<stan::math::var,-1,1,0,-1,1>>::operator ()(const Eigen::Matrix<stan::math::var,-1,1,0,-1,1> &)' derlenirken\n",
      "              with\n",
      "              [\n",
      "                  F=stan::math::internal::softmax_op\n",
      "              ]\n",
      "      D:\\Anaconda\\lib\\site-packages\\pystan\\stan\\lib\\stan_math\\stan/math/rev/mat/functor/adj_jac_apply.hpp(617): note: derlenen s\\x8dn\\x8df \\x9fablon \\x94rne\\xa7i olu\\x9fturma 'stan::math::adj_jac_vari<F,Eigen::Matrix<stan::math::var,-1,1,0,-1,1>>' ba\\x9fvurusuna bak\\x8dn\n",
      "              with\n",
      "              [\n",
      "                  F=stan::math::internal::softmax_op\n",
      "              ]\n",
      "      D:\\Anaconda\\lib\\site-packages\\pystan\\stan\\lib\\stan_math\\stan/math/rev/mat/fun/softmax.hpp(78): note: derlenen \\x9fablon i\\x9flevi 'auto stan::math::adj_jac_apply<stan::math::internal::softmax_op,Eigen::Matrix<stan::math::var,-1,1,0,-1,1>>(const Eigen::Matrix<stan::math::var,-1,1,0,-1,1> &)' \\x94rne\\xa7i olu\\x9fturma ba\\x9fvurusuna bak\\x8dn\n",
      "      D:\\Anaconda\\lib\\site-packages\\pystan\\stan\\lib\\stan_math\\stan/math/rev/mat/functor/adj_jac_apply.hpp(412): error C2660: 'stan::math::adj_jac_vari<F,Eigen::Matrix<stan::math::var,-1,1,0,-1,1>>::prepare_x_vis': i\\x9flev 1 ba\\xa7\\x8dms\\x8dz de\\xa7i\\x9fken alm\\x8dyor\n",
      "              with\n",
      "              [\n",
      "                  F=stan::math::internal::softmax_op\n",
      "              ]\n",
      "      D:\\Anaconda\\lib\\site-packages\\pystan\\stan\\lib\\stan_math\\stan/math/rev/mat/functor/adj_jac_apply.hpp(389): note: 'stan::math::adj_jac_vari<F,Eigen::Matrix<stan::math::var,-1,1,0,-1,1>>::prepare_x_vis' bildirimine bak\\x8dn\n",
      "              with\n",
      "              [\n",
      "                  F=stan::math::internal::softmax_op\n",
      "              ]\n",
      "      D:\\Anaconda\\lib\\site-packages\\pystan\\stan\\lib\\stan_math\\stan/math/rev/mat/functor/adj_jac_apply.hpp(414): error C2664: 'stan::math::var stan::math::adj_jac_vari<F,Eigen::Matrix<stan::math::var,-1,1,0,-1,1>>::build_return_varis_and_vars(const double &)' : 1 ba\\xa7\\x8dms\\x8dz de\\xa7i\\x9fkeni 'Eigen::VectorXd' de\\xa7erinden 'const double &' de\\xa7erine d\\x94n\\x81\\x9ft\\x81r\\x81lemez\n",
      "              with\n",
      "              [\n",
      "                  F=stan::math::internal::softmax_op\n",
      "              ]\n",
      "      D:\\Anaconda\\lib\\site-packages\\pystan\\stan\\lib\\stan_math\\stan/math/rev/mat/functor/adj_jac_apply.hpp(414): note: Nedeni: 'Eigen::VectorXd' de\\xa7erinden 'const double' de\\xa7erine d\\x94n\\x81\\x9ft\\x81r\\x81lemez\n",
      "      D:\\Anaconda\\lib\\site-packages\\pystan\\stan\\lib\\stan_math\\stan/math/rev/mat/functor/adj_jac_apply.hpp(414): note: Bu d\\x94n\\x81\\x9ft\\x81rmeyi ger\\x87ekle\\x9ftirecek kullan\\x8dc\\x8d tan\\x8dml\\x8d d\\x94n\\x81\\x9ft\\x81rme i\\x9fleci yok veya i\\x9fle\\x87 \\x87a\\xa7r\\x8dlam\\x8dyor\n",
      "      D:\\Anaconda\\lib\\site-packages\\pystan\\stan\\lib\\stan_math\\stan/math/rev/mat/functor/adj_jac_apply.hpp(333): note: 'stan::math::adj_jac_vari<F,Eigen::Matrix<stan::math::var,-1,1,0,-1,1>>::build_return_varis_and_vars' bildirimine bak\\x8dn\n",
      "              with\n",
      "              [\n",
      "                  F=stan::math::internal::softmax_op\n",
      "              ]\n",
      "      D:\\Anaconda\\lib\\site-packages\\pystan\\stan\\lib\\stan_math\\stan/math/rev/mat/fun/softmax.hpp(78): error C2440: 'return': 'void' - 'Eigen::Matrix<stan::math::var,-1,1,0,-1,1>' d\\x94n\\x81\\x9f\\x81m\\x81 yap\\x8dlam\\x8dyor\n",
      "      D:\\Anaconda\\lib\\site-packages\\pystan\\stan\\lib\\stan_math\\stan/math/rev/mat/fun/softmax.hpp(78): note: Ge\\x87ersiz t\\x81rde ifadeler di\\xa7er t\\x81rlere d\\x94n\\x81\\x9ft\\x81r\\x81lemez\n",
      "      D:\\Anaconda\\lib\\site-packages\\pystan\\stan\\src\\stan/mcmc/sample.hpp(33): warning C4244: 'return': 'Eigen::EigenBase<Derived>::Index' - 'int' d\\x94n\\x81\\x9f\\x81m\\x81; veri kayb\\x8d olabilir\n",
      "              with\n",
      "              [\n",
      "                  Derived=Eigen::Matrix<double,-1,1,0,-1,1>\n",
      "              ]\n",
      "      D:\\Anaconda\\lib\\site-packages\\pystan\\stan\\src\\stan/services/util/read_dense_inv_metric.hpp(38): warning C4267: 'ba\\xa7\\x8dms\\x8dz de\\xa7i\\x9fken': 'size_t' - 'int' d\\x94n\\x81\\x9f\\x81m\\x81; veri kayb\\x8d olabilir\n",
      "      D:\\Anaconda\\lib\\site-packages\\pystan\\stan\\src\\stan/mcmc/windowed_adaptation.hpp(49): warning C4244: '=': 'double' - 'unsigned int' d\\x94n\\x81\\x9f\\x81m\\x81; veri kayb\\x8d olabilir\n",
      "      D:\\Anaconda\\lib\\site-packages\\pystan\\stan\\src\\stan/mcmc/windowed_adaptation.hpp(50): warning C4244: '=': 'double' - 'unsigned int' d\\x94n\\x81\\x9f\\x81m\\x81; veri kayb\\x8d olabilir\n",
      "      D:\\Anaconda\\lib\\site-packages\\pystan\\stan\\src\\stan/variational/print_progress.hpp(52): warning C4244: 'ba\\x9flat\\x8dl\\x8dyor': 'double' - 'int' d\\x94n\\x81\\x9f\\x81m\\x81; veri kayb\\x8d olabilir\n",
      "      D:\\Anaconda\\lib\\site-packages\\pystan\\stan\\src\\stan/variational/families/normal_fullrank.hpp(91): warning C4267: 'ba\\x9flat\\x8dl\\x8dyor': 'size_t' - 'const int' d\\x94n\\x81\\x9f\\x81m\\x81; veri kayb\\x8d olabilir\n",
      "      D:\\Anaconda\\lib\\site-packages\\pystan\\stan\\src\\stan/variational/families/normal_fullrank.hpp(105): warning C4244: 'ba\\x9flat\\x8dl\\x8dyor': 'Eigen::EigenBase<Derived>::Index' - 'const int' d\\x94n\\x81\\x9f\\x81m\\x81; veri kayb\\x8d olabilir\n",
      "              with\n",
      "              [\n",
      "                  Derived=Eigen::Matrix<double,-1,1,0,-1,1>\n",
      "              ]\n",
      "      D:\\Anaconda\\lib\\site-packages\\pystan\\stan\\src\\stan/variational/families/normal_fullrank.hpp(124): warning C4244: 'ba\\x9flat\\x8dl\\x8dyor': 'Eigen::EigenBase<Derived>::Index' - 'const int' d\\x94n\\x81\\x9f\\x81m\\x81; veri kayb\\x8d olabilir\n",
      "              with\n",
      "              [\n",
      "                  Derived=Eigen::Matrix<double,-1,1,0,-1,1>\n",
      "              ]\n",
      "      D:\\Anaconda\\lib\\site-packages\\pystan\\stan\\src\\stan/variational/families/normal_meanfield.hpp(48): warning C4267: 'ba\\x9flat\\x8dl\\x8dyor': 'size_t' - 'const int' d\\x94n\\x81\\x9f\\x81m\\x81; veri kayb\\x8d olabilir\n",
      "      D:\\Anaconda\\lib\\site-packages\\pystan\\stan\\src\\stan/variational/families/normal_meanfield.hpp(61): warning C4244: 'ba\\x9flat\\x8dl\\x8dyor': 'Eigen::EigenBase<Derived>::Index' - 'const int' d\\x94n\\x81\\x9f\\x81m\\x81; veri kayb\\x8d olabilir\n",
      "              with\n",
      "              [\n",
      "                  Derived=Eigen::Matrix<double,-1,1,0,-1,1>\n",
      "              ]\n",
      "      D:\\Anaconda\\lib\\site-packages\\pystan\\stan\\src\\stan/variational/families/normal_meanfield.hpp(76): warning C4244: 'ba\\x9flat\\x8dl\\x8dyor': 'Eigen::EigenBase<Derived>::Index' - 'const int' d\\x94n\\x81\\x9f\\x81m\\x81; veri kayb\\x8d olabilir\n",
      "              with\n",
      "              [\n",
      "                  Derived=Eigen::Matrix<double,-1,1,0,-1,1>\n",
      "              ]\n",
      "      D:\\Anaconda\\lib\\site-packages\\pystan\\stan\\src\\stan/io/cmd_line.hpp(32): warning C4267: 'ba\\x9flat\\x8dl\\x8dyor': 'size_t' - 'int' d\\x94n\\x81\\x9f\\x81m\\x81; veri kayb\\x8d olabilir\n",
      "      D:\\Anaconda\\lib\\site-packages\\pystan\\stan\\src\\stan/lang/rethrow_located.hpp(117): warning C4267: 'ba\\x9flat\\x8dl\\x8dyor': 'size_t' - 'int' d\\x94n\\x81\\x9f\\x81m\\x81; veri kayb\\x8d olabilir\n",
      "      D:\\Anaconda\\lib\\site-packages\\pystan\\stan\\src\\stan/model/indexing/rvalue_index_size.hpp(20): warning C4267: 'return': 'size_t' - 'int' d\\x94n\\x81\\x9f\\x81m\\x81; veri kayb\\x8d olabilir\n",
      "      C:\\Users\\necme\\AppData\\Local\\Temp\\pystan_wcd2ahld\\stanfit4anon_model_f5236004a3fd5b8429270d00efcc0cf9_6431238592912432149.cpp(5159): warning C4267: '=': 'size_t' - 'int' d\\x94n\\x81\\x9f\\x81m\\x81; veri kayb\\x8d olabilir\n",
      "      error: command 'C:\\\\Program Files (x86)\\\\Microsoft Visual Studio\\\\2019\\\\Community\\\\VC\\\\Tools\\\\MSVC\\\\14.29.30133\\\\bin\\\\HostX86\\\\x64\\\\cl.exe' failed with exit code 2\n",
      "      [end of output]\n",
      "  \n",
      "  note: This error originates from a subprocess, and is likely not a problem with pip.\n",
      "error: legacy-install-failure\n",
      "\n",
      "× Encountered error while trying to install package.\n",
      "╰─> fbprophet\n",
      "\n",
      "note: This is an issue with the package mentioned above, not pip.\n",
      "hint: See above for output from the failure.\n"
     ]
    }
   ],
   "source": [
    "!pip install fbprophet"
   ]
  },
  {
   "cell_type": "code",
   "execution_count": 3,
   "metadata": {},
   "outputs": [
    {
     "name": "stdout",
     "output_type": "stream",
     "text": [
      "Collecting folium\n",
      "  Downloading folium-0.14.0-py2.py3-none-any.whl (102 kB)\n",
      "Requirement already satisfied: numpy in d:\\anaconda\\lib\\site-packages (from folium) (1.22.4)\n",
      "Requirement already satisfied: jinja2>=2.9 in d:\\anaconda\\lib\\site-packages (from folium) (2.11.3)\n",
      "Requirement already satisfied: requests in d:\\anaconda\\lib\\site-packages (from folium) (2.28.1)\n",
      "Collecting branca>=0.6.0\n",
      "  Downloading branca-0.6.0-py3-none-any.whl (24 kB)\n",
      "Requirement already satisfied: MarkupSafe>=0.23 in d:\\anaconda\\lib\\site-packages (from jinja2>=2.9->folium) (2.0.1)\n",
      "Requirement already satisfied: idna<4,>=2.5 in d:\\anaconda\\lib\\site-packages (from requests->folium) (2.6)\n",
      "Requirement already satisfied: urllib3<1.27,>=1.21.1 in d:\\anaconda\\lib\\site-packages (from requests->folium) (1.22)\n",
      "Requirement already satisfied: charset-normalizer<3,>=2 in d:\\anaconda\\lib\\site-packages (from requests->folium) (2.0.4)\n",
      "Requirement already satisfied: certifi>=2017.4.17 in d:\\anaconda\\lib\\site-packages (from requests->folium) (2021.10.8)\n",
      "Installing collected packages: branca, folium\n",
      "Successfully installed branca-0.6.0 folium-0.14.0\n"
     ]
    }
   ],
   "source": [
    "!pip install folium"
   ]
  },
  {
   "cell_type": "code",
   "execution_count": 4,
   "metadata": {},
   "outputs": [
    {
     "name": "stdout",
     "output_type": "stream",
     "text": [
      "Collecting shapely\n",
      "  Downloading shapely-2.0.1-cp39-cp39-win_amd64.whl (1.4 MB)\n",
      "Requirement already satisfied: numpy>=1.14 in d:\\anaconda\\lib\\site-packages (from shapely) (1.22.4)\n",
      "Installing collected packages: shapely\n",
      "Successfully installed shapely-2.0.1\n",
      "Note: you may need to restart the kernel to use updated packages.\n"
     ]
    }
   ],
   "source": [
    "!pip install shapely"
   ]
  },
  {
   "cell_type": "code",
   "execution_count": 4,
   "metadata": {},
   "outputs": [
    {
     "name": "stdout",
     "output_type": "stream",
     "text": [
      "Collecting geopandas\n",
      "  Downloading geopandas-0.12.2-py3-none-any.whl (1.1 MB)\n",
      "     ---------------------------------------- 1.1/1.1 MB 1.8 MB/s eta 0:00:00\n",
      "Requirement already satisfied: packaging in d:\\anaconda\\lib\\site-packages (from geopandas) (21.3)\n",
      "Collecting pyproj>=2.6.1.post1\n",
      "  Downloading pyproj-3.5.0-cp39-cp39-win_amd64.whl (5.1 MB)\n",
      "     ---------------------------------------- 5.1/5.1 MB 2.5 MB/s eta 0:00:00\n",
      "Requirement already satisfied: shapely>=1.7 in d:\\anaconda\\lib\\site-packages (from geopandas) (2.0.1)\n",
      "Collecting fiona>=1.8\n",
      "  Downloading Fiona-1.9.2-cp39-cp39-win_amd64.whl (22.0 MB)\n",
      "     -------------------------------------- 22.0/22.0 MB 818.6 kB/s eta 0:00:00\n",
      "Requirement already satisfied: pandas>=1.0.0 in d:\\anaconda\\lib\\site-packages (from geopandas) (1.2.4)\n",
      "Collecting munch>=2.3.2\n",
      "  Downloading munch-2.5.0-py2.py3-none-any.whl (10 kB)\n",
      "Requirement already satisfied: importlib-metadata in d:\\anaconda\\lib\\site-packages (from fiona>=1.8->geopandas) (4.11.3)\n",
      "Requirement already satisfied: click~=8.0 in d:\\anaconda\\lib\\site-packages (from fiona>=1.8->geopandas) (8.0.4)\n",
      "Collecting cligj>=0.5\n",
      "  Downloading cligj-0.7.2-py3-none-any.whl (7.1 kB)\n",
      "Requirement already satisfied: certifi in d:\\anaconda\\lib\\site-packages (from fiona>=1.8->geopandas) (2021.10.8)\n",
      "Requirement already satisfied: attrs>=19.2.0 in d:\\anaconda\\lib\\site-packages (from fiona>=1.8->geopandas) (21.4.0)\n",
      "Collecting click-plugins>=1.0Note: you may need to restart the kernel to use updated packages.\n",
      "\n",
      "  Downloading click_plugins-1.1.1-py2.py3-none-any.whl (7.5 kB)\n",
      "Requirement already satisfied: python-dateutil>=2.7.3 in d:\\anaconda\\lib\\site-packages (from pandas>=1.0.0->geopandas) (2.8.2)\n",
      "Requirement already satisfied: pytz>=2017.3 in d:\\anaconda\\lib\\site-packages (from pandas>=1.0.0->geopandas) (2021.3)\n",
      "Requirement already satisfied: numpy>=1.16.5 in d:\\anaconda\\lib\\site-packages (from pandas>=1.0.0->geopandas) (1.22.4)\n",
      "Requirement already satisfied: pyparsing!=3.0.5,>=2.0.2 in d:\\anaconda\\lib\\site-packages (from packaging->geopandas) (3.0.4)\n",
      "Requirement already satisfied: colorama in d:\\anaconda\\lib\\site-packages (from click~=8.0->fiona>=1.8->geopandas) (0.4.4)\n",
      "Requirement already satisfied: six in d:\\anaconda\\lib\\site-packages (from munch>=2.3.2->fiona>=1.8->geopandas) (1.16.0)\n",
      "Requirement already satisfied: zipp>=0.5 in d:\\anaconda\\lib\\site-packages (from importlib-metadata->fiona>=1.8->geopandas) (3.7.0)\n",
      "Installing collected packages: pyproj, munch, cligj, click-plugins, fiona, geopandas\n",
      "Successfully installed click-plugins-1.1.1 cligj-0.7.2 fiona-1.9.2 geopandas-0.12.2 munch-2.5.0 pyproj-3.5.0\n"
     ]
    }
   ],
   "source": [
    "%pip install geopandas"
   ]
  },
  {
   "cell_type": "code",
   "execution_count": 2,
   "metadata": {},
   "outputs": [],
   "source": [
    "import folium\n",
    "from shapely.ops import cascaded_union\n",
    "from folium import Marker, PolyLine\n",
    "from folium.plugins import HeatMap, HeatMapWithTime, MarkerCluster\n",
    "import geopandas as gpd\n",
    "from shapely.geometry import Point, LineString\n",
    "TURK_LAT = 39.0618\n",
    "TURK_LNG = 33.7500\n"
   ]
  },
  {
   "cell_type": "code",
   "execution_count": 3,
   "metadata": {},
   "outputs": [],
   "source": [
    "import pandas as pd\n",
    "import numpy as np\n",
    "\n",
    "import matplotlib.pyplot as plt\n",
    "import plotly.express as px\n",
    "import seaborn as sns\n",
    "\n",
    "import warnings\n",
    "warnings.filterwarnings('ignore')"
   ]
  },
  {
   "cell_type": "code",
   "execution_count": 38,
   "metadata": {},
   "outputs": [
    {
     "data": {
      "text/html": [
       "<div>\n",
       "<style scoped>\n",
       "    .dataframe tbody tr th:only-of-type {\n",
       "        vertical-align: middle;\n",
       "    }\n",
       "\n",
       "    .dataframe tbody tr th {\n",
       "        vertical-align: top;\n",
       "    }\n",
       "\n",
       "    .dataframe thead th {\n",
       "        text-align: right;\n",
       "    }\n",
       "</style>\n",
       "<table border=\"1\" class=\"dataframe\">\n",
       "  <thead>\n",
       "    <tr style=\"text-align: right;\">\n",
       "      <th></th>\n",
       "      <th>Unnamed: 0</th>\n",
       "      <th>time</th>\n",
       "      <th>latitude</th>\n",
       "      <th>longitude</th>\n",
       "      <th>depth</th>\n",
       "      <th>mag</th>\n",
       "      <th>magType</th>\n",
       "      <th>nst</th>\n",
       "      <th>gap</th>\n",
       "      <th>dmin</th>\n",
       "      <th>...</th>\n",
       "      <th>updated</th>\n",
       "      <th>place</th>\n",
       "      <th>type</th>\n",
       "      <th>horizontalError</th>\n",
       "      <th>depthError</th>\n",
       "      <th>magError</th>\n",
       "      <th>magNst</th>\n",
       "      <th>status</th>\n",
       "      <th>locationSource</th>\n",
       "      <th>magSource</th>\n",
       "    </tr>\n",
       "  </thead>\n",
       "  <tbody>\n",
       "    <tr>\n",
       "      <th>0</th>\n",
       "      <td>0</td>\n",
       "      <td>1900-10-09T12:25:00.000Z</td>\n",
       "      <td>57.09</td>\n",
       "      <td>-153.48</td>\n",
       "      <td>NaN</td>\n",
       "      <td>7.86</td>\n",
       "      <td>mw</td>\n",
       "      <td>NaN</td>\n",
       "      <td>NaN</td>\n",
       "      <td>NaN</td>\n",
       "      <td>...</td>\n",
       "      <td>2022-05-09T14:44:17.838Z</td>\n",
       "      <td>16 km SW of Old Harbor, Alaska</td>\n",
       "      <td>earthquake</td>\n",
       "      <td>NaN</td>\n",
       "      <td>NaN</td>\n",
       "      <td>NaN</td>\n",
       "      <td>NaN</td>\n",
       "      <td>reviewed</td>\n",
       "      <td>ushis</td>\n",
       "      <td>pt</td>\n",
       "    </tr>\n",
       "    <tr>\n",
       "      <th>1</th>\n",
       "      <td>1</td>\n",
       "      <td>1901-03-03T07:45:00.000Z</td>\n",
       "      <td>36.00</td>\n",
       "      <td>-120.50</td>\n",
       "      <td>NaN</td>\n",
       "      <td>6.40</td>\n",
       "      <td>ms</td>\n",
       "      <td>NaN</td>\n",
       "      <td>NaN</td>\n",
       "      <td>NaN</td>\n",
       "      <td>...</td>\n",
       "      <td>2018-06-04T20:43:44.000Z</td>\n",
       "      <td>12 km NNW of Parkfield, California</td>\n",
       "      <td>earthquake</td>\n",
       "      <td>NaN</td>\n",
       "      <td>NaN</td>\n",
       "      <td>NaN</td>\n",
       "      <td>NaN</td>\n",
       "      <td>reviewed</td>\n",
       "      <td>ushis</td>\n",
       "      <td>ell</td>\n",
       "    </tr>\n",
       "    <tr>\n",
       "      <th>2</th>\n",
       "      <td>2</td>\n",
       "      <td>1901-07-26T22:20:00.000Z</td>\n",
       "      <td>40.80</td>\n",
       "      <td>-115.70</td>\n",
       "      <td>NaN</td>\n",
       "      <td>5.00</td>\n",
       "      <td>fa</td>\n",
       "      <td>NaN</td>\n",
       "      <td>NaN</td>\n",
       "      <td>NaN</td>\n",
       "      <td>...</td>\n",
       "      <td>2018-06-04T20:43:44.000Z</td>\n",
       "      <td>6 km SE of Elko, Nevada</td>\n",
       "      <td>earthquake</td>\n",
       "      <td>NaN</td>\n",
       "      <td>NaN</td>\n",
       "      <td>NaN</td>\n",
       "      <td>NaN</td>\n",
       "      <td>reviewed</td>\n",
       "      <td>ushis</td>\n",
       "      <td>sjg</td>\n",
       "    </tr>\n",
       "    <tr>\n",
       "      <th>3</th>\n",
       "      <td>3</td>\n",
       "      <td>1901-12-30T22:34:00.000Z</td>\n",
       "      <td>52.00</td>\n",
       "      <td>-160.00</td>\n",
       "      <td>NaN</td>\n",
       "      <td>7.00</td>\n",
       "      <td>ms</td>\n",
       "      <td>NaN</td>\n",
       "      <td>NaN</td>\n",
       "      <td>NaN</td>\n",
       "      <td>...</td>\n",
       "      <td>2018-06-04T20:43:44.000Z</td>\n",
       "      <td>south of Alaska</td>\n",
       "      <td>earthquake</td>\n",
       "      <td>NaN</td>\n",
       "      <td>NaN</td>\n",
       "      <td>NaN</td>\n",
       "      <td>NaN</td>\n",
       "      <td>reviewed</td>\n",
       "      <td>ushis</td>\n",
       "      <td>abe</td>\n",
       "    </tr>\n",
       "    <tr>\n",
       "      <th>4</th>\n",
       "      <td>4</td>\n",
       "      <td>1902-01-01T05:20:30.000Z</td>\n",
       "      <td>52.38</td>\n",
       "      <td>-167.45</td>\n",
       "      <td>NaN</td>\n",
       "      <td>7.00</td>\n",
       "      <td>ms</td>\n",
       "      <td>NaN</td>\n",
       "      <td>NaN</td>\n",
       "      <td>NaN</td>\n",
       "      <td>...</td>\n",
       "      <td>2018-06-04T20:43:44.000Z</td>\n",
       "      <td>113 km ESE of Nikolski, Alaska</td>\n",
       "      <td>earthquake</td>\n",
       "      <td>NaN</td>\n",
       "      <td>NaN</td>\n",
       "      <td>NaN</td>\n",
       "      <td>NaN</td>\n",
       "      <td>reviewed</td>\n",
       "      <td>ushis</td>\n",
       "      <td>abe</td>\n",
       "    </tr>\n",
       "  </tbody>\n",
       "</table>\n",
       "<p>5 rows × 23 columns</p>\n",
       "</div>"
      ],
      "text/plain": [
       "   Unnamed: 0                      time  latitude  longitude  depth   mag  \\\n",
       "0           0  1900-10-09T12:25:00.000Z     57.09    -153.48    NaN  7.86   \n",
       "1           1  1901-03-03T07:45:00.000Z     36.00    -120.50    NaN  6.40   \n",
       "2           2  1901-07-26T22:20:00.000Z     40.80    -115.70    NaN  5.00   \n",
       "3           3  1901-12-30T22:34:00.000Z     52.00    -160.00    NaN  7.00   \n",
       "4           4  1902-01-01T05:20:30.000Z     52.38    -167.45    NaN  7.00   \n",
       "\n",
       "  magType  nst  gap  dmin  ...                   updated  \\\n",
       "0      mw  NaN  NaN   NaN  ...  2022-05-09T14:44:17.838Z   \n",
       "1      ms  NaN  NaN   NaN  ...  2018-06-04T20:43:44.000Z   \n",
       "2      fa  NaN  NaN   NaN  ...  2018-06-04T20:43:44.000Z   \n",
       "3      ms  NaN  NaN   NaN  ...  2018-06-04T20:43:44.000Z   \n",
       "4      ms  NaN  NaN   NaN  ...  2018-06-04T20:43:44.000Z   \n",
       "\n",
       "                                place        type horizontalError depthError  \\\n",
       "0      16 km SW of Old Harbor, Alaska  earthquake             NaN        NaN   \n",
       "1  12 km NNW of Parkfield, California  earthquake             NaN        NaN   \n",
       "2             6 km SE of Elko, Nevada  earthquake             NaN        NaN   \n",
       "3                     south of Alaska  earthquake             NaN        NaN   \n",
       "4      113 km ESE of Nikolski, Alaska  earthquake             NaN        NaN   \n",
       "\n",
       "  magError  magNst    status  locationSource  magSource  \n",
       "0      NaN     NaN  reviewed           ushis         pt  \n",
       "1      NaN     NaN  reviewed           ushis        ell  \n",
       "2      NaN     NaN  reviewed           ushis        sjg  \n",
       "3      NaN     NaN  reviewed           ushis        abe  \n",
       "4      NaN     NaN  reviewed           ushis        abe  \n",
       "\n",
       "[5 rows x 23 columns]"
      ]
     },
     "execution_count": 38,
     "metadata": {},
     "output_type": "execute_result"
    }
   ],
   "source": [
    "#last_month = pd.read_csv(\"all_month.csv\")\n",
    "last_month = pd.read_csv(\"Unused/Significant_Earthquakes.csv\")\n",
    "last_month.head()"
   ]
  },
  {
   "cell_type": "code",
   "execution_count": 40,
   "metadata": {},
   "outputs": [
    {
     "data": {
      "text/html": [
       "<div>\n",
       "<style scoped>\n",
       "    .dataframe tbody tr th:only-of-type {\n",
       "        vertical-align: middle;\n",
       "    }\n",
       "\n",
       "    .dataframe tbody tr th {\n",
       "        vertical-align: top;\n",
       "    }\n",
       "\n",
       "    .dataframe thead th {\n",
       "        text-align: right;\n",
       "    }\n",
       "</style>\n",
       "<table border=\"1\" class=\"dataframe\">\n",
       "  <thead>\n",
       "    <tr style=\"text-align: right;\">\n",
       "      <th></th>\n",
       "      <th>Unnamed: 0</th>\n",
       "      <th>time</th>\n",
       "      <th>latitude</th>\n",
       "      <th>longitude</th>\n",
       "      <th>depth</th>\n",
       "      <th>mag</th>\n",
       "      <th>magType</th>\n",
       "      <th>nst</th>\n",
       "      <th>gap</th>\n",
       "      <th>dmin</th>\n",
       "      <th>...</th>\n",
       "      <th>updated</th>\n",
       "      <th>place</th>\n",
       "      <th>type</th>\n",
       "      <th>horizontalError</th>\n",
       "      <th>depthError</th>\n",
       "      <th>magError</th>\n",
       "      <th>magNst</th>\n",
       "      <th>status</th>\n",
       "      <th>locationSource</th>\n",
       "      <th>magSource</th>\n",
       "    </tr>\n",
       "  </thead>\n",
       "  <tbody>\n",
       "    <tr>\n",
       "      <th>48</th>\n",
       "      <td>48</td>\n",
       "      <td>1905-05-20T11:06:10.250Z</td>\n",
       "      <td>40.1620</td>\n",
       "      <td>39.3970</td>\n",
       "      <td>15.000</td>\n",
       "      <td>5.62</td>\n",
       "      <td>mw</td>\n",
       "      <td>NaN</td>\n",
       "      <td>NaN</td>\n",
       "      <td>NaN</td>\n",
       "      <td>...</td>\n",
       "      <td>2022-04-25T20:39:20.629Z</td>\n",
       "      <td>5 km NW of Kelkit, Turkey</td>\n",
       "      <td>earthquake</td>\n",
       "      <td>NaN</td>\n",
       "      <td>4.800</td>\n",
       "      <td>0.450</td>\n",
       "      <td>NaN</td>\n",
       "      <td>reviewed</td>\n",
       "      <td>iscgem</td>\n",
       "      <td>iscgem</td>\n",
       "    </tr>\n",
       "    <tr>\n",
       "      <th>75</th>\n",
       "      <td>75</td>\n",
       "      <td>1905-10-22T03:54:31.710Z</td>\n",
       "      <td>40.7610</td>\n",
       "      <td>28.1830</td>\n",
       "      <td>15.000</td>\n",
       "      <td>5.78</td>\n",
       "      <td>mw</td>\n",
       "      <td>NaN</td>\n",
       "      <td>NaN</td>\n",
       "      <td>NaN</td>\n",
       "      <td>...</td>\n",
       "      <td>2022-05-09T15:23:29.292Z</td>\n",
       "      <td>30 km SE of Marmara Ere?lisi, Turkey</td>\n",
       "      <td>earthquake</td>\n",
       "      <td>NaN</td>\n",
       "      <td>3.900</td>\n",
       "      <td>0.520</td>\n",
       "      <td>NaN</td>\n",
       "      <td>reviewed</td>\n",
       "      <td>iscgemsup</td>\n",
       "      <td>iscgemsup</td>\n",
       "    </tr>\n",
       "    <tr>\n",
       "      <th>86</th>\n",
       "      <td>86</td>\n",
       "      <td>1905-12-04T12:20:07.960Z</td>\n",
       "      <td>37.2160</td>\n",
       "      <td>38.8300</td>\n",
       "      <td>15.000</td>\n",
       "      <td>5.56</td>\n",
       "      <td>mw</td>\n",
       "      <td>NaN</td>\n",
       "      <td>NaN</td>\n",
       "      <td>NaN</td>\n",
       "      <td>...</td>\n",
       "      <td>2022-04-25T20:24:32.586Z</td>\n",
       "      <td>6 km NNE of ?anl?urfa, Turkey</td>\n",
       "      <td>earthquake</td>\n",
       "      <td>NaN</td>\n",
       "      <td>5.600</td>\n",
       "      <td>0.630</td>\n",
       "      <td>NaN</td>\n",
       "      <td>reviewed</td>\n",
       "      <td>iscgem</td>\n",
       "      <td>iscgem</td>\n",
       "    </tr>\n",
       "    <tr>\n",
       "      <th>87</th>\n",
       "      <td>87</td>\n",
       "      <td>1905-12-04T07:05:30.550Z</td>\n",
       "      <td>38.1530</td>\n",
       "      <td>38.6450</td>\n",
       "      <td>10.000</td>\n",
       "      <td>6.80</td>\n",
       "      <td>mw</td>\n",
       "      <td>NaN</td>\n",
       "      <td>NaN</td>\n",
       "      <td>NaN</td>\n",
       "      <td>...</td>\n",
       "      <td>2022-05-09T15:19:04.842Z</td>\n",
       "      <td>13 km NNE of Sincik, Turkey</td>\n",
       "      <td>earthquake</td>\n",
       "      <td>NaN</td>\n",
       "      <td>4.900</td>\n",
       "      <td>0.720</td>\n",
       "      <td>NaN</td>\n",
       "      <td>reviewed</td>\n",
       "      <td>iscgemsup</td>\n",
       "      <td>iscgemsup</td>\n",
       "    </tr>\n",
       "    <tr>\n",
       "      <th>203</th>\n",
       "      <td>203</td>\n",
       "      <td>1907-06-03T06:45:11.370Z</td>\n",
       "      <td>38.0940</td>\n",
       "      <td>41.8780</td>\n",
       "      <td>15.000</td>\n",
       "      <td>5.30</td>\n",
       "      <td>mw</td>\n",
       "      <td>NaN</td>\n",
       "      <td>NaN</td>\n",
       "      <td>NaN</td>\n",
       "      <td>...</td>\n",
       "      <td>2022-05-09T15:19:29.869Z</td>\n",
       "      <td>11 km SE of Baykan, Turkey</td>\n",
       "      <td>earthquake</td>\n",
       "      <td>NaN</td>\n",
       "      <td>25.000</td>\n",
       "      <td>0.200</td>\n",
       "      <td>NaN</td>\n",
       "      <td>reviewed</td>\n",
       "      <td>iscgemsup</td>\n",
       "      <td>iscgemsup</td>\n",
       "    </tr>\n",
       "    <tr>\n",
       "      <th>...</th>\n",
       "      <td>...</td>\n",
       "      <td>...</td>\n",
       "      <td>...</td>\n",
       "      <td>...</td>\n",
       "      <td>...</td>\n",
       "      <td>...</td>\n",
       "      <td>...</td>\n",
       "      <td>...</td>\n",
       "      <td>...</td>\n",
       "      <td>...</td>\n",
       "      <td>...</td>\n",
       "      <td>...</td>\n",
       "      <td>...</td>\n",
       "      <td>...</td>\n",
       "      <td>...</td>\n",
       "      <td>...</td>\n",
       "      <td>...</td>\n",
       "      <td>...</td>\n",
       "      <td>...</td>\n",
       "      <td>...</td>\n",
       "      <td>...</td>\n",
       "    </tr>\n",
       "    <tr>\n",
       "      <th>95913</th>\n",
       "      <td>95913</td>\n",
       "      <td>2023-02-06T02:03:37.341Z</td>\n",
       "      <td>37.7712</td>\n",
       "      <td>37.9141</td>\n",
       "      <td>16.929</td>\n",
       "      <td>5.30</td>\n",
       "      <td>mb</td>\n",
       "      <td>154.0</td>\n",
       "      <td>35.0</td>\n",
       "      <td>0.792</td>\n",
       "      <td>...</td>\n",
       "      <td>2023-03-07T01:47:57.043Z</td>\n",
       "      <td>2 km S of Tut, Turkey</td>\n",
       "      <td>earthquake</td>\n",
       "      <td>4.28</td>\n",
       "      <td>3.347</td>\n",
       "      <td>0.052</td>\n",
       "      <td>122.0</td>\n",
       "      <td>reviewed</td>\n",
       "      <td>us</td>\n",
       "      <td>us</td>\n",
       "    </tr>\n",
       "    <tr>\n",
       "      <th>95914</th>\n",
       "      <td>95914</td>\n",
       "      <td>2023-02-06T01:58:23.118Z</td>\n",
       "      <td>37.0302</td>\n",
       "      <td>36.6208</td>\n",
       "      <td>10.000</td>\n",
       "      <td>5.10</td>\n",
       "      <td>mb</td>\n",
       "      <td>120.0</td>\n",
       "      <td>69.0</td>\n",
       "      <td>0.492</td>\n",
       "      <td>...</td>\n",
       "      <td>2023-03-07T02:53:50.040Z</td>\n",
       "      <td>12 km SSE of Hasanbeyli, Turkey</td>\n",
       "      <td>earthquake</td>\n",
       "      <td>5.06</td>\n",
       "      <td>1.841</td>\n",
       "      <td>0.060</td>\n",
       "      <td>91.0</td>\n",
       "      <td>reviewed</td>\n",
       "      <td>us</td>\n",
       "      <td>us</td>\n",
       "    </tr>\n",
       "    <tr>\n",
       "      <th>95916</th>\n",
       "      <td>95916</td>\n",
       "      <td>2023-02-06T01:28:15.784Z</td>\n",
       "      <td>37.1893</td>\n",
       "      <td>36.8929</td>\n",
       "      <td>9.797</td>\n",
       "      <td>6.70</td>\n",
       "      <td>mww</td>\n",
       "      <td>194.0</td>\n",
       "      <td>19.0</td>\n",
       "      <td>0.254</td>\n",
       "      <td>...</td>\n",
       "      <td>2023-03-22T20:01:02.806Z</td>\n",
       "      <td>14 km E of Nurda??, Turkey</td>\n",
       "      <td>earthquake</td>\n",
       "      <td>7.68</td>\n",
       "      <td>3.333</td>\n",
       "      <td>0.098</td>\n",
       "      <td>10.0</td>\n",
       "      <td>reviewed</td>\n",
       "      <td>us</td>\n",
       "      <td>us</td>\n",
       "    </tr>\n",
       "    <tr>\n",
       "      <th>95917</th>\n",
       "      <td>95917</td>\n",
       "      <td>2023-02-06T01:26:50.804Z</td>\n",
       "      <td>37.2244</td>\n",
       "      <td>36.9975</td>\n",
       "      <td>10.000</td>\n",
       "      <td>5.70</td>\n",
       "      <td>mb</td>\n",
       "      <td>97.0</td>\n",
       "      <td>75.0</td>\n",
       "      <td>0.177</td>\n",
       "      <td>...</td>\n",
       "      <td>2023-03-24T05:41:55.448Z</td>\n",
       "      <td>24 km ENE of Nurda??, Turkey</td>\n",
       "      <td>earthquake</td>\n",
       "      <td>5.16</td>\n",
       "      <td>1.825</td>\n",
       "      <td>0.072</td>\n",
       "      <td>69.0</td>\n",
       "      <td>reviewed</td>\n",
       "      <td>us</td>\n",
       "      <td>us</td>\n",
       "    </tr>\n",
       "    <tr>\n",
       "      <th>96043</th>\n",
       "      <td>96043</td>\n",
       "      <td>2023-03-03T02:53:43.065Z</td>\n",
       "      <td>37.8395</td>\n",
       "      <td>36.7004</td>\n",
       "      <td>7.120</td>\n",
       "      <td>5.00</td>\n",
       "      <td>mww</td>\n",
       "      <td>85.0</td>\n",
       "      <td>26.0</td>\n",
       "      <td>0.369</td>\n",
       "      <td>...</td>\n",
       "      <td>2023-03-23T22:48:22.484Z</td>\n",
       "      <td>26 km SE of Göksun, Turkey</td>\n",
       "      <td>earthquake</td>\n",
       "      <td>5.78</td>\n",
       "      <td>3.331</td>\n",
       "      <td>0.059</td>\n",
       "      <td>28.0</td>\n",
       "      <td>reviewed</td>\n",
       "      <td>us</td>\n",
       "      <td>us</td>\n",
       "    </tr>\n",
       "  </tbody>\n",
       "</table>\n",
       "<p>724 rows × 23 columns</p>\n",
       "</div>"
      ],
      "text/plain": [
       "       Unnamed: 0                      time  latitude  longitude   depth  \\\n",
       "48             48  1905-05-20T11:06:10.250Z   40.1620    39.3970  15.000   \n",
       "75             75  1905-10-22T03:54:31.710Z   40.7610    28.1830  15.000   \n",
       "86             86  1905-12-04T12:20:07.960Z   37.2160    38.8300  15.000   \n",
       "87             87  1905-12-04T07:05:30.550Z   38.1530    38.6450  10.000   \n",
       "203           203  1907-06-03T06:45:11.370Z   38.0940    41.8780  15.000   \n",
       "...           ...                       ...       ...        ...     ...   \n",
       "95913       95913  2023-02-06T02:03:37.341Z   37.7712    37.9141  16.929   \n",
       "95914       95914  2023-02-06T01:58:23.118Z   37.0302    36.6208  10.000   \n",
       "95916       95916  2023-02-06T01:28:15.784Z   37.1893    36.8929   9.797   \n",
       "95917       95917  2023-02-06T01:26:50.804Z   37.2244    36.9975  10.000   \n",
       "96043       96043  2023-03-03T02:53:43.065Z   37.8395    36.7004   7.120   \n",
       "\n",
       "        mag magType    nst   gap   dmin  ...                   updated  \\\n",
       "48     5.62      mw    NaN   NaN    NaN  ...  2022-04-25T20:39:20.629Z   \n",
       "75     5.78      mw    NaN   NaN    NaN  ...  2022-05-09T15:23:29.292Z   \n",
       "86     5.56      mw    NaN   NaN    NaN  ...  2022-04-25T20:24:32.586Z   \n",
       "87     6.80      mw    NaN   NaN    NaN  ...  2022-05-09T15:19:04.842Z   \n",
       "203    5.30      mw    NaN   NaN    NaN  ...  2022-05-09T15:19:29.869Z   \n",
       "...     ...     ...    ...   ...    ...  ...                       ...   \n",
       "95913  5.30      mb  154.0  35.0  0.792  ...  2023-03-07T01:47:57.043Z   \n",
       "95914  5.10      mb  120.0  69.0  0.492  ...  2023-03-07T02:53:50.040Z   \n",
       "95916  6.70     mww  194.0  19.0  0.254  ...  2023-03-22T20:01:02.806Z   \n",
       "95917  5.70      mb   97.0  75.0  0.177  ...  2023-03-24T05:41:55.448Z   \n",
       "96043  5.00     mww   85.0  26.0  0.369  ...  2023-03-23T22:48:22.484Z   \n",
       "\n",
       "                                      place        type horizontalError  \\\n",
       "48                5 km NW of Kelkit, Turkey  earthquake             NaN   \n",
       "75     30 km SE of Marmara Ere?lisi, Turkey  earthquake             NaN   \n",
       "86            6 km NNE of ?anl?urfa, Turkey  earthquake             NaN   \n",
       "87              13 km NNE of Sincik, Turkey  earthquake             NaN   \n",
       "203              11 km SE of Baykan, Turkey  earthquake             NaN   \n",
       "...                                     ...         ...             ...   \n",
       "95913                 2 km S of Tut, Turkey  earthquake            4.28   \n",
       "95914       12 km SSE of Hasanbeyli, Turkey  earthquake            5.06   \n",
       "95916            14 km E of Nurda??, Turkey  earthquake            7.68   \n",
       "95917          24 km ENE of Nurda??, Turkey  earthquake            5.16   \n",
       "96043            26 km SE of Göksun, Turkey  earthquake            5.78   \n",
       "\n",
       "      depthError magError  magNst    status  locationSource  magSource  \n",
       "48         4.800    0.450     NaN  reviewed          iscgem     iscgem  \n",
       "75         3.900    0.520     NaN  reviewed       iscgemsup  iscgemsup  \n",
       "86         5.600    0.630     NaN  reviewed          iscgem     iscgem  \n",
       "87         4.900    0.720     NaN  reviewed       iscgemsup  iscgemsup  \n",
       "203       25.000    0.200     NaN  reviewed       iscgemsup  iscgemsup  \n",
       "...          ...      ...     ...       ...             ...        ...  \n",
       "95913      3.347    0.052   122.0  reviewed              us         us  \n",
       "95914      1.841    0.060    91.0  reviewed              us         us  \n",
       "95916      3.333    0.098    10.0  reviewed              us         us  \n",
       "95917      1.825    0.072    69.0  reviewed              us         us  \n",
       "96043      3.331    0.059    28.0  reviewed              us         us  \n",
       "\n",
       "[724 rows x 23 columns]"
      ]
     },
     "execution_count": 40,
     "metadata": {},
     "output_type": "execute_result"
    }
   ],
   "source": [
    "last_month[last_month['place'].str.contains(\"[A-Za-z1-9:, ]+Turkey\")==True]#[last_month['time'].str.contains(\"2023-03-06[A-Za-z1-9:]+\")==True]"
   ]
  },
  {
   "cell_type": "code",
   "execution_count": 6,
   "metadata": {},
   "outputs": [
    {
     "data": {
      "text/html": [
       "<div>\n",
       "<style scoped>\n",
       "    .dataframe tbody tr th:only-of-type {\n",
       "        vertical-align: middle;\n",
       "    }\n",
       "\n",
       "    .dataframe tbody tr th {\n",
       "        vertical-align: top;\n",
       "    }\n",
       "\n",
       "    .dataframe thead th {\n",
       "        text-align: right;\n",
       "    }\n",
       "</style>\n",
       "<table border=\"1\" class=\"dataframe\">\n",
       "  <thead>\n",
       "    <tr style=\"text-align: right;\">\n",
       "      <th></th>\n",
       "      <th>time</th>\n",
       "      <th>latitude</th>\n",
       "      <th>longitude</th>\n",
       "      <th>depth</th>\n",
       "      <th>mag</th>\n",
       "      <th>magType</th>\n",
       "      <th>nst</th>\n",
       "      <th>gap</th>\n",
       "      <th>dmin</th>\n",
       "      <th>rms</th>\n",
       "      <th>...</th>\n",
       "      <th>updated</th>\n",
       "      <th>place</th>\n",
       "      <th>type</th>\n",
       "      <th>horizontalError</th>\n",
       "      <th>depthError</th>\n",
       "      <th>magError</th>\n",
       "      <th>magNst</th>\n",
       "      <th>status</th>\n",
       "      <th>locationSource</th>\n",
       "      <th>magSource</th>\n",
       "    </tr>\n",
       "  </thead>\n",
       "  <tbody>\n",
       "    <tr>\n",
       "      <th>2677</th>\n",
       "      <td>2023-03-06T04:55:39.333Z</td>\n",
       "      <td>63.478300</td>\n",
       "      <td>-151.287300</td>\n",
       "      <td>6.00</td>\n",
       "      <td>1.20</td>\n",
       "      <td>ml</td>\n",
       "      <td>NaN</td>\n",
       "      <td>NaN</td>\n",
       "      <td>NaN</td>\n",
       "      <td>0.62</td>\n",
       "      <td>...</td>\n",
       "      <td>2023-03-10T20:21:58.477Z</td>\n",
       "      <td>22 km ESE of Denali National Park, Alaska</td>\n",
       "      <td>earthquake</td>\n",
       "      <td>NaN</td>\n",
       "      <td>0.20</td>\n",
       "      <td>NaN</td>\n",
       "      <td>NaN</td>\n",
       "      <td>reviewed</td>\n",
       "      <td>ak</td>\n",
       "      <td>ak</td>\n",
       "    </tr>\n",
       "    <tr>\n",
       "      <th>2678</th>\n",
       "      <td>2023-03-06T04:53:27.878Z</td>\n",
       "      <td>60.603500</td>\n",
       "      <td>-153.231700</td>\n",
       "      <td>171.90</td>\n",
       "      <td>1.90</td>\n",
       "      <td>ml</td>\n",
       "      <td>NaN</td>\n",
       "      <td>NaN</td>\n",
       "      <td>NaN</td>\n",
       "      <td>0.61</td>\n",
       "      <td>...</td>\n",
       "      <td>2023-03-10T20:21:58.251Z</td>\n",
       "      <td>74 km NE of Port Alsworth, Alaska</td>\n",
       "      <td>earthquake</td>\n",
       "      <td>NaN</td>\n",
       "      <td>0.50</td>\n",
       "      <td>NaN</td>\n",
       "      <td>NaN</td>\n",
       "      <td>reviewed</td>\n",
       "      <td>ak</td>\n",
       "      <td>ak</td>\n",
       "    </tr>\n",
       "    <tr>\n",
       "      <th>2679</th>\n",
       "      <td>2023-03-06T04:50:20.960Z</td>\n",
       "      <td>33.770833</td>\n",
       "      <td>-116.929333</td>\n",
       "      <td>13.58</td>\n",
       "      <td>0.58</td>\n",
       "      <td>ml</td>\n",
       "      <td>13.0</td>\n",
       "      <td>123.0</td>\n",
       "      <td>0.08366</td>\n",
       "      <td>0.09</td>\n",
       "      <td>...</td>\n",
       "      <td>2023-03-07T01:16:33.624Z</td>\n",
       "      <td>3km ESE of San Jacinto, CA</td>\n",
       "      <td>earthquake</td>\n",
       "      <td>0.40</td>\n",
       "      <td>0.61</td>\n",
       "      <td>0.136000</td>\n",
       "      <td>11.0</td>\n",
       "      <td>reviewed</td>\n",
       "      <td>ci</td>\n",
       "      <td>ci</td>\n",
       "    </tr>\n",
       "    <tr>\n",
       "      <th>2680</th>\n",
       "      <td>2023-03-06T04:38:43.790Z</td>\n",
       "      <td>32.650000</td>\n",
       "      <td>-115.742167</td>\n",
       "      <td>8.86</td>\n",
       "      <td>1.92</td>\n",
       "      <td>ml</td>\n",
       "      <td>33.0</td>\n",
       "      <td>54.0</td>\n",
       "      <td>0.01333</td>\n",
       "      <td>0.21</td>\n",
       "      <td>...</td>\n",
       "      <td>2023-03-07T01:14:22.730Z</td>\n",
       "      <td>17km WNW of Progreso, B.C., MX</td>\n",
       "      <td>earthquake</td>\n",
       "      <td>0.30</td>\n",
       "      <td>0.54</td>\n",
       "      <td>0.179000</td>\n",
       "      <td>24.0</td>\n",
       "      <td>reviewed</td>\n",
       "      <td>ci</td>\n",
       "      <td>ci</td>\n",
       "    </tr>\n",
       "    <tr>\n",
       "      <th>2681</th>\n",
       "      <td>2023-03-06T04:37:29.140Z</td>\n",
       "      <td>33.486167</td>\n",
       "      <td>-116.399667</td>\n",
       "      <td>12.54</td>\n",
       "      <td>0.35</td>\n",
       "      <td>ml</td>\n",
       "      <td>18.0</td>\n",
       "      <td>126.0</td>\n",
       "      <td>0.13080</td>\n",
       "      <td>0.13</td>\n",
       "      <td>...</td>\n",
       "      <td>2023-03-06T22:53:30.288Z</td>\n",
       "      <td>21km SSW of La Quinta, CA</td>\n",
       "      <td>earthquake</td>\n",
       "      <td>0.30</td>\n",
       "      <td>0.71</td>\n",
       "      <td>0.181000</td>\n",
       "      <td>12.0</td>\n",
       "      <td>reviewed</td>\n",
       "      <td>ci</td>\n",
       "      <td>ci</td>\n",
       "    </tr>\n",
       "    <tr>\n",
       "      <th>2682</th>\n",
       "      <td>2023-03-06T04:26:43.508Z</td>\n",
       "      <td>60.951500</td>\n",
       "      <td>-149.229000</td>\n",
       "      <td>21.00</td>\n",
       "      <td>0.90</td>\n",
       "      <td>ml</td>\n",
       "      <td>NaN</td>\n",
       "      <td>NaN</td>\n",
       "      <td>NaN</td>\n",
       "      <td>0.27</td>\n",
       "      <td>...</td>\n",
       "      <td>2023-03-10T20:21:58.053Z</td>\n",
       "      <td>3 km WNW of Girdwood, Alaska</td>\n",
       "      <td>earthquake</td>\n",
       "      <td>NaN</td>\n",
       "      <td>0.80</td>\n",
       "      <td>NaN</td>\n",
       "      <td>NaN</td>\n",
       "      <td>reviewed</td>\n",
       "      <td>ak</td>\n",
       "      <td>ak</td>\n",
       "    </tr>\n",
       "    <tr>\n",
       "      <th>2683</th>\n",
       "      <td>2023-03-06T04:23:49.600Z</td>\n",
       "      <td>57.128333</td>\n",
       "      <td>-135.619167</td>\n",
       "      <td>1.02</td>\n",
       "      <td>0.51</td>\n",
       "      <td>ml</td>\n",
       "      <td>4.0</td>\n",
       "      <td>120.0</td>\n",
       "      <td>NaN</td>\n",
       "      <td>0.30</td>\n",
       "      <td>...</td>\n",
       "      <td>2023-03-07T03:58:29.130Z</td>\n",
       "      <td>19 km WNW of Sitka, Alaska</td>\n",
       "      <td>earthquake</td>\n",
       "      <td>3.19</td>\n",
       "      <td>4.50</td>\n",
       "      <td>0.102852</td>\n",
       "      <td>3.0</td>\n",
       "      <td>reviewed</td>\n",
       "      <td>av</td>\n",
       "      <td>av</td>\n",
       "    </tr>\n",
       "    <tr>\n",
       "      <th>2684</th>\n",
       "      <td>2023-03-06T04:09:50.470Z</td>\n",
       "      <td>35.554000</td>\n",
       "      <td>-120.773333</td>\n",
       "      <td>5.49</td>\n",
       "      <td>0.79</td>\n",
       "      <td>md</td>\n",
       "      <td>12.0</td>\n",
       "      <td>61.0</td>\n",
       "      <td>0.04174</td>\n",
       "      <td>0.08</td>\n",
       "      <td>...</td>\n",
       "      <td>2023-03-07T22:27:17.925Z</td>\n",
       "      <td>6km W of Templeton, CA</td>\n",
       "      <td>earthquake</td>\n",
       "      <td>0.25</td>\n",
       "      <td>0.48</td>\n",
       "      <td>0.034000</td>\n",
       "      <td>7.0</td>\n",
       "      <td>reviewed</td>\n",
       "      <td>nc</td>\n",
       "      <td>nc</td>\n",
       "    </tr>\n",
       "  </tbody>\n",
       "</table>\n",
       "<p>8 rows × 22 columns</p>\n",
       "</div>"
      ],
      "text/plain": [
       "                          time   latitude   longitude   depth   mag magType  \\\n",
       "2677  2023-03-06T04:55:39.333Z  63.478300 -151.287300    6.00  1.20      ml   \n",
       "2678  2023-03-06T04:53:27.878Z  60.603500 -153.231700  171.90  1.90      ml   \n",
       "2679  2023-03-06T04:50:20.960Z  33.770833 -116.929333   13.58  0.58      ml   \n",
       "2680  2023-03-06T04:38:43.790Z  32.650000 -115.742167    8.86  1.92      ml   \n",
       "2681  2023-03-06T04:37:29.140Z  33.486167 -116.399667   12.54  0.35      ml   \n",
       "2682  2023-03-06T04:26:43.508Z  60.951500 -149.229000   21.00  0.90      ml   \n",
       "2683  2023-03-06T04:23:49.600Z  57.128333 -135.619167    1.02  0.51      ml   \n",
       "2684  2023-03-06T04:09:50.470Z  35.554000 -120.773333    5.49  0.79      md   \n",
       "\n",
       "       nst    gap     dmin   rms  ...                   updated  \\\n",
       "2677   NaN    NaN      NaN  0.62  ...  2023-03-10T20:21:58.477Z   \n",
       "2678   NaN    NaN      NaN  0.61  ...  2023-03-10T20:21:58.251Z   \n",
       "2679  13.0  123.0  0.08366  0.09  ...  2023-03-07T01:16:33.624Z   \n",
       "2680  33.0   54.0  0.01333  0.21  ...  2023-03-07T01:14:22.730Z   \n",
       "2681  18.0  126.0  0.13080  0.13  ...  2023-03-06T22:53:30.288Z   \n",
       "2682   NaN    NaN      NaN  0.27  ...  2023-03-10T20:21:58.053Z   \n",
       "2683   4.0  120.0      NaN  0.30  ...  2023-03-07T03:58:29.130Z   \n",
       "2684  12.0   61.0  0.04174  0.08  ...  2023-03-07T22:27:17.925Z   \n",
       "\n",
       "                                          place        type horizontalError  \\\n",
       "2677  22 km ESE of Denali National Park, Alaska  earthquake             NaN   \n",
       "2678          74 km NE of Port Alsworth, Alaska  earthquake             NaN   \n",
       "2679                 3km ESE of San Jacinto, CA  earthquake            0.40   \n",
       "2680             17km WNW of Progreso, B.C., MX  earthquake            0.30   \n",
       "2681                  21km SSW of La Quinta, CA  earthquake            0.30   \n",
       "2682               3 km WNW of Girdwood, Alaska  earthquake             NaN   \n",
       "2683                 19 km WNW of Sitka, Alaska  earthquake            3.19   \n",
       "2684                     6km W of Templeton, CA  earthquake            0.25   \n",
       "\n",
       "     depthError  magError  magNst    status  locationSource magSource  \n",
       "2677       0.20       NaN     NaN  reviewed              ak        ak  \n",
       "2678       0.50       NaN     NaN  reviewed              ak        ak  \n",
       "2679       0.61  0.136000    11.0  reviewed              ci        ci  \n",
       "2680       0.54  0.179000    24.0  reviewed              ci        ci  \n",
       "2681       0.71  0.181000    12.0  reviewed              ci        ci  \n",
       "2682       0.80       NaN     NaN  reviewed              ak        ak  \n",
       "2683       4.50  0.102852     3.0  reviewed              av        av  \n",
       "2684       0.48  0.034000     7.0  reviewed              nc        nc  \n",
       "\n",
       "[8 rows x 22 columns]"
      ]
     },
     "execution_count": 6,
     "metadata": {},
     "output_type": "execute_result"
    }
   ],
   "source": [
    "last_month[last_month['time'].str.contains(\"2023-03-06T04[A-Za-z1-9:]+\")==True]"
   ]
  },
  {
   "cell_type": "code",
   "execution_count": 7,
   "metadata": {},
   "outputs": [
    {
     "name": "stdout",
     "output_type": "stream",
     "text": [
      "22 km ESE of Denali National Park, Alaska\n",
      "74 km NE of Port Alsworth, Alaska\n",
      "3km ESE of San Jacinto, CA\n",
      "17km WNW of Progreso, B.C., MX\n",
      "21km SSW of La Quinta, CA\n",
      "3 km WNW of Girdwood, Alaska\n",
      "19 km WNW of Sitka, Alaska\n",
      "6km W of Templeton, CA\n"
     ]
    }
   ],
   "source": [
    "import re\n",
    "\n",
    "for index in range(len(last_month['time'])):\n",
    "    if(re.findall(\"2023-03-06T04[A-Za-z1-9:]+\",last_month[\"time\"][index])!=[]):\n",
    "        print(last_month.loc[index][\"place\"])\n",
    "    "
   ]
  },
  {
   "cell_type": "code",
   "execution_count": 8,
   "metadata": {},
   "outputs": [
    {
     "name": "stdout",
     "output_type": "stream",
     "text": [
      "utf_16 :\n",
      "    ID                DATE_            LOCATION_      LAT      LNG  MAG  DEPTH  \\\n",
      "0   1  2005-01-01 00:29:42  KORKUTELi (ANTALYA)  36.9197  30.3133  2.9   30.0   \n",
      "1   2  2005-01-01 03:03:40        YUNAK (KONYA)  38.8177  31.8875  3.5    5.8   \n",
      "2   3  2005-01-01 04:40:14              AKDENiZ  36.1153  28.4915  3.5   74.5   \n",
      "3   4  2005-01-01 09:35:00       CUBUK (ANKARA)  40.3485  32.9603  3.0   15.1   \n",
      "4   5  2005-01-01 11:17:43      MENEMEN (iZMiR)  38.8013  27.2075  2.9   28.3   \n",
      "\n",
      "                      RECORDDATE  \n",
      "0  2023-02-27 15:01:52.367000000  \n",
      "1  2023-02-27 15:01:52.367000000  \n",
      "2  2023-02-27 15:01:52.367000000  \n",
      "3  2023-02-27 15:01:52.367000000  \n",
      "4  2023-02-27 15:01:52.367000000  \n"
     ]
    }
   ],
   "source": [
    "\n",
    "encoding_list = ['ascii', 'big5', 'big5hkscs', 'cp037', 'cp273', 'cp424', 'cp437', 'cp500', 'cp720', 'cp737'\n",
    "                 , 'cp775', 'cp850', 'cp852', 'cp855', 'cp856', 'cp857', 'cp858', 'cp860', 'cp861', 'cp862'\n",
    "                 , 'cp863', 'cp864', 'cp865', 'cp866', 'cp869', 'cp874', 'cp875', 'cp932', 'cp949', 'cp950'\n",
    "                 , 'cp1006', 'cp1026', 'cp1125', 'cp1140', 'cp1250', 'cp1251', 'cp1252', 'cp1253', 'cp1254'\n",
    "                 , 'cp1255', 'cp1256', 'cp1257', 'cp1258', 'euc_jp', 'euc_jis_2004', 'euc_jisx0213', 'euc_kr'\n",
    "                 , 'gb2312', 'gbk', 'gb18030', 'hz', 'iso2022_jp', 'iso2022_jp_1', 'iso2022_jp_2'\n",
    "                 , 'iso2022_jp_2004', 'iso2022_jp_3', 'iso2022_jp_ext', 'iso2022_kr', 'latin_1', 'iso8859_2'\n",
    "                 , 'iso8859_3', 'iso8859_4', 'iso8859_5', 'iso8859_6', 'iso8859_7', 'iso8859_8', 'iso8859_9'\n",
    "                 , 'iso8859_10', 'iso8859_11', 'iso8859_13', 'iso8859_14', 'iso8859_15', 'iso8859_16', 'johab'\n",
    "                 , 'koi8_r', 'koi8_t', 'koi8_u', 'kz1048', 'mac_cyrillic', 'mac_greek', 'mac_iceland', 'mac_latin2'\n",
    "                 , 'mac_roman', 'mac_turkish', 'ptcp154', 'shift_jis', 'shift_jis_2004', 'shift_jisx0213', 'utf_32'\n",
    "                 , 'utf_32_be', 'utf_32_le', 'utf_16']\n",
    "\n",
    "for encoding in encoding_list:\n",
    "    worked = True\n",
    "    try:\n",
    "        df = pd.read_csv(\"eq20.csv\", encoding=encoding, nrows=5)\n",
    "    except:\n",
    "        worked = False\n",
    "    if worked and str(df[df.columns[0]][0]) != \"nan\":\n",
    "        print(encoding, ':\\n', df.head())\n",
    "        break\n",
    "        \n",
    "    "
   ]
  },
  {
   "cell_type": "code",
   "execution_count": 17,
   "metadata": {},
   "outputs": [
    {
     "name": "stderr",
     "output_type": "stream",
     "text": [
      "b'Skipping line 114421: expected 8 fields, saw 9\\nSkipping line 115729: expected 8 fields, saw 9\\nSkipping line 117563: expected 8 fields, saw 9\\nSkipping line 118716: expected 8 fields, saw 9\\nSkipping line 127421: expected 8 fields, saw 9\\nSkipping line 128142: expected 8 fields, saw 9\\n'\n",
      "b'Skipping line 137960: expected 8 fields, saw 9\\nSkipping line 138066: expected 8 fields, saw 9\\nSkipping line 139689: expected 8 fields, saw 9\\nSkipping line 140753: expected 8 fields, saw 9\\nSkipping line 141426: expected 8 fields, saw 9\\nSkipping line 142841: expected 8 fields, saw 9\\nSkipping line 142844: expected 8 fields, saw 9\\nSkipping line 142846: expected 8 fields, saw 9\\nSkipping line 144861: expected 8 fields, saw 9\\nSkipping line 145582: expected 8 fields, saw 9\\nSkipping line 146689: expected 8 fields, saw 9\\nSkipping line 149056: expected 8 fields, saw 9\\nSkipping line 150251: expected 8 fields, saw 9\\nSkipping line 152718: expected 8 fields, saw 9\\nSkipping line 154023: expected 8 fields, saw 9\\nSkipping line 154171: expected 8 fields, saw 9\\nSkipping line 155132: expected 8 fields, saw 9\\nSkipping line 159717: expected 8 fields, saw 9\\nSkipping line 161472: expected 8 fields, saw 9\\nSkipping line 161542: expected 8 fields, saw 9\\nSkipping line 163838: expected 8 fields, saw 9\\nSkipping line 166821: expected 8 fields, saw 9\\nSkipping line 171306: expected 8 fields, saw 9\\nSkipping line 176724: expected 8 fields, saw 9\\nSkipping line 179671: expected 8 fields, saw 9\\nSkipping line 189437: expected 8 fields, saw 9\\n'\n"
     ]
    },
    {
     "data": {
      "text/html": [
       "<div>\n",
       "<style scoped>\n",
       "    .dataframe tbody tr th:only-of-type {\n",
       "        vertical-align: middle;\n",
       "    }\n",
       "\n",
       "    .dataframe tbody tr th {\n",
       "        vertical-align: top;\n",
       "    }\n",
       "\n",
       "    .dataframe thead th {\n",
       "        text-align: right;\n",
       "    }\n",
       "</style>\n",
       "<table border=\"1\" class=\"dataframe\">\n",
       "  <thead>\n",
       "    <tr style=\"text-align: right;\">\n",
       "      <th></th>\n",
       "      <th>ID</th>\n",
       "      <th>DATE_</th>\n",
       "      <th>LOCATION_</th>\n",
       "      <th>LAT</th>\n",
       "      <th>LNG</th>\n",
       "      <th>MAG</th>\n",
       "      <th>DEPTH</th>\n",
       "      <th>RECORDDATE</th>\n",
       "    </tr>\n",
       "  </thead>\n",
       "  <tbody>\n",
       "    <tr>\n",
       "      <th>0</th>\n",
       "      <td>1</td>\n",
       "      <td>2005-01-01 00:29:42</td>\n",
       "      <td>KORKUTELi (ANTALYA)</td>\n",
       "      <td>36.9197</td>\n",
       "      <td>30.3133</td>\n",
       "      <td>2.9</td>\n",
       "      <td>30.0</td>\n",
       "      <td>2023-02-27 15:01:52.367000000</td>\n",
       "    </tr>\n",
       "    <tr>\n",
       "      <th>1</th>\n",
       "      <td>2</td>\n",
       "      <td>2005-01-01 03:03:40</td>\n",
       "      <td>YUNAK (KONYA)</td>\n",
       "      <td>38.8177</td>\n",
       "      <td>31.8875</td>\n",
       "      <td>3.5</td>\n",
       "      <td>5.8</td>\n",
       "      <td>2023-02-27 15:01:52.367000000</td>\n",
       "    </tr>\n",
       "    <tr>\n",
       "      <th>2</th>\n",
       "      <td>3</td>\n",
       "      <td>2005-01-01 04:40:14</td>\n",
       "      <td>AKDENiZ</td>\n",
       "      <td>36.1153</td>\n",
       "      <td>28.4915</td>\n",
       "      <td>3.5</td>\n",
       "      <td>74.5</td>\n",
       "      <td>2023-02-27 15:01:52.367000000</td>\n",
       "    </tr>\n",
       "    <tr>\n",
       "      <th>3</th>\n",
       "      <td>4</td>\n",
       "      <td>2005-01-01 09:35:00</td>\n",
       "      <td>CUBUK (ANKARA)</td>\n",
       "      <td>40.3485</td>\n",
       "      <td>32.9603</td>\n",
       "      <td>3.0</td>\n",
       "      <td>15.1</td>\n",
       "      <td>2023-02-27 15:01:52.367000000</td>\n",
       "    </tr>\n",
       "    <tr>\n",
       "      <th>4</th>\n",
       "      <td>5</td>\n",
       "      <td>2005-01-01 11:17:43</td>\n",
       "      <td>MENEMEN (iZMiR)</td>\n",
       "      <td>38.8013</td>\n",
       "      <td>27.2075</td>\n",
       "      <td>2.9</td>\n",
       "      <td>28.3</td>\n",
       "      <td>2023-02-27 15:01:52.367000000</td>\n",
       "    </tr>\n",
       "    <tr>\n",
       "      <th>...</th>\n",
       "      <td>...</td>\n",
       "      <td>...</td>\n",
       "      <td>...</td>\n",
       "      <td>...</td>\n",
       "      <td>...</td>\n",
       "      <td>...</td>\n",
       "      <td>...</td>\n",
       "      <td>...</td>\n",
       "    </tr>\n",
       "    <tr>\n",
       "      <th>284578</th>\n",
       "      <td>284611</td>\n",
       "      <td>2023-02-18 21:57:48</td>\n",
       "      <td>KARAHASANUSAGI-ELBISTAN (KAHRAMANMARAS)       ...</td>\n",
       "      <td>38.1273</td>\n",
       "      <td>37.5453</td>\n",
       "      <td>3.2</td>\n",
       "      <td>5.0</td>\n",
       "      <td>2023-02-27 15:02:29.527000000</td>\n",
       "    </tr>\n",
       "    <tr>\n",
       "      <th>284579</th>\n",
       "      <td>284612</td>\n",
       "      <td>2023-02-26 06:38:19</td>\n",
       "      <td>UMUTLU-NURHAK (KAHRAMANMARAS)                 ...</td>\n",
       "      <td>37.8832</td>\n",
       "      <td>37.2213</td>\n",
       "      <td>2.1</td>\n",
       "      <td>8.2</td>\n",
       "      <td>2023-02-27 15:02:29.527000000</td>\n",
       "    </tr>\n",
       "    <tr>\n",
       "      <th>284580</th>\n",
       "      <td>284613</td>\n",
       "      <td>2023-02-26 07:13:10</td>\n",
       "      <td>TURKIYE-IRAN SINIR BOLGESI                    ...</td>\n",
       "      <td>38.5592</td>\n",
       "      <td>44.8275</td>\n",
       "      <td>2.5</td>\n",
       "      <td>8.9</td>\n",
       "      <td>2023-02-27 15:02:29.527000000</td>\n",
       "    </tr>\n",
       "    <tr>\n",
       "      <th>284581</th>\n",
       "      <td>284614</td>\n",
       "      <td>2023-02-26 07:30:34</td>\n",
       "      <td>YAYLA-VARTO (MUS)                             ...</td>\n",
       "      <td>39.0577</td>\n",
       "      <td>41.2510</td>\n",
       "      <td>2.6</td>\n",
       "      <td>8.5</td>\n",
       "      <td>2023-02-27 15:02:29.527000000</td>\n",
       "    </tr>\n",
       "    <tr>\n",
       "      <th>284582</th>\n",
       "      <td>284615</td>\n",
       "      <td>2023-02-26 07:39:48</td>\n",
       "      <td>YENIKOY-EKINOZU (KAHRAMANMARAS)               ...</td>\n",
       "      <td>38.0267</td>\n",
       "      <td>37.1017</td>\n",
       "      <td>2.6</td>\n",
       "      <td>3.8</td>\n",
       "      <td>2023-02-27 15:02:29.527000000</td>\n",
       "    </tr>\n",
       "  </tbody>\n",
       "</table>\n",
       "<p>284583 rows × 8 columns</p>\n",
       "</div>"
      ],
      "text/plain": [
       "            ID                DATE_  \\\n",
       "0            1  2005-01-01 00:29:42   \n",
       "1            2  2005-01-01 03:03:40   \n",
       "2            3  2005-01-01 04:40:14   \n",
       "3            4  2005-01-01 09:35:00   \n",
       "4            5  2005-01-01 11:17:43   \n",
       "...        ...                  ...   \n",
       "284578  284611  2023-02-18 21:57:48   \n",
       "284579  284612  2023-02-26 06:38:19   \n",
       "284580  284613  2023-02-26 07:13:10   \n",
       "284581  284614  2023-02-26 07:30:34   \n",
       "284582  284615  2023-02-26 07:39:48   \n",
       "\n",
       "                                                LOCATION_      LAT      LNG  \\\n",
       "0                                     KORKUTELi (ANTALYA)  36.9197  30.3133   \n",
       "1                                           YUNAK (KONYA)  38.8177  31.8875   \n",
       "2                                                 AKDENiZ  36.1153  28.4915   \n",
       "3                                          CUBUK (ANKARA)  40.3485  32.9603   \n",
       "4                                         MENEMEN (iZMiR)  38.8013  27.2075   \n",
       "...                                                   ...      ...      ...   \n",
       "284578  KARAHASANUSAGI-ELBISTAN (KAHRAMANMARAS)       ...  38.1273  37.5453   \n",
       "284579  UMUTLU-NURHAK (KAHRAMANMARAS)                 ...  37.8832  37.2213   \n",
       "284580  TURKIYE-IRAN SINIR BOLGESI                    ...  38.5592  44.8275   \n",
       "284581  YAYLA-VARTO (MUS)                             ...  39.0577  41.2510   \n",
       "284582  YENIKOY-EKINOZU (KAHRAMANMARAS)               ...  38.0267  37.1017   \n",
       "\n",
       "        MAG  DEPTH                     RECORDDATE  \n",
       "0       2.9   30.0  2023-02-27 15:01:52.367000000  \n",
       "1       3.5    5.8  2023-02-27 15:01:52.367000000  \n",
       "2       3.5   74.5  2023-02-27 15:01:52.367000000  \n",
       "3       3.0   15.1  2023-02-27 15:01:52.367000000  \n",
       "4       2.9   28.3  2023-02-27 15:01:52.367000000  \n",
       "...     ...    ...                            ...  \n",
       "284578  3.2    5.0  2023-02-27 15:02:29.527000000  \n",
       "284579  2.1    8.2  2023-02-27 15:02:29.527000000  \n",
       "284580  2.5    8.9  2023-02-27 15:02:29.527000000  \n",
       "284581  2.6    8.5  2023-02-27 15:02:29.527000000  \n",
       "284582  2.6    3.8  2023-02-27 15:02:29.527000000  \n",
       "\n",
       "[284583 rows x 8 columns]"
      ]
     },
     "execution_count": 17,
     "metadata": {},
     "output_type": "execute_result"
    }
   ],
   "source": [
    "df = pd.read_csv(\"eq20.csv\", encoding=encoding, error_bad_lines=False)\n",
    "df"
   ]
  },
  {
   "cell_type": "code",
   "execution_count": 18,
   "metadata": {},
   "outputs": [
    {
     "data": {
      "text/html": [
       "<div>\n",
       "<style scoped>\n",
       "    .dataframe tbody tr th:only-of-type {\n",
       "        vertical-align: middle;\n",
       "    }\n",
       "\n",
       "    .dataframe tbody tr th {\n",
       "        vertical-align: top;\n",
       "    }\n",
       "\n",
       "    .dataframe thead th {\n",
       "        text-align: right;\n",
       "    }\n",
       "</style>\n",
       "<table border=\"1\" class=\"dataframe\">\n",
       "  <thead>\n",
       "    <tr style=\"text-align: right;\">\n",
       "      <th></th>\n",
       "      <th>DATE_</th>\n",
       "      <th>LOCATION_</th>\n",
       "      <th>LAT</th>\n",
       "      <th>LNG</th>\n",
       "      <th>MAG</th>\n",
       "      <th>DEPTH</th>\n",
       "      <th>RECORDDATE</th>\n",
       "    </tr>\n",
       "  </thead>\n",
       "  <tbody>\n",
       "    <tr>\n",
       "      <th>0</th>\n",
       "      <td>2005-01-01 00:29:42</td>\n",
       "      <td>KORKUTELi (ANTALYA)</td>\n",
       "      <td>36.9197</td>\n",
       "      <td>30.3133</td>\n",
       "      <td>2.9</td>\n",
       "      <td>30.0</td>\n",
       "      <td>2023-02-27 15:01:52.367000000</td>\n",
       "    </tr>\n",
       "    <tr>\n",
       "      <th>1</th>\n",
       "      <td>2005-01-01 03:03:40</td>\n",
       "      <td>YUNAK (KONYA)</td>\n",
       "      <td>38.8177</td>\n",
       "      <td>31.8875</td>\n",
       "      <td>3.5</td>\n",
       "      <td>5.8</td>\n",
       "      <td>2023-02-27 15:01:52.367000000</td>\n",
       "    </tr>\n",
       "    <tr>\n",
       "      <th>2</th>\n",
       "      <td>2005-01-01 04:40:14</td>\n",
       "      <td>AKDENiZ</td>\n",
       "      <td>36.1153</td>\n",
       "      <td>28.4915</td>\n",
       "      <td>3.5</td>\n",
       "      <td>74.5</td>\n",
       "      <td>2023-02-27 15:01:52.367000000</td>\n",
       "    </tr>\n",
       "    <tr>\n",
       "      <th>3</th>\n",
       "      <td>2005-01-01 09:35:00</td>\n",
       "      <td>CUBUK (ANKARA)</td>\n",
       "      <td>40.3485</td>\n",
       "      <td>32.9603</td>\n",
       "      <td>3.0</td>\n",
       "      <td>15.1</td>\n",
       "      <td>2023-02-27 15:01:52.367000000</td>\n",
       "    </tr>\n",
       "    <tr>\n",
       "      <th>4</th>\n",
       "      <td>2005-01-01 11:17:43</td>\n",
       "      <td>MENEMEN (iZMiR)</td>\n",
       "      <td>38.8013</td>\n",
       "      <td>27.2075</td>\n",
       "      <td>2.9</td>\n",
       "      <td>28.3</td>\n",
       "      <td>2023-02-27 15:01:52.367000000</td>\n",
       "    </tr>\n",
       "    <tr>\n",
       "      <th>...</th>\n",
       "      <td>...</td>\n",
       "      <td>...</td>\n",
       "      <td>...</td>\n",
       "      <td>...</td>\n",
       "      <td>...</td>\n",
       "      <td>...</td>\n",
       "      <td>...</td>\n",
       "    </tr>\n",
       "    <tr>\n",
       "      <th>284578</th>\n",
       "      <td>2023-02-18 21:57:48</td>\n",
       "      <td>KARAHASANUSAGI-ELBISTAN (KAHRAMANMARAS)       ...</td>\n",
       "      <td>38.1273</td>\n",
       "      <td>37.5453</td>\n",
       "      <td>3.2</td>\n",
       "      <td>5.0</td>\n",
       "      <td>2023-02-27 15:02:29.527000000</td>\n",
       "    </tr>\n",
       "    <tr>\n",
       "      <th>284579</th>\n",
       "      <td>2023-02-26 06:38:19</td>\n",
       "      <td>UMUTLU-NURHAK (KAHRAMANMARAS)                 ...</td>\n",
       "      <td>37.8832</td>\n",
       "      <td>37.2213</td>\n",
       "      <td>2.1</td>\n",
       "      <td>8.2</td>\n",
       "      <td>2023-02-27 15:02:29.527000000</td>\n",
       "    </tr>\n",
       "    <tr>\n",
       "      <th>284580</th>\n",
       "      <td>2023-02-26 07:13:10</td>\n",
       "      <td>TURKIYE-IRAN SINIR BOLGESI                    ...</td>\n",
       "      <td>38.5592</td>\n",
       "      <td>44.8275</td>\n",
       "      <td>2.5</td>\n",
       "      <td>8.9</td>\n",
       "      <td>2023-02-27 15:02:29.527000000</td>\n",
       "    </tr>\n",
       "    <tr>\n",
       "      <th>284581</th>\n",
       "      <td>2023-02-26 07:30:34</td>\n",
       "      <td>YAYLA-VARTO (MUS)                             ...</td>\n",
       "      <td>39.0577</td>\n",
       "      <td>41.2510</td>\n",
       "      <td>2.6</td>\n",
       "      <td>8.5</td>\n",
       "      <td>2023-02-27 15:02:29.527000000</td>\n",
       "    </tr>\n",
       "    <tr>\n",
       "      <th>284582</th>\n",
       "      <td>2023-02-26 07:39:48</td>\n",
       "      <td>YENIKOY-EKINOZU (KAHRAMANMARAS)               ...</td>\n",
       "      <td>38.0267</td>\n",
       "      <td>37.1017</td>\n",
       "      <td>2.6</td>\n",
       "      <td>3.8</td>\n",
       "      <td>2023-02-27 15:02:29.527000000</td>\n",
       "    </tr>\n",
       "  </tbody>\n",
       "</table>\n",
       "<p>284583 rows × 7 columns</p>\n",
       "</div>"
      ],
      "text/plain": [
       "                      DATE_  \\\n",
       "0       2005-01-01 00:29:42   \n",
       "1       2005-01-01 03:03:40   \n",
       "2       2005-01-01 04:40:14   \n",
       "3       2005-01-01 09:35:00   \n",
       "4       2005-01-01 11:17:43   \n",
       "...                     ...   \n",
       "284578  2023-02-18 21:57:48   \n",
       "284579  2023-02-26 06:38:19   \n",
       "284580  2023-02-26 07:13:10   \n",
       "284581  2023-02-26 07:30:34   \n",
       "284582  2023-02-26 07:39:48   \n",
       "\n",
       "                                                LOCATION_      LAT      LNG  \\\n",
       "0                                     KORKUTELi (ANTALYA)  36.9197  30.3133   \n",
       "1                                           YUNAK (KONYA)  38.8177  31.8875   \n",
       "2                                                 AKDENiZ  36.1153  28.4915   \n",
       "3                                          CUBUK (ANKARA)  40.3485  32.9603   \n",
       "4                                         MENEMEN (iZMiR)  38.8013  27.2075   \n",
       "...                                                   ...      ...      ...   \n",
       "284578  KARAHASANUSAGI-ELBISTAN (KAHRAMANMARAS)       ...  38.1273  37.5453   \n",
       "284579  UMUTLU-NURHAK (KAHRAMANMARAS)                 ...  37.8832  37.2213   \n",
       "284580  TURKIYE-IRAN SINIR BOLGESI                    ...  38.5592  44.8275   \n",
       "284581  YAYLA-VARTO (MUS)                             ...  39.0577  41.2510   \n",
       "284582  YENIKOY-EKINOZU (KAHRAMANMARAS)               ...  38.0267  37.1017   \n",
       "\n",
       "        MAG  DEPTH                     RECORDDATE  \n",
       "0       2.9   30.0  2023-02-27 15:01:52.367000000  \n",
       "1       3.5    5.8  2023-02-27 15:01:52.367000000  \n",
       "2       3.5   74.5  2023-02-27 15:01:52.367000000  \n",
       "3       3.0   15.1  2023-02-27 15:01:52.367000000  \n",
       "4       2.9   28.3  2023-02-27 15:01:52.367000000  \n",
       "...     ...    ...                            ...  \n",
       "284578  3.2    5.0  2023-02-27 15:02:29.527000000  \n",
       "284579  2.1    8.2  2023-02-27 15:02:29.527000000  \n",
       "284580  2.5    8.9  2023-02-27 15:02:29.527000000  \n",
       "284581  2.6    8.5  2023-02-27 15:02:29.527000000  \n",
       "284582  2.6    3.8  2023-02-27 15:02:29.527000000  \n",
       "\n",
       "[284583 rows x 7 columns]"
      ]
     },
     "execution_count": 18,
     "metadata": {},
     "output_type": "execute_result"
    }
   ],
   "source": [
    "df.drop(columns=[\"ID\"],axis=1,inplace=True)\n",
    "df"
   ]
  },
  {
   "cell_type": "code",
   "execution_count": 20,
   "metadata": {},
   "outputs": [
    {
     "name": "stdout",
     "output_type": "stream",
     "text": [
      "<class 'pandas.core.frame.DataFrame'>\n",
      "RangeIndex: 284583 entries, 0 to 284582\n",
      "Data columns (total 7 columns):\n",
      " #   Column      Non-Null Count   Dtype  \n",
      "---  ------      --------------   -----  \n",
      " 0   DATE_       284583 non-null  object \n",
      " 1   LOCATION_   284583 non-null  object \n",
      " 2   LAT         284583 non-null  float64\n",
      " 3   LNG         284583 non-null  float64\n",
      " 4   MAG         284583 non-null  float64\n",
      " 5   DEPTH       284583 non-null  float64\n",
      " 6   RECORDDATE  284583 non-null  object \n",
      "dtypes: float64(4), object(3)\n",
      "memory usage: 15.2+ MB\n"
     ]
    }
   ],
   "source": [
    "df.info()"
   ]
  },
  {
   "cell_type": "code",
   "execution_count": 21,
   "metadata": {},
   "outputs": [
    {
     "data": {
      "text/plain": [
       "DATE_         0\n",
       "LOCATION_     0\n",
       "LAT           0\n",
       "LNG           0\n",
       "MAG           0\n",
       "DEPTH         0\n",
       "RECORDDATE    0\n",
       "dtype: int64"
      ]
     },
     "execution_count": 21,
     "metadata": {},
     "output_type": "execute_result"
    }
   ],
   "source": [
    "df.isnull().sum()"
   ]
  },
  {
   "cell_type": "code",
   "execution_count": 19,
   "metadata": {},
   "outputs": [
    {
     "data": {
      "text/html": [
       "<div>\n",
       "<style scoped>\n",
       "    .dataframe tbody tr th:only-of-type {\n",
       "        vertical-align: middle;\n",
       "    }\n",
       "\n",
       "    .dataframe tbody tr th {\n",
       "        vertical-align: top;\n",
       "    }\n",
       "\n",
       "    .dataframe thead th {\n",
       "        text-align: right;\n",
       "    }\n",
       "</style>\n",
       "<table border=\"1\" class=\"dataframe\">\n",
       "  <thead>\n",
       "    <tr style=\"text-align: right;\">\n",
       "      <th></th>\n",
       "      <th>LAT</th>\n",
       "      <th>LNG</th>\n",
       "      <th>MAG</th>\n",
       "      <th>DEPTH</th>\n",
       "    </tr>\n",
       "  </thead>\n",
       "  <tbody>\n",
       "    <tr>\n",
       "      <th>count</th>\n",
       "      <td>284583.000000</td>\n",
       "      <td>284583.000000</td>\n",
       "      <td>284583.000000</td>\n",
       "      <td>284583.000000</td>\n",
       "    </tr>\n",
       "    <tr>\n",
       "      <th>mean</th>\n",
       "      <td>38.234964</td>\n",
       "      <td>31.376644</td>\n",
       "      <td>2.212529</td>\n",
       "      <td>9.774072</td>\n",
       "    </tr>\n",
       "    <tr>\n",
       "      <th>std</th>\n",
       "      <td>1.478462</td>\n",
       "      <td>5.534374</td>\n",
       "      <td>0.666044</td>\n",
       "      <td>10.137096</td>\n",
       "    </tr>\n",
       "    <tr>\n",
       "      <th>min</th>\n",
       "      <td>30.288700</td>\n",
       "      <td>18.343500</td>\n",
       "      <td>0.100000</td>\n",
       "      <td>0.000000</td>\n",
       "    </tr>\n",
       "    <tr>\n",
       "      <th>25%</th>\n",
       "      <td>37.078500</td>\n",
       "      <td>27.400700</td>\n",
       "      <td>1.700000</td>\n",
       "      <td>5.000000</td>\n",
       "    </tr>\n",
       "    <tr>\n",
       "      <th>50%</th>\n",
       "      <td>38.309500</td>\n",
       "      <td>28.804700</td>\n",
       "      <td>2.100000</td>\n",
       "      <td>7.300000</td>\n",
       "    </tr>\n",
       "    <tr>\n",
       "      <th>75%</th>\n",
       "      <td>39.233000</td>\n",
       "      <td>35.924300</td>\n",
       "      <td>2.700000</td>\n",
       "      <td>12.000000</td>\n",
       "    </tr>\n",
       "    <tr>\n",
       "      <th>max</th>\n",
       "      <td>45.809300</td>\n",
       "      <td>48.572500</td>\n",
       "      <td>7.600000</td>\n",
       "      <td>188.000000</td>\n",
       "    </tr>\n",
       "  </tbody>\n",
       "</table>\n",
       "</div>"
      ],
      "text/plain": [
       "                 LAT            LNG            MAG          DEPTH\n",
       "count  284583.000000  284583.000000  284583.000000  284583.000000\n",
       "mean       38.234964      31.376644       2.212529       9.774072\n",
       "std         1.478462       5.534374       0.666044      10.137096\n",
       "min        30.288700      18.343500       0.100000       0.000000\n",
       "25%        37.078500      27.400700       1.700000       5.000000\n",
       "50%        38.309500      28.804700       2.100000       7.300000\n",
       "75%        39.233000      35.924300       2.700000      12.000000\n",
       "max        45.809300      48.572500       7.600000     188.000000"
      ]
     },
     "execution_count": 19,
     "metadata": {},
     "output_type": "execute_result"
    }
   ],
   "source": [
    "df.describe()"
   ]
  },
  {
   "cell_type": "code",
   "execution_count": 34,
   "metadata": {},
   "outputs": [
    {
     "data": {
      "text/html": [
       "<div>\n",
       "<style scoped>\n",
       "    .dataframe tbody tr th:only-of-type {\n",
       "        vertical-align: middle;\n",
       "    }\n",
       "\n",
       "    .dataframe tbody tr th {\n",
       "        vertical-align: top;\n",
       "    }\n",
       "\n",
       "    .dataframe thead th {\n",
       "        text-align: right;\n",
       "    }\n",
       "</style>\n",
       "<table border=\"1\" class=\"dataframe\">\n",
       "  <thead>\n",
       "    <tr style=\"text-align: right;\">\n",
       "      <th></th>\n",
       "      <th>LOCATION_</th>\n",
       "      <th>LAT</th>\n",
       "      <th>LNG</th>\n",
       "      <th>MAG</th>\n",
       "      <th>DEPTH</th>\n",
       "      <th>RECORDDATE</th>\n",
       "      <th>Date</th>\n",
       "      <th>Time</th>\n",
       "    </tr>\n",
       "  </thead>\n",
       "  <tbody>\n",
       "    <tr>\n",
       "      <th>0</th>\n",
       "      <td>KORKUTELi (ANTALYA)</td>\n",
       "      <td>36.9197</td>\n",
       "      <td>30.3133</td>\n",
       "      <td>2.9</td>\n",
       "      <td>30.0</td>\n",
       "      <td>2023-02-27 15:01:52.367000000</td>\n",
       "      <td>2005-01-01</td>\n",
       "      <td>00:29:42</td>\n",
       "    </tr>\n",
       "    <tr>\n",
       "      <th>1</th>\n",
       "      <td>YUNAK (KONYA)</td>\n",
       "      <td>38.8177</td>\n",
       "      <td>31.8875</td>\n",
       "      <td>3.5</td>\n",
       "      <td>5.8</td>\n",
       "      <td>2023-02-27 15:01:52.367000000</td>\n",
       "      <td>2005-01-01</td>\n",
       "      <td>03:03:40</td>\n",
       "    </tr>\n",
       "    <tr>\n",
       "      <th>2</th>\n",
       "      <td>AKDENiZ</td>\n",
       "      <td>36.1153</td>\n",
       "      <td>28.4915</td>\n",
       "      <td>3.5</td>\n",
       "      <td>74.5</td>\n",
       "      <td>2023-02-27 15:01:52.367000000</td>\n",
       "      <td>2005-01-01</td>\n",
       "      <td>04:40:14</td>\n",
       "    </tr>\n",
       "    <tr>\n",
       "      <th>3</th>\n",
       "      <td>CUBUK (ANKARA)</td>\n",
       "      <td>40.3485</td>\n",
       "      <td>32.9603</td>\n",
       "      <td>3.0</td>\n",
       "      <td>15.1</td>\n",
       "      <td>2023-02-27 15:01:52.367000000</td>\n",
       "      <td>2005-01-01</td>\n",
       "      <td>09:35:00</td>\n",
       "    </tr>\n",
       "    <tr>\n",
       "      <th>4</th>\n",
       "      <td>MENEMEN (iZMiR)</td>\n",
       "      <td>38.8013</td>\n",
       "      <td>27.2075</td>\n",
       "      <td>2.9</td>\n",
       "      <td>28.3</td>\n",
       "      <td>2023-02-27 15:01:52.367000000</td>\n",
       "      <td>2005-01-01</td>\n",
       "      <td>11:17:43</td>\n",
       "    </tr>\n",
       "  </tbody>\n",
       "</table>\n",
       "</div>"
      ],
      "text/plain": [
       "             LOCATION_      LAT      LNG  MAG  DEPTH  \\\n",
       "0  KORKUTELi (ANTALYA)  36.9197  30.3133  2.9   30.0   \n",
       "1        YUNAK (KONYA)  38.8177  31.8875  3.5    5.8   \n",
       "2              AKDENiZ  36.1153  28.4915  3.5   74.5   \n",
       "3       CUBUK (ANKARA)  40.3485  32.9603  3.0   15.1   \n",
       "4      MENEMEN (iZMiR)  38.8013  27.2075  2.9   28.3   \n",
       "\n",
       "                      RECORDDATE        Date      Time  \n",
       "0  2023-02-27 15:01:52.367000000  2005-01-01  00:29:42  \n",
       "1  2023-02-27 15:01:52.367000000  2005-01-01  03:03:40  \n",
       "2  2023-02-27 15:01:52.367000000  2005-01-01  04:40:14  \n",
       "3  2023-02-27 15:01:52.367000000  2005-01-01  09:35:00  \n",
       "4  2023-02-27 15:01:52.367000000  2005-01-01  11:17:43  "
      ]
     },
     "execution_count": 34,
     "metadata": {},
     "output_type": "execute_result"
    }
   ],
   "source": [
    "df[['Date', 'Time']] = df['DATE_'].str.split(' ', n=1, expand=True)\n",
    "df.drop(columns=[\"DATE_\"],inplace=True)\n",
    "df.head()"
   ]
  },
  {
   "cell_type": "code",
   "execution_count": 35,
   "metadata": {},
   "outputs": [
    {
     "data": {
      "text/html": [
       "<div>\n",
       "<style scoped>\n",
       "    .dataframe tbody tr th:only-of-type {\n",
       "        vertical-align: middle;\n",
       "    }\n",
       "\n",
       "    .dataframe tbody tr th {\n",
       "        vertical-align: top;\n",
       "    }\n",
       "\n",
       "    .dataframe thead th {\n",
       "        text-align: right;\n",
       "    }\n",
       "</style>\n",
       "<table border=\"1\" class=\"dataframe\">\n",
       "  <thead>\n",
       "    <tr style=\"text-align: right;\">\n",
       "      <th></th>\n",
       "      <th>LOCATION_</th>\n",
       "      <th>LAT</th>\n",
       "      <th>LNG</th>\n",
       "      <th>MAG</th>\n",
       "      <th>DEPTH</th>\n",
       "      <th>RECORDDATE</th>\n",
       "      <th>Date</th>\n",
       "      <th>Time</th>\n",
       "    </tr>\n",
       "  </thead>\n",
       "  <tbody>\n",
       "    <tr>\n",
       "      <th>0</th>\n",
       "      <td>KORKUTELi (ANTALYA)</td>\n",
       "      <td>36.9197</td>\n",
       "      <td>30.3133</td>\n",
       "      <td>2.9</td>\n",
       "      <td>30.0</td>\n",
       "      <td>2023-02-27 15:01:52.367000000</td>\n",
       "      <td>2005.01.01</td>\n",
       "      <td>00:29:42</td>\n",
       "    </tr>\n",
       "    <tr>\n",
       "      <th>1</th>\n",
       "      <td>YUNAK (KONYA)</td>\n",
       "      <td>38.8177</td>\n",
       "      <td>31.8875</td>\n",
       "      <td>3.5</td>\n",
       "      <td>5.8</td>\n",
       "      <td>2023-02-27 15:01:52.367000000</td>\n",
       "      <td>2005.01.01</td>\n",
       "      <td>03:03:40</td>\n",
       "    </tr>\n",
       "    <tr>\n",
       "      <th>2</th>\n",
       "      <td>AKDENiZ</td>\n",
       "      <td>36.1153</td>\n",
       "      <td>28.4915</td>\n",
       "      <td>3.5</td>\n",
       "      <td>74.5</td>\n",
       "      <td>2023-02-27 15:01:52.367000000</td>\n",
       "      <td>2005.01.01</td>\n",
       "      <td>04:40:14</td>\n",
       "    </tr>\n",
       "    <tr>\n",
       "      <th>3</th>\n",
       "      <td>CUBUK (ANKARA)</td>\n",
       "      <td>40.3485</td>\n",
       "      <td>32.9603</td>\n",
       "      <td>3.0</td>\n",
       "      <td>15.1</td>\n",
       "      <td>2023-02-27 15:01:52.367000000</td>\n",
       "      <td>2005.01.01</td>\n",
       "      <td>09:35:00</td>\n",
       "    </tr>\n",
       "    <tr>\n",
       "      <th>4</th>\n",
       "      <td>MENEMEN (iZMiR)</td>\n",
       "      <td>38.8013</td>\n",
       "      <td>27.2075</td>\n",
       "      <td>2.9</td>\n",
       "      <td>28.3</td>\n",
       "      <td>2023-02-27 15:01:52.367000000</td>\n",
       "      <td>2005.01.01</td>\n",
       "      <td>11:17:43</td>\n",
       "    </tr>\n",
       "  </tbody>\n",
       "</table>\n",
       "</div>"
      ],
      "text/plain": [
       "             LOCATION_      LAT      LNG  MAG  DEPTH  \\\n",
       "0  KORKUTELi (ANTALYA)  36.9197  30.3133  2.9   30.0   \n",
       "1        YUNAK (KONYA)  38.8177  31.8875  3.5    5.8   \n",
       "2              AKDENiZ  36.1153  28.4915  3.5   74.5   \n",
       "3       CUBUK (ANKARA)  40.3485  32.9603  3.0   15.1   \n",
       "4      MENEMEN (iZMiR)  38.8013  27.2075  2.9   28.3   \n",
       "\n",
       "                      RECORDDATE        Date      Time  \n",
       "0  2023-02-27 15:01:52.367000000  2005.01.01  00:29:42  \n",
       "1  2023-02-27 15:01:52.367000000  2005.01.01  03:03:40  \n",
       "2  2023-02-27 15:01:52.367000000  2005.01.01  04:40:14  \n",
       "3  2023-02-27 15:01:52.367000000  2005.01.01  09:35:00  \n",
       "4  2023-02-27 15:01:52.367000000  2005.01.01  11:17:43  "
      ]
     },
     "execution_count": 35,
     "metadata": {},
     "output_type": "execute_result"
    }
   ],
   "source": [
    "#df[\"Date\"] = df['Date'].apply(lambda x: x.replace('-', '.')) same process\n",
    "df[\"Date\"] = df['Date'].str.replace('-','.')\n",
    "df.head()"
   ]
  },
  {
   "cell_type": "code",
   "execution_count": null,
   "metadata": {},
   "outputs": [],
   "source": [
    "df[]"
   ]
  },
  {
   "cell_type": "code",
   "execution_count": 33,
   "metadata": {},
   "outputs": [
    {
     "data": {
      "application/vnd.plotly.v1+json": {
       "config": {
        "plotlyServerURL": "https://plot.ly"
       },
       "data": [
        {
         "customdata": [
          [
           18.7,
           6.4,
           "2008-07-15 06:26:31"
          ],
          [
           10.3,
           6.2,
           "2009-07-01 12:30:01"
          ],
          [
           12.1,
           6.3,
           "2011-04-01 16:29:07"
          ],
          [
           5,
           6.6,
           "2011-10-23 13:41:20"
          ],
          [
           28.1,
           6.4,
           "2012-05-22 03:00:33"
          ],
          [
           52.8,
           6.4,
           "2013-10-12 16:11:52"
          ],
          [
           21.2,
           6.8,
           "2014-05-24 12:25:01"
          ],
          [
           10,
           6.1,
           "2014-08-18 05:32:10"
          ],
          [
           22.1,
           6.1,
           "2015-04-16 21:07:43"
          ],
          [
           19.5,
           6.3,
           "2017-06-12 15:28:38"
          ],
          [
           5,
           6.6,
           "2017-07-21 01:31:09"
          ],
          [
           11.7,
           7.1,
           "2017-11-12 21:18:18"
          ],
          [
           5,
           6.7,
           "2020-01-24 20:55:10"
          ],
          [
           55.1,
           6.6,
           "2020-05-02 15:51:06"
          ],
          [
           12.1,
           6.9,
           "2020-10-30 14:51:24"
          ],
          [
           16.2,
           6.3,
           "2021-10-12 12:24:04"
          ],
          [
           28.4,
           6.1,
           "2021-10-19 08:32:29"
          ],
          [
           36.3,
           6.2,
           "2022-01-11 04:07:51"
          ],
          [
           5,
           6.1,
           "2023-01-28 21:14:40"
          ],
          [
           5,
           7.599999999999999,
           "2023-02-06 13:24:47"
          ],
          [
           8.5,
           6.4,
           "2023-02-20 20:04:26"
          ]
         ],
         "hovertemplate": "<b>%{hovertext}</b><br><br>LAT=%{lat}<br>LNG=%{lon}<br>DEPTH=%{customdata[0]}<br>MAG=%{customdata[1]}<br>DATE_=%{customdata[2]}<extra></extra>",
         "hovertext": [
          "AKDENiZ",
          "AKDENIZ",
          "AKDENiZ                                           ",
          "TABANLI (VAN) [South East 1.2 km]",
          "BULGARiSTAN                                       ",
          "YUNANISTAN",
          "EGE DENIZI                                        İlksel",
          "IRAN-IRAK SINIR BOLGESI                           REVIZE01",
          "GIRIT ADASI ACIKLARI (AKDENIZ)                    İlksel",
          "EGE DENIZI                                        REVIZE02   (2017.06.12 15:28:39)",
          "GOKOVA KORFEZI (AKDENIZ)                          REVIZE01   (2017.07.21 01:31:12)",
          "IRAN                                              REVIZE02   (2017.11.12 21:18:18)",
          "KALABA-SIVRICE (ELAZIG)                           İlksel",
          "GIRIT ADASI ACIKLARI (AKDENIZ)                    İlksel",
          "EGE DENIZI                                        İlksel",
          "GIRIT ADASI ACIKLARI (AKDENIZ)                    ",
          "AKDENIZ                                           ",
          "AKDENIZ                                           REVIZE01   (2022.01.11 04:07:51)",
          "IRAN                                              ",
          "EKINOZU (KAHRAMANMARAS)                           ",
          "SUNGUR-YAYLADAGI (HATAY)                          "
         ],
         "lat": [
          35.786,
          33.6008,
          35.587,
          38.726,
          42.606,
          35.5193,
          40.3043,
          32.7354,
          35.075,
          38.8497,
          36.962,
          34.8122,
          38.3922,
          34.1563,
          37.8917,
          35.0113,
          34.4782,
          35.289,
          38.3003,
          38.0818,
          36.0077
         ],
         "legendgroup": "",
         "lon": [
          27.853,
          25.2318,
          26.6332,
          43.427,
          23.0912,
          23.2283,
          25.458,
          47.6748,
          26.9095,
          26.26,
          27.4053,
          45.4803,
          39.0847,
          25.7505,
          26.7108,
          26.3135,
          28.3707,
          32.1068,
          45.336,
          37.1773,
          36.131
         ],
         "marker": {
          "color": "light green"
         },
         "mode": "markers",
         "name": "",
         "showlegend": false,
         "subplot": "mapbox",
         "type": "scattermapbox"
        }
       ],
       "layout": {
        "height": 300,
        "legend": {
         "tracegroupgap": 0
        },
        "mapbox": {
         "center": {
          "lat": 36.57962857142857,
          "lon": 31.696842857142855
         },
         "domain": {
          "x": [
           0,
           1
          ],
          "y": [
           0,
           1
          ]
         },
         "layers": [
          {
           "below": "traces",
           "source": [
            "https://basemap.nationalmap.gov/arcgis/rest/services/USGSImageryOnly/MapServer/tile/{z}/{y}/{x}"
           ],
           "sourceattribution": "United States Geological Survey",
           "sourcetype": "raster"
          }
         ],
         "style": "white-bg",
         "zoom": 5
        },
        "margin": {
         "b": 0,
         "l": 0,
         "r": 0,
         "t": 0
        },
        "template": {
         "data": {
          "bar": [
           {
            "error_x": {
             "color": "#2a3f5f"
            },
            "error_y": {
             "color": "#2a3f5f"
            },
            "marker": {
             "line": {
              "color": "#E5ECF6",
              "width": 0.5
             },
             "pattern": {
              "fillmode": "overlay",
              "size": 10,
              "solidity": 0.2
             }
            },
            "type": "bar"
           }
          ],
          "barpolar": [
           {
            "marker": {
             "line": {
              "color": "#E5ECF6",
              "width": 0.5
             },
             "pattern": {
              "fillmode": "overlay",
              "size": 10,
              "solidity": 0.2
             }
            },
            "type": "barpolar"
           }
          ],
          "carpet": [
           {
            "aaxis": {
             "endlinecolor": "#2a3f5f",
             "gridcolor": "white",
             "linecolor": "white",
             "minorgridcolor": "white",
             "startlinecolor": "#2a3f5f"
            },
            "baxis": {
             "endlinecolor": "#2a3f5f",
             "gridcolor": "white",
             "linecolor": "white",
             "minorgridcolor": "white",
             "startlinecolor": "#2a3f5f"
            },
            "type": "carpet"
           }
          ],
          "choropleth": [
           {
            "colorbar": {
             "outlinewidth": 0,
             "ticks": ""
            },
            "type": "choropleth"
           }
          ],
          "contour": [
           {
            "colorbar": {
             "outlinewidth": 0,
             "ticks": ""
            },
            "colorscale": [
             [
              0,
              "#0d0887"
             ],
             [
              0.1111111111111111,
              "#46039f"
             ],
             [
              0.2222222222222222,
              "#7201a8"
             ],
             [
              0.3333333333333333,
              "#9c179e"
             ],
             [
              0.4444444444444444,
              "#bd3786"
             ],
             [
              0.5555555555555556,
              "#d8576b"
             ],
             [
              0.6666666666666666,
              "#ed7953"
             ],
             [
              0.7777777777777778,
              "#fb9f3a"
             ],
             [
              0.8888888888888888,
              "#fdca26"
             ],
             [
              1,
              "#f0f921"
             ]
            ],
            "type": "contour"
           }
          ],
          "contourcarpet": [
           {
            "colorbar": {
             "outlinewidth": 0,
             "ticks": ""
            },
            "type": "contourcarpet"
           }
          ],
          "heatmap": [
           {
            "colorbar": {
             "outlinewidth": 0,
             "ticks": ""
            },
            "colorscale": [
             [
              0,
              "#0d0887"
             ],
             [
              0.1111111111111111,
              "#46039f"
             ],
             [
              0.2222222222222222,
              "#7201a8"
             ],
             [
              0.3333333333333333,
              "#9c179e"
             ],
             [
              0.4444444444444444,
              "#bd3786"
             ],
             [
              0.5555555555555556,
              "#d8576b"
             ],
             [
              0.6666666666666666,
              "#ed7953"
             ],
             [
              0.7777777777777778,
              "#fb9f3a"
             ],
             [
              0.8888888888888888,
              "#fdca26"
             ],
             [
              1,
              "#f0f921"
             ]
            ],
            "type": "heatmap"
           }
          ],
          "heatmapgl": [
           {
            "colorbar": {
             "outlinewidth": 0,
             "ticks": ""
            },
            "colorscale": [
             [
              0,
              "#0d0887"
             ],
             [
              0.1111111111111111,
              "#46039f"
             ],
             [
              0.2222222222222222,
              "#7201a8"
             ],
             [
              0.3333333333333333,
              "#9c179e"
             ],
             [
              0.4444444444444444,
              "#bd3786"
             ],
             [
              0.5555555555555556,
              "#d8576b"
             ],
             [
              0.6666666666666666,
              "#ed7953"
             ],
             [
              0.7777777777777778,
              "#fb9f3a"
             ],
             [
              0.8888888888888888,
              "#fdca26"
             ],
             [
              1,
              "#f0f921"
             ]
            ],
            "type": "heatmapgl"
           }
          ],
          "histogram": [
           {
            "marker": {
             "pattern": {
              "fillmode": "overlay",
              "size": 10,
              "solidity": 0.2
             }
            },
            "type": "histogram"
           }
          ],
          "histogram2d": [
           {
            "colorbar": {
             "outlinewidth": 0,
             "ticks": ""
            },
            "colorscale": [
             [
              0,
              "#0d0887"
             ],
             [
              0.1111111111111111,
              "#46039f"
             ],
             [
              0.2222222222222222,
              "#7201a8"
             ],
             [
              0.3333333333333333,
              "#9c179e"
             ],
             [
              0.4444444444444444,
              "#bd3786"
             ],
             [
              0.5555555555555556,
              "#d8576b"
             ],
             [
              0.6666666666666666,
              "#ed7953"
             ],
             [
              0.7777777777777778,
              "#fb9f3a"
             ],
             [
              0.8888888888888888,
              "#fdca26"
             ],
             [
              1,
              "#f0f921"
             ]
            ],
            "type": "histogram2d"
           }
          ],
          "histogram2dcontour": [
           {
            "colorbar": {
             "outlinewidth": 0,
             "ticks": ""
            },
            "colorscale": [
             [
              0,
              "#0d0887"
             ],
             [
              0.1111111111111111,
              "#46039f"
             ],
             [
              0.2222222222222222,
              "#7201a8"
             ],
             [
              0.3333333333333333,
              "#9c179e"
             ],
             [
              0.4444444444444444,
              "#bd3786"
             ],
             [
              0.5555555555555556,
              "#d8576b"
             ],
             [
              0.6666666666666666,
              "#ed7953"
             ],
             [
              0.7777777777777778,
              "#fb9f3a"
             ],
             [
              0.8888888888888888,
              "#fdca26"
             ],
             [
              1,
              "#f0f921"
             ]
            ],
            "type": "histogram2dcontour"
           }
          ],
          "mesh3d": [
           {
            "colorbar": {
             "outlinewidth": 0,
             "ticks": ""
            },
            "type": "mesh3d"
           }
          ],
          "parcoords": [
           {
            "line": {
             "colorbar": {
              "outlinewidth": 0,
              "ticks": ""
             }
            },
            "type": "parcoords"
           }
          ],
          "pie": [
           {
            "automargin": true,
            "type": "pie"
           }
          ],
          "scatter": [
           {
            "marker": {
             "colorbar": {
              "outlinewidth": 0,
              "ticks": ""
             }
            },
            "type": "scatter"
           }
          ],
          "scatter3d": [
           {
            "line": {
             "colorbar": {
              "outlinewidth": 0,
              "ticks": ""
             }
            },
            "marker": {
             "colorbar": {
              "outlinewidth": 0,
              "ticks": ""
             }
            },
            "type": "scatter3d"
           }
          ],
          "scattercarpet": [
           {
            "marker": {
             "colorbar": {
              "outlinewidth": 0,
              "ticks": ""
             }
            },
            "type": "scattercarpet"
           }
          ],
          "scattergeo": [
           {
            "marker": {
             "colorbar": {
              "outlinewidth": 0,
              "ticks": ""
             }
            },
            "type": "scattergeo"
           }
          ],
          "scattergl": [
           {
            "marker": {
             "colorbar": {
              "outlinewidth": 0,
              "ticks": ""
             }
            },
            "type": "scattergl"
           }
          ],
          "scattermapbox": [
           {
            "marker": {
             "colorbar": {
              "outlinewidth": 0,
              "ticks": ""
             }
            },
            "type": "scattermapbox"
           }
          ],
          "scatterpolar": [
           {
            "marker": {
             "colorbar": {
              "outlinewidth": 0,
              "ticks": ""
             }
            },
            "type": "scatterpolar"
           }
          ],
          "scatterpolargl": [
           {
            "marker": {
             "colorbar": {
              "outlinewidth": 0,
              "ticks": ""
             }
            },
            "type": "scatterpolargl"
           }
          ],
          "scatterternary": [
           {
            "marker": {
             "colorbar": {
              "outlinewidth": 0,
              "ticks": ""
             }
            },
            "type": "scatterternary"
           }
          ],
          "surface": [
           {
            "colorbar": {
             "outlinewidth": 0,
             "ticks": ""
            },
            "colorscale": [
             [
              0,
              "#0d0887"
             ],
             [
              0.1111111111111111,
              "#46039f"
             ],
             [
              0.2222222222222222,
              "#7201a8"
             ],
             [
              0.3333333333333333,
              "#9c179e"
             ],
             [
              0.4444444444444444,
              "#bd3786"
             ],
             [
              0.5555555555555556,
              "#d8576b"
             ],
             [
              0.6666666666666666,
              "#ed7953"
             ],
             [
              0.7777777777777778,
              "#fb9f3a"
             ],
             [
              0.8888888888888888,
              "#fdca26"
             ],
             [
              1,
              "#f0f921"
             ]
            ],
            "type": "surface"
           }
          ],
          "table": [
           {
            "cells": {
             "fill": {
              "color": "#EBF0F8"
             },
             "line": {
              "color": "white"
             }
            },
            "header": {
             "fill": {
              "color": "#C8D4E3"
             },
             "line": {
              "color": "white"
             }
            },
            "type": "table"
           }
          ]
         },
         "layout": {
          "annotationdefaults": {
           "arrowcolor": "#2a3f5f",
           "arrowhead": 0,
           "arrowwidth": 1
          },
          "autotypenumbers": "strict",
          "coloraxis": {
           "colorbar": {
            "outlinewidth": 0,
            "ticks": ""
           }
          },
          "colorscale": {
           "diverging": [
            [
             0,
             "#8e0152"
            ],
            [
             0.1,
             "#c51b7d"
            ],
            [
             0.2,
             "#de77ae"
            ],
            [
             0.3,
             "#f1b6da"
            ],
            [
             0.4,
             "#fde0ef"
            ],
            [
             0.5,
             "#f7f7f7"
            ],
            [
             0.6,
             "#e6f5d0"
            ],
            [
             0.7,
             "#b8e186"
            ],
            [
             0.8,
             "#7fbc41"
            ],
            [
             0.9,
             "#4d9221"
            ],
            [
             1,
             "#276419"
            ]
           ],
           "sequential": [
            [
             0,
             "#0d0887"
            ],
            [
             0.1111111111111111,
             "#46039f"
            ],
            [
             0.2222222222222222,
             "#7201a8"
            ],
            [
             0.3333333333333333,
             "#9c179e"
            ],
            [
             0.4444444444444444,
             "#bd3786"
            ],
            [
             0.5555555555555556,
             "#d8576b"
            ],
            [
             0.6666666666666666,
             "#ed7953"
            ],
            [
             0.7777777777777778,
             "#fb9f3a"
            ],
            [
             0.8888888888888888,
             "#fdca26"
            ],
            [
             1,
             "#f0f921"
            ]
           ],
           "sequentialminus": [
            [
             0,
             "#0d0887"
            ],
            [
             0.1111111111111111,
             "#46039f"
            ],
            [
             0.2222222222222222,
             "#7201a8"
            ],
            [
             0.3333333333333333,
             "#9c179e"
            ],
            [
             0.4444444444444444,
             "#bd3786"
            ],
            [
             0.5555555555555556,
             "#d8576b"
            ],
            [
             0.6666666666666666,
             "#ed7953"
            ],
            [
             0.7777777777777778,
             "#fb9f3a"
            ],
            [
             0.8888888888888888,
             "#fdca26"
            ],
            [
             1,
             "#f0f921"
            ]
           ]
          },
          "colorway": [
           "#636efa",
           "#EF553B",
           "#00cc96",
           "#ab63fa",
           "#FFA15A",
           "#19d3f3",
           "#FF6692",
           "#B6E880",
           "#FF97FF",
           "#FECB52"
          ],
          "font": {
           "color": "#2a3f5f"
          },
          "geo": {
           "bgcolor": "white",
           "lakecolor": "white",
           "landcolor": "#E5ECF6",
           "showlakes": true,
           "showland": true,
           "subunitcolor": "white"
          },
          "hoverlabel": {
           "align": "left"
          },
          "hovermode": "closest",
          "mapbox": {
           "style": "light"
          },
          "paper_bgcolor": "white",
          "plot_bgcolor": "#E5ECF6",
          "polar": {
           "angularaxis": {
            "gridcolor": "white",
            "linecolor": "white",
            "ticks": ""
           },
           "bgcolor": "#E5ECF6",
           "radialaxis": {
            "gridcolor": "white",
            "linecolor": "white",
            "ticks": ""
           }
          },
          "scene": {
           "xaxis": {
            "backgroundcolor": "#E5ECF6",
            "gridcolor": "white",
            "gridwidth": 2,
            "linecolor": "white",
            "showbackground": true,
            "ticks": "",
            "zerolinecolor": "white"
           },
           "yaxis": {
            "backgroundcolor": "#E5ECF6",
            "gridcolor": "white",
            "gridwidth": 2,
            "linecolor": "white",
            "showbackground": true,
            "ticks": "",
            "zerolinecolor": "white"
           },
           "zaxis": {
            "backgroundcolor": "#E5ECF6",
            "gridcolor": "white",
            "gridwidth": 2,
            "linecolor": "white",
            "showbackground": true,
            "ticks": "",
            "zerolinecolor": "white"
           }
          },
          "shapedefaults": {
           "line": {
            "color": "#2a3f5f"
           }
          },
          "ternary": {
           "aaxis": {
            "gridcolor": "white",
            "linecolor": "white",
            "ticks": ""
           },
           "baxis": {
            "gridcolor": "white",
            "linecolor": "white",
            "ticks": ""
           },
           "bgcolor": "#E5ECF6",
           "caxis": {
            "gridcolor": "white",
            "linecolor": "white",
            "ticks": ""
           }
          },
          "title": {
           "x": 0.05
          },
          "xaxis": {
           "automargin": true,
           "gridcolor": "white",
           "linecolor": "white",
           "ticks": "",
           "title": {
            "standoff": 15
           },
           "zerolinecolor": "white",
           "zerolinewidth": 2
          },
          "yaxis": {
           "automargin": true,
           "gridcolor": "white",
           "linecolor": "white",
           "ticks": "",
           "title": {
            "standoff": 15
           },
           "zerolinecolor": "white",
           "zerolinewidth": 2
          }
         }
        }
       }
      }
     },
     "metadata": {},
     "output_type": "display_data"
    }
   ],
   "source": [
    "big_mag_df = df[df[\"MAG\"]>6]\n",
    "\n",
    "fig = px.scatter_mapbox(big_mag_df, lat=\"LAT\", lon=\"LNG\", hover_name=\"LOCATION_\", hover_data=[\"DEPTH\", \"MAG\",\"DATE_\"],\n",
    "                        color_discrete_sequence=[\"light green\"], zoom=5, height=300)\n",
    "fig.update_layout(\n",
    "    mapbox_style=\"white-bg\",\n",
    "    mapbox_layers=[\n",
    "        {\n",
    "            \"below\": 'traces',\n",
    "            \"sourcetype\": \"raster\",\n",
    "            \"sourceattribution\": \"United States Geological Survey\",\n",
    "            \"source\": [\n",
    "                \"https://basemap.nationalmap.gov/arcgis/rest/services/USGSImageryOnly/MapServer/tile/{z}/{y}/{x}\"\n",
    "            ]\n",
    "        }\n",
    "      ])\n",
    "fig.update_layout(margin={\"r\":0,\"t\":0,\"l\":0,\"b\":0})\n",
    "fig.show()"
   ]
  },
  {
   "cell_type": "code",
   "execution_count": null,
   "metadata": {},
   "outputs": [],
   "source": []
  },
  {
   "cell_type": "code",
   "execution_count": null,
   "metadata": {},
   "outputs": [],
   "source": []
  },
  {
   "cell_type": "code",
   "execution_count": 30,
   "metadata": {},
   "outputs": [
    {
     "name": "stdout",
     "output_type": "stream",
     "text": [
      "(78, 7)\n"
     ]
    },
    {
     "data": {
      "text/html": [
       "<div>\n",
       "<style scoped>\n",
       "    .dataframe tbody tr th:only-of-type {\n",
       "        vertical-align: middle;\n",
       "    }\n",
       "\n",
       "    .dataframe tbody tr th {\n",
       "        vertical-align: top;\n",
       "    }\n",
       "\n",
       "    .dataframe thead th {\n",
       "        text-align: right;\n",
       "    }\n",
       "</style>\n",
       "<table border=\"1\" class=\"dataframe\">\n",
       "  <thead>\n",
       "    <tr style=\"text-align: right;\">\n",
       "      <th></th>\n",
       "      <th>Date</th>\n",
       "      <th>Time‡</th>\n",
       "      <th>Place</th>\n",
       "      <th>Lat</th>\n",
       "      <th>Long</th>\n",
       "      <th>Deaths</th>\n",
       "      <th>Mag</th>\n",
       "    </tr>\n",
       "  </thead>\n",
       "  <tbody>\n",
       "    <tr>\n",
       "      <th>0</th>\n",
       "      <td>10 September 1509</td>\n",
       "      <td>NaN</td>\n",
       "      <td>Constantinople</td>\n",
       "      <td>40.9</td>\n",
       "      <td>28.7</td>\n",
       "      <td>10,000</td>\n",
       "      <td>7.2 Mw</td>\n",
       "    </tr>\n",
       "    <tr>\n",
       "      <th>1</th>\n",
       "      <td>23 February 1653</td>\n",
       "      <td>NaN</td>\n",
       "      <td>Smyrna</td>\n",
       "      <td>38.2</td>\n",
       "      <td>28.2</td>\n",
       "      <td>2,500</td>\n",
       "      <td>7.5 Mw</td>\n",
       "    </tr>\n",
       "    <tr>\n",
       "      <th>2</th>\n",
       "      <td>17 August 1668</td>\n",
       "      <td>NaN</td>\n",
       "      <td>Anatolia</td>\n",
       "      <td>40.0</td>\n",
       "      <td>36.0</td>\n",
       "      <td>8,000</td>\n",
       "      <td>8M w</td>\n",
       "    </tr>\n",
       "    <tr>\n",
       "      <th>3</th>\n",
       "      <td>10 July 1688</td>\n",
       "      <td>11:45</td>\n",
       "      <td>Smyrna</td>\n",
       "      <td>38.4</td>\n",
       "      <td>26.9</td>\n",
       "      <td>16,000</td>\n",
       "      <td>7.0 Mw</td>\n",
       "    </tr>\n",
       "    <tr>\n",
       "      <th>4</th>\n",
       "      <td>22 May 1766</td>\n",
       "      <td>05:10</td>\n",
       "      <td>Istanbul</td>\n",
       "      <td>40.8</td>\n",
       "      <td>29.0</td>\n",
       "      <td>4,000</td>\n",
       "      <td>7.1 Mw</td>\n",
       "    </tr>\n",
       "  </tbody>\n",
       "</table>\n",
       "</div>"
      ],
      "text/plain": [
       "                Date  Time‡           Place   Lat  Long  Deaths     Mag\n",
       "0  10 September 1509    NaN  Constantinople  40.9  28.7  10,000  7.2 Mw\n",
       "1   23 February 1653    NaN          Smyrna  38.2  28.2   2,500  7.5 Mw\n",
       "2     17 August 1668    NaN        Anatolia  40.0  36.0   8,000    8M w\n",
       "3       10 July 1688  11:45          Smyrna  38.4  26.9  16,000  7.0 Mw\n",
       "4        22 May 1766  05:10        Istanbul  40.8  29.0   4,000  7.1 Mw"
      ]
     },
     "execution_count": 30,
     "metadata": {},
     "output_type": "execute_result"
    }
   ],
   "source": [
    "tr = pd.read_csv('Turkey_earthquakes.csv')\n",
    "print (tr.shape)\n",
    "tr.head(5)"
   ]
  },
  {
   "cell_type": "code",
   "execution_count": 31,
   "metadata": {},
   "outputs": [
    {
     "data": {
      "text/plain": [
       "Smyrna      3\n",
       "Bingöl      3\n",
       "Erzincan    3\n",
       "Çeşme       2\n",
       "Ayvalık     2\n",
       "           ..\n",
       "Horasan     1\n",
       "Hendek      1\n",
       "Hakkâri     1\n",
       "Erbaa       1\n",
       "Izmir       1\n",
       "Name: Place, Length: 65, dtype: int64"
      ]
     },
     "execution_count": 31,
     "metadata": {},
     "output_type": "execute_result"
    }
   ],
   "source": [
    "tr.Place.value_counts()"
   ]
  },
  {
   "cell_type": "code",
   "execution_count": 32,
   "metadata": {},
   "outputs": [
    {
     "data": {
      "text/plain": [
       "count         78\n",
       "unique        65\n",
       "top       Smyrna\n",
       "freq           3\n",
       "Name: Place, dtype: object"
      ]
     },
     "execution_count": 32,
     "metadata": {},
     "output_type": "execute_result"
    }
   ],
   "source": [
    "tr.Place.describe()\n"
   ]
  },
  {
   "cell_type": "code",
   "execution_count": 33,
   "metadata": {},
   "outputs": [
    {
     "data": {
      "text/html": [
       "<div>\n",
       "<style scoped>\n",
       "    .dataframe tbody tr th:only-of-type {\n",
       "        vertical-align: middle;\n",
       "    }\n",
       "\n",
       "    .dataframe tbody tr th {\n",
       "        vertical-align: top;\n",
       "    }\n",
       "\n",
       "    .dataframe thead th {\n",
       "        text-align: right;\n",
       "    }\n",
       "</style>\n",
       "<table border=\"1\" class=\"dataframe\">\n",
       "  <thead>\n",
       "    <tr style=\"text-align: right;\">\n",
       "      <th></th>\n",
       "      <th>Date</th>\n",
       "      <th>Time‡</th>\n",
       "      <th>Place</th>\n",
       "      <th>Lat</th>\n",
       "      <th>Long</th>\n",
       "      <th>Deaths</th>\n",
       "      <th>Mag</th>\n",
       "      <th>geometry</th>\n",
       "    </tr>\n",
       "  </thead>\n",
       "  <tbody>\n",
       "    <tr>\n",
       "      <th>0</th>\n",
       "      <td>10 September 1509</td>\n",
       "      <td>NaN</td>\n",
       "      <td>Constantinople</td>\n",
       "      <td>40.9</td>\n",
       "      <td>28.7</td>\n",
       "      <td>10,000</td>\n",
       "      <td>7.2 Mw</td>\n",
       "      <td>POINT (28.7 40.9)</td>\n",
       "    </tr>\n",
       "    <tr>\n",
       "      <th>1</th>\n",
       "      <td>23 February 1653</td>\n",
       "      <td>NaN</td>\n",
       "      <td>Smyrna</td>\n",
       "      <td>38.2</td>\n",
       "      <td>28.2</td>\n",
       "      <td>2,500</td>\n",
       "      <td>7.5 Mw</td>\n",
       "      <td>POINT (28.2 38.2)</td>\n",
       "    </tr>\n",
       "    <tr>\n",
       "      <th>2</th>\n",
       "      <td>17 August 1668</td>\n",
       "      <td>NaN</td>\n",
       "      <td>Anatolia</td>\n",
       "      <td>40.0</td>\n",
       "      <td>36.0</td>\n",
       "      <td>8,000</td>\n",
       "      <td>8M w</td>\n",
       "      <td>POINT (36 40)</td>\n",
       "    </tr>\n",
       "    <tr>\n",
       "      <th>3</th>\n",
       "      <td>10 July 1688</td>\n",
       "      <td>11:45</td>\n",
       "      <td>Smyrna</td>\n",
       "      <td>38.4</td>\n",
       "      <td>26.9</td>\n",
       "      <td>16,000</td>\n",
       "      <td>7.0 Mw</td>\n",
       "      <td>POINT (26.9 38.4)</td>\n",
       "    </tr>\n",
       "    <tr>\n",
       "      <th>4</th>\n",
       "      <td>22 May 1766</td>\n",
       "      <td>05:10</td>\n",
       "      <td>Istanbul</td>\n",
       "      <td>40.8</td>\n",
       "      <td>29.0</td>\n",
       "      <td>4,000</td>\n",
       "      <td>7.1 Mw</td>\n",
       "      <td>POINT (29 40.8)</td>\n",
       "    </tr>\n",
       "  </tbody>\n",
       "</table>\n",
       "</div>"
      ],
      "text/plain": [
       "                Date  Time‡           Place   Lat  Long  Deaths     Mag  \\\n",
       "0  10 September 1509    NaN  Constantinople  40.9  28.7  10,000  7.2 Mw   \n",
       "1   23 February 1653    NaN          Smyrna  38.2  28.2   2,500  7.5 Mw   \n",
       "2     17 August 1668    NaN        Anatolia  40.0  36.0   8,000    8M w   \n",
       "3       10 July 1688  11:45          Smyrna  38.4  26.9  16,000  7.0 Mw   \n",
       "4        22 May 1766  05:10        Istanbul  40.8  29.0   4,000  7.1 Mw   \n",
       "\n",
       "            geometry  \n",
       "0  POINT (28.7 40.9)  \n",
       "1  POINT (28.2 38.2)  \n",
       "2      POINT (36 40)  \n",
       "3  POINT (26.9 38.4)  \n",
       "4    POINT (29 40.8)  "
      ]
     },
     "execution_count": 33,
     "metadata": {},
     "output_type": "execute_result"
    }
   ],
   "source": [
    "tr['geometry'] = tr.apply(lambda row:  Point(row[\"Long\"], row[\"Lat\"]), axis=1)\n",
    "tr.head()"
   ]
  },
  {
   "cell_type": "code",
   "execution_count": 34,
   "metadata": {},
   "outputs": [
    {
     "data": {
      "text/html": [
       "<div>\n",
       "<style scoped>\n",
       "    .dataframe tbody tr th:only-of-type {\n",
       "        vertical-align: middle;\n",
       "    }\n",
       "\n",
       "    .dataframe tbody tr th {\n",
       "        vertical-align: top;\n",
       "    }\n",
       "\n",
       "    .dataframe thead th {\n",
       "        text-align: right;\n",
       "    }\n",
       "</style>\n",
       "<table border=\"1\" class=\"dataframe\">\n",
       "  <thead>\n",
       "    <tr style=\"text-align: right;\">\n",
       "      <th></th>\n",
       "      <th>Date</th>\n",
       "      <th>Time‡</th>\n",
       "      <th>Place</th>\n",
       "      <th>Lat</th>\n",
       "      <th>Long</th>\n",
       "      <th>Deaths</th>\n",
       "      <th>Mag</th>\n",
       "      <th>geometry</th>\n",
       "      <th>parsed_Date</th>\n",
       "    </tr>\n",
       "  </thead>\n",
       "  <tbody>\n",
       "    <tr>\n",
       "      <th>0</th>\n",
       "      <td>10 September 1509</td>\n",
       "      <td>NaN</td>\n",
       "      <td>Constantinople</td>\n",
       "      <td>40.9</td>\n",
       "      <td>28.7</td>\n",
       "      <td>10,000</td>\n",
       "      <td>7.2 Mw</td>\n",
       "      <td>POINT (28.7 40.9)</td>\n",
       "      <td>NaT</td>\n",
       "    </tr>\n",
       "    <tr>\n",
       "      <th>1</th>\n",
       "      <td>23 February 1653</td>\n",
       "      <td>NaN</td>\n",
       "      <td>Smyrna</td>\n",
       "      <td>38.2</td>\n",
       "      <td>28.2</td>\n",
       "      <td>2,500</td>\n",
       "      <td>7.5 Mw</td>\n",
       "      <td>POINT (28.2 38.2)</td>\n",
       "      <td>NaT</td>\n",
       "    </tr>\n",
       "    <tr>\n",
       "      <th>2</th>\n",
       "      <td>17 August 1668</td>\n",
       "      <td>NaN</td>\n",
       "      <td>Anatolia</td>\n",
       "      <td>40.0</td>\n",
       "      <td>36.0</td>\n",
       "      <td>8,000</td>\n",
       "      <td>8M w</td>\n",
       "      <td>POINT (36 40)</td>\n",
       "      <td>NaT</td>\n",
       "    </tr>\n",
       "    <tr>\n",
       "      <th>3</th>\n",
       "      <td>10 July 1688</td>\n",
       "      <td>11:45</td>\n",
       "      <td>Smyrna</td>\n",
       "      <td>38.4</td>\n",
       "      <td>26.9</td>\n",
       "      <td>16,000</td>\n",
       "      <td>7.0 Mw</td>\n",
       "      <td>POINT (26.9 38.4)</td>\n",
       "      <td>1688-07-10</td>\n",
       "    </tr>\n",
       "    <tr>\n",
       "      <th>4</th>\n",
       "      <td>22 May 1766</td>\n",
       "      <td>05:10</td>\n",
       "      <td>Istanbul</td>\n",
       "      <td>40.8</td>\n",
       "      <td>29.0</td>\n",
       "      <td>4,000</td>\n",
       "      <td>7.1 Mw</td>\n",
       "      <td>POINT (29 40.8)</td>\n",
       "      <td>1766-05-22</td>\n",
       "    </tr>\n",
       "  </tbody>\n",
       "</table>\n",
       "</div>"
      ],
      "text/plain": [
       "                Date  Time‡           Place   Lat  Long  Deaths     Mag  \\\n",
       "0  10 September 1509    NaN  Constantinople  40.9  28.7  10,000  7.2 Mw   \n",
       "1   23 February 1653    NaN          Smyrna  38.2  28.2   2,500  7.5 Mw   \n",
       "2     17 August 1668    NaN        Anatolia  40.0  36.0   8,000    8M w   \n",
       "3       10 July 1688  11:45          Smyrna  38.4  26.9  16,000  7.0 Mw   \n",
       "4        22 May 1766  05:10        Istanbul  40.8  29.0   4,000  7.1 Mw   \n",
       "\n",
       "            geometry parsed_Date  \n",
       "0  POINT (28.7 40.9)         NaT  \n",
       "1  POINT (28.2 38.2)         NaT  \n",
       "2      POINT (36 40)         NaT  \n",
       "3  POINT (26.9 38.4)  1688-07-10  \n",
       "4    POINT (29 40.8)  1766-05-22  "
      ]
     },
     "execution_count": 34,
     "metadata": {},
     "output_type": "execute_result"
    }
   ],
   "source": [
    "tr[\"parsed_Date\"] = pd.to_datetime(tr[\"Date\"], format=\"%d %B %Y\", errors = 'coerce')\n",
    "tr.head()"
   ]
  },
  {
   "cell_type": "code",
   "execution_count": 54,
   "metadata": {},
   "outputs": [
    {
     "data": {
      "image/png": "[encoded data removed]",
      "text/plain": [
       "<Figure size 1800x1800 with 1 Axes>"
      ]
     },
     "metadata": {
      "needs_background": "light"
     },
     "output_type": "display_data"
    }
   ],
   "source": [
    "tr['year'] = tr['parsed_Date'].dt.year\n",
    "labels_turkey = tr.year.value_counts().index\n",
    "plt.figure(figsize=(25,25))\n",
    "pal = sns.cubehelix_palette(len(tr.year.value_counts().index), start=.5, rot=-.75)\n",
    "sns.barplot(x=np.sort(tr.year.value_counts().index) ,y = tr.year.value_counts().values,palette =pal )\n",
    "plt.xticks(rotation=90 , color ='black')\n",
    "plt.show()"
   ]
  },
  {
   "cell_type": "code",
   "execution_count": 35,
   "metadata": {},
   "outputs": [
    {
     "name": "stdout",
     "output_type": "stream",
     "text": [
      "(78, 9)\n"
     ]
    },
    {
     "data": {
      "text/html": [
       "<div>\n",
       "<style scoped>\n",
       "    .dataframe tbody tr th:only-of-type {\n",
       "        vertical-align: middle;\n",
       "    }\n",
       "\n",
       "    .dataframe tbody tr th {\n",
       "        vertical-align: top;\n",
       "    }\n",
       "\n",
       "    .dataframe thead th {\n",
       "        text-align: right;\n",
       "    }\n",
       "</style>\n",
       "<table border=\"1\" class=\"dataframe\">\n",
       "  <thead>\n",
       "    <tr style=\"text-align: right;\">\n",
       "      <th></th>\n",
       "      <th>Date</th>\n",
       "      <th>Time‡</th>\n",
       "      <th>Place</th>\n",
       "      <th>Lat</th>\n",
       "      <th>Long</th>\n",
       "      <th>Deaths</th>\n",
       "      <th>Mag</th>\n",
       "      <th>geometry</th>\n",
       "      <th>parsed_Date</th>\n",
       "    </tr>\n",
       "  </thead>\n",
       "  <tbody>\n",
       "    <tr>\n",
       "      <th>0</th>\n",
       "      <td>10 September 1509</td>\n",
       "      <td>NaN</td>\n",
       "      <td>Constantinople</td>\n",
       "      <td>40.9</td>\n",
       "      <td>28.7</td>\n",
       "      <td>10,000</td>\n",
       "      <td>7.2 Mw</td>\n",
       "      <td>POINT (28.70000 40.90000)</td>\n",
       "      <td>NaT</td>\n",
       "    </tr>\n",
       "    <tr>\n",
       "      <th>1</th>\n",
       "      <td>23 February 1653</td>\n",
       "      <td>NaN</td>\n",
       "      <td>Smyrna</td>\n",
       "      <td>38.2</td>\n",
       "      <td>28.2</td>\n",
       "      <td>2,500</td>\n",
       "      <td>7.5 Mw</td>\n",
       "      <td>POINT (28.20000 38.20000)</td>\n",
       "      <td>NaT</td>\n",
       "    </tr>\n",
       "    <tr>\n",
       "      <th>2</th>\n",
       "      <td>17 August 1668</td>\n",
       "      <td>NaN</td>\n",
       "      <td>Anatolia</td>\n",
       "      <td>40.0</td>\n",
       "      <td>36.0</td>\n",
       "      <td>8,000</td>\n",
       "      <td>8M w</td>\n",
       "      <td>POINT (36.00000 40.00000)</td>\n",
       "      <td>NaT</td>\n",
       "    </tr>\n",
       "    <tr>\n",
       "      <th>3</th>\n",
       "      <td>10 July 1688</td>\n",
       "      <td>11:45</td>\n",
       "      <td>Smyrna</td>\n",
       "      <td>38.4</td>\n",
       "      <td>26.9</td>\n",
       "      <td>16,000</td>\n",
       "      <td>7.0 Mw</td>\n",
       "      <td>POINT (26.90000 38.40000)</td>\n",
       "      <td>1688-07-10</td>\n",
       "    </tr>\n",
       "    <tr>\n",
       "      <th>4</th>\n",
       "      <td>22 May 1766</td>\n",
       "      <td>05:10</td>\n",
       "      <td>Istanbul</td>\n",
       "      <td>40.8</td>\n",
       "      <td>29.0</td>\n",
       "      <td>4,000</td>\n",
       "      <td>7.1 Mw</td>\n",
       "      <td>POINT (29.00000 40.80000)</td>\n",
       "      <td>1766-05-22</td>\n",
       "    </tr>\n",
       "  </tbody>\n",
       "</table>\n",
       "</div>"
      ],
      "text/plain": [
       "                Date  Time‡           Place   Lat  Long  Deaths     Mag  \\\n",
       "0  10 September 1509    NaN  Constantinople  40.9  28.7  10,000  7.2 Mw   \n",
       "1   23 February 1653    NaN          Smyrna  38.2  28.2   2,500  7.5 Mw   \n",
       "2     17 August 1668    NaN        Anatolia  40.0  36.0   8,000    8M w   \n",
       "3       10 July 1688  11:45          Smyrna  38.4  26.9  16,000  7.0 Mw   \n",
       "4        22 May 1766  05:10        Istanbul  40.8  29.0   4,000  7.1 Mw   \n",
       "\n",
       "                    geometry parsed_Date  \n",
       "0  POINT (28.70000 40.90000)         NaT  \n",
       "1  POINT (28.20000 38.20000)         NaT  \n",
       "2  POINT (36.00000 40.00000)         NaT  \n",
       "3  POINT (26.90000 38.40000)  1688-07-10  \n",
       "4  POINT (29.00000 40.80000)  1766-05-22  "
      ]
     },
     "execution_count": 35,
     "metadata": {},
     "output_type": "execute_result"
    }
   ],
   "source": [
    "gdf_earthquakes = gpd.GeoDataFrame(tr, geometry=tr.geometry )\n",
    "print(gdf_earthquakes.shape)\n",
    "gdf_earthquakes.head()"
   ]
  },
  {
   "cell_type": "code",
   "execution_count": 36,
   "metadata": {},
   "outputs": [
    {
     "data": {
      "text/plain": [
       "<AxesSubplot:>"
      ]
     },
     "execution_count": 36,
     "metadata": {},
     "output_type": "execute_result"
    },
    {
     "data": {
      "image/png": "[encoded data removed]",
      "text/plain": [
       "<Figure size 432x288 with 1 Axes>"
      ]
     },
     "metadata": {
      "needs_background": "light"
     },
     "output_type": "display_data"
    }
   ],
   "source": [
    "world = gpd.read_file(gpd.datasets.get_path('naturalearth_lowres'))\n",
    "world.plot()"
   ]
  },
  {
   "cell_type": "code",
   "execution_count": 37,
   "metadata": {},
   "outputs": [
    {
     "data": {
      "text/plain": [
       "<AxesSubplot:>"
      ]
     },
     "execution_count": 37,
     "metadata": {},
     "output_type": "execute_result"
    },
    {
     "data": {
      "image/png": "[encoded data removed]",
      "text/plain": [
       "<Figure size 720x720 with 1 Axes>"
      ]
     },
     "metadata": {
      "needs_background": "light"
     },
     "output_type": "display_data"
    }
   ],
   "source": [
    "ax = world[world.name=='Turkey'].plot(figsize=(10, 10), color='none', edgecolor='gainsboro')\n",
    "gdf_earthquakes.plot(ax=ax, color ='red')"
   ]
  },
  {
   "cell_type": "code",
   "execution_count": 38,
   "metadata": {},
   "outputs": [
    {
     "data": {
      "text/html": [
       "<div style=\"width:100%;\"><div style=\"position:relative;width:100%;height:0;padding-bottom:60%;\"><span style=\"color:#565656\">Make this Notebook Trusted to load map: File -> Trust Notebook</span><iframe srcdoc=\"&lt;!DOCTYPE html&gt;\n",
       "&lt;html&gt;\n",
       "&lt;head&gt;\n",
       "    \n",
       "    &lt;meta http-equiv=&quot;content-type&quot; content=&quot;text/html; charset=UTF-8&quot; /&gt;\n",
       "    \n",
       "        &lt;script&gt;\n",
       "            L_NO_TOUCH = false;\n",
       "            L_DISABLE_3D = false;\n",
       "        &lt;/script&gt;\n",
       "    \n",
       "    &lt;style&gt;html, body {width: 100%;height: 100%;margin: 0;padding: 0;}&lt;/style&gt;\n",
       "    &lt;style&gt;#map {position:absolute;top:0;bottom:0;right:0;left:0;}&lt;/style&gt;\n",
       "    &lt;script src=&quot;https://cdn.jsdelivr.net/npm/leaflet@1.9.3/dist/leaflet.js&quot;&gt;&lt;/script&gt;\n",
       "    &lt;script src=&quot;https://code.jquery.com/jquery-1.12.4.min.js&quot;&gt;&lt;/script&gt;\n",
       "    &lt;script src=&quot;https://cdn.jsdelivr.net/npm/bootstrap@5.2.2/dist/js/bootstrap.bundle.min.js&quot;&gt;&lt;/script&gt;\n",
       "    &lt;script src=&quot;https://cdnjs.cloudflare.com/ajax/libs/Leaflet.awesome-markers/2.0.2/leaflet.awesome-markers.js&quot;&gt;&lt;/script&gt;\n",
       "    &lt;link rel=&quot;stylesheet&quot; href=&quot;https://cdn.jsdelivr.net/npm/leaflet@1.9.3/dist/leaflet.css&quot;/&gt;\n",
       "    &lt;link rel=&quot;stylesheet&quot; href=&quot;https://cdn.jsdelivr.net/npm/bootstrap@5.2.2/dist/css/bootstrap.min.css&quot;/&gt;\n",
       "    &lt;link rel=&quot;stylesheet&quot; href=&quot;https://netdna.bootstrapcdn.com/bootstrap/3.0.0/css/bootstrap.min.css&quot;/&gt;\n",
       "    &lt;link rel=&quot;stylesheet&quot; href=&quot;https://cdn.jsdelivr.net/npm/@fortawesome/fontawesome-free@6.2.0/css/all.min.css&quot;/&gt;\n",
       "    &lt;link rel=&quot;stylesheet&quot; href=&quot;https://cdnjs.cloudflare.com/ajax/libs/Leaflet.awesome-markers/2.0.2/leaflet.awesome-markers.css&quot;/&gt;\n",
       "    &lt;link rel=&quot;stylesheet&quot; href=&quot;https://cdn.jsdelivr.net/gh/python-visualization/folium/folium/templates/leaflet.awesome.rotate.min.css&quot;/&gt;\n",
       "    \n",
       "            &lt;meta name=&quot;viewport&quot; content=&quot;width=device-width,\n",
       "                initial-scale=1.0, maximum-scale=1.0, user-scalable=no&quot; /&gt;\n",
       "            &lt;style&gt;\n",
       "                #map_d987b634b2399026e36aac013c1237d1 {\n",
       "                    position: relative;\n",
       "                    width: 100.0%;\n",
       "                    height: 100.0%;\n",
       "                    left: 0.0%;\n",
       "                    top: 0.0%;\n",
       "                }\n",
       "                .leaflet-container { font-size: 1rem; }\n",
       "            &lt;/style&gt;\n",
       "        \n",
       "&lt;/head&gt;\n",
       "&lt;body&gt;\n",
       "    \n",
       "    \n",
       "            &lt;div class=&quot;folium-map&quot; id=&quot;map_d987b634b2399026e36aac013c1237d1&quot; &gt;&lt;/div&gt;\n",
       "        \n",
       "&lt;/body&gt;\n",
       "&lt;script&gt;\n",
       "    \n",
       "    \n",
       "            var map_d987b634b2399026e36aac013c1237d1 = L.map(\n",
       "                &quot;map_d987b634b2399026e36aac013c1237d1&quot;,\n",
       "                {\n",
       "                    center: [39.0618, 33.75],\n",
       "                    crs: L.CRS.EPSG3857,\n",
       "                    zoom: 10,\n",
       "                    zoomControl: true,\n",
       "                    preferCanvas: false,\n",
       "                    titles: &quot;cartodbpositron&quot;,\n",
       "                    zooms: 5,\n",
       "                }\n",
       "            );\n",
       "\n",
       "            \n",
       "\n",
       "        \n",
       "    \n",
       "            var tile_layer_0d1efda8fe365fda689613e546ce5067 = L.tileLayer(\n",
       "                &quot;https://{s}.tile.openstreetmap.org/{z}/{x}/{y}.png&quot;,\n",
       "                {&quot;attribution&quot;: &quot;Data by \\u0026copy; \\u003ca target=\\&quot;_blank\\&quot; href=\\&quot;http://openstreetmap.org\\&quot;\\u003eOpenStreetMap\\u003c/a\\u003e, under \\u003ca target=\\&quot;_blank\\&quot; href=\\&quot;http://www.openstreetmap.org/copyright\\&quot;\\u003eODbL\\u003c/a\\u003e.&quot;, &quot;detectRetina&quot;: false, &quot;maxNativeZoom&quot;: 18, &quot;maxZoom&quot;: 18, &quot;minZoom&quot;: 0, &quot;noWrap&quot;: false, &quot;opacity&quot;: 1, &quot;subdomains&quot;: &quot;abc&quot;, &quot;tms&quot;: false}\n",
       "            ).addTo(map_d987b634b2399026e36aac013c1237d1);\n",
       "        \n",
       "    \n",
       "            var marker_a45b8c2e28fe06bd88cdf2b0c3a1e145 = L.marker(\n",
       "                [40.9, 28.7],\n",
       "                {}\n",
       "            ).addTo(map_d987b634b2399026e36aac013c1237d1);\n",
       "        \n",
       "    \n",
       "        var popup_4c6d8ba2a2d0326568e269be18d8f712 = L.popup({&quot;maxWidth&quot;: &quot;100%&quot;});\n",
       "\n",
       "        \n",
       "            \n",
       "                var html_f4604a859d2d733ad5cc76336ce9fd39 = $(`&lt;div id=&quot;html_f4604a859d2d733ad5cc76336ce9fd39&quot; style=&quot;width: 100.0%; height: 100.0%;&quot;&gt;number of Deaths : 10,000  Magnitude : 7.2 Mw  Date : 10 September 1509&lt;/div&gt;`)[0];\n",
       "                popup_4c6d8ba2a2d0326568e269be18d8f712.setContent(html_f4604a859d2d733ad5cc76336ce9fd39);\n",
       "            \n",
       "        \n",
       "\n",
       "        marker_a45b8c2e28fe06bd88cdf2b0c3a1e145.bindPopup(popup_4c6d8ba2a2d0326568e269be18d8f712)\n",
       "        ;\n",
       "\n",
       "        \n",
       "    \n",
       "    \n",
       "            var marker_ecc1f20190099939a3b86d1a4c886b97 = L.marker(\n",
       "                [38.2, 28.2],\n",
       "                {}\n",
       "            ).addTo(map_d987b634b2399026e36aac013c1237d1);\n",
       "        \n",
       "    \n",
       "        var popup_f6199962920fa1cd8a249e33ed3a597d = L.popup({&quot;maxWidth&quot;: &quot;100%&quot;});\n",
       "\n",
       "        \n",
       "            \n",
       "                var html_71cb5f7172c28394ddecc32618e3db50 = $(`&lt;div id=&quot;html_71cb5f7172c28394ddecc32618e3db50&quot; style=&quot;width: 100.0%; height: 100.0%;&quot;&gt;number of Deaths : 2,500  Magnitude : 7.5 Mw  Date : 23 February 1653&lt;/div&gt;`)[0];\n",
       "                popup_f6199962920fa1cd8a249e33ed3a597d.setContent(html_71cb5f7172c28394ddecc32618e3db50);\n",
       "            \n",
       "        \n",
       "\n",
       "        marker_ecc1f20190099939a3b86d1a4c886b97.bindPopup(popup_f6199962920fa1cd8a249e33ed3a597d)\n",
       "        ;\n",
       "\n",
       "        \n",
       "    \n",
       "    \n",
       "            var marker_b9175091bfd2bd24f85e723314fb2a46 = L.marker(\n",
       "                [40.0, 36.0],\n",
       "                {}\n",
       "            ).addTo(map_d987b634b2399026e36aac013c1237d1);\n",
       "        \n",
       "    \n",
       "        var popup_29e62483bcb831ba16134bbd16537f28 = L.popup({&quot;maxWidth&quot;: &quot;100%&quot;});\n",
       "\n",
       "        \n",
       "            \n",
       "                var html_05449af9429188d9a80f28e4c8528be5 = $(`&lt;div id=&quot;html_05449af9429188d9a80f28e4c8528be5&quot; style=&quot;width: 100.0%; height: 100.0%;&quot;&gt;number of Deaths : 8,000  Magnitude : 8M w  Date : 17 August 1668&lt;/div&gt;`)[0];\n",
       "                popup_29e62483bcb831ba16134bbd16537f28.setContent(html_05449af9429188d9a80f28e4c8528be5);\n",
       "            \n",
       "        \n",
       "\n",
       "        marker_b9175091bfd2bd24f85e723314fb2a46.bindPopup(popup_29e62483bcb831ba16134bbd16537f28)\n",
       "        ;\n",
       "\n",
       "        \n",
       "    \n",
       "    \n",
       "            var marker_5489ff81d265d8d60b6e335844481769 = L.marker(\n",
       "                [38.4, 26.9],\n",
       "                {}\n",
       "            ).addTo(map_d987b634b2399026e36aac013c1237d1);\n",
       "        \n",
       "    \n",
       "        var popup_32bc7f6bf97b88ded8c1fc72a1debb68 = L.popup({&quot;maxWidth&quot;: &quot;100%&quot;});\n",
       "\n",
       "        \n",
       "            \n",
       "                var html_66d47d2a8916e504c195fe10eb4af747 = $(`&lt;div id=&quot;html_66d47d2a8916e504c195fe10eb4af747&quot; style=&quot;width: 100.0%; height: 100.0%;&quot;&gt;number of Deaths : 16,000  Magnitude : 7.0 Mw  Date : 10 July 1688&lt;/div&gt;`)[0];\n",
       "                popup_32bc7f6bf97b88ded8c1fc72a1debb68.setContent(html_66d47d2a8916e504c195fe10eb4af747);\n",
       "            \n",
       "        \n",
       "\n",
       "        marker_5489ff81d265d8d60b6e335844481769.bindPopup(popup_32bc7f6bf97b88ded8c1fc72a1debb68)\n",
       "        ;\n",
       "\n",
       "        \n",
       "    \n",
       "    \n",
       "            var marker_18ec3a1ec1b7e1e5ae8ab9636fc13077 = L.marker(\n",
       "                [40.8, 29.0],\n",
       "                {}\n",
       "            ).addTo(map_d987b634b2399026e36aac013c1237d1);\n",
       "        \n",
       "    \n",
       "        var popup_44fe58fa04184cf0bc69f4dc896d64a3 = L.popup({&quot;maxWidth&quot;: &quot;100%&quot;});\n",
       "\n",
       "        \n",
       "            \n",
       "                var html_a4c589b986844d9cda77662cb15901e5 = $(`&lt;div id=&quot;html_a4c589b986844d9cda77662cb15901e5&quot; style=&quot;width: 100.0%; height: 100.0%;&quot;&gt;number of Deaths : 4,000  Magnitude : 7.1 Mw  Date : 22 May 1766&lt;/div&gt;`)[0];\n",
       "                popup_44fe58fa04184cf0bc69f4dc896d64a3.setContent(html_a4c589b986844d9cda77662cb15901e5);\n",
       "            \n",
       "        \n",
       "\n",
       "        marker_18ec3a1ec1b7e1e5ae8ab9636fc13077.bindPopup(popup_44fe58fa04184cf0bc69f4dc896d64a3)\n",
       "        ;\n",
       "\n",
       "        \n",
       "    \n",
       "    \n",
       "            var marker_c447296f24daa12fd3fad466b553483f = L.marker(\n",
       "                [39.5, 40.2],\n",
       "                {}\n",
       "            ).addTo(map_d987b634b2399026e36aac013c1237d1);\n",
       "        \n",
       "    \n",
       "        var popup_4699f6e02dd583c5fd63df7d43dac075 = L.popup({&quot;maxWidth&quot;: &quot;100%&quot;});\n",
       "\n",
       "        \n",
       "            \n",
       "                var html_9c331c51e054147433ecc8bd202fc2fd = $(`&lt;div id=&quot;html_9c331c51e054147433ecc8bd202fc2fd&quot; style=&quot;width: 100.0%; height: 100.0%;&quot;&gt;number of Deaths : 7500  Magnitude : 7.6 Mw  Date : 23 July 1784&lt;/div&gt;`)[0];\n",
       "                popup_4699f6e02dd583c5fd63df7d43dac075.setContent(html_9c331c51e054147433ecc8bd202fc2fd);\n",
       "            \n",
       "        \n",
       "\n",
       "        marker_c447296f24daa12fd3fad466b553483f.bindPopup(popup_4699f6e02dd583c5fd63df7d43dac075)\n",
       "        ;\n",
       "\n",
       "        \n",
       "    \n",
       "    \n",
       "            var marker_1db577e0457e7b4f28d0f3b12cf90d0f = L.marker(\n",
       "                [39.6, 44.1],\n",
       "                {}\n",
       "            ).addTo(map_d987b634b2399026e36aac013c1237d1);\n",
       "        \n",
       "    \n",
       "        var popup_0bbd39988c584dc61f05603798b43d33 = L.popup({&quot;maxWidth&quot;: &quot;100%&quot;});\n",
       "\n",
       "        \n",
       "            \n",
       "                var html_f97548ed0123f74e40922306112c6a9a = $(`&lt;div id=&quot;html_f97548ed0123f74e40922306112c6a9a&quot; style=&quot;width: 100.0%; height: 100.0%;&quot;&gt;number of Deaths : 10,000  Magnitude : 7.4 Mw  Date : 2 July 1840&lt;/div&gt;`)[0];\n",
       "                popup_0bbd39988c584dc61f05603798b43d33.setContent(html_f97548ed0123f74e40922306112c6a9a);\n",
       "            \n",
       "        \n",
       "\n",
       "        marker_1db577e0457e7b4f28d0f3b12cf90d0f.bindPopup(popup_0bbd39988c584dc61f05603798b43d33)\n",
       "        ;\n",
       "\n",
       "        \n",
       "    \n",
       "    \n",
       "            var marker_2741c97550d29450cea1eecf181fb307 = L.marker(\n",
       "                [40.2, 29.1],\n",
       "                {}\n",
       "            ).addTo(map_d987b634b2399026e36aac013c1237d1);\n",
       "        \n",
       "    \n",
       "        var popup_6bd3d187fe38cb31bc9f493de7849a5c = L.popup({&quot;maxWidth&quot;: &quot;100%&quot;});\n",
       "\n",
       "        \n",
       "            \n",
       "                var html_b2c8c7262b14076799c9ea1fe28ccb8d = $(`&lt;div id=&quot;html_b2c8c7262b14076799c9ea1fe28ccb8d&quot; style=&quot;width: 100.0%; height: 100.0%;&quot;&gt;number of Deaths : 1,900  Magnitude : 6.7 Mw  Date : 28 February 1855&lt;/div&gt;`)[0];\n",
       "                popup_6bd3d187fe38cb31bc9f493de7849a5c.setContent(html_b2c8c7262b14076799c9ea1fe28ccb8d);\n",
       "            \n",
       "        \n",
       "\n",
       "        marker_2741c97550d29450cea1eecf181fb307.bindPopup(popup_6bd3d187fe38cb31bc9f493de7849a5c)\n",
       "        ;\n",
       "\n",
       "        \n",
       "    \n",
       "    \n",
       "            var marker_8903ed23a146a2bbe35e1492b0169c49 = L.marker(\n",
       "                [39.9, 41.3],\n",
       "                {}\n",
       "            ).addTo(map_d987b634b2399026e36aac013c1237d1);\n",
       "        \n",
       "    \n",
       "        var popup_de78a9965032bac36e73bb694ed42958 = L.popup({&quot;maxWidth&quot;: &quot;100%&quot;});\n",
       "\n",
       "        \n",
       "            \n",
       "                var html_a6fa2a70856ebcbf9aa5ae6e849554a2 = $(`&lt;div id=&quot;html_a6fa2a70856ebcbf9aa5ae6e849554a2&quot; style=&quot;width: 100.0%; height: 100.0%;&quot;&gt;number of Deaths : 15,000  Magnitude : 6.1 Mw  Date : 2 June 1859&lt;/div&gt;`)[0];\n",
       "                popup_de78a9965032bac36e73bb694ed42958.setContent(html_a6fa2a70856ebcbf9aa5ae6e849554a2);\n",
       "            \n",
       "        \n",
       "\n",
       "        marker_8903ed23a146a2bbe35e1492b0169c49.bindPopup(popup_de78a9965032bac36e73bb694ed42958)\n",
       "        ;\n",
       "\n",
       "        \n",
       "    \n",
       "    \n",
       "            var marker_5ffd179e70a9e0b2dc3269bfd3cab941 = L.marker(\n",
       "                [36.4, 36.4],\n",
       "                {}\n",
       "            ).addTo(map_d987b634b2399026e36aac013c1237d1);\n",
       "        \n",
       "    \n",
       "        var popup_c1fcfa0b88e9624f2205da67cc0116ff = L.popup({&quot;maxWidth&quot;: &quot;100%&quot;});\n",
       "\n",
       "        \n",
       "            \n",
       "                var html_baeb500e6ddda5f45fa443af947b2cfd = $(`&lt;div id=&quot;html_baeb500e6ddda5f45fa443af947b2cfd&quot; style=&quot;width: 100.0%; height: 100.0%;&quot;&gt;number of Deaths : 1,800  Magnitude : 7.2 Mw  Date : 3 April 1872&lt;/div&gt;`)[0];\n",
       "                popup_c1fcfa0b88e9624f2205da67cc0116ff.setContent(html_baeb500e6ddda5f45fa443af947b2cfd);\n",
       "            \n",
       "        \n",
       "\n",
       "        marker_5ffd179e70a9e0b2dc3269bfd3cab941.bindPopup(popup_c1fcfa0b88e9624f2205da67cc0116ff)\n",
       "        ;\n",
       "\n",
       "        \n",
       "    \n",
       "    \n",
       "            var marker_66222e2616fb994250accdf5ed03795b = L.marker(\n",
       "                [38.25, 26.25],\n",
       "                {}\n",
       "            ).addTo(map_d987b634b2399026e36aac013c1237d1);\n",
       "        \n",
       "    \n",
       "        var popup_bd5ff1c0a566e9726ed7b1bce6b6a4d0 = L.popup({&quot;maxWidth&quot;: &quot;100%&quot;});\n",
       "\n",
       "        \n",
       "            \n",
       "                var html_f4c49870f019f63d3c9c9a7db357a387 = $(`&lt;div id=&quot;html_f4c49870f019f63d3c9c9a7db357a387&quot; style=&quot;width: 100.0%; height: 100.0%;&quot;&gt;number of Deaths : 7,866  Magnitude : 7.3 Mw  Date : 3 April 1881&lt;/div&gt;`)[0];\n",
       "                popup_bd5ff1c0a566e9726ed7b1bce6b6a4d0.setContent(html_f4c49870f019f63d3c9c9a7db357a387);\n",
       "            \n",
       "        \n",
       "\n",
       "        marker_66222e2616fb994250accdf5ed03795b.bindPopup(popup_bd5ff1c0a566e9726ed7b1bce6b6a4d0)\n",
       "        ;\n",
       "\n",
       "        \n",
       "    \n",
       "    \n",
       "            var marker_18dc56c5f4b025890b66e9a8516c7a9e = L.marker(\n",
       "                [38.25, 26.25],\n",
       "                {}\n",
       "            ).addTo(map_d987b634b2399026e36aac013c1237d1);\n",
       "        \n",
       "    \n",
       "        var popup_169295e260ff52afa3a4dffbabab4f0a = L.popup({&quot;maxWidth&quot;: &quot;100%&quot;});\n",
       "\n",
       "        \n",
       "            \n",
       "                var html_b85e20a038966b8deb4c7ce4a05dee5a = $(`&lt;div id=&quot;html_b85e20a038966b8deb4c7ce4a05dee5a&quot; style=&quot;width: 100.0%; height: 100.0%;&quot;&gt;number of Deaths : 7,866  Magnitude : 7.3 Mw  Date : 3 April 1881&lt;/div&gt;`)[0];\n",
       "                popup_169295e260ff52afa3a4dffbabab4f0a.setContent(html_b85e20a038966b8deb4c7ce4a05dee5a);\n",
       "            \n",
       "        \n",
       "\n",
       "        marker_18dc56c5f4b025890b66e9a8516c7a9e.bindPopup(popup_169295e260ff52afa3a4dffbabab4f0a)\n",
       "        ;\n",
       "\n",
       "        \n",
       "    \n",
       "    \n",
       "            var marker_b6c5447968815b8efe14f5017d7b22f5 = L.marker(\n",
       "                [38.25, 26.25],\n",
       "                {}\n",
       "            ).addTo(map_d987b634b2399026e36aac013c1237d1);\n",
       "        \n",
       "    \n",
       "        var popup_cd53546f8d003e42e5181e1cea851e5a = L.popup({&quot;maxWidth&quot;: &quot;100%&quot;});\n",
       "\n",
       "        \n",
       "            \n",
       "                var html_dd6f686c995d52403f8e8f041558d5bb = $(`&lt;div id=&quot;html_dd6f686c995d52403f8e8f041558d5bb&quot; style=&quot;width: 100.0%; height: 100.0%;&quot;&gt;number of Deaths : 7,866  Magnitude : 7.3 Mw  Date : 3 April 1881&lt;/div&gt;`)[0];\n",
       "                popup_cd53546f8d003e42e5181e1cea851e5a.setContent(html_dd6f686c995d52403f8e8f041558d5bb);\n",
       "            \n",
       "        \n",
       "\n",
       "        marker_b6c5447968815b8efe14f5017d7b22f5.bindPopup(popup_cd53546f8d003e42e5181e1cea851e5a)\n",
       "        ;\n",
       "\n",
       "        \n",
       "    \n",
       "    \n",
       "            var marker_82fd26556f4d86967894df8d95112f21 = L.marker(\n",
       "                [38.3, 26.2],\n",
       "                {}\n",
       "            ).addTo(map_d987b634b2399026e36aac013c1237d1);\n",
       "        \n",
       "    \n",
       "        var popup_deac71e17ce4289445706aa22d9fa118 = L.popup({&quot;maxWidth&quot;: &quot;100%&quot;});\n",
       "\n",
       "        \n",
       "            \n",
       "                var html_45b26e75ae7b4926a599684e23f27691 = $(`&lt;div id=&quot;html_45b26e75ae7b4926a599684e23f27691&quot; style=&quot;width: 100.0%; height: 100.0%;&quot;&gt;number of Deaths : 120  Magnitude : 7.3 Mw  Date : 10 October 1883&lt;/div&gt;`)[0];\n",
       "                popup_deac71e17ce4289445706aa22d9fa118.setContent(html_45b26e75ae7b4926a599684e23f27691);\n",
       "            \n",
       "        \n",
       "\n",
       "        marker_82fd26556f4d86967894df8d95112f21.bindPopup(popup_deac71e17ce4289445706aa22d9fa118)\n",
       "        ;\n",
       "\n",
       "        \n",
       "    \n",
       "    \n",
       "            var marker_6bada2ef457b886c6c0d3e5a115c8bf9 = L.marker(\n",
       "                [38.3, 26.2],\n",
       "                {}\n",
       "            ).addTo(map_d987b634b2399026e36aac013c1237d1);\n",
       "        \n",
       "    \n",
       "        var popup_7e924aa0bd48153c31087a11b13d197c = L.popup({&quot;maxWidth&quot;: &quot;100%&quot;});\n",
       "\n",
       "        \n",
       "            \n",
       "                var html_a644f6a60209ef22a6bc9dbb2d571f13 = $(`&lt;div id=&quot;html_a644f6a60209ef22a6bc9dbb2d571f13&quot; style=&quot;width: 100.0%; height: 100.0%;&quot;&gt;number of Deaths : 120  Magnitude : 7.3 Mw  Date : 10 October 1883&lt;/div&gt;`)[0];\n",
       "                popup_7e924aa0bd48153c31087a11b13d197c.setContent(html_a644f6a60209ef22a6bc9dbb2d571f13);\n",
       "            \n",
       "        \n",
       "\n",
       "        marker_6bada2ef457b886c6c0d3e5a115c8bf9.bindPopup(popup_7e924aa0bd48153c31087a11b13d197c)\n",
       "        ;\n",
       "\n",
       "        \n",
       "    \n",
       "    \n",
       "            var marker_fa8b1f9e9c33a693579b2bcd05c39447 = L.marker(\n",
       "                [38.3, 26.2],\n",
       "                {}\n",
       "            ).addTo(map_d987b634b2399026e36aac013c1237d1);\n",
       "        \n",
       "    \n",
       "        var popup_c3c23c9903a5d5ad519a8eb3b5b2f647 = L.popup({&quot;maxWidth&quot;: &quot;100%&quot;});\n",
       "\n",
       "        \n",
       "            \n",
       "                var html_68c0eeb7ac16fff29a56ac2c6ac06399 = $(`&lt;div id=&quot;html_68c0eeb7ac16fff29a56ac2c6ac06399&quot; style=&quot;width: 100.0%; height: 100.0%;&quot;&gt;number of Deaths : 120  Magnitude : 7.3 Mw  Date : 10 October 1883&lt;/div&gt;`)[0];\n",
       "                popup_c3c23c9903a5d5ad519a8eb3b5b2f647.setContent(html_68c0eeb7ac16fff29a56ac2c6ac06399);\n",
       "            \n",
       "        \n",
       "\n",
       "        marker_fa8b1f9e9c33a693579b2bcd05c39447.bindPopup(popup_c3c23c9903a5d5ad519a8eb3b5b2f647)\n",
       "        ;\n",
       "\n",
       "        \n",
       "    \n",
       "    \n",
       "            var marker_95c90eb0544c47942c99ff795001f627 = L.marker(\n",
       "                [40.73, 29.25],\n",
       "                {}\n",
       "            ).addTo(map_d987b634b2399026e36aac013c1237d1);\n",
       "        \n",
       "    \n",
       "        var popup_09f7e3e9d8552f09f21620f02345843f = L.popup({&quot;maxWidth&quot;: &quot;100%&quot;});\n",
       "\n",
       "        \n",
       "            \n",
       "                var html_4cbe1afdb5469f141e2a58141ff6b039 = $(`&lt;div id=&quot;html_4cbe1afdb5469f141e2a58141ff6b039&quot; style=&quot;width: 100.0%; height: 100.0%;&quot;&gt;number of Deaths : 1,300  Magnitude : 7.0 Mw  Date : 10 July 1894&lt;/div&gt;`)[0];\n",
       "                popup_09f7e3e9d8552f09f21620f02345843f.setContent(html_4cbe1afdb5469f141e2a58141ff6b039);\n",
       "            \n",
       "        \n",
       "\n",
       "        marker_95c90eb0544c47942c99ff795001f627.bindPopup(popup_09f7e3e9d8552f09f21620f02345843f)\n",
       "        ;\n",
       "\n",
       "        \n",
       "    \n",
       "    \n",
       "            var marker_9921fc5a22934c86b7bd076ecb19f71f = L.marker(\n",
       "                [37.9, 28.1],\n",
       "                {}\n",
       "            ).addTo(map_d987b634b2399026e36aac013c1237d1);\n",
       "        \n",
       "    \n",
       "        var popup_30f5db3bb53410fafbd6cd103998980d = L.popup({&quot;maxWidth&quot;: &quot;100%&quot;});\n",
       "\n",
       "        \n",
       "            \n",
       "                var html_49c68d0bcb5d561a55900644c99aaf4f = $(`&lt;div id=&quot;html_49c68d0bcb5d561a55900644c99aaf4f&quot; style=&quot;width: 100.0%; height: 100.0%;&quot;&gt;number of Deaths : 1,470  Magnitude : 7.1 Mw  Date : 20 September 1899&lt;/div&gt;`)[0];\n",
       "                popup_30f5db3bb53410fafbd6cd103998980d.setContent(html_49c68d0bcb5d561a55900644c99aaf4f);\n",
       "            \n",
       "        \n",
       "\n",
       "        marker_9921fc5a22934c86b7bd076ecb19f71f.bindPopup(popup_30f5db3bb53410fafbd6cd103998980d)\n",
       "        ;\n",
       "\n",
       "        \n",
       "    \n",
       "    \n",
       "            var marker_c25bffd5eb6c3e7cd77a911ba1135149 = L.marker(\n",
       "                [39.14, 42.65],\n",
       "                {}\n",
       "            ).addTo(map_d987b634b2399026e36aac013c1237d1);\n",
       "        \n",
       "    \n",
       "        var popup_7b9ee8327dd4a222c2d643d5994a8788 = L.popup({&quot;maxWidth&quot;: &quot;100%&quot;});\n",
       "\n",
       "        \n",
       "            \n",
       "                var html_cd63dff18657a3b812253a1fbfe320d1 = $(`&lt;div id=&quot;html_cd63dff18657a3b812253a1fbfe320d1&quot; style=&quot;width: 100.0%; height: 100.0%;&quot;&gt;number of Deaths : 600  Magnitude : 6.7 Mw  Date : 29 April 1903&lt;/div&gt;`)[0];\n",
       "                popup_7b9ee8327dd4a222c2d643d5994a8788.setContent(html_cd63dff18657a3b812253a1fbfe320d1);\n",
       "            \n",
       "        \n",
       "\n",
       "        marker_c25bffd5eb6c3e7cd77a911ba1135149.bindPopup(popup_7b9ee8327dd4a222c2d643d5994a8788)\n",
       "        ;\n",
       "\n",
       "        \n",
       "    \n",
       "    \n",
       "            var marker_38f8c5ee7c8b95ada7291bd0d267a1df = L.marker(\n",
       "                [40.75, 27.2],\n",
       "                {}\n",
       "            ).addTo(map_d987b634b2399026e36aac013c1237d1);\n",
       "        \n",
       "    \n",
       "        var popup_0949519ee627088f380c3f3b06b0f7b2 = L.popup({&quot;maxWidth&quot;: &quot;100%&quot;});\n",
       "\n",
       "        \n",
       "            \n",
       "                var html_e26580932cdd9d1edb8f96e9afaef548 = $(`&lt;div id=&quot;html_e26580932cdd9d1edb8f96e9afaef548&quot; style=&quot;width: 100.0%; height: 100.0%;&quot;&gt;number of Deaths : \t216\t  Magnitude : 7.3 Mw  Date : 9 August 1912&lt;/div&gt;`)[0];\n",
       "                popup_0949519ee627088f380c3f3b06b0f7b2.setContent(html_e26580932cdd9d1edb8f96e9afaef548);\n",
       "            \n",
       "        \n",
       "\n",
       "        marker_38f8c5ee7c8b95ada7291bd0d267a1df.bindPopup(popup_0949519ee627088f380c3f3b06b0f7b2)\n",
       "        ;\n",
       "\n",
       "        \n",
       "    \n",
       "    \n",
       "            var marker_023c5c8d589959f10527c8c4e0f899d2 = L.marker(\n",
       "                [37.82, 30.27],\n",
       "                {}\n",
       "            ).addTo(map_d987b634b2399026e36aac013c1237d1);\n",
       "        \n",
       "    \n",
       "        var popup_4b76a649b7777b88b6ac7e2af51af920 = L.popup({&quot;maxWidth&quot;: &quot;100%&quot;});\n",
       "\n",
       "        \n",
       "            \n",
       "                var html_2cdbb20a07b18a592ba284f5a39bf90a = $(`&lt;div id=&quot;html_2cdbb20a07b18a592ba284f5a39bf90a&quot; style=&quot;width: 100.0%; height: 100.0%;&quot;&gt;number of Deaths : 2,344  Magnitude : 6.9 Mw  Date : 4 October 1914&lt;/div&gt;`)[0];\n",
       "                popup_4b76a649b7777b88b6ac7e2af51af920.setContent(html_2cdbb20a07b18a592ba284f5a39bf90a);\n",
       "            \n",
       "        \n",
       "\n",
       "        marker_023c5c8d589959f10527c8c4e0f899d2.bindPopup(popup_4b76a649b7777b88b6ac7e2af51af920)\n",
       "        ;\n",
       "\n",
       "        \n",
       "    \n",
       "    \n",
       "            var marker_51e35ce5b722a68fe8a05c76ba0ba269 = L.marker(\n",
       "                [39.18, 27.65],\n",
       "                {}\n",
       "            ).addTo(map_d987b634b2399026e36aac013c1237d1);\n",
       "        \n",
       "    \n",
       "        var popup_84ae1f5e5e7605420d211ea5b3bad422 = L.popup({&quot;maxWidth&quot;: &quot;100%&quot;});\n",
       "\n",
       "        \n",
       "            \n",
       "                var html_cfcf2bcd0281394153f75bfb82b34332 = $(`&lt;div id=&quot;html_cfcf2bcd0281394153f75bfb82b34332&quot; style=&quot;width: 100.0%; height: 100.0%;&quot;&gt;number of Deaths : 3,000  Magnitude : 7.0 Mw  Date : 18 November 1919&lt;/div&gt;`)[0];\n",
       "                popup_84ae1f5e5e7605420d211ea5b3bad422.setContent(html_cfcf2bcd0281394153f75bfb82b34332);\n",
       "            \n",
       "        \n",
       "\n",
       "        marker_51e35ce5b722a68fe8a05c76ba0ba269.bindPopup(popup_84ae1f5e5e7605420d211ea5b3bad422)\n",
       "        ;\n",
       "\n",
       "        \n",
       "    \n",
       "    \n",
       "            var marker_ce7484e94e1ead9fb590d433ce9b7f9b = L.marker(\n",
       "                [40.0, 42.1],\n",
       "                {}\n",
       "            ).addTo(map_d987b634b2399026e36aac013c1237d1);\n",
       "        \n",
       "    \n",
       "        var popup_ee2792646e99ff49d8c95fe3cf524b04 = L.popup({&quot;maxWidth&quot;: &quot;100%&quot;});\n",
       "\n",
       "        \n",
       "            \n",
       "                var html_90f133421ab9aee9bf16e75704951516 = $(`&lt;div id=&quot;html_90f133421ab9aee9bf16e75704951516&quot; style=&quot;width: 100.0%; height: 100.0%;&quot;&gt;number of Deaths : 60  Magnitude : 6.8 Mw  Date : 13 September 1924&lt;/div&gt;`)[0];\n",
       "                popup_ee2792646e99ff49d8c95fe3cf524b04.setContent(html_90f133421ab9aee9bf16e75704951516);\n",
       "            \n",
       "        \n",
       "\n",
       "        marker_ce7484e94e1ead9fb590d433ce9b7f9b.bindPopup(popup_ee2792646e99ff49d8c95fe3cf524b04)\n",
       "        ;\n",
       "\n",
       "        \n",
       "    \n",
       "    \n",
       "            var marker_cc82bef36220ff8cae1128720071362a = L.marker(\n",
       "                [40.7, 43.7],\n",
       "                {}\n",
       "            ).addTo(map_d987b634b2399026e36aac013c1237d1);\n",
       "        \n",
       "    \n",
       "        var popup_5aa65c908c74d1f0bbe5b9fb1c50f94e = L.popup({&quot;maxWidth&quot;: &quot;100%&quot;});\n",
       "\n",
       "        \n",
       "            \n",
       "                var html_297fb83f6e692800f8f9045217f214e3 = $(`&lt;div id=&quot;html_297fb83f6e692800f8f9045217f214e3&quot; style=&quot;width: 100.0%; height: 100.0%;&quot;&gt;number of Deaths : 360\t  Magnitude : 6.0 Mw  Date : 22 October 1926&lt;/div&gt;`)[0];\n",
       "                popup_5aa65c908c74d1f0bbe5b9fb1c50f94e.setContent(html_297fb83f6e692800f8f9045217f214e3);\n",
       "            \n",
       "        \n",
       "\n",
       "        marker_cc82bef36220ff8cae1128720071362a.bindPopup(popup_5aa65c908c74d1f0bbe5b9fb1c50f94e)\n",
       "        ;\n",
       "\n",
       "        \n",
       "    \n",
       "    \n",
       "            var marker_2c7dcdcdd3891743f4ff04afd2ba10ef = L.marker(\n",
       "                [38.5, 28.0],\n",
       "                {}\n",
       "            ).addTo(map_d987b634b2399026e36aac013c1237d1);\n",
       "        \n",
       "    \n",
       "        var popup_d7d634d4a65ad06b701f5b603957992b = L.popup({&quot;maxWidth&quot;: &quot;100%&quot;});\n",
       "\n",
       "        \n",
       "            \n",
       "                var html_44b078d72190cda1890867e7b9a665e9 = $(`&lt;div id=&quot;html_44b078d72190cda1890867e7b9a665e9&quot; style=&quot;width: 100.0%; height: 100.0%;&quot;&gt;number of Deaths : 50  Magnitude : 6.5 Mw  Date : 31 March 1928&lt;/div&gt;`)[0];\n",
       "                popup_d7d634d4a65ad06b701f5b603957992b.setContent(html_44b078d72190cda1890867e7b9a665e9);\n",
       "            \n",
       "        \n",
       "\n",
       "        marker_2c7dcdcdd3891743f4ff04afd2ba10ef.bindPopup(popup_d7d634d4a65ad06b701f5b603957992b)\n",
       "        ;\n",
       "\n",
       "        \n",
       "    \n",
       "    \n",
       "            var marker_1a3a38f885204aabcc168877a2e5a24e = L.marker(\n",
       "                [40.2, 37.9],\n",
       "                {}\n",
       "            ).addTo(map_d987b634b2399026e36aac013c1237d1);\n",
       "        \n",
       "    \n",
       "        var popup_3eddd47a81768329d2f2647a95eb1c65 = L.popup({&quot;maxWidth&quot;: &quot;100%&quot;});\n",
       "\n",
       "        \n",
       "            \n",
       "                var html_3c59bd826034a61177f4c0890cb839d6 = $(`&lt;div id=&quot;html_3c59bd826034a61177f4c0890cb839d6&quot; style=&quot;width: 100.0%; height: 100.0%;&quot;&gt;number of Deaths : 64  Magnitude : 6.1 Mw  Date : 18 May 1929&lt;/div&gt;`)[0];\n",
       "                popup_3eddd47a81768329d2f2647a95eb1c65.setContent(html_3c59bd826034a61177f4c0890cb839d6);\n",
       "            \n",
       "        \n",
       "\n",
       "        marker_1a3a38f885204aabcc168877a2e5a24e.bindPopup(popup_3eddd47a81768329d2f2647a95eb1c65)\n",
       "        ;\n",
       "\n",
       "        \n",
       "    \n",
       "    \n",
       "            var marker_9d5f1da931bc9671a197e9260c7d5667 = L.marker(\n",
       "                [38.1, 44.7],\n",
       "                {}\n",
       "            ).addTo(map_d987b634b2399026e36aac013c1237d1);\n",
       "        \n",
       "    \n",
       "        var popup_a5c2112a637081f73431d6aba68ad992 = L.popup({&quot;maxWidth&quot;: &quot;100%&quot;});\n",
       "\n",
       "        \n",
       "            \n",
       "                var html_23f21482afedd9d8bcb2d14ddccca169 = $(`&lt;div id=&quot;html_23f21482afedd9d8bcb2d14ddccca169&quot; style=&quot;width: 100.0%; height: 100.0%;&quot;&gt;number of Deaths : 2,514  Magnitude : 7.5 Mw  Date : 7 May 1930&lt;/div&gt;`)[0];\n",
       "                popup_a5c2112a637081f73431d6aba68ad992.setContent(html_23f21482afedd9d8bcb2d14ddccca169);\n",
       "            \n",
       "        \n",
       "\n",
       "        marker_9d5f1da931bc9671a197e9260c7d5667.bindPopup(popup_a5c2112a637081f73431d6aba68ad992)\n",
       "        ;\n",
       "\n",
       "        \n",
       "    \n",
       "    \n",
       "            var marker_597f4c116feae6dd7e13aba76ca38b0d = L.marker(\n",
       "                [40.4, 27.5],\n",
       "                {}\n",
       "            ).addTo(map_d987b634b2399026e36aac013c1237d1);\n",
       "        \n",
       "    \n",
       "        var popup_4a54d9b8625fc5e611de49b674de0733 = L.popup({&quot;maxWidth&quot;: &quot;100%&quot;});\n",
       "\n",
       "        \n",
       "            \n",
       "                var html_bd880ec793fa643ab3a0bf54fd58d02b = $(`&lt;div id=&quot;html_bd880ec793fa643ab3a0bf54fd58d02b&quot; style=&quot;width: 100.0%; height: 100.0%;&quot;&gt;number of Deaths : 5  Magnitude : 6.4 Mw  Date : 4 January 1935&lt;/div&gt;`)[0];\n",
       "                popup_4a54d9b8625fc5e611de49b674de0733.setContent(html_bd880ec793fa643ab3a0bf54fd58d02b);\n",
       "            \n",
       "        \n",
       "\n",
       "        marker_597f4c116feae6dd7e13aba76ca38b0d.bindPopup(popup_4a54d9b8625fc5e611de49b674de0733)\n",
       "        ;\n",
       "\n",
       "        \n",
       "    \n",
       "    \n",
       "            var marker_eab37db78b04b1b1a225a005e018ea4b = L.marker(\n",
       "                [39.1, 34.0],\n",
       "                {}\n",
       "            ).addTo(map_d987b634b2399026e36aac013c1237d1);\n",
       "        \n",
       "    \n",
       "        var popup_ae8307af36dc0221da17c6fa20cab7d2 = L.popup({&quot;maxWidth&quot;: &quot;100%&quot;});\n",
       "\n",
       "        \n",
       "            \n",
       "                var html_6cfbd4131a424b97c20af758ee7d25db = $(`&lt;div id=&quot;html_6cfbd4131a424b97c20af758ee7d25db&quot; style=&quot;width: 100.0%; height: 100.0%;&quot;&gt;number of Deaths : 160  Magnitude : 6.6 Mw  Date : 19 April 1938&lt;/div&gt;`)[0];\n",
       "                popup_ae8307af36dc0221da17c6fa20cab7d2.setContent(html_6cfbd4131a424b97c20af758ee7d25db);\n",
       "            \n",
       "        \n",
       "\n",
       "        marker_eab37db78b04b1b1a225a005e018ea4b.bindPopup(popup_ae8307af36dc0221da17c6fa20cab7d2)\n",
       "        ;\n",
       "\n",
       "        \n",
       "    \n",
       "    \n",
       "            var marker_22add5b296022b70ea64e5759015ac6a = L.marker(\n",
       "                [39.1, 26.8],\n",
       "                {}\n",
       "            ).addTo(map_d987b634b2399026e36aac013c1237d1);\n",
       "        \n",
       "    \n",
       "        var popup_b489141175f4917afba916a943e1f898 = L.popup({&quot;maxWidth&quot;: &quot;100%&quot;});\n",
       "\n",
       "        \n",
       "            \n",
       "                var html_86f7937d4842803d96f4a68c742c3b8d = $(`&lt;div id=&quot;html_86f7937d4842803d96f4a68c742c3b8d&quot; style=&quot;width: 100.0%; height: 100.0%;&quot;&gt;number of Deaths : 60  Magnitude : 6.6 Mw  Date : 22 September 1939&lt;/div&gt;`)[0];\n",
       "                popup_b489141175f4917afba916a943e1f898.setContent(html_86f7937d4842803d96f4a68c742c3b8d);\n",
       "            \n",
       "        \n",
       "\n",
       "        marker_22add5b296022b70ea64e5759015ac6a.bindPopup(popup_b489141175f4917afba916a943e1f898)\n",
       "        ;\n",
       "\n",
       "        \n",
       "    \n",
       "    \n",
       "            var marker_e4d3cb5564b07bf97c9fddb6d9ac5ac3 = L.marker(\n",
       "                [39.77, 39.53],\n",
       "                {}\n",
       "            ).addTo(map_d987b634b2399026e36aac013c1237d1);\n",
       "        \n",
       "    \n",
       "        var popup_4351ab7c56eb02c35bacbac5a9990137 = L.popup({&quot;maxWidth&quot;: &quot;100%&quot;});\n",
       "\n",
       "        \n",
       "            \n",
       "                var html_003ebc87bce22945da061d04546bc68f = $(`&lt;div id=&quot;html_003ebc87bce22945da061d04546bc68f&quot; style=&quot;width: 100.0%; height: 100.0%;&quot;&gt;number of Deaths : 32,700  Magnitude : 7.8 Mw  Date : 26 December 1939&lt;/div&gt;`)[0];\n",
       "                popup_4351ab7c56eb02c35bacbac5a9990137.setContent(html_003ebc87bce22945da061d04546bc68f);\n",
       "            \n",
       "        \n",
       "\n",
       "        marker_e4d3cb5564b07bf97c9fddb6d9ac5ac3.bindPopup(popup_4351ab7c56eb02c35bacbac5a9990137)\n",
       "        ;\n",
       "\n",
       "        \n",
       "    \n",
       "    \n",
       "            var marker_5f503b43d7fea2a4eb67c3eac63d1063 = L.marker(\n",
       "                [39.2, 28.2],\n",
       "                {}\n",
       "            ).addTo(map_d987b634b2399026e36aac013c1237d1);\n",
       "        \n",
       "    \n",
       "        var popup_aa9647bf364f104d5869615f290037d9 = L.popup({&quot;maxWidth&quot;: &quot;100%&quot;});\n",
       "\n",
       "        \n",
       "            \n",
       "                var html_db758e0d307145f4e2ff21df5f471a5f = $(`&lt;div id=&quot;html_db758e0d307145f4e2ff21df5f471a5f&quot; style=&quot;width: 100.0%; height: 100.0%;&quot;&gt;number of Deaths : 16  Magnitude : 6.1 Mw  Date : 15 November 1942&lt;/div&gt;`)[0];\n",
       "                popup_aa9647bf364f104d5869615f290037d9.setContent(html_db758e0d307145f4e2ff21df5f471a5f);\n",
       "            \n",
       "        \n",
       "\n",
       "        marker_5f503b43d7fea2a4eb67c3eac63d1063.bindPopup(popup_aa9647bf364f104d5869615f290037d9)\n",
       "        ;\n",
       "\n",
       "        \n",
       "    \n",
       "    \n",
       "            var marker_1a045f256926c15c74f6fb351745ef17 = L.marker(\n",
       "                [40.87, 36.47],\n",
       "                {}\n",
       "            ).addTo(map_d987b634b2399026e36aac013c1237d1);\n",
       "        \n",
       "    \n",
       "        var popup_6a51c07096cb8fcabaf98fb253cfbbe3 = L.popup({&quot;maxWidth&quot;: &quot;100%&quot;});\n",
       "\n",
       "        \n",
       "            \n",
       "                var html_1eda7d88959b44e0f14c6443ff4b2040 = $(`&lt;div id=&quot;html_1eda7d88959b44e0f14c6443ff4b2040&quot; style=&quot;width: 100.0%; height: 100.0%;&quot;&gt;number of Deaths : 3,000  Magnitude : 7.0 Mw  Date : 20 December 1942&lt;/div&gt;`)[0];\n",
       "                popup_6a51c07096cb8fcabaf98fb253cfbbe3.setContent(html_1eda7d88959b44e0f14c6443ff4b2040);\n",
       "            \n",
       "        \n",
       "\n",
       "        marker_1a045f256926c15c74f6fb351745ef17.bindPopup(popup_6a51c07096cb8fcabaf98fb253cfbbe3)\n",
       "        ;\n",
       "\n",
       "        \n",
       "    \n",
       "    \n",
       "            var marker_68fce0b7617a875b273fae132e95de58 = L.marker(\n",
       "                [40.6, 30.5],\n",
       "                {}\n",
       "            ).addTo(map_d987b634b2399026e36aac013c1237d1);\n",
       "        \n",
       "    \n",
       "        var popup_30a49f6e17edc36a852d5ee61b0de448 = L.popup({&quot;maxWidth&quot;: &quot;100%&quot;});\n",
       "\n",
       "        \n",
       "            \n",
       "                var html_7d18d39a4141bc81f89a7bfd526d05bb = $(`&lt;div id=&quot;html_7d18d39a4141bc81f89a7bfd526d05bb&quot; style=&quot;width: 100.0%; height: 100.0%;&quot;&gt;number of Deaths : 336  Magnitude : 6.6 Mw  Date : 20 June 1943&lt;/div&gt;`)[0];\n",
       "                popup_30a49f6e17edc36a852d5ee61b0de448.setContent(html_7d18d39a4141bc81f89a7bfd526d05bb);\n",
       "            \n",
       "        \n",
       "\n",
       "        marker_68fce0b7617a875b273fae132e95de58.bindPopup(popup_30a49f6e17edc36a852d5ee61b0de448)\n",
       "        ;\n",
       "\n",
       "        \n",
       "    \n",
       "    \n",
       "            var marker_8ca98f1f3785433456604ec27b82b0b9 = L.marker(\n",
       "                [40.87, 33.65],\n",
       "                {}\n",
       "            ).addTo(map_d987b634b2399026e36aac013c1237d1);\n",
       "        \n",
       "    \n",
       "        var popup_38d0b226a475843d09bd5e6c1407af9d = L.popup({&quot;maxWidth&quot;: &quot;100%&quot;});\n",
       "\n",
       "        \n",
       "            \n",
       "                var html_0d7fda02632fb3494f52794e87b00817 = $(`&lt;div id=&quot;html_0d7fda02632fb3494f52794e87b00817&quot; style=&quot;width: 100.0%; height: 100.0%;&quot;&gt;number of Deaths : 5,000  Magnitude : 7.5 Mw  Date : 26 November 1943&lt;/div&gt;`)[0];\n",
       "                popup_38d0b226a475843d09bd5e6c1407af9d.setContent(html_0d7fda02632fb3494f52794e87b00817);\n",
       "            \n",
       "        \n",
       "\n",
       "        marker_8ca98f1f3785433456604ec27b82b0b9.bindPopup(popup_38d0b226a475843d09bd5e6c1407af9d)\n",
       "        ;\n",
       "\n",
       "        \n",
       "    \n",
       "    \n",
       "            var marker_cca38c608023bfefeb55894e9fc366fe = L.marker(\n",
       "                [40.8, 32.2],\n",
       "                {}\n",
       "            ).addTo(map_d987b634b2399026e36aac013c1237d1);\n",
       "        \n",
       "    \n",
       "        var popup_575b2863b41df0cbbc93f1f5c7bbae91 = L.popup({&quot;maxWidth&quot;: &quot;100%&quot;});\n",
       "\n",
       "        \n",
       "            \n",
       "                var html_38513a446493c11b4b57ea4ad134bab4 = $(`&lt;div id=&quot;html_38513a446493c11b4b57ea4ad134bab4&quot; style=&quot;width: 100.0%; height: 100.0%;&quot;&gt;number of Deaths : \t3,959  Magnitude : 7.5 Mw  Date : 1 February 1944&lt;/div&gt;`)[0];\n",
       "                popup_575b2863b41df0cbbc93f1f5c7bbae91.setContent(html_38513a446493c11b4b57ea4ad134bab4);\n",
       "            \n",
       "        \n",
       "\n",
       "        marker_cca38c608023bfefeb55894e9fc366fe.bindPopup(popup_575b2863b41df0cbbc93f1f5c7bbae91)\n",
       "        ;\n",
       "\n",
       "        \n",
       "    \n",
       "    \n",
       "            var marker_a351654df8bd6ac23b2670c042eae14c = L.marker(\n",
       "                [39.37, 26.53],\n",
       "                {}\n",
       "            ).addTo(map_d987b634b2399026e36aac013c1237d1);\n",
       "        \n",
       "    \n",
       "        var popup_35e9b0b766b76f482c33e698bac91010 = L.popup({&quot;maxWidth&quot;: &quot;100%&quot;});\n",
       "\n",
       "        \n",
       "            \n",
       "                var html_8e9e6a081102e475c4b5f281d4dde558 = $(`&lt;div id=&quot;html_8e9e6a081102e475c4b5f281d4dde558&quot; style=&quot;width: 100.0%; height: 100.0%;&quot;&gt;number of Deaths : \t30  Magnitude : 6.8 Mw  Date : 6 October 1944&lt;/div&gt;`)[0];\n",
       "                popup_35e9b0b766b76f482c33e698bac91010.setContent(html_8e9e6a081102e475c4b5f281d4dde558);\n",
       "            \n",
       "        \n",
       "\n",
       "        marker_a351654df8bd6ac23b2670c042eae14c.bindPopup(popup_35e9b0b766b76f482c33e698bac91010)\n",
       "        ;\n",
       "\n",
       "        \n",
       "    \n",
       "    \n",
       "            var marker_d07e2149dc64794767fcc4bdf1f767da = L.marker(\n",
       "                [39.54, 40.57],\n",
       "                {}\n",
       "            ).addTo(map_d987b634b2399026e36aac013c1237d1);\n",
       "        \n",
       "    \n",
       "        var popup_c855bf2cf158e192f40519d62b5b5007 = L.popup({&quot;maxWidth&quot;: &quot;100%&quot;});\n",
       "\n",
       "        \n",
       "            \n",
       "                var html_4d106b1ba03aa9aba4bed1c17768f611 = $(`&lt;div id=&quot;html_4d106b1ba03aa9aba4bed1c17768f611&quot; style=&quot;width: 100.0%; height: 100.0%;&quot;&gt;number of Deaths : 450  Magnitude : 6.8 Mw  Date : 17 August 1949&lt;/div&gt;`)[0];\n",
       "                popup_c855bf2cf158e192f40519d62b5b5007.setContent(html_4d106b1ba03aa9aba4bed1c17768f611);\n",
       "            \n",
       "        \n",
       "\n",
       "        marker_d07e2149dc64794767fcc4bdf1f767da.bindPopup(popup_c855bf2cf158e192f40519d62b5b5007)\n",
       "        ;\n",
       "\n",
       "        \n",
       "    \n",
       "    \n",
       "            var marker_bd1ae57f2f6661b5bcfe579783874c4e = L.marker(\n",
       "                [40.88, 32.87],\n",
       "                {}\n",
       "            ).addTo(map_d987b634b2399026e36aac013c1237d1);\n",
       "        \n",
       "    \n",
       "        var popup_8c450f0ea1c26420273ff2e7c6c0b1c5 = L.popup({&quot;maxWidth&quot;: &quot;100%&quot;});\n",
       "\n",
       "        \n",
       "            \n",
       "                var html_a1f2202af635e4a9a24aac91b8869aaa = $(`&lt;div id=&quot;html_a1f2202af635e4a9a24aac91b8869aaa&quot; style=&quot;width: 100.0%; height: 100.0%;&quot;&gt;number of Deaths : 50  Magnitude : 6.9 Mw  Date : 13 August 1951&lt;/div&gt;`)[0];\n",
       "                popup_8c450f0ea1c26420273ff2e7c6c0b1c5.setContent(html_a1f2202af635e4a9a24aac91b8869aaa);\n",
       "            \n",
       "        \n",
       "\n",
       "        marker_bd1ae57f2f6661b5bcfe579783874c4e.bindPopup(popup_8c450f0ea1c26420273ff2e7c6c0b1c5)\n",
       "        ;\n",
       "\n",
       "        \n",
       "    \n",
       "    \n",
       "            var marker_9762d756045cc905e53ae3e0726821ee = L.marker(\n",
       "                [39.9, 41.7],\n",
       "                {}\n",
       "            ).addTo(map_d987b634b2399026e36aac013c1237d1);\n",
       "        \n",
       "    \n",
       "        var popup_08497cf346f881caacc232c8062f8d58 = L.popup({&quot;maxWidth&quot;: &quot;100%&quot;});\n",
       "\n",
       "        \n",
       "            \n",
       "                var html_fd539a967f38d6d3ff0eddc3f5626200 = $(`&lt;div id=&quot;html_fd539a967f38d6d3ff0eddc3f5626200&quot; style=&quot;width: 100.0%; height: 100.0%;&quot;&gt;number of Deaths : 41  Magnitude : 5.8 Mw  Date : 3 January 1952&lt;/div&gt;`)[0];\n",
       "                popup_08497cf346f881caacc232c8062f8d58.setContent(html_fd539a967f38d6d3ff0eddc3f5626200);\n",
       "            \n",
       "        \n",
       "\n",
       "        marker_9762d756045cc905e53ae3e0726821ee.bindPopup(popup_08497cf346f881caacc232c8062f8d58)\n",
       "        ;\n",
       "\n",
       "        \n",
       "    \n",
       "    \n",
       "            var marker_f8d3b30179c0d5d5d0a12914cec4231d = L.marker(\n",
       "                [40.02, 27.53],\n",
       "                {}\n",
       "            ).addTo(map_d987b634b2399026e36aac013c1237d1);\n",
       "        \n",
       "    \n",
       "        var popup_b2f866fb661ab17caee902ef8c3413e2 = L.popup({&quot;maxWidth&quot;: &quot;100%&quot;});\n",
       "\n",
       "        \n",
       "            \n",
       "                var html_668253033576d9e110ff0f06d3f0a3c0 = $(`&lt;div id=&quot;html_668253033576d9e110ff0f06d3f0a3c0&quot; style=&quot;width: 100.0%; height: 100.0%;&quot;&gt;number of Deaths : 265  Magnitude : 7.2 Mw  Date : 18 March 1953&lt;/div&gt;`)[0];\n",
       "                popup_b2f866fb661ab17caee902ef8c3413e2.setContent(html_668253033576d9e110ff0f06d3f0a3c0);\n",
       "            \n",
       "        \n",
       "\n",
       "        marker_f8d3b30179c0d5d5d0a12914cec4231d.bindPopup(popup_b2f866fb661ab17caee902ef8c3413e2)\n",
       "        ;\n",
       "\n",
       "        \n",
       "    \n",
       "    \n",
       "            var marker_81c288603c6495b92eaa233931940c5c = L.marker(\n",
       "                [37.55, 27.05],\n",
       "                {}\n",
       "            ).addTo(map_d987b634b2399026e36aac013c1237d1);\n",
       "        \n",
       "    \n",
       "        var popup_2ea55720ab3c994d99f89e33af92c096 = L.popup({&quot;maxWidth&quot;: &quot;100%&quot;});\n",
       "\n",
       "        \n",
       "            \n",
       "                var html_c927ca777e6cfa7fc425c7a3f2e40a71 = $(`&lt;div id=&quot;html_c927ca777e6cfa7fc425c7a3f2e40a71&quot; style=&quot;width: 100.0%; height: 100.0%;&quot;&gt;number of Deaths : 23  Magnitude : 6.8 Mw  Date : 16 July 1955&lt;/div&gt;`)[0];\n",
       "                popup_2ea55720ab3c994d99f89e33af92c096.setContent(html_c927ca777e6cfa7fc425c7a3f2e40a71);\n",
       "            \n",
       "        \n",
       "\n",
       "        marker_81c288603c6495b92eaa233931940c5c.bindPopup(popup_2ea55720ab3c994d99f89e33af92c096)\n",
       "        ;\n",
       "\n",
       "        \n",
       "    \n",
       "    \n",
       "            var marker_40ad4b663761c254abaf7baaf5157069 = L.marker(\n",
       "                [39.89, 30.49],\n",
       "                {}\n",
       "            ).addTo(map_d987b634b2399026e36aac013c1237d1);\n",
       "        \n",
       "    \n",
       "        var popup_61aa4900595e30d125f4d4fa5698bd61 = L.popup({&quot;maxWidth&quot;: &quot;100%&quot;});\n",
       "\n",
       "        \n",
       "            \n",
       "                var html_95dd0d05078fd5db583db9a4cc26c083 = $(`&lt;div id=&quot;html_95dd0d05078fd5db583db9a4cc26c083&quot; style=&quot;width: 100.0%; height: 100.0%;&quot;&gt;number of Deaths : 1  Magnitude : 6.4 Mw  Date : 22 February 1956&lt;/div&gt;`)[0];\n",
       "                popup_61aa4900595e30d125f4d4fa5698bd61.setContent(html_95dd0d05078fd5db583db9a4cc26c083);\n",
       "            \n",
       "        \n",
       "\n",
       "        marker_40ad4b663761c254abaf7baaf5157069.bindPopup(popup_61aa4900595e30d125f4d4fa5698bd61)\n",
       "        ;\n",
       "\n",
       "        \n",
       "    \n",
       "    \n",
       "            var marker_76e62c5991a463e14b690bdc8f382607 = L.marker(\n",
       "                [36.5, 28.6],\n",
       "                {}\n",
       "            ).addTo(map_d987b634b2399026e36aac013c1237d1);\n",
       "        \n",
       "    \n",
       "        var popup_1c67f08284dd6a823a000e510785ceca = L.popup({&quot;maxWidth&quot;: &quot;100%&quot;});\n",
       "\n",
       "        \n",
       "            \n",
       "                var html_f5217248e4e581bc950d943b6bcee305 = $(`&lt;div id=&quot;html_f5217248e4e581bc950d943b6bcee305&quot; style=&quot;width: 100.0%; height: 100.0%;&quot;&gt;number of Deaths : 67  Magnitude : 7.1 Mw  Date : 25 April 1957&lt;/div&gt;`)[0];\n",
       "                popup_1c67f08284dd6a823a000e510785ceca.setContent(html_f5217248e4e581bc950d943b6bcee305);\n",
       "            \n",
       "        \n",
       "\n",
       "        marker_76e62c5991a463e14b690bdc8f382607.bindPopup(popup_1c67f08284dd6a823a000e510785ceca)\n",
       "        ;\n",
       "\n",
       "        \n",
       "    \n",
       "    \n",
       "            var marker_336291e28663d8ff12a4fceeb2e0cce2 = L.marker(\n",
       "                [40.67, 31.0],\n",
       "                {}\n",
       "            ).addTo(map_d987b634b2399026e36aac013c1237d1);\n",
       "        \n",
       "    \n",
       "        var popup_cfa8e7f9110448d960fe80a48c7c276c = L.popup({&quot;maxWidth&quot;: &quot;100%&quot;});\n",
       "\n",
       "        \n",
       "            \n",
       "                var html_afc9d5591eb8b511b028f6de47c9c946 = $(`&lt;div id=&quot;html_afc9d5591eb8b511b028f6de47c9c946&quot; style=&quot;width: 100.0%; height: 100.0%;&quot;&gt;number of Deaths : 52  Magnitude : 7.1 Mw  Date : 26 May 1957&lt;/div&gt;`)[0];\n",
       "                popup_cfa8e7f9110448d960fe80a48c7c276c.setContent(html_afc9d5591eb8b511b028f6de47c9c946);\n",
       "            \n",
       "        \n",
       "\n",
       "        marker_336291e28663d8ff12a4fceeb2e0cce2.bindPopup(popup_cfa8e7f9110448d960fe80a48c7c276c)\n",
       "        ;\n",
       "\n",
       "        \n",
       "    \n",
       "    \n",
       "            var marker_6d930a39ab4490ab7462230c418d03ce = L.marker(\n",
       "                [40.1, 27.93],\n",
       "                {}\n",
       "            ).addTo(map_d987b634b2399026e36aac013c1237d1);\n",
       "        \n",
       "    \n",
       "        var popup_be014baa5325e8b56608da42f5ef5976 = L.popup({&quot;maxWidth&quot;: &quot;100%&quot;});\n",
       "\n",
       "        \n",
       "            \n",
       "                var html_c169af4872692a4abaa5c7313b9076ee = $(`&lt;div id=&quot;html_c169af4872692a4abaa5c7313b9076ee&quot; style=&quot;width: 100.0%; height: 100.0%;&quot;&gt;number of Deaths : 23  Magnitude : 7.0 Mw  Date : 6 October 1964&lt;/div&gt;`)[0];\n",
       "                popup_be014baa5325e8b56608da42f5ef5976.setContent(html_c169af4872692a4abaa5c7313b9076ee);\n",
       "            \n",
       "        \n",
       "\n",
       "        marker_6d930a39ab4490ab7462230c418d03ce.bindPopup(popup_be014baa5325e8b56608da42f5ef5976)\n",
       "        ;\n",
       "\n",
       "        \n",
       "    \n",
       "    \n",
       "            var marker_c61f7234c732d3960be17af355d6a376 = L.marker(\n",
       "                [39.17, 41.56],\n",
       "                {}\n",
       "            ).addTo(map_d987b634b2399026e36aac013c1237d1);\n",
       "        \n",
       "    \n",
       "        var popup_66196558fe0c14384634e0fda248242c = L.popup({&quot;maxWidth&quot;: &quot;100%&quot;});\n",
       "\n",
       "        \n",
       "            \n",
       "                var html_018dbfb3fe516a48f57c29e4088fa723 = $(`&lt;div id=&quot;html_018dbfb3fe516a48f57c29e4088fa723&quot; style=&quot;width: 100.0%; height: 100.0%;&quot;&gt;number of Deaths : 2,394  Magnitude : 6.8 Mw  Date : 19 August 1966&lt;/div&gt;`)[0];\n",
       "                popup_66196558fe0c14384634e0fda248242c.setContent(html_018dbfb3fe516a48f57c29e4088fa723);\n",
       "            \n",
       "        \n",
       "\n",
       "        marker_c61f7234c732d3960be17af355d6a376.bindPopup(popup_66196558fe0c14384634e0fda248242c)\n",
       "        ;\n",
       "\n",
       "        \n",
       "    \n",
       "    \n",
       "            var marker_a7de255cec353675203c2c6da16e8582 = L.marker(\n",
       "                [40.67, 30.69],\n",
       "                {}\n",
       "            ).addTo(map_d987b634b2399026e36aac013c1237d1);\n",
       "        \n",
       "    \n",
       "        var popup_6c44bab5a087533da2029e58419844d6 = L.popup({&quot;maxWidth&quot;: &quot;100%&quot;});\n",
       "\n",
       "        \n",
       "            \n",
       "                var html_3be61140bd7d579fb10dc991bb8e1ee6 = $(`&lt;div id=&quot;html_3be61140bd7d579fb10dc991bb8e1ee6&quot; style=&quot;width: 100.0%; height: 100.0%;&quot;&gt;number of Deaths : 89  Magnitude : 7.2 Mw  Date : 22 July 1967&lt;/div&gt;`)[0];\n",
       "                popup_6c44bab5a087533da2029e58419844d6.setContent(html_3be61140bd7d579fb10dc991bb8e1ee6);\n",
       "            \n",
       "        \n",
       "\n",
       "        marker_a7de255cec353675203c2c6da16e8582.bindPopup(popup_6c44bab5a087533da2029e58419844d6)\n",
       "        ;\n",
       "\n",
       "        \n",
       "    \n",
       "    \n",
       "            var marker_df12f528b28cf52e02c19a11d4b42440 = L.marker(\n",
       "                [41.79, 32.31],\n",
       "                {}\n",
       "            ).addTo(map_d987b634b2399026e36aac013c1237d1);\n",
       "        \n",
       "    \n",
       "        var popup_296f7b88087eac7afbe85a85b9ec50a2 = L.popup({&quot;maxWidth&quot;: &quot;100%&quot;});\n",
       "\n",
       "        \n",
       "            \n",
       "                var html_f6f47df9ffd9ba7bf01d6c86d536eccd = $(`&lt;div id=&quot;html_f6f47df9ffd9ba7bf01d6c86d536eccd&quot; style=&quot;width: 100.0%; height: 100.0%;&quot;&gt;number of Deaths : 29  Magnitude : 6.5 Mw  Date : 3 September 1968&lt;/div&gt;`)[0];\n",
       "                popup_296f7b88087eac7afbe85a85b9ec50a2.setContent(html_f6f47df9ffd9ba7bf01d6c86d536eccd);\n",
       "            \n",
       "        \n",
       "\n",
       "        marker_df12f528b28cf52e02c19a11d4b42440.bindPopup(popup_296f7b88087eac7afbe85a85b9ec50a2)\n",
       "        ;\n",
       "\n",
       "        \n",
       "    \n",
       "    \n",
       "            var marker_56f4beb9a39abf69e425f33e51789df2 = L.marker(\n",
       "                [38.5, 28.4],\n",
       "                {}\n",
       "            ).addTo(map_d987b634b2399026e36aac013c1237d1);\n",
       "        \n",
       "    \n",
       "        var popup_3e925e900eefff30fa89d2afd1add5b8 = L.popup({&quot;maxWidth&quot;: &quot;100%&quot;});\n",
       "\n",
       "        \n",
       "            \n",
       "                var html_8ddc2baf713955969ecacc174139d82c = $(`&lt;div id=&quot;html_8ddc2baf713955969ecacc174139d82c&quot; style=&quot;width: 100.0%; height: 100.0%;&quot;&gt;number of Deaths : 53  Magnitude : 6.5 Mw  Date : 28 March 1969&lt;/div&gt;`)[0];\n",
       "                popup_3e925e900eefff30fa89d2afd1add5b8.setContent(html_8ddc2baf713955969ecacc174139d82c);\n",
       "            \n",
       "        \n",
       "\n",
       "        marker_56f4beb9a39abf69e425f33e51789df2.bindPopup(popup_3e925e900eefff30fa89d2afd1add5b8)\n",
       "        ;\n",
       "\n",
       "        \n",
       "    \n",
       "    \n",
       "            var marker_8aae1d713a4dc6b8a4758bda6312bcc9 = L.marker(\n",
       "                [39.2, 29.5],\n",
       "                {}\n",
       "            ).addTo(map_d987b634b2399026e36aac013c1237d1);\n",
       "        \n",
       "    \n",
       "        var popup_0b445e03d176c1be4219b9493de15b9b = L.popup({&quot;maxWidth&quot;: &quot;100%&quot;});\n",
       "\n",
       "        \n",
       "            \n",
       "                var html_e4f615f30b096baff832e10327a491bd = $(`&lt;div id=&quot;html_e4f615f30b096baff832e10327a491bd&quot; style=&quot;width: 100.0%; height: 100.0%;&quot;&gt;number of Deaths : 1,086  Magnitude : 7.2 Mw  Date : 28 March 1970&lt;/div&gt;`)[0];\n",
       "                popup_0b445e03d176c1be4219b9493de15b9b.setContent(html_e4f615f30b096baff832e10327a491bd);\n",
       "            \n",
       "        \n",
       "\n",
       "        marker_8aae1d713a4dc6b8a4758bda6312bcc9.bindPopup(popup_0b445e03d176c1be4219b9493de15b9b)\n",
       "        ;\n",
       "\n",
       "        \n",
       "    \n",
       "    \n",
       "            var marker_c73408eb20258184ceda3465521d7bd7 = L.marker(\n",
       "                [38.83, 40.52],\n",
       "                {}\n",
       "            ).addTo(map_d987b634b2399026e36aac013c1237d1);\n",
       "        \n",
       "    \n",
       "        var popup_49647f1003e657a23a39b834041dee59 = L.popup({&quot;maxWidth&quot;: &quot;100%&quot;});\n",
       "\n",
       "        \n",
       "            \n",
       "                var html_7edec4c9fe7801acd87b0ba057d1773c = $(`&lt;div id=&quot;html_7edec4c9fe7801acd87b0ba057d1773c&quot; style=&quot;width: 100.0%; height: 100.0%;&quot;&gt;number of Deaths : 755  Magnitude : 6.9 Mw  Date : 22 May 1971&lt;/div&gt;`)[0];\n",
       "                popup_49647f1003e657a23a39b834041dee59.setContent(html_7edec4c9fe7801acd87b0ba057d1773c);\n",
       "            \n",
       "        \n",
       "\n",
       "        marker_c73408eb20258184ceda3465521d7bd7.bindPopup(popup_49647f1003e657a23a39b834041dee59)\n",
       "        ;\n",
       "\n",
       "        \n",
       "    \n",
       "    \n",
       "            var marker_8467fed4f83b156a482489ebb624c74b = L.marker(\n",
       "                [38.5, 40.7],\n",
       "                {}\n",
       "            ).addTo(map_d987b634b2399026e36aac013c1237d1);\n",
       "        \n",
       "    \n",
       "        var popup_34ebf275d8de7f5dc2d350bf037bba4c = L.popup({&quot;maxWidth&quot;: &quot;100%&quot;});\n",
       "\n",
       "        \n",
       "            \n",
       "                var html_8030201c752cd17dce5871fc1d3e3454 = $(`&lt;div id=&quot;html_8030201c752cd17dce5871fc1d3e3454&quot; style=&quot;width: 100.0%; height: 100.0%;&quot;&gt;number of Deaths : 2,311  Magnitude : 6.6 Mw  Date : 6 September 1975&lt;/div&gt;`)[0];\n",
       "                popup_34ebf275d8de7f5dc2d350bf037bba4c.setContent(html_8030201c752cd17dce5871fc1d3e3454);\n",
       "            \n",
       "        \n",
       "\n",
       "        marker_8467fed4f83b156a482489ebb624c74b.bindPopup(popup_34ebf275d8de7f5dc2d350bf037bba4c)\n",
       "        ;\n",
       "\n",
       "        \n",
       "    \n",
       "    \n",
       "            var marker_a5a9bbb7596e8b79f91c13f255539702 = L.marker(\n",
       "                [39.12, 44.03],\n",
       "                {}\n",
       "            ).addTo(map_d987b634b2399026e36aac013c1237d1);\n",
       "        \n",
       "    \n",
       "        var popup_76c086407788bec876df60694f4bd9af = L.popup({&quot;maxWidth&quot;: &quot;100%&quot;});\n",
       "\n",
       "        \n",
       "            \n",
       "                var html_6a9272ae2a1896d5edc2a789f830aafc = $(`&lt;div id=&quot;html_6a9272ae2a1896d5edc2a789f830aafc&quot; style=&quot;width: 100.0%; height: 100.0%;&quot;&gt;number of Deaths : 4,000  Magnitude : 7.5 Mw  Date : 24 November 1976&lt;/div&gt;`)[0];\n",
       "                popup_76c086407788bec876df60694f4bd9af.setContent(html_6a9272ae2a1896d5edc2a789f830aafc);\n",
       "            \n",
       "        \n",
       "\n",
       "        marker_a5a9bbb7596e8b79f91c13f255539702.bindPopup(popup_76c086407788bec876df60694f4bd9af)\n",
       "        ;\n",
       "\n",
       "        \n",
       "    \n",
       "    \n",
       "            var marker_838d83033cb1c7ac92cff1a8acc1b0e3 = L.marker(\n",
       "                [40.33, 42.19],\n",
       "                {}\n",
       "            ).addTo(map_d987b634b2399026e36aac013c1237d1);\n",
       "        \n",
       "    \n",
       "        var popup_233c62b56910d104744934961b1eea0d = L.popup({&quot;maxWidth&quot;: &quot;100%&quot;});\n",
       "\n",
       "        \n",
       "            \n",
       "                var html_977704c3a9cd7ca9a0dc86b5f3a16ffe = $(`&lt;div id=&quot;html_977704c3a9cd7ca9a0dc86b5f3a16ffe&quot; style=&quot;width: 100.0%; height: 100.0%;&quot;&gt;number of Deaths : 1,342  Magnitude : 6.9 Mw  Date : 30 October 1983&lt;/div&gt;`)[0];\n",
       "                popup_233c62b56910d104744934961b1eea0d.setContent(html_977704c3a9cd7ca9a0dc86b5f3a16ffe);\n",
       "            \n",
       "        \n",
       "\n",
       "        marker_838d83033cb1c7ac92cff1a8acc1b0e3.bindPopup(popup_233c62b56910d104744934961b1eea0d)\n",
       "        ;\n",
       "\n",
       "        \n",
       "    \n",
       "    \n",
       "            var marker_ba895ba416a528c797a84c04f68e9c44 = L.marker(\n",
       "                [39.7, 39.69],\n",
       "                {}\n",
       "            ).addTo(map_d987b634b2399026e36aac013c1237d1);\n",
       "        \n",
       "    \n",
       "        var popup_99c5a8f593f35226bc7977fec8182164 = L.popup({&quot;maxWidth&quot;: &quot;100%&quot;});\n",
       "\n",
       "        \n",
       "            \n",
       "                var html_4a73922d41093d97ebc26492ca485afb = $(`&lt;div id=&quot;html_4a73922d41093d97ebc26492ca485afb&quot; style=&quot;width: 100.0%; height: 100.0%;&quot;&gt;number of Deaths : 498  Magnitude : 6.7 Mw  Date : 13 March 1992\t&lt;/div&gt;`)[0];\n",
       "                popup_99c5a8f593f35226bc7977fec8182164.setContent(html_4a73922d41093d97ebc26492ca485afb);\n",
       "            \n",
       "        \n",
       "\n",
       "        marker_ba895ba416a528c797a84c04f68e9c44.bindPopup(popup_99c5a8f593f35226bc7977fec8182164)\n",
       "        ;\n",
       "\n",
       "        \n",
       "    \n",
       "    \n",
       "            var marker_6121b8a0ccacbca6162fcb560d763d3b = L.marker(\n",
       "                [38.06, 30.13],\n",
       "                {}\n",
       "            ).addTo(map_d987b634b2399026e36aac013c1237d1);\n",
       "        \n",
       "    \n",
       "        var popup_648c746cf1648dd1a142d4df4e9423b1 = L.popup({&quot;maxWidth&quot;: &quot;100%&quot;});\n",
       "\n",
       "        \n",
       "            \n",
       "                var html_ab784eeb79abf9544c34a08c45d5cbb1 = $(`&lt;div id=&quot;html_ab784eeb79abf9544c34a08c45d5cbb1&quot; style=&quot;width: 100.0%; height: 100.0%;&quot;&gt;number of Deaths : 90  Magnitude : 6.1 Mw  Date : 1 October 1995&lt;/div&gt;`)[0];\n",
       "                popup_648c746cf1648dd1a142d4df4e9423b1.setContent(html_ab784eeb79abf9544c34a08c45d5cbb1);\n",
       "            \n",
       "        \n",
       "\n",
       "        marker_6121b8a0ccacbca6162fcb560d763d3b.bindPopup(popup_648c746cf1648dd1a142d4df4e9423b1)\n",
       "        ;\n",
       "\n",
       "        \n",
       "    \n",
       "    \n",
       "            var marker_2f91f4655be73057531e8962a0b5936e = L.marker(\n",
       "                [36.88, 35.31],\n",
       "                {}\n",
       "            ).addTo(map_d987b634b2399026e36aac013c1237d1);\n",
       "        \n",
       "    \n",
       "        var popup_d5aab1fe0f5bd998fb8ca744ba9480c5 = L.popup({&quot;maxWidth&quot;: &quot;100%&quot;});\n",
       "\n",
       "        \n",
       "            \n",
       "                var html_4c393cd6991fe86aa4fa980ea99503a5 = $(`&lt;div id=&quot;html_4c393cd6991fe86aa4fa980ea99503a5&quot; style=&quot;width: 100.0%; height: 100.0%;&quot;&gt;number of Deaths : 146  Magnitude : 6.3 Mw  Date : 27 June 1998&lt;/div&gt;`)[0];\n",
       "                popup_d5aab1fe0f5bd998fb8ca744ba9480c5.setContent(html_4c393cd6991fe86aa4fa980ea99503a5);\n",
       "            \n",
       "        \n",
       "\n",
       "        marker_2f91f4655be73057531e8962a0b5936e.bindPopup(popup_d5aab1fe0f5bd998fb8ca744ba9480c5)\n",
       "        ;\n",
       "\n",
       "        \n",
       "    \n",
       "    \n",
       "            var marker_5cb333dcacf061419a5e6c78925604b4 = L.marker(\n",
       "                [40.77, 30.0],\n",
       "                {}\n",
       "            ).addTo(map_d987b634b2399026e36aac013c1237d1);\n",
       "        \n",
       "    \n",
       "        var popup_f3d4f28bd510bb5377db9450e5d275bb = L.popup({&quot;maxWidth&quot;: &quot;100%&quot;});\n",
       "\n",
       "        \n",
       "            \n",
       "                var html_4d4b4af7fca244e86ddb2c64147c5fa6 = $(`&lt;div id=&quot;html_4d4b4af7fca244e86ddb2c64147c5fa6&quot; style=&quot;width: 100.0%; height: 100.0%;&quot;&gt;number of Deaths : 17,127  Magnitude : 7.6 Mw  Date : 17 August 1999&lt;/div&gt;`)[0];\n",
       "                popup_f3d4f28bd510bb5377db9450e5d275bb.setContent(html_4d4b4af7fca244e86ddb2c64147c5fa6);\n",
       "            \n",
       "        \n",
       "\n",
       "        marker_5cb333dcacf061419a5e6c78925604b4.bindPopup(popup_f3d4f28bd510bb5377db9450e5d275bb)\n",
       "        ;\n",
       "\n",
       "        \n",
       "    \n",
       "    \n",
       "            var marker_2e0c3edd17816714f6592bb0c8402607 = L.marker(\n",
       "                [40.75, 31.16],\n",
       "                {}\n",
       "            ).addTo(map_d987b634b2399026e36aac013c1237d1);\n",
       "        \n",
       "    \n",
       "        var popup_b3e13dbb81d65299c0e4f57201f25ea4 = L.popup({&quot;maxWidth&quot;: &quot;100%&quot;});\n",
       "\n",
       "        \n",
       "            \n",
       "                var html_ae88c03553163fa97b742d9da6905294 = $(`&lt;div id=&quot;html_ae88c03553163fa97b742d9da6905294&quot; style=&quot;width: 100.0%; height: 100.0%;&quot;&gt;number of Deaths : 894  Magnitude : 7.2 Mw  Date : 12 November 1999&lt;/div&gt;`)[0];\n",
       "                popup_b3e13dbb81d65299c0e4f57201f25ea4.setContent(html_ae88c03553163fa97b742d9da6905294);\n",
       "            \n",
       "        \n",
       "\n",
       "        marker_2e0c3edd17816714f6592bb0c8402607.bindPopup(popup_b3e13dbb81d65299c0e4f57201f25ea4)\n",
       "        ;\n",
       "\n",
       "        \n",
       "    \n",
       "    \n",
       "            var marker_28228370a39ad0e52e24d1061fd87ae9 = L.marker(\n",
       "                [38.573, 31.271],\n",
       "                {}\n",
       "            ).addTo(map_d987b634b2399026e36aac013c1237d1);\n",
       "        \n",
       "    \n",
       "        var popup_cb2a773e00b94ce1a6b71e82a76d6f3e = L.popup({&quot;maxWidth&quot;: &quot;100%&quot;});\n",
       "\n",
       "        \n",
       "            \n",
       "                var html_8b622613add6afb49d2f2f55459a2db5 = $(`&lt;div id=&quot;html_8b622613add6afb49d2f2f55459a2db5&quot; style=&quot;width: 100.0%; height: 100.0%;&quot;&gt;number of Deaths : 44  Magnitude : 6.5 Mw  Date : 3 February 2002&lt;/div&gt;`)[0];\n",
       "                popup_cb2a773e00b94ce1a6b71e82a76d6f3e.setContent(html_8b622613add6afb49d2f2f55459a2db5);\n",
       "            \n",
       "        \n",
       "\n",
       "        marker_28228370a39ad0e52e24d1061fd87ae9.bindPopup(popup_cb2a773e00b94ce1a6b71e82a76d6f3e)\n",
       "        ;\n",
       "\n",
       "        \n",
       "    \n",
       "    \n",
       "            var marker_3e317322abf8a81394fee7b5da56a948 = L.marker(\n",
       "                [39.46, 39.79],\n",
       "                {}\n",
       "            ).addTo(map_d987b634b2399026e36aac013c1237d1);\n",
       "        \n",
       "    \n",
       "        var popup_2c7757758c54b1180fc8008b857fbf14 = L.popup({&quot;maxWidth&quot;: &quot;100%&quot;});\n",
       "\n",
       "        \n",
       "            \n",
       "                var html_1485bcb04b2e8bfaf6cd95d2cfe65a36 = $(`&lt;div id=&quot;html_1485bcb04b2e8bfaf6cd95d2cfe65a36&quot; style=&quot;width: 100.0%; height: 100.0%;&quot;&gt;number of Deaths : 1  Magnitude : 6.1 Mw  Date : 27 January 2003&lt;/div&gt;`)[0];\n",
       "                popup_2c7757758c54b1180fc8008b857fbf14.setContent(html_1485bcb04b2e8bfaf6cd95d2cfe65a36);\n",
       "            \n",
       "        \n",
       "\n",
       "        marker_3e317322abf8a81394fee7b5da56a948.bindPopup(popup_2c7757758c54b1180fc8008b857fbf14)\n",
       "        ;\n",
       "\n",
       "        \n",
       "    \n",
       "    \n",
       "            var marker_95f69216b0826069ff724d491cf0ceb6 = L.marker(\n",
       "                [39.01, 40.46],\n",
       "                {}\n",
       "            ).addTo(map_d987b634b2399026e36aac013c1237d1);\n",
       "        \n",
       "    \n",
       "        var popup_111fda4c2e7b47784ae0123810886349 = L.popup({&quot;maxWidth&quot;: &quot;100%&quot;});\n",
       "\n",
       "        \n",
       "            \n",
       "                var html_7aaa5ec49d57095cf7ef835b74dfc21e = $(`&lt;div id=&quot;html_7aaa5ec49d57095cf7ef835b74dfc21e&quot; style=&quot;width: 100.0%; height: 100.0%;&quot;&gt;number of Deaths : 177\t  Magnitude : 6.4 Mw  Date : 1 May 2003&lt;/div&gt;`)[0];\n",
       "                popup_111fda4c2e7b47784ae0123810886349.setContent(html_7aaa5ec49d57095cf7ef835b74dfc21e);\n",
       "            \n",
       "        \n",
       "\n",
       "        marker_95f69216b0826069ff724d491cf0ceb6.bindPopup(popup_111fda4c2e7b47784ae0123810886349)\n",
       "        ;\n",
       "\n",
       "        \n",
       "    \n",
       "    \n",
       "            var marker_ad2f279966315bde1a3282c65c182f39 = L.marker(\n",
       "                [39.71, 44.02],\n",
       "                {}\n",
       "            ).addTo(map_d987b634b2399026e36aac013c1237d1);\n",
       "        \n",
       "    \n",
       "        var popup_4219aaf4072ce9887eee04a6714d8b92 = L.popup({&quot;maxWidth&quot;: &quot;100%&quot;});\n",
       "\n",
       "        \n",
       "            \n",
       "                var html_2a719dc9274901c2efcf4c8e66eefee1 = $(`&lt;div id=&quot;html_2a719dc9274901c2efcf4c8e66eefee1&quot; style=&quot;width: 100.0%; height: 100.0%;&quot;&gt;number of Deaths : 18  Magnitude : 5.1 Mw  Date : 2 July 2004&lt;/div&gt;`)[0];\n",
       "                popup_4219aaf4072ce9887eee04a6714d8b92.setContent(html_2a719dc9274901c2efcf4c8e66eefee1);\n",
       "            \n",
       "        \n",
       "\n",
       "        marker_ad2f279966315bde1a3282c65c182f39.bindPopup(popup_4219aaf4072ce9887eee04a6714d8b92)\n",
       "        ;\n",
       "\n",
       "        \n",
       "    \n",
       "    \n",
       "            var marker_d8926953ddace376c962d60b913cfd9c = L.marker(\n",
       "                [38.79, 40.03],\n",
       "                {}\n",
       "            ).addTo(map_d987b634b2399026e36aac013c1237d1);\n",
       "        \n",
       "    \n",
       "        var popup_256dca750ef1079c4c99ec7ced8340be = L.popup({&quot;maxWidth&quot;: &quot;100%&quot;});\n",
       "\n",
       "        \n",
       "            \n",
       "                var html_d80f1c170f51806f8de2638df4cce594 = $(`&lt;div id=&quot;html_d80f1c170f51806f8de2638df4cce594&quot; style=&quot;width: 100.0%; height: 100.0%;&quot;&gt;number of Deaths : 41  Magnitude : 6.1 Mw  Date : 8 March 2010&lt;/div&gt;`)[0];\n",
       "                popup_256dca750ef1079c4c99ec7ced8340be.setContent(html_d80f1c170f51806f8de2638df4cce594);\n",
       "            \n",
       "        \n",
       "\n",
       "        marker_d8926953ddace376c962d60b913cfd9c.bindPopup(popup_256dca750ef1079c4c99ec7ced8340be)\n",
       "        ;\n",
       "\n",
       "        \n",
       "    \n",
       "    \n",
       "            var marker_aedd52748fd0fe471a593e5023c38e27 = L.marker(\n",
       "                [39.14, 29.07],\n",
       "                {}\n",
       "            ).addTo(map_d987b634b2399026e36aac013c1237d1);\n",
       "        \n",
       "    \n",
       "        var popup_bb6ab5bfead0330c3e97bad0eb65976b = L.popup({&quot;maxWidth&quot;: &quot;100%&quot;});\n",
       "\n",
       "        \n",
       "            \n",
       "                var html_f3317ff306973801c8c2289fe8185104 = $(`&lt;div id=&quot;html_f3317ff306973801c8c2289fe8185104&quot; style=&quot;width: 100.0%; height: 100.0%;&quot;&gt;number of Deaths : 2  Magnitude : 5.8 Mw  Date : 19 May 2011&lt;/div&gt;`)[0];\n",
       "                popup_bb6ab5bfead0330c3e97bad0eb65976b.setContent(html_f3317ff306973801c8c2289fe8185104);\n",
       "            \n",
       "        \n",
       "\n",
       "        marker_aedd52748fd0fe471a593e5023c38e27.bindPopup(popup_bb6ab5bfead0330c3e97bad0eb65976b)\n",
       "        ;\n",
       "\n",
       "        \n",
       "    \n",
       "    \n",
       "            var marker_d0c401143cb991e3c09f80010b60f3a2 = L.marker(\n",
       "                [38.63, 43.49],\n",
       "                {}\n",
       "            ).addTo(map_d987b634b2399026e36aac013c1237d1);\n",
       "        \n",
       "    \n",
       "        var popup_758c4ddffb6d4357ba034b3eaf54ff0b = L.popup({&quot;maxWidth&quot;: &quot;100%&quot;});\n",
       "\n",
       "        \n",
       "            \n",
       "                var html_eaeb2b3cdf3ba3605d46d07fec8156b7 = $(`&lt;div id=&quot;html_eaeb2b3cdf3ba3605d46d07fec8156b7&quot; style=&quot;width: 100.0%; height: 100.0%;&quot;&gt;number of Deaths : 604  Magnitude : 7.2 Mw  Date : 23 October 2011&lt;/div&gt;`)[0];\n",
       "                popup_758c4ddffb6d4357ba034b3eaf54ff0b.setContent(html_eaeb2b3cdf3ba3605d46d07fec8156b7);\n",
       "            \n",
       "        \n",
       "\n",
       "        marker_d0c401143cb991e3c09f80010b60f3a2.bindPopup(popup_758c4ddffb6d4357ba034b3eaf54ff0b)\n",
       "        ;\n",
       "\n",
       "        \n",
       "    \n",
       "    \n",
       "            var marker_b94714dfc8dcf09be9fdd202dcfa5d11 = L.marker(\n",
       "                [38.42, 43.22],\n",
       "                {}\n",
       "            ).addTo(map_d987b634b2399026e36aac013c1237d1);\n",
       "        \n",
       "    \n",
       "        var popup_a45a0c1c6dd8101bcd04740525d32756 = L.popup({&quot;maxWidth&quot;: &quot;100%&quot;});\n",
       "\n",
       "        \n",
       "            \n",
       "                var html_23c8f3948170688f9945f6d29e280a62 = $(`&lt;div id=&quot;html_23c8f3948170688f9945f6d29e280a62&quot; style=&quot;width: 100.0%; height: 100.0%;&quot;&gt;number of Deaths : 40  Magnitude : 5.6 Mw  Date : 9 November 2011&lt;/div&gt;`)[0];\n",
       "                popup_a45a0c1c6dd8101bcd04740525d32756.setContent(html_23c8f3948170688f9945f6d29e280a62);\n",
       "            \n",
       "        \n",
       "\n",
       "        marker_b94714dfc8dcf09be9fdd202dcfa5d11.bindPopup(popup_a45a0c1c6dd8101bcd04740525d32756)\n",
       "        ;\n",
       "\n",
       "        \n",
       "    \n",
       "    \n",
       "            var marker_b18265fca998831d619afaa6f8d0345e = L.marker(\n",
       "                [40.31, 25.45],\n",
       "                {}\n",
       "            ).addTo(map_d987b634b2399026e36aac013c1237d1);\n",
       "        \n",
       "    \n",
       "        var popup_55928189af07520c512a80af353044b6 = L.popup({&quot;maxWidth&quot;: &quot;100%&quot;});\n",
       "\n",
       "        \n",
       "            \n",
       "                var html_36fb53ab6b2d0f909f4938c47a23c339 = $(`&lt;div id=&quot;html_36fb53ab6b2d0f909f4938c47a23c339&quot; style=&quot;width: 100.0%; height: 100.0%;&quot;&gt;number of Deaths : 0  Magnitude : 6.9 Mw  Date : 24 May 2014&lt;/div&gt;`)[0];\n",
       "                popup_55928189af07520c512a80af353044b6.setContent(html_36fb53ab6b2d0f909f4938c47a23c339);\n",
       "            \n",
       "        \n",
       "\n",
       "        marker_b18265fca998831d619afaa6f8d0345e.bindPopup(popup_55928189af07520c512a80af353044b6)\n",
       "        ;\n",
       "\n",
       "        \n",
       "    \n",
       "    \n",
       "            var marker_3a9cd634e86b2f5844ad097bfe74dbf2 = L.marker(\n",
       "                [36.92, 27.41],\n",
       "                {}\n",
       "            ).addTo(map_d987b634b2399026e36aac013c1237d1);\n",
       "        \n",
       "    \n",
       "        var popup_6ea8c56f56da6900cb89f18c114dc7f2 = L.popup({&quot;maxWidth&quot;: &quot;100%&quot;});\n",
       "\n",
       "        \n",
       "            \n",
       "                var html_f7ab137b3c2a7c62bdf4939159f41ff8 = $(`&lt;div id=&quot;html_f7ab137b3c2a7c62bdf4939159f41ff8&quot; style=&quot;width: 100.0%; height: 100.0%;&quot;&gt;number of Deaths : 2   Magnitude : nan  Date : 21 July 2017&lt;/div&gt;`)[0];\n",
       "                popup_6ea8c56f56da6900cb89f18c114dc7f2.setContent(html_f7ab137b3c2a7c62bdf4939159f41ff8);\n",
       "            \n",
       "        \n",
       "\n",
       "        marker_3a9cd634e86b2f5844ad097bfe74dbf2.bindPopup(popup_6ea8c56f56da6900cb89f18c114dc7f2)\n",
       "        ;\n",
       "\n",
       "        \n",
       "    \n",
       "    \n",
       "            var marker_0f93dbb5b279d023ac8282b78428c6f9 = L.marker(\n",
       "                [40.89, 28.17],\n",
       "                {}\n",
       "            ).addTo(map_d987b634b2399026e36aac013c1237d1);\n",
       "        \n",
       "    \n",
       "        var popup_e8bde796ac85d310e563dfa0c1b994aa = L.popup({&quot;maxWidth&quot;: &quot;100%&quot;});\n",
       "\n",
       "        \n",
       "            \n",
       "                var html_b00f77ff233ecf9a356585d6f1842531 = $(`&lt;div id=&quot;html_b00f77ff233ecf9a356585d6f1842531&quot; style=&quot;width: 100.0%; height: 100.0%;&quot;&gt;number of Deaths : 1  Magnitude : 5.7 Mw  Date : 26 September 2019&lt;/div&gt;`)[0];\n",
       "                popup_e8bde796ac85d310e563dfa0c1b994aa.setContent(html_b00f77ff233ecf9a356585d6f1842531);\n",
       "            \n",
       "        \n",
       "\n",
       "        marker_0f93dbb5b279d023ac8282b78428c6f9.bindPopup(popup_e8bde796ac85d310e563dfa0c1b994aa)\n",
       "        ;\n",
       "\n",
       "        \n",
       "    \n",
       "    \n",
       "            var marker_fdff9102ffdd81fc0d2f7c110b028f4d = L.marker(\n",
       "                [38.39, 39.081],\n",
       "                {}\n",
       "            ).addTo(map_d987b634b2399026e36aac013c1237d1);\n",
       "        \n",
       "    \n",
       "        var popup_0acd2d15270574f5fbcfc57e11df0045 = L.popup({&quot;maxWidth&quot;: &quot;100%&quot;});\n",
       "\n",
       "        \n",
       "            \n",
       "                var html_0391511cbaaf39c9df42ff9395a47f62 = $(`&lt;div id=&quot;html_0391511cbaaf39c9df42ff9395a47f62&quot; style=&quot;width: 100.0%; height: 100.0%;&quot;&gt;number of Deaths : 41  Magnitude : 6.7 Mw  Date : 24 January 2020&lt;/div&gt;`)[0];\n",
       "                popup_0acd2d15270574f5fbcfc57e11df0045.setContent(html_0391511cbaaf39c9df42ff9395a47f62);\n",
       "            \n",
       "        \n",
       "\n",
       "        marker_fdff9102ffdd81fc0d2f7c110b028f4d.bindPopup(popup_0acd2d15270574f5fbcfc57e11df0045)\n",
       "        ;\n",
       "\n",
       "        \n",
       "    \n",
       "    \n",
       "            var marker_c13f97e42653711233d0d12021d144ee = L.marker(\n",
       "                [38.39, 39.081],\n",
       "                {}\n",
       "            ).addTo(map_d987b634b2399026e36aac013c1237d1);\n",
       "        \n",
       "    \n",
       "        var popup_2a53fa9e6f2d7f9dfe3c4fc132336b6c = L.popup({&quot;maxWidth&quot;: &quot;100%&quot;});\n",
       "\n",
       "        \n",
       "            \n",
       "                var html_d6d1ced9b4fe30b7d85643bc6138a23a = $(`&lt;div id=&quot;html_d6d1ced9b4fe30b7d85643bc6138a23a&quot; style=&quot;width: 100.0%; height: 100.0%;&quot;&gt;number of Deaths : 41  Magnitude : 6.7 Mw  Date : 24 January 2020&lt;/div&gt;`)[0];\n",
       "                popup_2a53fa9e6f2d7f9dfe3c4fc132336b6c.setContent(html_d6d1ced9b4fe30b7d85643bc6138a23a);\n",
       "            \n",
       "        \n",
       "\n",
       "        marker_c13f97e42653711233d0d12021d144ee.bindPopup(popup_2a53fa9e6f2d7f9dfe3c4fc132336b6c)\n",
       "        ;\n",
       "\n",
       "        \n",
       "    \n",
       "    \n",
       "            var marker_e0842bd62d2263c14b419bad7aa5ca67 = L.marker(\n",
       "                [39.42, 40.67],\n",
       "                {}\n",
       "            ).addTo(map_d987b634b2399026e36aac013c1237d1);\n",
       "        \n",
       "    \n",
       "        var popup_2d598a6a0595126bfd234136d0e81448 = L.popup({&quot;maxWidth&quot;: &quot;100%&quot;});\n",
       "\n",
       "        \n",
       "            \n",
       "                var html_a0c116ff384e85dcf8035a0852152c38 = $(`&lt;div id=&quot;html_a0c116ff384e85dcf8035a0852152c38&quot; style=&quot;width: 100.0%; height: 100.0%;&quot;&gt;number of Deaths : 1  Magnitude : 5.9 Mw  Date : 14 June 2020&lt;/div&gt;`)[0];\n",
       "                popup_2d598a6a0595126bfd234136d0e81448.setContent(html_a0c116ff384e85dcf8035a0852152c38);\n",
       "            \n",
       "        \n",
       "\n",
       "        marker_e0842bd62d2263c14b419bad7aa5ca67.bindPopup(popup_2d598a6a0595126bfd234136d0e81448)\n",
       "        ;\n",
       "\n",
       "        \n",
       "    \n",
       "    \n",
       "            var marker_122fd0285888e054abf10d96d28e0e52 = L.marker(\n",
       "                [37.918, 26.79],\n",
       "                {}\n",
       "            ).addTo(map_d987b634b2399026e36aac013c1237d1);\n",
       "        \n",
       "    \n",
       "        var popup_a51ee12ab418b0c7321756f8575cc82e = L.popup({&quot;maxWidth&quot;: &quot;100%&quot;});\n",
       "\n",
       "        \n",
       "            \n",
       "                var html_0a0a016d1f66e2f5fdb9da78ef5f53ac = $(`&lt;div id=&quot;html_0a0a016d1f66e2f5fdb9da78ef5f53ac&quot; style=&quot;width: 100.0%; height: 100.0%;&quot;&gt;number of Deaths : 117  Magnitude : 7.0 Mw  Date : 30 October 2020&lt;/div&gt;`)[0];\n",
       "                popup_a51ee12ab418b0c7321756f8575cc82e.setContent(html_0a0a016d1f66e2f5fdb9da78ef5f53ac);\n",
       "            \n",
       "        \n",
       "\n",
       "        marker_122fd0285888e054abf10d96d28e0e52.bindPopup(popup_a51ee12ab418b0c7321756f8575cc82e)\n",
       "        ;\n",
       "\n",
       "        \n",
       "    \n",
       "    \n",
       "            var marker_7fec4e34a4b4c84d048fd2c9615e7da5 = L.marker(\n",
       "                [40.847, 30.967],\n",
       "                {}\n",
       "            ).addTo(map_d987b634b2399026e36aac013c1237d1);\n",
       "        \n",
       "    \n",
       "        var popup_0530bfb4f0d7fb18d375a5c4479d11c3 = L.popup({&quot;maxWidth&quot;: &quot;100%&quot;});\n",
       "\n",
       "        \n",
       "            \n",
       "                var html_3390b81129f92707facefe78981383d1 = $(`&lt;div id=&quot;html_3390b81129f92707facefe78981383d1&quot; style=&quot;width: 100.0%; height: 100.0%;&quot;&gt;number of Deaths : 2  Magnitude : 6.1 Mw  Date : 23 November 2022&lt;/div&gt;`)[0];\n",
       "                popup_0530bfb4f0d7fb18d375a5c4479d11c3.setContent(html_3390b81129f92707facefe78981383d1);\n",
       "            \n",
       "        \n",
       "\n",
       "        marker_7fec4e34a4b4c84d048fd2c9615e7da5.bindPopup(popup_0530bfb4f0d7fb18d375a5c4479d11c3)\n",
       "        ;\n",
       "\n",
       "        \n",
       "    \n",
       "    \n",
       "            var marker_b81b0a197458f57978e33b053b5e261a = L.marker(\n",
       "                [37.1123, 37.1195],\n",
       "                {}\n",
       "            ).addTo(map_d987b634b2399026e36aac013c1237d1);\n",
       "        \n",
       "    \n",
       "        var popup_2ddba7f2d0f91fd914093f5b32f380c7 = L.popup({&quot;maxWidth&quot;: &quot;100%&quot;});\n",
       "\n",
       "        \n",
       "            \n",
       "                var html_28ce43e0817b35c035d24376900a5f77 = $(`&lt;div id=&quot;html_28ce43e0817b35c035d24376900a5f77&quot; style=&quot;width: 100.0%; height: 100.0%;&quot;&gt;number of Deaths : 29,600  Magnitude : 7.8 Mw  Date : 6 February 2023&lt;/div&gt;`)[0];\n",
       "                popup_2ddba7f2d0f91fd914093f5b32f380c7.setContent(html_28ce43e0817b35c035d24376900a5f77);\n",
       "            \n",
       "        \n",
       "\n",
       "        marker_b81b0a197458f57978e33b053b5e261a.bindPopup(popup_2ddba7f2d0f91fd914093f5b32f380c7)\n",
       "        ;\n",
       "\n",
       "        \n",
       "    \n",
       "    \n",
       "            var marker_9a1ef1444e774f6f27f278c9be68e8f9 = L.marker(\n",
       "                [38.0357, 37.2287],\n",
       "                {}\n",
       "            ).addTo(map_d987b634b2399026e36aac013c1237d1);\n",
       "        \n",
       "    \n",
       "        var popup_1f134434c1dd774dc5f6903d02b7a757 = L.popup({&quot;maxWidth&quot;: &quot;100%&quot;});\n",
       "\n",
       "        \n",
       "            \n",
       "                var html_1ca1a88b12edaabcd3f64490c3860d8a = $(`&lt;div id=&quot;html_1ca1a88b12edaabcd3f64490c3860d8a&quot; style=&quot;width: 100.0%; height: 100.0%;&quot;&gt;number of Deaths : 29,600  Magnitude : 7.7 Mw  Date : 6 February 2023&lt;/div&gt;`)[0];\n",
       "                popup_1f134434c1dd774dc5f6903d02b7a757.setContent(html_1ca1a88b12edaabcd3f64490c3860d8a);\n",
       "            \n",
       "        \n",
       "\n",
       "        marker_9a1ef1444e774f6f27f278c9be68e8f9.bindPopup(popup_1f134434c1dd774dc5f6903d02b7a757)\n",
       "        ;\n",
       "\n",
       "        \n",
       "    \n",
       "&lt;/script&gt;\n",
       "&lt;/html&gt;\" style=\"position:absolute;width:100%;height:100%;left:0;top:0;border:none !important;\" allowfullscreen webkitallowfullscreen mozallowfullscreen></iframe></div></div>"
      ],
      "text/plain": [
       "<folium.folium.Map at 0x259025b7ee0>"
      ]
     },
     "execution_count": 38,
     "metadata": {},
     "output_type": "execute_result"
    }
   ],
   "source": [
    "m_1 = folium.Map(location=(TURK_LAT, TURK_LNG), titles='cartodbpositron', zooms=5)\n",
    "for i, row in gdf_earthquakes.iterrows():\n",
    "    popup_text = \"number of Deaths : \" + str(row.Deaths) + \"\\n Magnitude : \"+ str(row.Mag) + \"\\n Date : \" + str(row.Date)\n",
    "    Marker([row.geometry.y, row.geometry.x], popup=popup_text).add_to(m_1)\n",
    "m_1"
   ]
  },
  {
   "cell_type": "code",
   "execution_count": 40,
   "metadata": {},
   "outputs": [],
   "source": [
    "#Cleaning Deaths column\n",
    "gdf_earthquakes.Deaths = gdf_earthquakes.Deaths.str.strip()\n",
    "gdf_earthquakes.Deaths = gdf_earthquakes.Deaths.map(lambda s: s.replace(',', ''))\n",
    "gdf_earthquakes.Deaths = gdf_earthquakes.Deaths.astype('int')"
   ]
  },
  {
   "cell_type": "code",
   "execution_count": 41,
   "metadata": {},
   "outputs": [
    {
     "data": {
      "text/html": [
       "<div>\n",
       "<style scoped>\n",
       "    .dataframe tbody tr th:only-of-type {\n",
       "        vertical-align: middle;\n",
       "    }\n",
       "\n",
       "    .dataframe tbody tr th {\n",
       "        vertical-align: top;\n",
       "    }\n",
       "\n",
       "    .dataframe thead th {\n",
       "        text-align: right;\n",
       "    }\n",
       "</style>\n",
       "<table border=\"1\" class=\"dataframe\">\n",
       "  <thead>\n",
       "    <tr style=\"text-align: right;\">\n",
       "      <th></th>\n",
       "      <th>Lat</th>\n",
       "      <th>Long</th>\n",
       "      <th>Deaths</th>\n",
       "    </tr>\n",
       "  </thead>\n",
       "  <tbody>\n",
       "    <tr>\n",
       "      <th>0</th>\n",
       "      <td>40.9000</td>\n",
       "      <td>28.7000</td>\n",
       "      <td>10000</td>\n",
       "    </tr>\n",
       "    <tr>\n",
       "      <th>1</th>\n",
       "      <td>38.2000</td>\n",
       "      <td>28.2000</td>\n",
       "      <td>2500</td>\n",
       "    </tr>\n",
       "    <tr>\n",
       "      <th>2</th>\n",
       "      <td>40.0000</td>\n",
       "      <td>36.0000</td>\n",
       "      <td>8000</td>\n",
       "    </tr>\n",
       "    <tr>\n",
       "      <th>3</th>\n",
       "      <td>38.4000</td>\n",
       "      <td>26.9000</td>\n",
       "      <td>16000</td>\n",
       "    </tr>\n",
       "    <tr>\n",
       "      <th>4</th>\n",
       "      <td>40.8000</td>\n",
       "      <td>29.0000</td>\n",
       "      <td>4000</td>\n",
       "    </tr>\n",
       "    <tr>\n",
       "      <th>...</th>\n",
       "      <td>...</td>\n",
       "      <td>...</td>\n",
       "      <td>...</td>\n",
       "    </tr>\n",
       "    <tr>\n",
       "      <th>73</th>\n",
       "      <td>39.4200</td>\n",
       "      <td>40.6700</td>\n",
       "      <td>1</td>\n",
       "    </tr>\n",
       "    <tr>\n",
       "      <th>74</th>\n",
       "      <td>37.9180</td>\n",
       "      <td>26.7900</td>\n",
       "      <td>117</td>\n",
       "    </tr>\n",
       "    <tr>\n",
       "      <th>75</th>\n",
       "      <td>40.8470</td>\n",
       "      <td>30.9670</td>\n",
       "      <td>2</td>\n",
       "    </tr>\n",
       "    <tr>\n",
       "      <th>76</th>\n",
       "      <td>37.1123</td>\n",
       "      <td>37.1195</td>\n",
       "      <td>29600</td>\n",
       "    </tr>\n",
       "    <tr>\n",
       "      <th>77</th>\n",
       "      <td>38.0357</td>\n",
       "      <td>37.2287</td>\n",
       "      <td>29600</td>\n",
       "    </tr>\n",
       "  </tbody>\n",
       "</table>\n",
       "<p>78 rows × 3 columns</p>\n",
       "</div>"
      ],
      "text/plain": [
       "        Lat     Long  Deaths\n",
       "0   40.9000  28.7000   10000\n",
       "1   38.2000  28.2000    2500\n",
       "2   40.0000  36.0000    8000\n",
       "3   38.4000  26.9000   16000\n",
       "4   40.8000  29.0000    4000\n",
       "..      ...      ...     ...\n",
       "73  39.4200  40.6700       1\n",
       "74  37.9180  26.7900     117\n",
       "75  40.8470  30.9670       2\n",
       "76  37.1123  37.1195   29600\n",
       "77  38.0357  37.2287   29600\n",
       "\n",
       "[78 rows x 3 columns]"
      ]
     },
     "execution_count": 41,
     "metadata": {},
     "output_type": "execute_result"
    }
   ],
   "source": [
    "gdf_earthquakes.loc[:, ['Lat', 'Long', 'Deaths']]\n"
   ]
  },
  {
   "cell_type": "code",
   "execution_count": 42,
   "metadata": {},
   "outputs": [
    {
     "data": {
      "text/html": [
       "<div style=\"width:100%;\"><div style=\"position:relative;width:100%;height:0;padding-bottom:60%;\"><span style=\"color:#565656\">Make this Notebook Trusted to load map: File -> Trust Notebook</span><iframe srcdoc=\"&lt;!DOCTYPE html&gt;\n",
       "&lt;html&gt;\n",
       "&lt;head&gt;\n",
       "    \n",
       "    &lt;meta http-equiv=&quot;content-type&quot; content=&quot;text/html; charset=UTF-8&quot; /&gt;\n",
       "    \n",
       "        &lt;script&gt;\n",
       "            L_NO_TOUCH = false;\n",
       "            L_DISABLE_3D = false;\n",
       "        &lt;/script&gt;\n",
       "    \n",
       "    &lt;style&gt;html, body {width: 100%;height: 100%;margin: 0;padding: 0;}&lt;/style&gt;\n",
       "    &lt;style&gt;#map {position:absolute;top:0;bottom:0;right:0;left:0;}&lt;/style&gt;\n",
       "    &lt;script src=&quot;https://cdn.jsdelivr.net/npm/leaflet@1.9.3/dist/leaflet.js&quot;&gt;&lt;/script&gt;\n",
       "    &lt;script src=&quot;https://code.jquery.com/jquery-1.12.4.min.js&quot;&gt;&lt;/script&gt;\n",
       "    &lt;script src=&quot;https://cdn.jsdelivr.net/npm/bootstrap@5.2.2/dist/js/bootstrap.bundle.min.js&quot;&gt;&lt;/script&gt;\n",
       "    &lt;script src=&quot;https://cdnjs.cloudflare.com/ajax/libs/Leaflet.awesome-markers/2.0.2/leaflet.awesome-markers.js&quot;&gt;&lt;/script&gt;\n",
       "    &lt;link rel=&quot;stylesheet&quot; href=&quot;https://cdn.jsdelivr.net/npm/leaflet@1.9.3/dist/leaflet.css&quot;/&gt;\n",
       "    &lt;link rel=&quot;stylesheet&quot; href=&quot;https://cdn.jsdelivr.net/npm/bootstrap@5.2.2/dist/css/bootstrap.min.css&quot;/&gt;\n",
       "    &lt;link rel=&quot;stylesheet&quot; href=&quot;https://netdna.bootstrapcdn.com/bootstrap/3.0.0/css/bootstrap.min.css&quot;/&gt;\n",
       "    &lt;link rel=&quot;stylesheet&quot; href=&quot;https://cdn.jsdelivr.net/npm/@fortawesome/fontawesome-free@6.2.0/css/all.min.css&quot;/&gt;\n",
       "    &lt;link rel=&quot;stylesheet&quot; href=&quot;https://cdnjs.cloudflare.com/ajax/libs/Leaflet.awesome-markers/2.0.2/leaflet.awesome-markers.css&quot;/&gt;\n",
       "    &lt;link rel=&quot;stylesheet&quot; href=&quot;https://cdn.jsdelivr.net/gh/python-visualization/folium/folium/templates/leaflet.awesome.rotate.min.css&quot;/&gt;\n",
       "    \n",
       "            &lt;meta name=&quot;viewport&quot; content=&quot;width=device-width,\n",
       "                initial-scale=1.0, maximum-scale=1.0, user-scalable=no&quot; /&gt;\n",
       "            &lt;style&gt;\n",
       "                #map_31ae03fd51511e4bb2cdcbd993fd5651 {\n",
       "                    position: relative;\n",
       "                    width: 100.0%;\n",
       "                    height: 100.0%;\n",
       "                    left: 0.0%;\n",
       "                    top: 0.0%;\n",
       "                }\n",
       "                .leaflet-container { font-size: 1rem; }\n",
       "            &lt;/style&gt;\n",
       "        \n",
       "    &lt;script src=&quot;https://cdn.jsdelivr.net/gh/python-visualization/folium@main/folium/templates/leaflet_heat.min.js&quot;&gt;&lt;/script&gt;\n",
       "&lt;/head&gt;\n",
       "&lt;body&gt;\n",
       "    \n",
       "    \n",
       "            &lt;div class=&quot;folium-map&quot; id=&quot;map_31ae03fd51511e4bb2cdcbd993fd5651&quot; &gt;&lt;/div&gt;\n",
       "        \n",
       "&lt;/body&gt;\n",
       "&lt;script&gt;\n",
       "    \n",
       "    \n",
       "            var map_31ae03fd51511e4bb2cdcbd993fd5651 = L.map(\n",
       "                &quot;map_31ae03fd51511e4bb2cdcbd993fd5651&quot;,\n",
       "                {\n",
       "                    center: [39.0618, 33.75],\n",
       "                    crs: L.CRS.EPSG3857,\n",
       "                    zoom: 10,\n",
       "                    zoomControl: true,\n",
       "                    preferCanvas: false,\n",
       "                    zooms: 15,\n",
       "                }\n",
       "            );\n",
       "\n",
       "            \n",
       "\n",
       "        \n",
       "    \n",
       "            var tile_layer_9c3078a5c0469e394d02066a623542df = L.tileLayer(\n",
       "                &quot;https://{s}.tile.openstreetmap.org/{z}/{x}/{y}.png&quot;,\n",
       "                {&quot;attribution&quot;: &quot;Data by \\u0026copy; \\u003ca target=\\&quot;_blank\\&quot; href=\\&quot;http://openstreetmap.org\\&quot;\\u003eOpenStreetMap\\u003c/a\\u003e, under \\u003ca target=\\&quot;_blank\\&quot; href=\\&quot;http://www.openstreetmap.org/copyright\\&quot;\\u003eODbL\\u003c/a\\u003e.&quot;, &quot;detectRetina&quot;: false, &quot;maxNativeZoom&quot;: 18, &quot;maxZoom&quot;: 18, &quot;minZoom&quot;: 0, &quot;noWrap&quot;: false, &quot;opacity&quot;: 1, &quot;subdomains&quot;: &quot;abc&quot;, &quot;tms&quot;: false}\n",
       "            ).addTo(map_31ae03fd51511e4bb2cdcbd993fd5651);\n",
       "        \n",
       "    \n",
       "            var heat_map_a8c59060785731ac4f5f103d75c21a0b = L.heatLayer(\n",
       "                [[40.9, 28.7, 10000.0], [38.2, 28.2, 2500.0], [40.0, 36.0, 8000.0], [38.4, 26.9, 16000.0], [40.8, 29.0, 4000.0], [39.5, 40.2, 7500.0], [39.6, 44.1, 10000.0], [40.2, 29.1, 1900.0], [39.9, 41.3, 15000.0], [36.4, 36.4, 1800.0], [38.25, 26.25, 7866.0], [38.25, 26.25, 7866.0], [38.25, 26.25, 7866.0], [38.3, 26.2, 120.0], [38.3, 26.2, 120.0], [38.3, 26.2, 120.0], [40.73, 29.25, 1300.0], [37.9, 28.1, 1470.0], [39.14, 42.65, 600.0], [40.75, 27.2, 216.0], [37.82, 30.27, 2344.0], [39.18, 27.65, 3000.0], [40.0, 42.1, 60.0], [40.7, 43.7, 360.0], [38.5, 28.0, 50.0], [40.2, 37.9, 64.0], [38.1, 44.7, 2514.0], [40.4, 27.5, 5.0], [39.1, 34.0, 160.0], [39.1, 26.8, 60.0], [39.77, 39.53, 32700.0], [39.2, 28.2, 16.0], [40.87, 36.47, 3000.0], [40.6, 30.5, 336.0], [40.87, 33.65, 5000.0], [40.8, 32.2, 3959.0], [39.37, 26.53, 30.0], [39.54, 40.57, 450.0], [40.88, 32.87, 50.0], [39.9, 41.7, 41.0], [40.02, 27.53, 265.0], [37.55, 27.05, 23.0], [39.89, 30.49, 1.0], [36.5, 28.6, 67.0], [40.67, 31.0, 52.0], [40.1, 27.93, 23.0], [39.17, 41.56, 2394.0], [40.67, 30.69, 89.0], [41.79, 32.31, 29.0], [38.5, 28.4, 53.0], [39.2, 29.5, 1086.0], [38.83, 40.52, 755.0], [38.5, 40.7, 2311.0], [39.12, 44.03, 4000.0], [40.33, 42.19, 1342.0], [39.7, 39.69, 498.0], [38.06, 30.13, 90.0], [36.88, 35.31, 146.0], [40.77, 30.0, 17127.0], [40.75, 31.16, 894.0], [38.573, 31.271, 44.0], [39.46, 39.79, 1.0], [39.01, 40.46, 177.0], [39.71, 44.02, 18.0], [38.79, 40.03, 41.0], [39.14, 29.07, 2.0], [38.63, 43.49, 604.0], [38.42, 43.22, 40.0], [40.31, 25.45, 0.0], [36.92, 27.41, 2.0], [40.89, 28.17, 1.0], [38.39, 39.081, 41.0], [38.39, 39.081, 41.0], [39.42, 40.67, 1.0], [37.918, 26.79, 117.0], [40.847, 30.967, 2.0], [37.1123, 37.1195, 29600.0], [38.0357, 37.2287, 29600.0]],\n",
       "                {&quot;blur&quot;: 15, &quot;gradient&quot;: {&quot;0.4&quot;: &quot;blue&quot;, &quot;0.65&quot;: &quot;lime&quot;, &quot;1&quot;: &quot;red&quot;}, &quot;maxZoom&quot;: 18, &quot;minOpacity&quot;: 0.5, &quot;radius&quot;: 25}\n",
       "            ).addTo(map_31ae03fd51511e4bb2cdcbd993fd5651);\n",
       "        \n",
       "&lt;/script&gt;\n",
       "&lt;/html&gt;\" style=\"position:absolute;width:100%;height:100%;left:0;top:0;border:none !important;\" allowfullscreen webkitallowfullscreen mozallowfullscreen></iframe></div></div>"
      ],
      "text/plain": [
       "<folium.folium.Map at 0x25902454370>"
      ]
     },
     "execution_count": 42,
     "metadata": {},
     "output_type": "execute_result"
    }
   ],
   "source": [
    "m_3 = folium.Map(location=(TURK_LAT, TURK_LNG),zooms=15)\n",
    "HeatMap(gdf_earthquakes.loc[:, ['Lat', 'Long', 'Deaths']], gradient={0.4: 'blue', 0.65: 'lime', 1: 'red'}).add_to(m_3)\n",
    "m_3\n"
   ]
  },
  {
   "cell_type": "code",
   "execution_count": 44,
   "metadata": {},
   "outputs": [
    {
     "data": {
      "application/vnd.plotly.v1+json": {
       "config": {
        "plotlyServerURL": "https://plot.ly"
       },
       "data": [
        {
         "customdata": [
          [
           "7.2 Mw",
           null
          ],
          [
           "7.5 Mw",
           null
          ],
          [
           "8M w",
           null
          ],
          [
           "7.0 Mw",
           "1688-07-10T00:00:00"
          ],
          [
           "7.1 Mw",
           "1766-05-22T00:00:00"
          ],
          [
           "7.6 Mw",
           "1784-07-23T00:00:00"
          ],
          [
           "7.4 Mw",
           "1840-07-02T00:00:00"
          ],
          [
           "6.7 Mw",
           "1855-02-28T00:00:00"
          ],
          [
           "6.1 Mw",
           "1859-06-02T00:00:00"
          ],
          [
           "7.2 Mw",
           "1872-04-03T00:00:00"
          ],
          [
           "7.3 Mw",
           "1881-04-03T00:00:00"
          ],
          [
           "7.3 Mw",
           "1881-04-03T00:00:00"
          ],
          [
           "7.3 Mw",
           "1881-04-03T00:00:00"
          ],
          [
           "7.3 Mw",
           "1883-10-10T00:00:00"
          ],
          [
           "7.3 Mw",
           "1883-10-10T00:00:00"
          ],
          [
           "7.3 Mw",
           "1883-10-10T00:00:00"
          ],
          [
           "7.0 Mw",
           "1894-07-10T00:00:00"
          ],
          [
           "7.1 Mw",
           "1899-09-20T00:00:00"
          ],
          [
           "6.7 Mw",
           "1903-04-29T00:00:00"
          ],
          [
           "7.3 Mw",
           "1912-08-09T00:00:00"
          ],
          [
           "6.9 Mw",
           "1914-10-04T00:00:00"
          ],
          [
           "7.0 Mw",
           "1919-11-18T00:00:00"
          ],
          [
           "6.8 Mw",
           "1924-09-13T00:00:00"
          ],
          [
           "6.0 Mw",
           "1926-10-22T00:00:00"
          ],
          [
           "6.5 Mw",
           "1928-03-31T00:00:00"
          ],
          [
           "6.1 Mw",
           "1929-05-18T00:00:00"
          ],
          [
           "7.5 Mw",
           "1930-05-07T00:00:00"
          ],
          [
           "6.4 Mw",
           "1935-01-04T00:00:00"
          ],
          [
           "6.6 Mw",
           "1938-04-19T00:00:00"
          ],
          [
           "6.6 Mw",
           "1939-09-22T00:00:00"
          ],
          [
           "7.8 Mw",
           "1939-12-26T00:00:00"
          ],
          [
           "6.1 Mw",
           "1942-11-15T00:00:00"
          ],
          [
           "7.0 Mw",
           "1942-12-20T00:00:00"
          ],
          [
           "6.6 Mw",
           "1943-06-20T00:00:00"
          ],
          [
           "7.5 Mw",
           "1943-11-26T00:00:00"
          ],
          [
           "7.5 Mw",
           "1944-02-01T00:00:00"
          ],
          [
           "6.8 Mw",
           "1944-10-06T00:00:00"
          ],
          [
           "6.8 Mw",
           "1949-08-17T00:00:00"
          ],
          [
           "6.9 Mw",
           "1951-08-13T00:00:00"
          ],
          [
           "5.8 Mw",
           "1952-01-03T00:00:00"
          ],
          [
           "7.2 Mw",
           "1953-03-18T00:00:00"
          ],
          [
           "6.8 Mw",
           "1955-07-16T00:00:00"
          ],
          [
           "6.4 Mw",
           "1956-02-22T00:00:00"
          ],
          [
           "7.1 Mw",
           "1957-04-25T00:00:00"
          ],
          [
           "7.1 Mw",
           "1957-05-26T00:00:00"
          ],
          [
           "7.0 Mw",
           "1964-10-06T00:00:00"
          ],
          [
           "6.8 Mw",
           "1966-08-19T00:00:00"
          ],
          [
           "7.2 Mw",
           "1967-07-22T00:00:00"
          ],
          [
           "6.5 Mw",
           "1968-09-03T00:00:00"
          ],
          [
           "6.5 Mw",
           "1969-03-28T00:00:00"
          ],
          [
           "7.2 Mw",
           "1970-03-28T00:00:00"
          ],
          [
           "6.9 Mw",
           "1971-05-22T00:00:00"
          ],
          [
           "6.6 Mw",
           "1975-09-06T00:00:00"
          ],
          [
           "7.5 Mw",
           "1976-11-24T00:00:00"
          ],
          [
           "6.9 Mw",
           "1983-10-30T00:00:00"
          ],
          [
           "6.7 Mw",
           null
          ],
          [
           "6.1 Mw",
           "1995-10-01T00:00:00"
          ],
          [
           "6.3 Mw",
           "1998-06-27T00:00:00"
          ],
          [
           "7.6 Mw",
           "1999-08-17T00:00:00"
          ],
          [
           "7.2 Mw",
           "1999-11-12T00:00:00"
          ],
          [
           "6.5 Mw",
           "2002-02-03T00:00:00"
          ],
          [
           "6.1 Mw",
           "2003-01-27T00:00:00"
          ],
          [
           "6.4 Mw",
           "2003-05-01T00:00:00"
          ],
          [
           "5.1 Mw",
           "2004-07-02T00:00:00"
          ],
          [
           "6.1 Mw",
           "2010-03-08T00:00:00"
          ],
          [
           "5.8 Mw",
           "2011-05-19T00:00:00"
          ],
          [
           "7.2 Mw",
           "2011-10-23T00:00:00"
          ],
          [
           "5.6 Mw",
           "2011-11-09T00:00:00"
          ],
          [
           "6.9 Mw",
           "2014-05-24T00:00:00"
          ],
          [
           null,
           "2017-07-21T00:00:00"
          ],
          [
           "5.7 Mw",
           "2019-09-26T00:00:00"
          ],
          [
           "6.7 Mw",
           "2020-01-24T00:00:00"
          ],
          [
           "6.7 Mw",
           "2020-01-24T00:00:00"
          ],
          [
           "5.9 Mw",
           "2020-06-14T00:00:00"
          ],
          [
           "7.0 Mw",
           "2020-10-30T00:00:00"
          ],
          [
           "6.1 Mw",
           "2022-11-23T00:00:00"
          ],
          [
           "7.8 Mw",
           "2023-02-06T00:00:00"
          ],
          [
           "7.7 Mw",
           "2023-02-06T00:00:00"
          ]
         ],
         "hovertemplate": "<b>%{hovertext}</b><br><br>Lat=%{lat}<br>Long=%{lon}<br>Mag=%{customdata[0]}<br>parsed_Date=%{customdata[1]}<extra></extra>",
         "hovertext": [
          "Constantinople",
          "Smyrna",
          "Anatolia",
          "Smyrna",
          "Istanbul",
          "Erzincan",
          "Ağrı",
          "Bursa",
          "Erzurum",
          "Hatay",
          "Chios",
          "Çeşme",
          "Alaçatı",
          "Çeşme",
          "Ayvalık",
          "Izmir",
          "Gulf of İzmit",
          "Büyük Menderes Graben",
          "Malazgirt",
          "Mürefte",
          "\tBurdur",
          "Balıkesir",
          "Horasan",
          "Kars",
          "Smyrna",
          "\tSuşehri",
          "Hakkâri",
          "Erdek",
          "Kırşehir",
          "Dikili",
          "Erzincan",
          "Bigadiç",
          "Erbaa",
          "Hendek",
          "Ladik",
          "Gerede",
          "Ayvalık",
          "Karlıova",
          "Kurşunlu",
          "Hasankale",
          "Yenice",
          "Söke",
          "Eskişehir",
          "Fethiye",
          "Abant",
          "Manyas",
          "\tVarto",
          "Mudurnu",
          "Bartın",
          "Alaşehir",
          "Gediz",
          "Bingöl",
          "Lice",
          "Muradiye",
          "Erzurum",
          "Erzincan",
          "Dinar",
          "Ceyhan",
          "\tİzmit",
          "Düzce",
          "Afyon",
          "Pülümür",
          "Bingöl",
          "Ağrı",
          "Elazığ",
          "Kütahya",
          "Van",
          "Van",
          "\tImbros",
          "Bodrum",
          "Marmara Region",
          "Elazığ",
          "Malatya",
          "Bingöl",
          "\tAegean Sea",
          "Düzce",
          "Gaziantep",
          "Kahramanmaraş"
         ],
         "lat": [
          40.9,
          38.2,
          40,
          38.4,
          40.8,
          39.5,
          39.6,
          40.2,
          39.9,
          36.4,
          38.25,
          38.25,
          38.25,
          38.3,
          38.3,
          38.3,
          40.73,
          37.9,
          39.14,
          40.75,
          37.82,
          39.18,
          40,
          40.7,
          38.5,
          40.2,
          38.1,
          40.4,
          39.1,
          39.1,
          39.77,
          39.2,
          40.87,
          40.6,
          40.87,
          40.8,
          39.37,
          39.54,
          40.88,
          39.9,
          40.02,
          37.55,
          39.89,
          36.5,
          40.67,
          40.1,
          39.17,
          40.67,
          41.79,
          38.5,
          39.2,
          38.83,
          38.5,
          39.12,
          40.33,
          39.7,
          38.06,
          36.88,
          40.77,
          40.75,
          38.573,
          39.46,
          39.01,
          39.71,
          38.79,
          39.14,
          38.63,
          38.42,
          40.31,
          36.92,
          40.89,
          38.39,
          38.39,
          39.42,
          37.918,
          40.847,
          37.1123,
          38.0357
         ],
         "legendgroup": "",
         "lon": [
          28.7,
          28.2,
          36,
          26.9,
          29,
          40.2,
          44.1,
          29.1,
          41.3,
          36.4,
          26.25,
          26.25,
          26.25,
          26.2,
          26.2,
          26.2,
          29.25,
          28.1,
          42.65,
          27.2,
          30.27,
          27.65,
          42.1,
          43.7,
          28,
          37.9,
          44.7,
          27.5,
          34,
          26.8,
          39.53,
          28.2,
          36.47,
          30.5,
          33.65,
          32.2,
          26.53,
          40.57,
          32.87,
          41.7,
          27.53,
          27.05,
          30.49,
          28.6,
          31,
          27.93,
          41.56,
          30.69,
          32.31,
          28.4,
          29.5,
          40.52,
          40.7,
          44.03,
          42.19,
          39.69,
          30.13,
          35.31,
          30,
          31.16,
          31.271,
          39.79,
          40.46,
          44.02,
          40.03,
          29.07,
          43.49,
          43.22,
          25.45,
          27.41,
          28.17,
          39.081,
          39.081,
          40.67,
          26.79,
          30.967,
          37.1195,
          37.2287
         ],
         "marker": {
          "color": "light green"
         },
         "mode": "markers",
         "name": "",
         "showlegend": false,
         "subplot": "mapbox",
         "type": "scattermapbox"
        }
       ],
       "layout": {
        "height": 300,
        "legend": {
         "tracegroupgap": 0
        },
        "mapbox": {
         "center": {
          "lat": 39.28123076923076,
          "lon": 33.60766923076923
         },
         "domain": {
          "x": [
           0,
           1
          ],
          "y": [
           0,
           1
          ]
         },
         "style": "open-street-map",
         "zoom": 5
        },
        "margin": {
         "b": 0,
         "l": 0,
         "r": 0,
         "t": 0
        },
        "template": {
         "data": {
          "bar": [
           {
            "error_x": {
             "color": "#2a3f5f"
            },
            "error_y": {
             "color": "#2a3f5f"
            },
            "marker": {
             "line": {
              "color": "#E5ECF6",
              "width": 0.5
             },
             "pattern": {
              "fillmode": "overlay",
              "size": 10,
              "solidity": 0.2
             }
            },
            "type": "bar"
           }
          ],
          "barpolar": [
           {
            "marker": {
             "line": {
              "color": "#E5ECF6",
              "width": 0.5
             },
             "pattern": {
              "fillmode": "overlay",
              "size": 10,
              "solidity": 0.2
             }
            },
            "type": "barpolar"
           }
          ],
          "carpet": [
           {
            "aaxis": {
             "endlinecolor": "#2a3f5f",
             "gridcolor": "white",
             "linecolor": "white",
             "minorgridcolor": "white",
             "startlinecolor": "#2a3f5f"
            },
            "baxis": {
             "endlinecolor": "#2a3f5f",
             "gridcolor": "white",
             "linecolor": "white",
             "minorgridcolor": "white",
             "startlinecolor": "#2a3f5f"
            },
            "type": "carpet"
           }
          ],
          "choropleth": [
           {
            "colorbar": {
             "outlinewidth": 0,
             "ticks": ""
            },
            "type": "choropleth"
           }
          ],
          "contour": [
           {
            "colorbar": {
             "outlinewidth": 0,
             "ticks": ""
            },
            "colorscale": [
             [
              0,
              "#0d0887"
             ],
             [
              0.1111111111111111,
              "#46039f"
             ],
             [
              0.2222222222222222,
              "#7201a8"
             ],
             [
              0.3333333333333333,
              "#9c179e"
             ],
             [
              0.4444444444444444,
              "#bd3786"
             ],
             [
              0.5555555555555556,
              "#d8576b"
             ],
             [
              0.6666666666666666,
              "#ed7953"
             ],
             [
              0.7777777777777778,
              "#fb9f3a"
             ],
             [
              0.8888888888888888,
              "#fdca26"
             ],
             [
              1,
              "#f0f921"
             ]
            ],
            "type": "contour"
           }
          ],
          "contourcarpet": [
           {
            "colorbar": {
             "outlinewidth": 0,
             "ticks": ""
            },
            "type": "contourcarpet"
           }
          ],
          "heatmap": [
           {
            "colorbar": {
             "outlinewidth": 0,
             "ticks": ""
            },
            "colorscale": [
             [
              0,
              "#0d0887"
             ],
             [
              0.1111111111111111,
              "#46039f"
             ],
             [
              0.2222222222222222,
              "#7201a8"
             ],
             [
              0.3333333333333333,
              "#9c179e"
             ],
             [
              0.4444444444444444,
              "#bd3786"
             ],
             [
              0.5555555555555556,
              "#d8576b"
             ],
             [
              0.6666666666666666,
              "#ed7953"
             ],
             [
              0.7777777777777778,
              "#fb9f3a"
             ],
             [
              0.8888888888888888,
              "#fdca26"
             ],
             [
              1,
              "#f0f921"
             ]
            ],
            "type": "heatmap"
           }
          ],
          "heatmapgl": [
           {
            "colorbar": {
             "outlinewidth": 0,
             "ticks": ""
            },
            "colorscale": [
             [
              0,
              "#0d0887"
             ],
             [
              0.1111111111111111,
              "#46039f"
             ],
             [
              0.2222222222222222,
              "#7201a8"
             ],
             [
              0.3333333333333333,
              "#9c179e"
             ],
             [
              0.4444444444444444,
              "#bd3786"
             ],
             [
              0.5555555555555556,
              "#d8576b"
             ],
             [
              0.6666666666666666,
              "#ed7953"
             ],
             [
              0.7777777777777778,
              "#fb9f3a"
             ],
             [
              0.8888888888888888,
              "#fdca26"
             ],
             [
              1,
              "#f0f921"
             ]
            ],
            "type": "heatmapgl"
           }
          ],
          "histogram": [
           {
            "marker": {
             "pattern": {
              "fillmode": "overlay",
              "size": 10,
              "solidity": 0.2
             }
            },
            "type": "histogram"
           }
          ],
          "histogram2d": [
           {
            "colorbar": {
             "outlinewidth": 0,
             "ticks": ""
            },
            "colorscale": [
             [
              0,
              "#0d0887"
             ],
             [
              0.1111111111111111,
              "#46039f"
             ],
             [
              0.2222222222222222,
              "#7201a8"
             ],
             [
              0.3333333333333333,
              "#9c179e"
             ],
             [
              0.4444444444444444,
              "#bd3786"
             ],
             [
              0.5555555555555556,
              "#d8576b"
             ],
             [
              0.6666666666666666,
              "#ed7953"
             ],
             [
              0.7777777777777778,
              "#fb9f3a"
             ],
             [
              0.8888888888888888,
              "#fdca26"
             ],
             [
              1,
              "#f0f921"
             ]
            ],
            "type": "histogram2d"
           }
          ],
          "histogram2dcontour": [
           {
            "colorbar": {
             "outlinewidth": 0,
             "ticks": ""
            },
            "colorscale": [
             [
              0,
              "#0d0887"
             ],
             [
              0.1111111111111111,
              "#46039f"
             ],
             [
              0.2222222222222222,
              "#7201a8"
             ],
             [
              0.3333333333333333,
              "#9c179e"
             ],
             [
              0.4444444444444444,
              "#bd3786"
             ],
             [
              0.5555555555555556,
              "#d8576b"
             ],
             [
              0.6666666666666666,
              "#ed7953"
             ],
             [
              0.7777777777777778,
              "#fb9f3a"
             ],
             [
              0.8888888888888888,
              "#fdca26"
             ],
             [
              1,
              "#f0f921"
             ]
            ],
            "type": "histogram2dcontour"
           }
          ],
          "mesh3d": [
           {
            "colorbar": {
             "outlinewidth": 0,
             "ticks": ""
            },
            "type": "mesh3d"
           }
          ],
          "parcoords": [
           {
            "line": {
             "colorbar": {
              "outlinewidth": 0,
              "ticks": ""
             }
            },
            "type": "parcoords"
           }
          ],
          "pie": [
           {
            "automargin": true,
            "type": "pie"
           }
          ],
          "scatter": [
           {
            "marker": {
             "colorbar": {
              "outlinewidth": 0,
              "ticks": ""
             }
            },
            "type": "scatter"
           }
          ],
          "scatter3d": [
           {
            "line": {
             "colorbar": {
              "outlinewidth": 0,
              "ticks": ""
             }
            },
            "marker": {
             "colorbar": {
              "outlinewidth": 0,
              "ticks": ""
             }
            },
            "type": "scatter3d"
           }
          ],
          "scattercarpet": [
           {
            "marker": {
             "colorbar": {
              "outlinewidth": 0,
              "ticks": ""
             }
            },
            "type": "scattercarpet"
           }
          ],
          "scattergeo": [
           {
            "marker": {
             "colorbar": {
              "outlinewidth": 0,
              "ticks": ""
             }
            },
            "type": "scattergeo"
           }
          ],
          "scattergl": [
           {
            "marker": {
             "colorbar": {
              "outlinewidth": 0,
              "ticks": ""
             }
            },
            "type": "scattergl"
           }
          ],
          "scattermapbox": [
           {
            "marker": {
             "colorbar": {
              "outlinewidth": 0,
              "ticks": ""
             }
            },
            "type": "scattermapbox"
           }
          ],
          "scatterpolar": [
           {
            "marker": {
             "colorbar": {
              "outlinewidth": 0,
              "ticks": ""
             }
            },
            "type": "scatterpolar"
           }
          ],
          "scatterpolargl": [
           {
            "marker": {
             "colorbar": {
              "outlinewidth": 0,
              "ticks": ""
             }
            },
            "type": "scatterpolargl"
           }
          ],
          "scatterternary": [
           {
            "marker": {
             "colorbar": {
              "outlinewidth": 0,
              "ticks": ""
             }
            },
            "type": "scatterternary"
           }
          ],
          "surface": [
           {
            "colorbar": {
             "outlinewidth": 0,
             "ticks": ""
            },
            "colorscale": [
             [
              0,
              "#0d0887"
             ],
             [
              0.1111111111111111,
              "#46039f"
             ],
             [
              0.2222222222222222,
              "#7201a8"
             ],
             [
              0.3333333333333333,
              "#9c179e"
             ],
             [
              0.4444444444444444,
              "#bd3786"
             ],
             [
              0.5555555555555556,
              "#d8576b"
             ],
             [
              0.6666666666666666,
              "#ed7953"
             ],
             [
              0.7777777777777778,
              "#fb9f3a"
             ],
             [
              0.8888888888888888,
              "#fdca26"
             ],
             [
              1,
              "#f0f921"
             ]
            ],
            "type": "surface"
           }
          ],
          "table": [
           {
            "cells": {
             "fill": {
              "color": "#EBF0F8"
             },
             "line": {
              "color": "white"
             }
            },
            "header": {
             "fill": {
              "color": "#C8D4E3"
             },
             "line": {
              "color": "white"
             }
            },
            "type": "table"
           }
          ]
         },
         "layout": {
          "annotationdefaults": {
           "arrowcolor": "#2a3f5f",
           "arrowhead": 0,
           "arrowwidth": 1
          },
          "autotypenumbers": "strict",
          "coloraxis": {
           "colorbar": {
            "outlinewidth": 0,
            "ticks": ""
           }
          },
          "colorscale": {
           "diverging": [
            [
             0,
             "#8e0152"
            ],
            [
             0.1,
             "#c51b7d"
            ],
            [
             0.2,
             "#de77ae"
            ],
            [
             0.3,
             "#f1b6da"
            ],
            [
             0.4,
             "#fde0ef"
            ],
            [
             0.5,
             "#f7f7f7"
            ],
            [
             0.6,
             "#e6f5d0"
            ],
            [
             0.7,
             "#b8e186"
            ],
            [
             0.8,
             "#7fbc41"
            ],
            [
             0.9,
             "#4d9221"
            ],
            [
             1,
             "#276419"
            ]
           ],
           "sequential": [
            [
             0,
             "#0d0887"
            ],
            [
             0.1111111111111111,
             "#46039f"
            ],
            [
             0.2222222222222222,
             "#7201a8"
            ],
            [
             0.3333333333333333,
             "#9c179e"
            ],
            [
             0.4444444444444444,
             "#bd3786"
            ],
            [
             0.5555555555555556,
             "#d8576b"
            ],
            [
             0.6666666666666666,
             "#ed7953"
            ],
            [
             0.7777777777777778,
             "#fb9f3a"
            ],
            [
             0.8888888888888888,
             "#fdca26"
            ],
            [
             1,
             "#f0f921"
            ]
           ],
           "sequentialminus": [
            [
             0,
             "#0d0887"
            ],
            [
             0.1111111111111111,
             "#46039f"
            ],
            [
             0.2222222222222222,
             "#7201a8"
            ],
            [
             0.3333333333333333,
             "#9c179e"
            ],
            [
             0.4444444444444444,
             "#bd3786"
            ],
            [
             0.5555555555555556,
             "#d8576b"
            ],
            [
             0.6666666666666666,
             "#ed7953"
            ],
            [
             0.7777777777777778,
             "#fb9f3a"
            ],
            [
             0.8888888888888888,
             "#fdca26"
            ],
            [
             1,
             "#f0f921"
            ]
           ]
          },
          "colorway": [
           "#636efa",
           "#EF553B",
           "#00cc96",
           "#ab63fa",
           "#FFA15A",
           "#19d3f3",
           "#FF6692",
           "#B6E880",
           "#FF97FF",
           "#FECB52"
          ],
          "font": {
           "color": "#2a3f5f"
          },
          "geo": {
           "bgcolor": "white",
           "lakecolor": "white",
           "landcolor": "#E5ECF6",
           "showlakes": true,
           "showland": true,
           "subunitcolor": "white"
          },
          "hoverlabel": {
           "align": "left"
          },
          "hovermode": "closest",
          "mapbox": {
           "style": "light"
          },
          "paper_bgcolor": "white",
          "plot_bgcolor": "#E5ECF6",
          "polar": {
           "angularaxis": {
            "gridcolor": "white",
            "linecolor": "white",
            "ticks": ""
           },
           "bgcolor": "#E5ECF6",
           "radialaxis": {
            "gridcolor": "white",
            "linecolor": "white",
            "ticks": ""
           }
          },
          "scene": {
           "xaxis": {
            "backgroundcolor": "#E5ECF6",
            "gridcolor": "white",
            "gridwidth": 2,
            "linecolor": "white",
            "showbackground": true,
            "ticks": "",
            "zerolinecolor": "white"
           },
           "yaxis": {
            "backgroundcolor": "#E5ECF6",
            "gridcolor": "white",
            "gridwidth": 2,
            "linecolor": "white",
            "showbackground": true,
            "ticks": "",
            "zerolinecolor": "white"
           },
           "zaxis": {
            "backgroundcolor": "#E5ECF6",
            "gridcolor": "white",
            "gridwidth": 2,
            "linecolor": "white",
            "showbackground": true,
            "ticks": "",
            "zerolinecolor": "white"
           }
          },
          "shapedefaults": {
           "line": {
            "color": "#2a3f5f"
           }
          },
          "ternary": {
           "aaxis": {
            "gridcolor": "white",
            "linecolor": "white",
            "ticks": ""
           },
           "baxis": {
            "gridcolor": "white",
            "linecolor": "white",
            "ticks": ""
           },
           "bgcolor": "#E5ECF6",
           "caxis": {
            "gridcolor": "white",
            "linecolor": "white",
            "ticks": ""
           }
          },
          "title": {
           "x": 0.05
          },
          "xaxis": {
           "automargin": true,
           "gridcolor": "white",
           "linecolor": "white",
           "ticks": "",
           "title": {
            "standoff": 15
           },
           "zerolinecolor": "white",
           "zerolinewidth": 2
          },
          "yaxis": {
           "automargin": true,
           "gridcolor": "white",
           "linecolor": "white",
           "ticks": "",
           "title": {
            "standoff": 15
           },
           "zerolinecolor": "white",
           "zerolinewidth": 2
          }
         }
        }
       }
      }
     },
     "metadata": {},
     "output_type": "display_data"
    }
   ],
   "source": [
    "fig = px.scatter_mapbox(gdf_earthquakes, lat=\"Lat\", lon=\"Long\", hover_name=\"Place\", hover_data=[\"Mag\", \"parsed_Date\"],\n",
    "                        color_discrete_sequence=[\"light green\"], zoom=5, height=300)\n",
    "fig.update_layout(mapbox_style=\"open-street-map\")\n",
    "fig.update_layout(margin={\"r\":0,\"t\":0,\"l\":0,\"b\":0})\n",
    "fig.show()"
   ]
  }
 ],
 "metadata": {
  "kernelspec": {
   "display_name": "base",
   "language": "python",
   "name": "python3"
  },
  "language_info": {
   "codemirror_mode": {
    "name": "ipython",
    "version": 3
   },
   "file_extension": ".py",
   "mimetype": "text/x-python",
   "name": "python",
   "nbconvert_exporter": "python",
   "pygments_lexer": "ipython3",
   "version": "3.9.12"
  },
  "orig_nbformat": 4
 },
 "nbformat": 4,
 "nbformat_minor": 2
}
